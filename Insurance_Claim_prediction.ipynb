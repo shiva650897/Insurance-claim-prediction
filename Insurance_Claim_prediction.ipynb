{
  "nbformat": 4,
  "nbformat_minor": 0,
  "metadata": {
    "colab": {
      "name": "Insurance Claim prediction.ipynb",
      "version": "0.3.2",
      "provenance": [],
      "collapsed_sections": []
    },
    "kernelspec": {
      "name": "python3",
      "display_name": "Python 3"
    }
  },
  "cells": [
    {
      "cell_type": "markdown",
      "metadata": {
        "id": "notVEk3HGpl0",
        "colab_type": "text"
      },
      "source": [
        "**Installing the Libraries**"
      ]
    },
    {
      "cell_type": "code",
      "metadata": {
        "id": "4MuyqMq6GHNO",
        "colab_type": "code",
        "colab": {}
      },
      "source": [
        "import numpy as np\n",
        "import pandas as pd\n",
        "\n",
        "import matplotlib.pyplot as plt\n",
        "import seaborn as sns\n",
        "%matplotlib inline"
      ],
      "execution_count": 0,
      "outputs": []
    },
    {
      "cell_type": "code",
      "metadata": {
        "id": "Qcy06wL5iyNn",
        "colab_type": "code",
        "outputId": "7f6f0579-3118-4095-8595-f265a241bd2c",
        "colab": {
          "resources": {
            "http://localhost:8080/nbextensions/google.colab/files.js": {
              "data": "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",
              "ok": true,
              "headers": [
                [
                  "content-type",
                  "application/javascript"
                ]
              ],
              "status": 200,
              "status_text": ""
            }
          },
          "base_uri": "https://localhost:8080/",
          "height": 75
        }
      },
      "source": [
        "from google.colab import files\n",
        "uploaded = files.upload()"
      ],
      "execution_count": 2,
      "outputs": [
        {
          "output_type": "display_data",
          "data": {
            "text/html": [
              "\n",
              "     <input type=\"file\" id=\"files-2c43c22b-e3b2-45c6-b9e2-46e0d8f2d369\" name=\"files[]\" multiple disabled />\n",
              "     <output id=\"result-2c43c22b-e3b2-45c6-b9e2-46e0d8f2d369\">\n",
              "      Upload widget is only available when the cell has been executed in the\n",
              "      current browser session. Please rerun this cell to enable.\n",
              "      </output>\n",
              "      <script src=\"/nbextensions/google.colab/files.js\"></script> "
            ],
            "text/plain": [
              "<IPython.core.display.HTML object>"
            ]
          },
          "metadata": {
            "tags": []
          }
        },
        {
          "output_type": "stream",
          "text": [
            "Saving insurance.csv to insurance.csv\n"
          ],
          "name": "stdout"
        }
      ]
    },
    {
      "cell_type": "markdown",
      "metadata": {
        "id": "HMQ7HZ5dHcPC",
        "colab_type": "text"
      },
      "source": [
        "**Importing the Dataset**"
      ]
    },
    {
      "cell_type": "code",
      "metadata": {
        "id": "CZ5UDRJMHQJ2",
        "colab_type": "code",
        "outputId": "ffa9db43-3ecd-4ae8-a7bf-62f442467293",
        "colab": {
          "base_uri": "https://localhost:8080/",
          "height": 216
        }
      },
      "source": [
        "data = pd.read_csv('insurance.csv')\n",
        "\n",
        "print(data.shape)\n",
        "\n",
        "data.head()"
      ],
      "execution_count": 125,
      "outputs": [
        {
          "output_type": "stream",
          "text": [
            "(1338, 7)\n"
          ],
          "name": "stdout"
        },
        {
          "output_type": "execute_result",
          "data": {
            "text/html": [
              "<div>\n",
              "<style scoped>\n",
              "    .dataframe tbody tr th:only-of-type {\n",
              "        vertical-align: middle;\n",
              "    }\n",
              "\n",
              "    .dataframe tbody tr th {\n",
              "        vertical-align: top;\n",
              "    }\n",
              "\n",
              "    .dataframe thead th {\n",
              "        text-align: right;\n",
              "    }\n",
              "</style>\n",
              "<table border=\"1\" class=\"dataframe\">\n",
              "  <thead>\n",
              "    <tr style=\"text-align: right;\">\n",
              "      <th></th>\n",
              "      <th>age</th>\n",
              "      <th>sex</th>\n",
              "      <th>bmi</th>\n",
              "      <th>children</th>\n",
              "      <th>smoker</th>\n",
              "      <th>region</th>\n",
              "      <th>charges</th>\n",
              "    </tr>\n",
              "  </thead>\n",
              "  <tbody>\n",
              "    <tr>\n",
              "      <th>0</th>\n",
              "      <td>19</td>\n",
              "      <td>female</td>\n",
              "      <td>27.900</td>\n",
              "      <td>0</td>\n",
              "      <td>yes</td>\n",
              "      <td>southwest</td>\n",
              "      <td>16884.92400</td>\n",
              "    </tr>\n",
              "    <tr>\n",
              "      <th>1</th>\n",
              "      <td>18</td>\n",
              "      <td>male</td>\n",
              "      <td>33.770</td>\n",
              "      <td>1</td>\n",
              "      <td>no</td>\n",
              "      <td>southeast</td>\n",
              "      <td>1725.55230</td>\n",
              "    </tr>\n",
              "    <tr>\n",
              "      <th>2</th>\n",
              "      <td>28</td>\n",
              "      <td>male</td>\n",
              "      <td>33.000</td>\n",
              "      <td>3</td>\n",
              "      <td>no</td>\n",
              "      <td>southeast</td>\n",
              "      <td>4449.46200</td>\n",
              "    </tr>\n",
              "    <tr>\n",
              "      <th>3</th>\n",
              "      <td>33</td>\n",
              "      <td>male</td>\n",
              "      <td>22.705</td>\n",
              "      <td>0</td>\n",
              "      <td>no</td>\n",
              "      <td>northwest</td>\n",
              "      <td>21984.47061</td>\n",
              "    </tr>\n",
              "    <tr>\n",
              "      <th>4</th>\n",
              "      <td>32</td>\n",
              "      <td>male</td>\n",
              "      <td>28.880</td>\n",
              "      <td>0</td>\n",
              "      <td>no</td>\n",
              "      <td>northwest</td>\n",
              "      <td>3866.85520</td>\n",
              "    </tr>\n",
              "  </tbody>\n",
              "</table>\n",
              "</div>"
            ],
            "text/plain": [
              "   age     sex     bmi  children smoker     region      charges\n",
              "0   19  female  27.900         0    yes  southwest  16884.92400\n",
              "1   18    male  33.770         1     no  southeast   1725.55230\n",
              "2   28    male  33.000         3     no  southeast   4449.46200\n",
              "3   33    male  22.705         0     no  northwest  21984.47061\n",
              "4   32    male  28.880         0     no  northwest   3866.85520"
            ]
          },
          "metadata": {
            "tags": []
          },
          "execution_count": 125
        }
      ]
    },
    {
      "cell_type": "code",
      "metadata": {
        "id": "UmEDUlCKIEgJ",
        "colab_type": "code",
        "outputId": "a610cdec-6dd5-4519-d21d-2ef264d1bb36",
        "colab": {
          "base_uri": "https://localhost:8080/",
          "height": 235
        }
      },
      "source": [
        "data.info()"
      ],
      "execution_count": 4,
      "outputs": [
        {
          "output_type": "stream",
          "text": [
            "<class 'pandas.core.frame.DataFrame'>\n",
            "RangeIndex: 1338 entries, 0 to 1337\n",
            "Data columns (total 7 columns):\n",
            "age         1338 non-null int64\n",
            "sex         1338 non-null object\n",
            "bmi         1338 non-null float64\n",
            "children    1338 non-null int64\n",
            "smoker      1338 non-null object\n",
            "region      1338 non-null object\n",
            "charges     1338 non-null float64\n",
            "dtypes: float64(2), int64(2), object(3)\n",
            "memory usage: 73.2+ KB\n"
          ],
          "name": "stdout"
        }
      ]
    },
    {
      "cell_type": "code",
      "metadata": {
        "id": "rew5xLdBE0dv",
        "colab_type": "code",
        "colab": {
          "base_uri": "https://localhost:8080/",
          "height": 163
        },
        "outputId": "546e4165-07ae-4ebf-c76b-b20291f1c229"
      },
      "source": [
        "data.isnull().sum()"
      ],
      "execution_count": 29,
      "outputs": [
        {
          "output_type": "execute_result",
          "data": {
            "text/plain": [
              "age         0\n",
              "sex         0\n",
              "bmi         0\n",
              "children    0\n",
              "smoker      0\n",
              "region      0\n",
              "charges     0\n",
              "dtype: int64"
            ]
          },
          "metadata": {
            "tags": []
          },
          "execution_count": 29
        }
      ]
    },
    {
      "cell_type": "code",
      "metadata": {
        "id": "5LaQPpFuCu6N",
        "colab_type": "code",
        "colab": {}
      },
      "source": [
        "pip install pandas-profiling"
      ],
      "execution_count": 0,
      "outputs": []
    },
    {
      "cell_type": "code",
      "metadata": {
        "id": "NjfSNPukBoOr",
        "colab_type": "code",
        "colab": {
          "base_uri": "https://localhost:8080/",
          "height": 1000
        },
        "outputId": "579e8319-da04-45d9-807b-3a4d458e80ae"
      },
      "source": [
        "from pandas_profiling import ProfileReport\n",
        "ProfileReport(data)"
      ],
      "execution_count": 10,
      "outputs": [
        {
          "output_type": "execute_result",
          "data": {
            "text/html": [
              "<meta charset=\"UTF-8\">\n",
              "\n",
              "<style>\n",
              "\n",
              "        .variablerow {\n",
              "            border: 1px solid #e1e1e8;\n",
              "            border-top: hidden;\n",
              "            padding-top: 2em;\n",
              "            padding-bottom: 2em;\n",
              "            padding-left: 1em;\n",
              "            padding-right: 1em;\n",
              "        }\n",
              "\n",
              "        .headerrow {\n",
              "            border: 1px solid #e1e1e8;\n",
              "            background-color: #f5f5f5;\n",
              "            padding: 2em;\n",
              "        }\n",
              "        .namecol {\n",
              "            margin-top: -1em;\n",
              "            overflow-x: auto;\n",
              "        }\n",
              "\n",
              "        .dl-horizontal dt {\n",
              "            text-align: left;\n",
              "            padding-right: 1em;\n",
              "            white-space: normal;\n",
              "        }\n",
              "\n",
              "        .dl-horizontal dd {\n",
              "            margin-left: 0;\n",
              "        }\n",
              "\n",
              "        .ignore {\n",
              "            opacity: 0.4;\n",
              "        }\n",
              "\n",
              "        .container.pandas-profiling {\n",
              "            max-width:975px;\n",
              "        }\n",
              "\n",
              "        .col-md-12 {\n",
              "            padding-left: 2em;\n",
              "        }\n",
              "\n",
              "        .indent {\n",
              "            margin-left: 1em;\n",
              "        }\n",
              "\n",
              "        .center-img {\n",
              "            margin-left: auto !important;\n",
              "            margin-right: auto !important;\n",
              "            display: block;\n",
              "        }\n",
              "\n",
              "        /* Table example_values */\n",
              "            table.example_values {\n",
              "                border: 0;\n",
              "            }\n",
              "\n",
              "            .example_values th {\n",
              "                border: 0;\n",
              "                padding: 0 ;\n",
              "                color: #555;\n",
              "                font-weight: 600;\n",
              "            }\n",
              "\n",
              "            .example_values tr, .example_values td{\n",
              "                border: 0;\n",
              "                padding: 0;\n",
              "                color: #555;\n",
              "            }\n",
              "\n",
              "        /* STATS */\n",
              "            table.stats {\n",
              "                border: 0;\n",
              "            }\n",
              "\n",
              "            .stats th {\n",
              "                border: 0;\n",
              "                padding: 0 2em 0 0;\n",
              "                color: #555;\n",
              "                font-weight: 600;\n",
              "            }\n",
              "\n",
              "            .stats tr {\n",
              "                border: 0;\n",
              "            }\n",
              "\n",
              "            .stats td{\n",
              "                color: #555;\n",
              "                padding: 1px;\n",
              "                border: 0;\n",
              "            }\n",
              "\n",
              "\n",
              "        /* Sample table */\n",
              "            table.sample {\n",
              "                border: 0;\n",
              "                margin-bottom: 2em;\n",
              "                margin-left:1em;\n",
              "            }\n",
              "            .sample tr {\n",
              "                border:0;\n",
              "            }\n",
              "            .sample td, .sample th{\n",
              "                padding: 0.5em;\n",
              "                white-space: nowrap;\n",
              "                border: none;\n",
              "\n",
              "            }\n",
              "\n",
              "            .sample thead {\n",
              "                border-top: 0;\n",
              "                border-bottom: 2px solid #ddd;\n",
              "            }\n",
              "\n",
              "            .sample td {\n",
              "                width:100%;\n",
              "            }\n",
              "\n",
              "\n",
              "        /* There is no good solution available to make the divs equal height and then center ... */\n",
              "            .histogram {\n",
              "                margin-top: 3em;\n",
              "            }\n",
              "        /* Freq table */\n",
              "\n",
              "            table.freq {\n",
              "                margin-bottom: 2em;\n",
              "                border: 0;\n",
              "            }\n",
              "            table.freq th, table.freq tr, table.freq td {\n",
              "                border: 0;\n",
              "                padding: 0;\n",
              "            }\n",
              "\n",
              "            .freq thead {\n",
              "                font-weight: 600;\n",
              "                white-space: nowrap;\n",
              "                overflow: hidden;\n",
              "                text-overflow: ellipsis;\n",
              "\n",
              "            }\n",
              "\n",
              "            td.fillremaining{\n",
              "                width:auto;\n",
              "                max-width: none;\n",
              "            }\n",
              "\n",
              "            td.number, th.number {\n",
              "                text-align:right ;\n",
              "            }\n",
              "\n",
              "        /* Freq mini */\n",
              "            .freq.mini td{\n",
              "                width: 50%;\n",
              "                padding: 1px;\n",
              "                font-size: 12px;\n",
              "\n",
              "            }\n",
              "            table.freq.mini {\n",
              "                 width:100%;\n",
              "            }\n",
              "            .freq.mini th {\n",
              "                overflow: hidden;\n",
              "                text-overflow: ellipsis;\n",
              "                white-space: nowrap;\n",
              "                max-width: 5em;\n",
              "                font-weight: 400;\n",
              "                text-align:right;\n",
              "                padding-right: 0.5em;\n",
              "            }\n",
              "\n",
              "            .missing {\n",
              "                color: #a94442;\n",
              "            }\n",
              "            .alert, .alert > th, .alert > td {\n",
              "                color: #a94442;\n",
              "            }\n",
              "\n",
              "\n",
              "        /* Bars in tables */\n",
              "            .freq .bar{\n",
              "                float: left;\n",
              "                width: 0;\n",
              "                height: 100%;\n",
              "                line-height: 20px;\n",
              "                color: #fff;\n",
              "                text-align: center;\n",
              "                background-color: #337ab7;\n",
              "                border-radius: 3px;\n",
              "                margin-right: 4px;\n",
              "            }\n",
              "            .other .bar {\n",
              "                background-color: #999;\n",
              "            }\n",
              "            .missing .bar{\n",
              "                background-color: #a94442;\n",
              "            }\n",
              "            .tooltip-inner {\n",
              "                width: 100%;\n",
              "                white-space: nowrap;\n",
              "                text-align:left;\n",
              "            }\n",
              "\n",
              "            .extrapadding{\n",
              "                padding: 2em;\n",
              "            }\n",
              "\n",
              "            .pp-anchor{\n",
              "\n",
              "            }\n",
              "\n",
              "</style>\n",
              "\n",
              "<div class=\"container pandas-profiling\">\n",
              "    <div class=\"row headerrow highlight\">\n",
              "        <h1>Overview</h1>\n",
              "    </div>\n",
              "    <div class=\"row variablerow\">\n",
              "    <div class=\"col-md-6 namecol\">\n",
              "        <p class=\"h4\">Dataset info</p>\n",
              "        <table class=\"stats\" style=\"margin-left: 1em;\">\n",
              "            <tbody>\n",
              "            <tr>\n",
              "                <th>Number of variables</th>\n",
              "                <td>7 </td>\n",
              "            </tr>\n",
              "            <tr>\n",
              "                <th>Number of observations</th>\n",
              "                <td>1338 </td>\n",
              "            </tr>\n",
              "            <tr>\n",
              "                <th>Total Missing (%)</th>\n",
              "                <td>0.0% </td>\n",
              "            </tr>\n",
              "            <tr>\n",
              "                <th>Total size in memory</th>\n",
              "                <td>73.2 KiB </td>\n",
              "            </tr>\n",
              "            <tr>\n",
              "                <th>Average record size in memory</th>\n",
              "                <td>56.1 B </td>\n",
              "            </tr>\n",
              "            </tbody>\n",
              "        </table>\n",
              "    </div>\n",
              "    <div class=\"col-md-6 namecol\">\n",
              "        <p class=\"h4\">Variables types</p>\n",
              "        <table class=\"stats\" style=\"margin-left: 1em;\">\n",
              "            <tbody>\n",
              "            <tr>\n",
              "                <th>Numeric</th>\n",
              "                <td>4 </td>\n",
              "            </tr>\n",
              "            <tr>\n",
              "                <th>Categorical</th>\n",
              "                <td>3 </td>\n",
              "            </tr>\n",
              "            <tr>\n",
              "                <th>Boolean</th>\n",
              "                <td>0 </td>\n",
              "            </tr>\n",
              "            <tr>\n",
              "                <th>Date</th>\n",
              "                <td>0 </td>\n",
              "            </tr>\n",
              "            <tr>\n",
              "                <th>Text (Unique)</th>\n",
              "                <td>0 </td>\n",
              "            </tr>\n",
              "            <tr>\n",
              "                <th>Rejected</th>\n",
              "                <td>0 </td>\n",
              "            </tr>\n",
              "            <tr>\n",
              "                <th>Unsupported</th>\n",
              "                <td>0 </td>\n",
              "            </tr>\n",
              "            </tbody>\n",
              "        </table>\n",
              "    </div>\n",
              "    <div class=\"col-md-12\" style=\"padding-left: 1em;\">\n",
              "        \n",
              "        <p class=\"h4\">Warnings</p>\n",
              "        <ul class=\"list-unstyled\"><li><a href=\"#pp_var_children\"><code>children</code></a> has 574 / 42.9% zeros <span class=\"label label-info\">Zeros</span></li><li>Dataset has 1 duplicate rows <span class=\"label label-warning\">Warning</span></li> </ul>\n",
              "    </div>\n",
              "</div>\n",
              "    <div class=\"row headerrow highlight\">\n",
              "        <h1>Variables</h1>\n",
              "    </div>\n",
              "    <div class=\"row variablerow\">\n",
              "    <div class=\"col-md-3 namecol\">\n",
              "        <p class=\"h4 pp-anchor\" id=\"pp_var_age\">age<br/>\n",
              "            <small>Numeric</small>\n",
              "        </p>\n",
              "    </div><div class=\"col-md-6\">\n",
              "    <div class=\"row\">\n",
              "        <div class=\"col-sm-6\">\n",
              "            <table class=\"stats \">\n",
              "                <tr>\n",
              "                    <th>Distinct count</th>\n",
              "                    <td>47</td>\n",
              "                </tr>\n",
              "                <tr>\n",
              "                    <th>Unique (%)</th>\n",
              "                    <td>3.5%</td>\n",
              "                </tr>\n",
              "                <tr class=\"ignore\">\n",
              "                    <th>Missing (%)</th>\n",
              "                    <td>0.0%</td>\n",
              "                </tr>\n",
              "                <tr class=\"ignore\">\n",
              "                    <th>Missing (n)</th>\n",
              "                    <td>0</td>\n",
              "                </tr>\n",
              "                <tr class=\"ignore\">\n",
              "                    <th>Infinite (%)</th>\n",
              "                    <td>0.0%</td>\n",
              "                </tr>\n",
              "                <tr class=\"ignore\">\n",
              "                    <th>Infinite (n)</th>\n",
              "                    <td>0</td>\n",
              "                </tr>\n",
              "            </table>\n",
              "\n",
              "        </div>\n",
              "        <div class=\"col-sm-6\">\n",
              "            <table class=\"stats \">\n",
              "\n",
              "                <tr>\n",
              "                    <th>Mean</th>\n",
              "                    <td>39.207</td>\n",
              "                </tr>\n",
              "                <tr>\n",
              "                    <th>Minimum</th>\n",
              "                    <td>18</td>\n",
              "                </tr>\n",
              "                <tr>\n",
              "                    <th>Maximum</th>\n",
              "                    <td>64</td>\n",
              "                </tr>\n",
              "                <tr class=\"ignore\">\n",
              "                    <th>Zeros (%)</th>\n",
              "                    <td>0.0%</td>\n",
              "                </tr>\n",
              "            </table>\n",
              "        </div>\n",
              "    </div>\n",
              "</div>\n",
              "<div class=\"col-md-3 collapse in\" id=\"minihistogram-3563801884341197437\">\n",
              "    <img src=\"data:image/png;base64,iVBORw0KGgoAAAANSUhEUgAAAMgAAABLCAYAAAA1fMjoAAAABHNCSVQICAgIfAhkiAAAAAlwSFlzAAAPYQAAD2EBqD%2BnaQAAADl0RVh0U29mdHdhcmUAbWF0cGxvdGxpYiB2ZXJzaW9uIDMuMC4zLCBodHRwOi8vbWF0cGxvdGxpYi5vcmcvnQurowAAAS1JREFUeJzt28FtwjAYgFFAHYkhuhNnduoQ3cncK/SJIIWk8Xv3SPbhk/9Y8nmMMU7AU5etFwB79rX1Av663n4Wf/N7/15hJeAEgSQQCAKBIBAIAoEgEAgCgSAQCAKBIBAIAoEgEAgCgSAQCAKBIBAIu3sw9Y7ZH1kt3f%2BR9r62QwRyJO/EznqMWBCcIAvMPMrMOsY6QSAIBIIRa0Kfugg4wlg2bSBui3jFtIF8ggj/P/8gEAQCQSAQBAJBIBAEAkEgEAQCQSAQBAJBIBAEAkEgEAQCQSAQBAJBIBAEAkEgEAQCQSAQzmOMsfUiYK%2BcIBAEAkEgEAQCQSAQBAJBIBAEAkEgEAQCQSAQBAJBIBAEAkEgEAQCQSAQBAJBIBAEAkEgEAQCQSAQBAJBIBAenFMgN1ixp0sAAAAASUVORK5CYII%3D\">\n",
              "\n",
              "</div>\n",
              "<div class=\"col-md-12 text-right\">\n",
              "    <a role=\"button\" data-toggle=\"collapse\" data-target=\"#descriptives-3563801884341197437,#minihistogram-3563801884341197437\"\n",
              "       aria-expanded=\"false\" aria-controls=\"collapseExample\">\n",
              "        Toggle details\n",
              "    </a>\n",
              "</div>\n",
              "<div class=\"row collapse col-md-12\" id=\"descriptives-3563801884341197437\">\n",
              "    <ul class=\"nav nav-tabs\" role=\"tablist\">\n",
              "        <li role=\"presentation\" class=\"active\"><a href=\"#quantiles-3563801884341197437\"\n",
              "                                                  aria-controls=\"quantiles-3563801884341197437\" role=\"tab\"\n",
              "                                                  data-toggle=\"tab\">Statistics</a></li>\n",
              "        <li role=\"presentation\"><a href=\"#histogram-3563801884341197437\" aria-controls=\"histogram-3563801884341197437\"\n",
              "                                   role=\"tab\" data-toggle=\"tab\">Histogram</a></li>\n",
              "        <li role=\"presentation\"><a href=\"#common-3563801884341197437\" aria-controls=\"common-3563801884341197437\"\n",
              "                                   role=\"tab\" data-toggle=\"tab\">Common Values</a></li>\n",
              "        <li role=\"presentation\"><a href=\"#extreme-3563801884341197437\" aria-controls=\"extreme-3563801884341197437\"\n",
              "                                   role=\"tab\" data-toggle=\"tab\">Extreme Values</a></li>\n",
              "\n",
              "    </ul>\n",
              "\n",
              "    <div class=\"tab-content\">\n",
              "        <div role=\"tabpanel\" class=\"tab-pane active row\" id=\"quantiles-3563801884341197437\">\n",
              "            <div class=\"col-md-4 col-md-offset-1\">\n",
              "                <p class=\"h4\">Quantile statistics</p>\n",
              "                <table class=\"stats indent\">\n",
              "                    <tr>\n",
              "                        <th>Minimum</th>\n",
              "                        <td>18</td>\n",
              "                    </tr>\n",
              "                    <tr>\n",
              "                        <th>5-th percentile</th>\n",
              "                        <td>18</td>\n",
              "                    </tr>\n",
              "                    <tr>\n",
              "                        <th>Q1</th>\n",
              "                        <td>27</td>\n",
              "                    </tr>\n",
              "                    <tr>\n",
              "                        <th>Median</th>\n",
              "                        <td>39</td>\n",
              "                    </tr>\n",
              "                    <tr>\n",
              "                        <th>Q3</th>\n",
              "                        <td>51</td>\n",
              "                    </tr>\n",
              "                    <tr>\n",
              "                        <th>95-th percentile</th>\n",
              "                        <td>62</td>\n",
              "                    </tr>\n",
              "                    <tr>\n",
              "                        <th>Maximum</th>\n",
              "                        <td>64</td>\n",
              "                    </tr>\n",
              "                    <tr>\n",
              "                        <th>Range</th>\n",
              "                        <td>46</td>\n",
              "                    </tr>\n",
              "                    <tr>\n",
              "                        <th>Interquartile range</th>\n",
              "                        <td>24</td>\n",
              "                    </tr>\n",
              "                </table>\n",
              "            </div>\n",
              "            <div class=\"col-md-4 col-md-offset-2\">\n",
              "                <p class=\"h4\">Descriptive statistics</p>\n",
              "                <table class=\"stats indent\">\n",
              "                    <tr>\n",
              "                        <th>Standard deviation</th>\n",
              "                        <td>14.05</td>\n",
              "                    </tr>\n",
              "                    <tr>\n",
              "                        <th>Coef of variation</th>\n",
              "                        <td>0.35835</td>\n",
              "                    </tr>\n",
              "                    <tr>\n",
              "                        <th>Kurtosis</th>\n",
              "                        <td>-1.2451</td>\n",
              "                    </tr>\n",
              "                    <tr>\n",
              "                        <th>Mean</th>\n",
              "                        <td>39.207</td>\n",
              "                    </tr>\n",
              "                    <tr>\n",
              "                        <th>MAD</th>\n",
              "                        <td>12.249</td>\n",
              "                    </tr>\n",
              "                    <tr class=\"\">\n",
              "                        <th>Skewness</th>\n",
              "                        <td>0.055673</td>\n",
              "                    </tr>\n",
              "                    <tr>\n",
              "                        <th>Sum</th>\n",
              "                        <td>52459</td>\n",
              "                    </tr>\n",
              "                    <tr>\n",
              "                        <th>Variance</th>\n",
              "                        <td>197.4</td>\n",
              "                    </tr>\n",
              "                    <tr>\n",
              "                        <th>Memory size</th>\n",
              "                        <td>10.5 KiB</td>\n",
              "                    </tr>\n",
              "                </table>\n",
              "            </div>\n",
              "        </div>\n",
              "        <div role=\"tabpanel\" class=\"tab-pane col-md-8 col-md-offset-2\" id=\"histogram-3563801884341197437\">\n",
              "            <img src=\"data:image/png;base64,iVBORw0KGgoAAAANSUhEUgAAAlgAAAGQCAYAAAByNR6YAAAABHNCSVQICAgIfAhkiAAAAAlwSFlzAAAPYQAAD2EBqD%2BnaQAAADl0RVh0U29mdHdhcmUAbWF0cGxvdGxpYiB2ZXJzaW9uIDMuMC4zLCBodHRwOi8vbWF0cGxvdGxpYi5vcmcvnQurowAAIABJREFUeJzt3X1QlXX%2B//EXeIQS5E5FWzUx7zZE07whyRbD1rxJ8x41M1ozM9KVhcK8mWo0oUnGrXDcdMd2y6ZIxy3vNTPtzhpNU0BjE3UyBoOUE0pKKNfvj77x2xOaKB%2B4Duc8HzNO9rmO13mfz%2Bjw9DoXRx/LsiwBAADAGF%2B7BwAAAPA0BBYAAIBhBBYAAIBhBBYAAIBhBBYAAIBhBBYAAIBhBBYAAIBhBBYAAIBhBBYAAIBhBBYAAIBhBBYAAIBhBBYAAIBhBBYAAIBhBBYAAIBhBBYAAIBhBBYAAIBhBBYAAIBhBBYAAIBhBBYAAIBhBBYAAIBhBBYAAIBhBBYAAIBhBBYAAIBhBBYAAIBhBBYAAIBhBBYAAIBhBBYAAIBhBBYAAIBhBBYAAIBhBBYAAIBhBBYAAIBhBBYAAIBhBBYAAIBhBBYAAIBhBBYAAIBhBBYAAIBhBBYAAIBhBBYAAIBhBBYAAIBhDrsH8BbFxWftHuF3%2Bfr6KCwsQGfOlKmy0rJ7HK/C3tuHvbcH%2B24fb9z7Fi2a2vK8XMGCpF/%2B0Pn4%2BMjX18fuUbwOe28f9t4e7Lt92Pv6Q2ABAAAYRmABAAAYRmABAAAYRmABAAAYRmABAAAYRmABAAAYRmABAAAYRmABAAAYRmABAAAYRmABAAAYRmABAAAYRmABAAAYRmABAAAY5rB7ANTOkL9/avcINbZl9p12jwAAQL3gChYAAIBhBBYAAIBhBBYAAIBhBBYAAIBhBBYAAIBhBBYAAIBhBBYAAIBhBBYAAIBhBBYAAIBhBBYAAIBhBBYAAIBhBBYAAIBhBBYAAIBhBBYAAIBhBBYAAIBhBBYAAIBhBBYAAIBhBBYAAIBhBBYAAIBhBBYAAIBhBBYAAIBhBBYAAIBhBBYAAIBhBBYAAIBhBBYAAIBhHhtYBQUFSkxMVHR0tGJiYjRnzhyVlpZKko4cOaLJkyerV69eGjRokFatWuXyazdv3qzhw4erZ8%2BeGj16tD755BM7XgIAAGigPDawHnvsMQUFBWnnzp1at26dvvnmG73wwgu6cOGCpk%2BfrjvuuEMff/yxli5dqldffVXbt2%2BX9Et8paamKiUlRZ9//rkSEhL0xBNP6NSpUza/IgAA0FB4ZGCVlpYqKipKycnJCggIUKtWrTRq1Cjt27dPu3btUkVFhWbMmKEmTZqoa9euGjdunLKysiRJa9asUWxsrGJjY%2BXv768RI0aoc%2BfOWr9%2Bvc2vCgAANBQOuweoC0FBQUpLS3NZKywsVHh4uHJzc9WlSxc1atSo6lhkZKTWrFkjScrNzVVsbKzLr42MjFR2dnaNn7%2BoqEjFxcUuaw5HE4WHh1/rS/EoDodH9nytNWrk6/Jf1B/23h7su33Y%2B/rjkYH1W9nZ2Vq9erWWL1%2BuLVu2KCgoyOV4SEiInE6nKisr5XQ6FRwc7HI8ODhYR48erfHzZWVlKTMz02UtMTFRs2bNuv4X4QFCQwPsHsGtBQXdaPcIXou9twf7bh/2vu55fGB9%2BeWXmjFjhpKTkxUTE6MtW7Zc9nE%2BPj5VP7csq1bPGR8fr7i4OJc1h6OJSkrKanXehs7bX/%2BVNGrkq6CgG1Vael6XLlXaPY5XYe/twb7bxxv33q6/3Ht0YO3cuVNPPvmkFixYoJEjR0qSwsLCdOLECZfHOZ1OhYSEyNfXV6GhoXI6ndWOh4WF1fh5w8PDq70dWFx8Vhcvesdv5ivx9td/NZcuVbJHNmHv7cG%2B24e9r3se%2Bybs/v37lZqaqpdeeqkqriQpKipKeXl5unjxYtVadna2brvttqrjOTk5Luf63%2BMAAABX45GBdfHiRc2fP18pKSnq37%2B/y7HY2FgFBgZq%2BfLlOn/%2BvA4ePKi1a9dq4sSJkqTx48frs88%2B065du1ReXq61a9fqxIkTGjFihB0vBQAANEA%2BVm1vOHJD%2B/bt0wMPPCA/P79qx7Zu3aqysjI988wzysnJUfPmzTVt2jRNmjSp6jHbt29XRkaGCgoK1LFjR82bN099%2BvSp1UzFxWdr9euvZMjfP62T89aFLbPvtHsEt%2BRw%2BCo0NEAlJWVcsq9n7L092Hf7eOPet2jR1Jbn9ch7sHr37q28vLzffcxbb711xWODBg3SoEGDTI8FAAC8hEe%2BRQgAAGAnAgsAAMAwAgsAAMAwAgsAAMAwAgsAAMAwAgsAAMAwAgsAAMAwAgsAAMAwAgsAAMAwAgsAAMAwAgsAAMAwAgsAAMAwAgsAAMAwAgsAAMAwAgsAAMAwAgsAAMAwAgsAAMAwAgsAAMAwAgsAAMAwAgsAAMAwAgsAAMAwAgsAAMAwAgsAAMAwAgsAAMAwAgsAAMAwAgsAAMAwAgsAAMAwAgsAAMAwAgsAAMAwAgsAAMAwAgsAAMAwAgsAAMAwAgsAAMAwAgsAAMAwAgsAAMAwAgsAAMAwAgsAAMAwAgsAAMAwAgsAAMAwAgsAAMAwAgsAAMAwAgsAAMAwAgsAAMAwAgsAAMAwAgsAAMAwAgsAAMAwAgsAAMAwAgsAAMAwAgsAAMAwAgsAAMAwAgsAAMAwAgsAAMAwAgsAAMAwAgsAAMAwAgsAAMAwAgsAAMAwAgsAAMAwAgsAAMAwjw2sjz/%2BWDExMUpKSnJZX7dunf74xz%2BqW7duLj8OHTokSaqsrNTSpUs1cOBA9enTR1OnTtXJkyfteAkAAKCBctg9QF1YuXKl1q5dq3bt2l32eJ8%2BffTGG29c9tibb76pDRs2aOXKlWrZsqWWLl2qxMREvffee/Lx8anLsQEAgIfwyCtY/v7%2BvxtYvycrK0sJCQnq0KGDAgMDlZSUpPz8fB08eLAOJgUAAJ7II69gTZky5XePFxYW6uGHH1ZOTo6CgoI0a9Ys3X///bpw4YKOHj2qyMjIqscGBgaqXbt2ys7OVo8ePWr0/EVFRSouLnZZcziaKDw8/NpfjAdxODyy52utUSNfl/%2Bi/rD39mDf7cPe1x%2BPDKzfExYWpoiICP3tb39Tx44d9f777%2Bupp55SeHi4brnlFlmWpeDgYJdfExwcrJKSkho/R1ZWljIzM13WEhMTNWvWLCOvoaEKDQ2wewS3FhR0o90jeC323h7su33Y%2B7rndYE1YMAADRgwoOr/hw0bpvfff1/r1q1TSkqKJMmyrFo9R3x8vOLi4lzWHI4mKikpq9V5Gzpvf/1X0qiRr4KCblRp6XldulRp9zhehb23B/tuH2/ce7v%2Bcu91gXU5rVu3Vk5OjkJCQuTr6yun0%2Bly3Ol0qlmzZjU%2BX3h4eLW3A4uLz%2BriRe/4zXwl3v76r%2BbSpUr2yCbsvT3Yd/uw93XP696Efeutt7R582aXtfz8fLVt21b%2B/v7q1KmTcnNzq46Vlpbq22%2B/Vffu3et7VAAA0EB5XWD9/PPPWrhwobKzs1VRUaGNGzfqo48%2B0oQJEyRJEydO1Ouvv678/HydO3dOS5Ys0a233qpu3brZPDkAAGgoPPItwl9j6OLFi5KkHTt2SJKys7M1ZcoUlZWV6a9//auKi4vVpk0bLVu2TFFRUZKkCRMmqLi4WA8%2B%2BKDKysoUHR1d7YZ1AACA3%2BNj1faObtRIcfHZOjnvkL9/WifnrQtbZt9p9whuyeHwVWhogEpKyrgnop6x9/Zg3%2B3jjXvfokVTW57X694iBAAAqGse%2BRYhAHgzrmwD9uMKFgAAgGEEFgAAgGEEFgAAgGEEFgAAgGFuF1hxcXHKzMxUYWGh3aMAAABcF7f7LsIxY8Zo06ZNWr58ufr166fx48crLi5ODofbjYpr1JC%2Bs0niu5sAANfP7a5gJSYmavPmzXrnnXfUqVMnLV68WLGxsXrxxRd1/Phxu8cDAAC4KrcLrF917dpVqamp%2BvDDDzV37ly98847Gjp0qKZOnapDhw7ZPR4AAMAVuW1gVVRUaPPmzZo2bZpSU1PVsmVLPf3007r11luVkJCgDRs22D0iAADAZbndjU35%2Bflau3at3n33XZWVlenee%2B/Vv//9b/Xq1avqMX369NGzzz6r4cOH2zgpAG/R0O4fBGA/twusYcOGqX379po%2BfbpGjhypkJCQao%2BJjY3VmTNnbJgOAADg6twusF5//XX17dv3qo87ePBgPUwDAABw7dzuHqwuXbroscce044dO6rW/vWvf2natGlyOp02TgYAAFAzbhdYaWlpOnv2rDp27Fi1NmDAAFVWVio9Pd3GyQAAAGrG7d4i/OSTT7RhwwaFhoZWrUVERGjJkiW67777bJwMAACgZtzuCtaFCxfk7%2B9fbd3X11fnz5%2B3YSIAAIBr43aB1adPH6Wnp%2BvHH3%2BsWvv%2B%2B%2B/13HPPuXxUAwAAgLtyu7cI586dq7/85S/q16%2BfAgMDVVlZqbKyMrVt21ZvvPGG3eMBAABcldsFVtu2bbVp0yZ99NFH%2Bvbbb%2BXr66v27durf//%2BatSokd3jAQAAXJXbBZYk%2Bfn56Z577rF7DAAAgOvidoF18uRJZWRk6JtvvtGFCxeqHf/ggw9smAoAAKDm3C6w5s6dq6KiIvXv319NmjSxexygwWhI/17eltl32j0CcF0a0p8ziT9rdnK7wMrJydEHH3ygsLAwu0cBAAC4Lm73MQ3NmjXjyhUAAGjQ3C6wpk%2BfrszMTFmWZfcoAAAA18Xt3iL86KOPtH//fq1bt05t2rSRr69rA7799ts2TQYAAFAzbhdYgYGB%2BtOf/mT3GAAAANfN7QIrLS3N7hEAAABqxe3uwZKkY8eO6ZVXXtHTTz9dtXbgwAEbJwIAAKg5twusPXv2aMSIEdq%2Bfbs2btwo6ZcPH50yZQofMgoAABoEtwuspUuX6sknn9SGDRvk4%2BMj6Zd/nzA9PV3Lli2zeToAAICrc7vA%2Bu9//6uJEydKUlVgSdLgwYOVn59v11gAAAA15naB1bRp08v%2BG4RFRUXy8/OzYSIAAIBr43aBdfvtt2vx4sU6d%2B5c1drx48eVmpqqfv362TgZAABAzbjdxzQ8/fTTeuihhxQdHa1Lly7p9ttv1/nz59WpUyelp6fbPR4AAMBVuV1gtWrVShs3btTu3bt1/Phx3XDDDWrfvr3uvPNOl3uyAAAA3JXbBZYkNW7cWPfcc4/dYwAAAFwXtwusuLi4371SxWdhAQAAd%2Bd2gTV06FCXwLp06ZKOHz%2Bu7OxsPfTQQzZOBgAAUDNuF1gpKSmXXd%2B2bZu%2B%2BOKLep4GAADg2rndxzRcyT333KNNmzbZPQYAAMBVud0VrCs5fPiwLMuyewwAgEFD/v6p3SN4tIa0v1tm32n3CEa5XWBNmDCh2tr58%2BeVn5%2BvQYMG2TARAADAtXG7wIqIiKj2XYT%2B/v4aO3asxo0bZ9NUAAAANed2gcWntQMAgIbO7QLr3XffrfFjR44cWYeTAAAAXB%2B3C6x58%2BapsrKy2g3tPj4%2BLms%2BPj4EFgAAcEtuF1j//Oc/tWrVKj322GPq0qWLLMtSXl6eVq5cqcmTJys6OtruEeElGtJ33wAA3IvbBVZ6erpWrFihli1bVq317t1bbdu21dSpU7Vx40YbpwMAALg6t/ug0RMnTig4OLjaelBQkAoKCmyYCAAA4Nq4XWC1bt1a6enpKikpqVorLS1VRkaGbr75ZhsnAwAAqBm3e4tw7ty5Sk5OVlZWlgICAuTr66tz587phhtu0LJly%2BweDwAA4KrcLrD69%2B%2BvXbt2affu3Tp16pQsy1LLli111113qWnTpnaPBwAAcFVuF1iSdOONN2rgwIE6deqU2rZta/c4AAAA18Tt7sG6cOGCUlNT1bNnTw0ZMkTSL/dgPfLIIyotLbV5OgAAgKtzu8B68cUXdeTIES1ZskS%2Bvv9/vEuXLmnJkiU1Ps/HH3%2BsmJgYJSUlVTu2efNmDR8%2BXD179tTo0aP1ySefVB2rrKzU0qVLNXDgQPXp00dTp07VyZMna/eiAACAV3G7wNq2bZtefvllDR48uOoffQ4KClJaWpq2b99eo3OsXLlSixYtUrt27aodO3LkiFJTU5WSkqLPP/9cCQkJeuKJJ3Tq1ClJ0ptvvqkNGzZoxYoV%2BvDDDxUREaHExMRqnywPAABwJW53D1ZZWZkiIiKqrYeFhemnn36q0Tn8/f21du1aPf/88yovL3c5tmbNGsXGxio2NlaSNGLECK1evVrr16/Xo48%2BqqysLCUkJKhDhw6SpKSkJEVHR%2BvgwYPq0aNH7V4cAEl8Sj4Az%2Bd2V7BuvvlmffHFF5LkctVo69at%2BsMf/lCjc0yZMuWK33GYm5uryMhIl7XIyEhlZ2frwoULOnr0qMvxwMBAtWvXTtnZ2df6UgAAgJdyuytYkyZN0syZMzVmzBhVVlbqtddeU05OjrZt26Z58%2BbV%2BvxOp7PaJ8UHBwfr6NGj%2BvHHH2VZ1mWP/%2B8Hn15NUVGRiouLXdYcjiYKDw%2B//sEBAPBgDofbXfOpFbcLrPj4eDkcDq1evVqNGjXSP/7xD7Vv315LlizR4MGDjTzH1e6nqu39VllZWcrMzHRZS0xM1KxZs2p1XgAAPFVoaIDdIxjldoF15swZjRkzRmPGjKmT84eGhsrpdLqsOZ1OhYWFKSQkRL6%2Bvpc93qxZsxo/R3x8vOLi4lzWHI4mKikpu/7BAQDwYHX1NdKucHO7wBo4cKD2799f9R2EpkVFRSknJ8dlLTs7W8OGDZO/v786deqk3Nxc9e3bV9Ivn8H17bffqnv37jV%2BjvDw8GpvBxYXn9XFi5W1fwEAAHggT/sa6XZveEZHR2vLli11dv7x48frs88%2B065du1ReXq61a9fqxIkTGjFihCRp4sSJev3115Wfn69z585pyZIluvXWW9WtW7c6mwkAAHgWt7uCddNNN%2Bn555/XihUrdPPNN6tx48YuxzMyMq56jl9j6OLFi5KkHTt2SPrlSlXnzp21ZMkSpaWlqaCgQB07dtSrr76qFi1aSJImTJig4uJiPfjggyorK1N0dHS1%2B6kAAAB%2Bj4/lZp%2Bg%2BeCDD/7u8TfeeKOeJjGruPhsnZyXzxMCAHiCLbPvrJPztmhx%2BY9tqmtucwUrKSlJS5cudQmoZcuWKTEx0capAAAArp3b3IO1c%2BfOamsrVqywYRIAAIDacZvAutw7lW727iUAAECNuE1gXe5jGerqoxoAAADqktsEFgAAgKcgsAAAAAxzm%2B8irKioUHJy8lXXavI5WAAAAHZym8Dq1auXioqKrroGAADg7twmsBrqB4gCAAD8FvdgAQAAGEZgAQAAGEZgAQAAGEZgAQAAGEZgAQAAGEZgAQAAGEZgAQAAGEZgAQAAGEZgAQAAGEZgAQAAGEZgAQAAGEZgAQAAGEZgAQAAGEZgAQAAGEZgAQAAGEZgAQAAGEZgAQAAGEZgAQAAGEZgAQAAGEZgAQAAGEZgAQAAGEZgAQAAGEZgAQAAGEZgAQAAGEZgAQAAGEZgAQAAGEZgAQAAGEZgAQAAGEZgAQAAGEZgAQAAGEZgAQAAGEZgAQAAGEZgAQAAGEZgAQAAGEZgAQAAGEZgAQAAGEZgAQAAGEZgAQAAGEZgAQAAGEZgAQAAGEZgAQAAGEZgAQAAGEZgAQAAGEZgAQAAGEZgAQAAGEZgAQAAGEZgAQAAGEZgAQAAGEZgAQAAGOawewA7dOnSRY0bN5aPj0/V2vjx47VgwQLt2bNHGRkZOnbsmG666SZNnz5dI0aMsHFaAADQ0HhlYEnS1q1b1aZNG5e1oqIiPf7445o3b56GDx%2BuL7/8UjNmzFD79u3VrVs3myYFAAANDW8R/o8NGzYoIiJCY8eOlb%2B/v2JiYhQXF6c1a9bYPRoAAGhAvPYKVkZGhg4cOKBz585pyJAhmjNnjnJzcxUZGenyuMjISG3ZsuWazl1UVKTi4mKXNYejicLDw2s9NwAAnsjh8KxrPl4ZWD169FBMTIxeeOEFnTx5UrNnz9Zzzz0np9Opli1bujw2JCREJSUl13T%2BrKwsZWZmuqwlJiZq1qxZtZ4dAABPFBoaYPcIRnllYGVlZVX9vEOHDkpJSdGMGTPUq1cvI%2BePj49XXFycy5rD0UQlJWVGzg8AgKepq6%2BRdoWbVwbWb7Vp00aXLl2Sr6%2BvnE6ny7GSkhKFhYVd0/nCw8OrvR1YXHxWFy9W1npWAAA8kad9jfSsNzxr4PDhw0pPT3dZy8/Pl5%2Bfn2JjY5WTk%2BNyLCcnR7fddlt9jggAABo4rwusZs2aKSsrSytWrNDPP/%2Bs48eP66WXXlJ8fLzuv/9%2BFRQUaM2aNSovL9fu3bu1e/dujR8/3u6xAQBAA%2BJjWZZl9xD1be/evcrIyFBeXp78/Pw0atQoJSUlyd/fX3v37tWiRYuUn5%2Bv1q1bKzk5WYMGDar1cxYXnzUweXVD/v5pnZwXAID6tGX2nXVy3hYtmtbJea/GKwPLDgQWAABX5mmB5XVvEQIAANQ1AgsAAMAwAgsAAMAwAgsAAMAwAgsAAMAwAgsAAMAwAgsAAMAwAgsAAMAwAgsAAMAwAgsAAMAwAgsAAMAwAgsAAMAwAgsAAMAwAgsAAMAwAgsAAMAwAgsAAMAwAgsAAMAwAgsAAMAwAgsAAMAwAgsAAMAwAgsAAMAwAgsAAMAwAgsAAMAwAgsAAMAwAgsAAMAwAgsAAMAwAgsAAMAwAgsAAMAwAgsAAMAwAgsAAMAwAgsAAMAwAgsAAMAwAgsAAMAwAgsAAMAwAgsAAMAwAgsAAMAwAgsAAMAwAgsAAMAwAgsAAMAwAgsAAMAwAgsAAMAwAgsAAMAwAgsAAMAwAgsAAMAwAgsAAMAwAgsAAMAwAgsAAMAwAgsAAMAwAgsAAMAwAgsAAMAwAgsAAMAwAgsAAMAwAgsAAMAwAgsAAMAwAgsAAMAwAgsAAMAwAgsAAMAwAgsAAMAwAusyCgoK9Oijjyo6Olp33323XnzxRVVWVto9FgAAaCAcdg/gjmbOnKmuXbtqx44dOn36tKZPn67mzZvr4Ycftns0AADQAHAF6zeys7P19ddfKyUlRU2bNlVERIQSEhKUlZVl92gAAKCB4ArWb%2BTm5qp169YKDg6uWuvatauOHz%2Buc%2BfOKTAw8KrnKCoqUnFxscuaw9FE4eHhxucFAMATOByedc2HwPoNp9OpoKAgl7VfY6ukpKRGgZWVlaXMzEyXtSeeeEIzZ840N%2Bj/2ff8YCPnKSoqUlZWluLj4wnBesbe24e9twf7bh/2vv54Vi4aYllWrX59fHy81q1b5/IjPj7e0HR1o7i4WJmZmdWuvKHusff2Ye/twb7bh72vP1zB%2Bo2wsDA5nU6XNafTKR8fH4WFhdXoHOHh4fzNAAAAL8YVrN%2BIiopSYWGhzpw5U7WWnZ2tjh07KiAgwMbJAABAQ0Fg/UZkZKS6deumjIwMnTt3Tvn5%2BXrttdc0ceJEu0cDAAANRKNnn332WbuHcDd33XWXNm7cqIULF2rTpk0aO3aspk6dKh8fH7tHq1MBAQHq27cvV%2BpswN7bh723B/tuH/a%2BfvhYtb2jGwAAAC54ixAAAMAwAgsAAMAwAgsAAMAwAgsAAMAwAgsAAMAwAgsAAMAwAgsAAMAwAgsAAMAwAgsAAMAwAssLFRQUKDExUdHR0YqJidGcOXNUWloqSTpy5IgmT56sXr16adCgQVq1apXN03qOr7/%2BWg899JB69eqlmJgYzZ49W8XFxZKkPXv2aOzYsbr99ts1bNgwrV%2B/3uZpPdfixYvVpUuXqv9n7%2BtWly5dFBUVpW7dulX9WLhwoST2vj4sX75c/fv3V48ePZSQkKDvvvtOEntfLyx4nfvuu8%2BaM2eOde7cOauwsNAaPXq0NXfuXOv8%2BfPWXXfdZb3yyitWWVmZlZOTY/Xt29fatm2b3SM3eOXl5Va/fv2szMxMq7y83Dp9%2BrQ1efJk6/HHH7e%2B//57q0ePHtaaNWusCxcuWJ9%2B%2BqnVvXt369ChQ3aP7XEOHz5s9e3b1%2BrcubNlWRZ7Xw86d%2B5snTx5sto6e1/3Vq9ebQ0ePNjKz8%2B3zp49ay1cuNBauHAhe19PuILlZUpLSxUVFaXk5GQFBASoVatWGjVqlPbt26ddu3apoqJCM2bMUJMmTdS1a1eNGzdOWVlZdo/d4J0/f15JSUmaPn26/Pz8FBYWpj//%2Bc/65ptvtGHDBkVERGjs2LHy9/dXTEyM4uLitGbNGrvH9iiVlZV65plnlJCQULXG3tuHva97q1atUlJSkm655RYFBgZq/vz5mj9/PntfTwgsLxMUFKS0tDQ1b968aq2wsFDh4eHKzc1Vly5d1KhRo6pjkZGRysnJsWNUjxIcHKxx48bJ4XBIko4dO6b//Oc/GjJkiHJzcxUZGenyePbdvLffflv%2B/v4aPnx41Rp7Xz8yMjI0YMAA9e7dWwsWLFBZWRl7X8e%2B//57fffdd/rxxx81dOhQRUdHa9asWTpz5gx7X08ILC%2BXnZ2t1atXa8aMGXI6nQoKCnI5HhISIqfTqcrKSpsm9CwFBQWKiorS0KFD1a1bN82aNeuK%2B15SUmLTlJ7nhx9%2B0CuvvKJnnnnGZZ29r3s9evRQTEyMtm/frqysLH311Vd67rnn2Ps6durUKUnS1q1b9dprr%2Bm9997TqVOnNH/%2BfPa%2BnhBYXuzLL7/U1KlTlZycrJiYmCs%2BzsfHpx6n8mytW7dWdna2tm7dqhMnTuipp56yeySvkJaWptGjR6tjx452j%2BJ1srKyNG7cOPn5%2BalDhw5KSUnRxo0bVVFRYfdoHs2yLEnSI488opYtW6pVq1aaOXOmdu7cafNk3oPA8lI7d%2B7Uo48%2Bqrlz52rKlCmSpLCwsGp/g3E6nQoJCZGvL79VTPHx8VFERISSkpK0ceNGORwOOZ1Ol8eUlJQoLCzMpgk9y549e3TgwAElJiZWOxYaGsre17M2bdro0qVL8vX1Ze/r0K%2B3gfzvlarWrVvLsixVVFSw9/WAr5peaP/%2B/UpNTdVLL72kkSNHVq1HRUUpLy9PFy9erFrLzs7WbbfdZsfaC020AAACOklEQVSYHmXPnj269957Xd5q/TVau3fvXu3eh5ycHPbdkPXr1%2Bv06dO6%2B%2B67FR0drdGjR0uSoqOj1blzZ/a%2BDh0%2BfFjp6ekua/n5%2BfLz81NsbCx7X4datWqlwMBAHTlypGqtoKBAjRs3Zu/ri93fxoj6VVFRYQ0ZMsR6%2B%2B23qx0rLy%2B37r77buvll1%2B2fvrpJ%2Burr76yevfubX344Yf1P6iHKS0ttWJiYqz09HTrp59%2Bsk6fPm1NnTrVmjRpkvXDDz9YPXv2tN555x3rwoUL1q5du6zu3btbR44csXtsj%2BB0Oq3CwsKqHwcOHLA6d%2B5sFRYWWgUFBex9HTp16pTVo0cP69VXX7XKy8utY8eOWUOHDrUWLlzI7/t6sHjxYmvgwIHWiRMnrB9%2B%2BMGKj4%2B35syZw97XEx/L%2Br83auEV9u3bpwceeEB%2Bfn7Vjm3dulVlZWV65plnlJOTo%2BbNm2vatGmaNGmSDZN6nry8PC1atEiHDh1SkyZNdMcdd2jOnDlq2bKl9u7dq0WLFik/P1%2BtW7dWcnKyBg0aZPfIHum7777TwIEDlZeXJ0nsfR3bu3evMjIylJeXJz8/P40aNUpJSUny9/dn7%2BvYzz//rLS0NG3atEkVFRW69957tWDBAgUEBLD39YDAAgAAMIx7sAAAAAwjsAAAAAwjsAAAAAwjsAAAAAwjsAAAAAwjsAAAAAwjsAAAAAwjsAAAAAwjsAAAAAwjsAAAAAwjsAAAAAwjsAAAAAwjsAAAAAz7fzaTMcupNkJSAAAAAElFTkSuQmCC\"/>\n",
              "        </div>\n",
              "        <div role=\"tabpanel\" class=\"tab-pane col-md-12\" id=\"common-3563801884341197437\">\n",
              "            \n",
              "<table class=\"freq table table-hover\">\n",
              "    <thead>\n",
              "    <tr>\n",
              "        <td class=\"fillremaining\">Value</td>\n",
              "        <td class=\"number\">Count</td>\n",
              "        <td class=\"number\">Frequency (%)</td>\n",
              "        <td style=\"min-width:200px\">&nbsp;</td>\n",
              "    </tr>\n",
              "    </thead>\n",
              "    <tr class=\"\">\n",
              "        <td class=\"fillremaining\">18</td>\n",
              "        <td class=\"number\">69</td>\n",
              "        <td class=\"number\">5.2%</td>\n",
              "        <td>\n",
              "            <div class=\"bar\" style=\"width:8%\">&nbsp;</div>\n",
              "        </td>\n",
              "</tr><tr class=\"\">\n",
              "        <td class=\"fillremaining\">19</td>\n",
              "        <td class=\"number\">68</td>\n",
              "        <td class=\"number\">5.1%</td>\n",
              "        <td>\n",
              "            <div class=\"bar\" style=\"width:7%\">&nbsp;</div>\n",
              "        </td>\n",
              "</tr><tr class=\"\">\n",
              "        <td class=\"fillremaining\">51</td>\n",
              "        <td class=\"number\">29</td>\n",
              "        <td class=\"number\">2.2%</td>\n",
              "        <td>\n",
              "            <div class=\"bar\" style=\"width:3%\">&nbsp;</div>\n",
              "        </td>\n",
              "</tr><tr class=\"\">\n",
              "        <td class=\"fillremaining\">45</td>\n",
              "        <td class=\"number\">29</td>\n",
              "        <td class=\"number\">2.2%</td>\n",
              "        <td>\n",
              "            <div class=\"bar\" style=\"width:3%\">&nbsp;</div>\n",
              "        </td>\n",
              "</tr><tr class=\"\">\n",
              "        <td class=\"fillremaining\">46</td>\n",
              "        <td class=\"number\">29</td>\n",
              "        <td class=\"number\">2.2%</td>\n",
              "        <td>\n",
              "            <div class=\"bar\" style=\"width:3%\">&nbsp;</div>\n",
              "        </td>\n",
              "</tr><tr class=\"\">\n",
              "        <td class=\"fillremaining\">47</td>\n",
              "        <td class=\"number\">29</td>\n",
              "        <td class=\"number\">2.2%</td>\n",
              "        <td>\n",
              "            <div class=\"bar\" style=\"width:3%\">&nbsp;</div>\n",
              "        </td>\n",
              "</tr><tr class=\"\">\n",
              "        <td class=\"fillremaining\">48</td>\n",
              "        <td class=\"number\">29</td>\n",
              "        <td class=\"number\">2.2%</td>\n",
              "        <td>\n",
              "            <div class=\"bar\" style=\"width:3%\">&nbsp;</div>\n",
              "        </td>\n",
              "</tr><tr class=\"\">\n",
              "        <td class=\"fillremaining\">50</td>\n",
              "        <td class=\"number\">29</td>\n",
              "        <td class=\"number\">2.2%</td>\n",
              "        <td>\n",
              "            <div class=\"bar\" style=\"width:3%\">&nbsp;</div>\n",
              "        </td>\n",
              "</tr><tr class=\"\">\n",
              "        <td class=\"fillremaining\">52</td>\n",
              "        <td class=\"number\">29</td>\n",
              "        <td class=\"number\">2.2%</td>\n",
              "        <td>\n",
              "            <div class=\"bar\" style=\"width:3%\">&nbsp;</div>\n",
              "        </td>\n",
              "</tr><tr class=\"\">\n",
              "        <td class=\"fillremaining\">20</td>\n",
              "        <td class=\"number\">29</td>\n",
              "        <td class=\"number\">2.2%</td>\n",
              "        <td>\n",
              "            <div class=\"bar\" style=\"width:3%\">&nbsp;</div>\n",
              "        </td>\n",
              "</tr><tr class=\"other\">\n",
              "        <td class=\"fillremaining\">Other values (37)</td>\n",
              "        <td class=\"number\">969</td>\n",
              "        <td class=\"number\">72.4%</td>\n",
              "        <td>\n",
              "            <div class=\"bar\" style=\"width:100%\">&nbsp;</div>\n",
              "        </td>\n",
              "</tr>\n",
              "</table>\n",
              "        </div>\n",
              "        <div role=\"tabpanel\" class=\"tab-pane col-md-12\"  id=\"extreme-3563801884341197437\">\n",
              "            <p class=\"h4\">Minimum 5 values</p>\n",
              "            \n",
              "<table class=\"freq table table-hover\">\n",
              "    <thead>\n",
              "    <tr>\n",
              "        <td class=\"fillremaining\">Value</td>\n",
              "        <td class=\"number\">Count</td>\n",
              "        <td class=\"number\">Frequency (%)</td>\n",
              "        <td style=\"min-width:200px\">&nbsp;</td>\n",
              "    </tr>\n",
              "    </thead>\n",
              "    <tr class=\"\">\n",
              "        <td class=\"fillremaining\">18</td>\n",
              "        <td class=\"number\">69</td>\n",
              "        <td class=\"number\">5.2%</td>\n",
              "        <td>\n",
              "            <div class=\"bar\" style=\"width:100%\">&nbsp;</div>\n",
              "        </td>\n",
              "</tr><tr class=\"\">\n",
              "        <td class=\"fillremaining\">19</td>\n",
              "        <td class=\"number\">68</td>\n",
              "        <td class=\"number\">5.1%</td>\n",
              "        <td>\n",
              "            <div class=\"bar\" style=\"width:98%\">&nbsp;</div>\n",
              "        </td>\n",
              "</tr><tr class=\"\">\n",
              "        <td class=\"fillremaining\">20</td>\n",
              "        <td class=\"number\">29</td>\n",
              "        <td class=\"number\">2.2%</td>\n",
              "        <td>\n",
              "            <div class=\"bar\" style=\"width:42%\">&nbsp;</div>\n",
              "        </td>\n",
              "</tr><tr class=\"\">\n",
              "        <td class=\"fillremaining\">21</td>\n",
              "        <td class=\"number\">28</td>\n",
              "        <td class=\"number\">2.1%</td>\n",
              "        <td>\n",
              "            <div class=\"bar\" style=\"width:41%\">&nbsp;</div>\n",
              "        </td>\n",
              "</tr><tr class=\"\">\n",
              "        <td class=\"fillremaining\">22</td>\n",
              "        <td class=\"number\">28</td>\n",
              "        <td class=\"number\">2.1%</td>\n",
              "        <td>\n",
              "            <div class=\"bar\" style=\"width:41%\">&nbsp;</div>\n",
              "        </td>\n",
              "</tr>\n",
              "</table>\n",
              "            <p class=\"h4\">Maximum 5 values</p>\n",
              "            \n",
              "<table class=\"freq table table-hover\">\n",
              "    <thead>\n",
              "    <tr>\n",
              "        <td class=\"fillremaining\">Value</td>\n",
              "        <td class=\"number\">Count</td>\n",
              "        <td class=\"number\">Frequency (%)</td>\n",
              "        <td style=\"min-width:200px\">&nbsp;</td>\n",
              "    </tr>\n",
              "    </thead>\n",
              "    <tr class=\"\">\n",
              "        <td class=\"fillremaining\">60</td>\n",
              "        <td class=\"number\">23</td>\n",
              "        <td class=\"number\">1.7%</td>\n",
              "        <td>\n",
              "            <div class=\"bar\" style=\"width:100%\">&nbsp;</div>\n",
              "        </td>\n",
              "</tr><tr class=\"\">\n",
              "        <td class=\"fillremaining\">61</td>\n",
              "        <td class=\"number\">23</td>\n",
              "        <td class=\"number\">1.7%</td>\n",
              "        <td>\n",
              "            <div class=\"bar\" style=\"width:100%\">&nbsp;</div>\n",
              "        </td>\n",
              "</tr><tr class=\"\">\n",
              "        <td class=\"fillremaining\">62</td>\n",
              "        <td class=\"number\">23</td>\n",
              "        <td class=\"number\">1.7%</td>\n",
              "        <td>\n",
              "            <div class=\"bar\" style=\"width:100%\">&nbsp;</div>\n",
              "        </td>\n",
              "</tr><tr class=\"\">\n",
              "        <td class=\"fillremaining\">63</td>\n",
              "        <td class=\"number\">23</td>\n",
              "        <td class=\"number\">1.7%</td>\n",
              "        <td>\n",
              "            <div class=\"bar\" style=\"width:100%\">&nbsp;</div>\n",
              "        </td>\n",
              "</tr><tr class=\"\">\n",
              "        <td class=\"fillremaining\">64</td>\n",
              "        <td class=\"number\">22</td>\n",
              "        <td class=\"number\">1.6%</td>\n",
              "        <td>\n",
              "            <div class=\"bar\" style=\"width:95%\">&nbsp;</div>\n",
              "        </td>\n",
              "</tr>\n",
              "</table>\n",
              "        </div>\n",
              "    </div>\n",
              "</div>\n",
              "</div><div class=\"row variablerow\">\n",
              "    <div class=\"col-md-3 namecol\">\n",
              "        <p class=\"h4 pp-anchor\" id=\"pp_var_bmi\">bmi<br/>\n",
              "            <small>Numeric</small>\n",
              "        </p>\n",
              "    </div><div class=\"col-md-6\">\n",
              "    <div class=\"row\">\n",
              "        <div class=\"col-sm-6\">\n",
              "            <table class=\"stats \">\n",
              "                <tr>\n",
              "                    <th>Distinct count</th>\n",
              "                    <td>548</td>\n",
              "                </tr>\n",
              "                <tr>\n",
              "                    <th>Unique (%)</th>\n",
              "                    <td>41.0%</td>\n",
              "                </tr>\n",
              "                <tr class=\"ignore\">\n",
              "                    <th>Missing (%)</th>\n",
              "                    <td>0.0%</td>\n",
              "                </tr>\n",
              "                <tr class=\"ignore\">\n",
              "                    <th>Missing (n)</th>\n",
              "                    <td>0</td>\n",
              "                </tr>\n",
              "                <tr class=\"ignore\">\n",
              "                    <th>Infinite (%)</th>\n",
              "                    <td>0.0%</td>\n",
              "                </tr>\n",
              "                <tr class=\"ignore\">\n",
              "                    <th>Infinite (n)</th>\n",
              "                    <td>0</td>\n",
              "                </tr>\n",
              "            </table>\n",
              "\n",
              "        </div>\n",
              "        <div class=\"col-sm-6\">\n",
              "            <table class=\"stats \">\n",
              "\n",
              "                <tr>\n",
              "                    <th>Mean</th>\n",
              "                    <td>30.663</td>\n",
              "                </tr>\n",
              "                <tr>\n",
              "                    <th>Minimum</th>\n",
              "                    <td>15.96</td>\n",
              "                </tr>\n",
              "                <tr>\n",
              "                    <th>Maximum</th>\n",
              "                    <td>53.13</td>\n",
              "                </tr>\n",
              "                <tr class=\"ignore\">\n",
              "                    <th>Zeros (%)</th>\n",
              "                    <td>0.0%</td>\n",
              "                </tr>\n",
              "            </table>\n",
              "        </div>\n",
              "    </div>\n",
              "</div>\n",
              "<div class=\"col-md-3 collapse in\" id=\"minihistogram-8014225069972112104\">\n",
              "    <img src=\"data:image/png;base64,iVBORw0KGgoAAAANSUhEUgAAAMgAAABLCAYAAAA1fMjoAAAABHNCSVQICAgIfAhkiAAAAAlwSFlzAAAPYQAAD2EBqD%2BnaQAAADl0RVh0U29mdHdhcmUAbWF0cGxvdGxpYiB2ZXJzaW9uIDMuMC4zLCBodHRwOi8vbWF0cGxvdGxpYi5vcmcvnQurowAAATdJREFUeJzt3bFNBDEQQNE9REkUQU/E9EQR9GRSAvR1h2TWrN%2BLL3DyNRrZ2ruNMcYB/Ojp7APAyp7PPsB/8vL28dDvP99fJ52Ev2KCQBAIBIFAEAgES/pEjy71x2GxX40JAkEgEAQCQSAQBAJBIBAEAmHbe5Df3FGwHxMEgkAgCASCQCBsu6SvygPHtZggEAQCQSAQBAJBIBAEAkEgEAQCQSAQLnGT7uk6s5ggEAQCQSAQBALhEkv67vyxzzwmCASBQBAIBIFAEAgEgUAQCASBQLiNMcbZh/jOy9w17Xq5aIJAEAgEb7G4y66fRBUI01whquWWdFiJHQSCQCAIBIJAIAgEgkAgCASCQCAIBIJAIAgEgkAgCASCQCAIBIJAIAgEgkAgCASCQCAIBIJAIAgEgkAgCATCF7CwJGbAzLc2AAAAAElFTkSuQmCC\">\n",
              "\n",
              "</div>\n",
              "<div class=\"col-md-12 text-right\">\n",
              "    <a role=\"button\" data-toggle=\"collapse\" data-target=\"#descriptives-8014225069972112104,#minihistogram-8014225069972112104\"\n",
              "       aria-expanded=\"false\" aria-controls=\"collapseExample\">\n",
              "        Toggle details\n",
              "    </a>\n",
              "</div>\n",
              "<div class=\"row collapse col-md-12\" id=\"descriptives-8014225069972112104\">\n",
              "    <ul class=\"nav nav-tabs\" role=\"tablist\">\n",
              "        <li role=\"presentation\" class=\"active\"><a href=\"#quantiles-8014225069972112104\"\n",
              "                                                  aria-controls=\"quantiles-8014225069972112104\" role=\"tab\"\n",
              "                                                  data-toggle=\"tab\">Statistics</a></li>\n",
              "        <li role=\"presentation\"><a href=\"#histogram-8014225069972112104\" aria-controls=\"histogram-8014225069972112104\"\n",
              "                                   role=\"tab\" data-toggle=\"tab\">Histogram</a></li>\n",
              "        <li role=\"presentation\"><a href=\"#common-8014225069972112104\" aria-controls=\"common-8014225069972112104\"\n",
              "                                   role=\"tab\" data-toggle=\"tab\">Common Values</a></li>\n",
              "        <li role=\"presentation\"><a href=\"#extreme-8014225069972112104\" aria-controls=\"extreme-8014225069972112104\"\n",
              "                                   role=\"tab\" data-toggle=\"tab\">Extreme Values</a></li>\n",
              "\n",
              "    </ul>\n",
              "\n",
              "    <div class=\"tab-content\">\n",
              "        <div role=\"tabpanel\" class=\"tab-pane active row\" id=\"quantiles-8014225069972112104\">\n",
              "            <div class=\"col-md-4 col-md-offset-1\">\n",
              "                <p class=\"h4\">Quantile statistics</p>\n",
              "                <table class=\"stats indent\">\n",
              "                    <tr>\n",
              "                        <th>Minimum</th>\n",
              "                        <td>15.96</td>\n",
              "                    </tr>\n",
              "                    <tr>\n",
              "                        <th>5-th percentile</th>\n",
              "                        <td>21.256</td>\n",
              "                    </tr>\n",
              "                    <tr>\n",
              "                        <th>Q1</th>\n",
              "                        <td>26.296</td>\n",
              "                    </tr>\n",
              "                    <tr>\n",
              "                        <th>Median</th>\n",
              "                        <td>30.4</td>\n",
              "                    </tr>\n",
              "                    <tr>\n",
              "                        <th>Q3</th>\n",
              "                        <td>34.694</td>\n",
              "                    </tr>\n",
              "                    <tr>\n",
              "                        <th>95-th percentile</th>\n",
              "                        <td>41.106</td>\n",
              "                    </tr>\n",
              "                    <tr>\n",
              "                        <th>Maximum</th>\n",
              "                        <td>53.13</td>\n",
              "                    </tr>\n",
              "                    <tr>\n",
              "                        <th>Range</th>\n",
              "                        <td>37.17</td>\n",
              "                    </tr>\n",
              "                    <tr>\n",
              "                        <th>Interquartile range</th>\n",
              "                        <td>8.3975</td>\n",
              "                    </tr>\n",
              "                </table>\n",
              "            </div>\n",
              "            <div class=\"col-md-4 col-md-offset-2\">\n",
              "                <p class=\"h4\">Descriptive statistics</p>\n",
              "                <table class=\"stats indent\">\n",
              "                    <tr>\n",
              "                        <th>Standard deviation</th>\n",
              "                        <td>6.0982</td>\n",
              "                    </tr>\n",
              "                    <tr>\n",
              "                        <th>Coef of variation</th>\n",
              "                        <td>0.19888</td>\n",
              "                    </tr>\n",
              "                    <tr>\n",
              "                        <th>Kurtosis</th>\n",
              "                        <td>-0.050732</td>\n",
              "                    </tr>\n",
              "                    <tr>\n",
              "                        <th>Mean</th>\n",
              "                        <td>30.663</td>\n",
              "                    </tr>\n",
              "                    <tr>\n",
              "                        <th>MAD</th>\n",
              "                        <td>4.8979</td>\n",
              "                    </tr>\n",
              "                    <tr class=\"\">\n",
              "                        <th>Skewness</th>\n",
              "                        <td>0.28405</td>\n",
              "                    </tr>\n",
              "                    <tr>\n",
              "                        <th>Sum</th>\n",
              "                        <td>41028</td>\n",
              "                    </tr>\n",
              "                    <tr>\n",
              "                        <th>Variance</th>\n",
              "                        <td>37.188</td>\n",
              "                    </tr>\n",
              "                    <tr>\n",
              "                        <th>Memory size</th>\n",
              "                        <td>10.5 KiB</td>\n",
              "                    </tr>\n",
              "                </table>\n",
              "            </div>\n",
              "        </div>\n",
              "        <div role=\"tabpanel\" class=\"tab-pane col-md-8 col-md-offset-2\" id=\"histogram-8014225069972112104\">\n",
              "            <img src=\"data:image/png;base64,iVBORw0KGgoAAAANSUhEUgAAAlgAAAGQCAYAAAByNR6YAAAABHNCSVQICAgIfAhkiAAAAAlwSFlzAAAPYQAAD2EBqD%2BnaQAAADl0RVh0U29mdHdhcmUAbWF0cGxvdGxpYiB2ZXJzaW9uIDMuMC4zLCBodHRwOi8vbWF0cGxvdGxpYi5vcmcvnQurowAAIABJREFUeJzt3Xt4VPWdx/FPkiFRLgkJGOwGJFQIGsL9EohoIAgWKBQRCLAIWGoRI5EIAsVatFKDCxRd41JixbbSlSyUKqCAWi6iRrfeyiQglSAr5olNhEwjkVuSs3/4EDuEkIH84MzMeb%2BeJ0/k9zvnzPfrb2b4cM7JJMSyLEsAAAAwJtTuAgAAAIINAQsAAMAwAhYAAIBhBCwAAADDCFgAAACGEbAAAAAMI2ABAAAYRsACAAAwjIAFAABgGAELAADAMAIWAACAYQQsAAAAwwhYAAAAhhGwAAAADCNgAQAAGEbAAgAAMIyABQAAYBgBCwAAwDACFgAAgGEELAAAAMMIWAAAAIYRsAAAAAwjYAEAABhGwAIAADCMgAUAAGAYAQsAAMAwAhYAAIBhBCwAAADDCFgAAACGEbAAAAAMI2ABAAAYRsACAAAwjIAFAABgGAELAADAMAIWAACAYQQsAAAAwwhYAAAAhhGwAAAADCNgAQAAGOayuwCnKCv72qftQkNDFBPTTMeOVaqmxrrMVdnHKX1K9BqMnNKnRK/ByCl9St/22qpVc3se25ZHRb1CQ0MUEhKi0NAQu0u5rJzSp0SvwcgpfUr0Goyc0qckW3skYAEAABhGwAIAADCMgAUAAGAYAQsAAMAwAhYAAIBhBCwAAADDCFgAAACGEbAAAAAMI2ABAAAYRsACAAAwjIAFAABgGAELAADAMAIWAACAYS67CwBgxvAn37a7BJ9tnXOT3SUAwGXFGSwAAADDCFgAAACGEbAAAAAMI2ABAAAYRsACAAAwjIAFAABgGAELAADAMAIWAACAYQQsAAAAwwhYAAAAhhGwAAAADCNgAQAAGEbAAgAAMCxoA9Ynn3yiadOmqXfv3kpJSdGcOXNUVlYmScrPz9e4cePUq1cvjRw5Ups2bfLa9w9/%2BINuu%2B029erVS5MmTVJBQYEdLQAAgAAVlAHr9OnT%2BvGPf6x%2B/fopPz9fW7Zs0dGjR/XII4%2BotLRU9957ryZOnKj8/Hw99NBDevjhh%2BV2uyVJO3bs0NNPP63/%2BI//0DvvvKPBgwfrnnvu0TfffGNzVwAAIFAEZcA6ceKEsrKyNHPmTIWHhysmJkZDhw7Vp59%2Bqs2bNys%2BPl7jxo1TRESEUlJSlJaWpvXr10uS8vLyNHbsWHXv3l1XXXWVfvKTn0iSdu7caWdLAAAggLjsLuByiIqK0vjx42v/fOjQIf35z3/W8OHDVVhYqMTERK/tExMTtXXrVklSYWGhRowYUTsXGhqqG2%2B8UW63WyNHjvTp8UtLS2svR57lcjVVbGxsg/uGhYV6fQ9WTulTclavvnK5Avv/hZPWlF6Dj1P6lOztMSgD1lnFxcW67bbbVFVVpQkTJigzM1N333232rRp47Vdy5YtVV5eLknyeDyKiorymo%2BKiqqd90VeXp5ycnK8xjIyMpSZmenzMSIjr/Z520DmlD4lZ/XakOjoZnaXYIST1pReg49T%2BrRLUAesuLg4ud1u/d///Z9%2B8YtfaP78%2BT7tZ1lWox43PT1daWlpXmMuV1OVl1c2uG9YWKgiI69WRcUJVVfXNKoOf%2BaUPiVn9eorX14L/sxJa0qvwccpfUrf9WqHoA5YkhQSEqL4%2BHhlZWVp4sSJSk1Nlcfj8dqmvLxcMTExkqTo6Og68x6PR506dfL5MWNjY%2BtcDiwr%2B1pVVb4/kauray5q%2B0DllD4lZ/XakGD5/%2BCkNaXX4OOUPu0SlBdg8/Pzddttt6mm5rsnTmjot61269atzscuFBQUqHv37pKkpKQkFRYW1s5VV1dr3759tfMAAAANCcqAlZSUpOPHj2vZsmU6ceKEjh07pqefflp9%2BvTRpEmTVFxcrPXr1%2BvUqVPavXu3du/erQkTJkiSJk2apJdeekkff/yxTpw4oVWrVik8PFyDBg2ytykAABAwgjJgtWjRQmvWrFFBQYH69%2B%2BvkSNHqkWLFvr1r3%2BtVq1aafXq1Vq7dq169%2B6txx9/XMuWLdMNN9wgSbrlllv0wAMPaM6cOerXr5/eeecd5ebm6qqrrrK5KwAAECiC9h6szp0764UXXjjvXN%2B%2BffXyyy/Xu%2B/kyZM1efLky1UaAAAIckF5BgsAAMBOBCwAAADDCFgAAACGEbAAAAAMI2ABAAAYFrQ/RQjAfw1/8m27S7goW%2BfcZHcJAAIMZ7AAAAAMI2ABAAAYRsACAAAwjIAFAABgGAELAADAMAIWAACAYQQsAAAAwwhYAAAAhhGwAAAADCNgAQAAGEbAAgAAMIyABQAAYBgBCwAAwDACFgAAgGEELAAAAMMIWAAAAIYRsAAAAAwjYAEAABhGwAIAADCMgAUAAGAYAQsAAMAwAhYAAIBhBCwAAADDCFgAAACGEbAAAAAMI2ABAAAYRsACAAAwjIAFAABgGAELAADAMAIWAACAYQQsAAAAw4I2YBUXFysjI0PJyclKSUnRwoULVVFRoS%2B%2B%2BEKdO3dW165dvb6ee%2B652n1fffVVjRo1Sj179tTYsWP11ltv2dgJAAAINC67C7hc7rnnHiUlJWnHjh36%2BuuvlZGRoSeeeEKzZs2SJLnd7vPut3//fi1YsEA5OTnq37%2B/tm/frvvuu0/btm3TtddeeyVbAAAAASooz2BVVFQoKSlJc%2BfOVbNmzXTttdfq9ttv1/vvv9/gvuvXr1dqaqpSU1MVERGh0aNHKyEhQZs2bboClQMAgGAQlGewIiMjlZ2d7TVWUlKi2NjY2j/Pnz9f77zzjqqqqjR%2B/HhlZmaqSZMmKiwsVGpqqte%2BiYmJ9Z7xOp/S0lKVlZV5jblcTb0evz5hYaFe34OVU/qUnNVrsHK5vNfOSWtKr8HHKX1K9vYYlAHrXG63W2vXrtWqVasUHh6unj17aujQofrVr36l/fv3a/bs2XK5XLr//vvl8XgUFRXltX9UVJQOHjzo8%2BPl5eUpJyfHaywjI0OZmZk%2BHyMy8mqftw1kTulTclavwSY6utl5x520pvQafJzSp12CPmB98MEHmjVrlubOnauUlBRJ0rp162rnu3XrppkzZ2r16tW6//77JUmWZTXqMdPT05WWluY15nI1VXl5ZYP7hoWFKjLyalVUnFB1dU2j6vBnTulTclavwerc166T1pReg49T%2BpS%2B69UOQR2wduzYoQcffFAPP/ywxowZU%2B92cXFx%2Buqrr2RZlqKjo%2BXxeLzmPR6PYmJifH7c2NjYOpcDy8q%2BVlWV70/k6uqai9o%2BUDmlT8lZvQab%2BtbNSWtKr8HHKX3aJWgvwH744YdasGCBnnrqKa9wlZ%2Bfr1WrVnlte%2BjQIcXFxSkkJERJSUkqKCjwmne73erevfsVqRsAAAS%2BoAxYVVVV%2BvnPf6558%2BZp4MCBXnMtWrTQM888o5dffllnzpyR2%2B3Wc889p0mTJkmSJkyYoHfeeUe7du3SqVOntGHDBh0%2BfFijR4%2B2oxUAABCAgvIS4ccff6yioiItWbJES5Ys8Zrbtm2bVq5cqZycHP3iF79QixYtdOedd2ratGmSpISEBC1fvlzZ2dkqLi5Wx44dtXr1al1zzTV2tAIAAAJQUAasPn366MCBA/XOx8XFaejQofXODxs2TMOGDbscpQEAAAcIykuEAAAAdiJgAQAAGEbAAgAAMIyABQAAYBgBCwAAwDACFgAAgGEELAAAAMMIWAAAAIYF5QeNAiYMf/Jtu0sAAAQozmABAAAYRsACAAAwjIAFAABgGAELAADAMAIWAACAYQQsAAAAwwhYAAAAhhGwAAAADCNgAQAAGEbAAgAAMIyABQAAYBgBCwAAwDACFgAAgGEELAAAAMMIWAAAAIYRsAAAAAwjYAEAABhGwAIAADCMgAUAAGAYAQsAAMAwAhYAAIBhBCwAAADDCFgAAACGEbAAAAAMI2ABAAAYRsACAAAwjIAFAABgWNAGrOLiYmVkZCg5OVkpKSlauHChKioqJEn79%2B/XlClT1Lt3bw0bNkxr1qzx2vfVV1/VqFGj1LNnT40dO1ZvvfWWHS0AAIAAFbQB65577lFkZKR27NihjRs36tNPP9UTTzyhkydPaubMmerfv7/27NmjlStXavXq1XrttdckfRu%2BFixYoHnz5undd9/V9OnTdd999%2BnLL7%2B0uSMAABAogjJgVVRUKCkpSXPnzlWzZs107bXX6vbbb9f777%2BvXbt26cyZM5o1a5aaNm2qLl26aPz48crLy5MkrV%2B/XqmpqUpNTVVERIRGjx6thIQEbdq0yeauAABAoPC7gJWWlqacnByVlJRc8jEiIyOVnZ2t1q1b146VlJQoNjZWhYWF6ty5s8LCwmrnEhMTVVBQIEkqLCxUYmKi1/ESExPldrsvuR4AAOAsLrsLONcdd9yhV155RatWrdKAAQM0YcIEpaWlyeW69FLdbrfWrl2rVatWaevWrYqMjPSab9mypTwej2pqauTxeBQVFeU1HxUVpYMHD/r8eKWlpSorK/Mac7maKjY2tsF9w8JCvb4HK6f0ieDgcnk/T530/KXX4OOUPiV7e/S7gJWRkaGMjAwVFhZqy5Ytevzxx/Xoo49qzJgxGjdunDp06HBRx/vggw80a9YszZ07VykpKdq6det5twsJCan9b8uyGtVDXl6ecnJyvMYyMjKUmZnp8zEiI69uVA2Bwil9IrBFRzc777iTnr/0Gnyc0qdd/C5gndWlSxd16dJF8%2BfP16uvvqpHHnlEa9asUUpKiu6//35169atwWPs2LFDDz74oB5%2B%2BGGNGTNGkhQTE6PDhw97befxeNSyZUuFhoYqOjpaHo%2BnznxMTIzPtaenpystLc1rzOVqqvLyygb3DQsLVWTk1aqoOKHq6hqfHzPQOKVPBIdzX7tOev7Sa/BxSp/Sd73awW8D1pkzZ/T6669r48aNevfddxUfH6/Zs2ertLRU06dP16OPPqpRo0bVu/%2BHH36oBQsW6KmnntLAgQNrx5OSkvTiiy%2Bqqqqq9rKj2%2B1W9%2B7da%2BfP3o91ltvt1siRI32uPTY2ts7lwLKyr1VV5fsTubq65qK2D1RO6ROBrb7nqJOev/QafJzSp138LmAVFRVpw4YNeumll1RZWanbbrtNv//979W7d%2B/abfr27atHHnmk3oBVVVWln//855o3b55XuJKk1NRUNW/eXKtWrdJPfvIT/f3vf9eGDRu0bNkySdKECRM0btw47dq1SwMGDNDmzZt1%2BPBhjR49%2BvI1DQAAgorfBayRI0eqQ4cOmjlzpsaMGaOWLVvW2SY1NVXHjh2r9xgff/yxioqKtGTJEi1ZssRrbtu2bfrNb36jxYsXKzc3V61bt1ZWVpYGDRokSUpISNDy5cuVnZ2t4uJidezYUatXr9Y111xjtE8AABC8QqzG3tFt2P/%2B7/%2BqX79%2BdpdhXFnZ1z5t53KFKjq6mcrLK4P61G0g9Dn8ybftLgG4JFvn3GTsWIHwWjXFKb06pU/pu17t4Hc/o9m5c2fdc889euONN2rHfve73%2Bnuu%2B%2Buc/M5AACAP/K7gJWdna2vv/5aHTt2rB0bNGiQampqtHTpUhsrAwAA8I3f3YP11ltvafPmzYqOjq4di4%2BP1/Lly/XDH/7QxsoAAAB843dnsE6ePKmIiIg646GhoTpx4oQNFQEAAFwcvwtYffv21dKlS/XPf/6zduwf//iHHn30Ua%2BPagAAAPBXfneJcNGiRfrxj3%2BsAQMGqHnz5qqpqVFlZaXatWunF154we7yAAAAGuR3Aatdu3Z65ZVX9Oabb%2Brzzz9XaGioOnTooIEDByosLMzu8gAAABrkdwFLksLDw3XrrbfaXQYAAMAl8buAdeTIEa1YsUKffvqpTp48WWf%2BL3/5iw1VAQAA%2BM7vAtaiRYtUWlqqgQMHqmnTpnaXAwAAcNH8LmAVFBToL3/5i2JiYuwuBQAA4JL43cc0tGrVijNXAAAgoPldwJo5c6ZycnLkZ7%2BDGgAAwGd%2Bd4nwzTff1IcffqiNGzeqbdu2Cg31zoDr1q2zqTIAAADf%2BF3Aat68uW655Ra7ywAAALhkfhewsrOz7S4BAACgUfzuHixJOnTokJ5%2B%2Bmn97Gc/qx376KOPbKwIAADAd34XsPLz8zV69Gi99tpr2rJli6RvP3x06tSpfMgoAAAICH4XsFauXKkHH3xQmzdvVkhIiKRvfz/h0qVL9cwzz9hcHQAAQMP8LmD9/e9/16RJkySpNmBJ0g9%2B8AMVFRXZVRYAAIDP/C5gtWjR4ry/g7C0tFTh4eE2VAQAAHBx/C5g9erVS48//riOHz9eO/bZZ59pwYIFGjBggI2VAQAA%2BMbvPqbhZz/7maZNm6bk5GRVV1erV69eOnHihDp16qSlS5faXR4AAECD/C5gXXvttdqyZYt2796tzz77TFdddZU6dOigm266yeueLAAAAH/ldwFLkpo0aaJbb73V7jIAAAAuid8FrLS0tAueqeKzsAAAgL/zu4A1YsQIr4BVXV2tzz77TG63W9OmTbOxMgAAAN/4XcCaN2/eece3b9%2Bu99577wpXAwAAcPH87mMa6nPrrbfqlVdesbsMAACABgVMwNq3b58sy7K7DAAAgAb53SXCiRMn1hk7ceKEioqKNGzYMBsqAgAAuDh%2BF7Di4%2BPr/BRhRESExo0bp/Hjx9tUFQAAgO/8LmDxae0AACDQ%2BV3Aeumll3zedsyYMZexEgAAgEvjdwHroYceUk1NTZ0b2kNCQrzGQkJCCFgAAMAv%2BV3A%2Bu1vf6s1a9bonnvuUefOnWVZlg4cOKBnn31WU6ZMUXJyst0lAgAAXJDfBaylS5cqNzdXbdq0qR3r06eP2rVrpxkzZmjLli02VgcAANAwv/scrMOHDysqKqrOeGRkpIqLi30%2Bzp49e5SSkqKsrCyv8Y0bN%2BqGG25Q165dvb727t0rSaqpqdHKlSs1ZMgQ9e3bVzNmzNCRI0ca1xQAAHAUvwtYcXFxWrp0qcrLy2vHKioqtGLFCl133XU%2BHePZZ5/VkiVL1L59%2B/PO9%2B3bV2632%2BurW7dukqQ//vGP2rx5s3Jzc7Vz507Fx8crIyODDzkFAAA%2B87uAtWjRIm3dulUpKSnq06eP%2BvXrp/79%2B2vjxo1auHChT8eIiIjQhg0b6g1YF5KXl6fp06fr%2BuuvV/PmzZWVlaWioiL97W9/u%2BhjAQAAZ/K7e7AGDhyoXbt2affu3fryyy9lWZbatGmjm2%2B%2BWS1atPDpGFOnTr3gfElJie666y4VFBQoMjJSmZmZ%2BtGPfqSTJ0/q4MGDSkxMrN22efPmat%2B%2Bvdxut3r06NGo3gAAgDP4XcCSpKuvvlpDhgzRl19%2BqXbt2hk9dkxMjOLj4/XAAw%2BoY8eOev311zV//nzFxsbq%2B9//vizLqnMPWFRUlNcly4aUlpaqrKzMa8zlaqrY2NgG9w0LC/X6Hqyc0idgB5fL3OvKSa9Vp/TqlD4le3v0u4B18uRJLV68WK%2B88ookqaCgQBUVFXrggQf061//WpGRkY06/qBBgzRo0KDaP48cOVKvv/66Nm7cqHnz5klSo%2B%2B3ysvLU05OjtdYRkaGMjMzfT5GZOTVjaohUDilT%2BBKio5uZvyYTnqtOqVXp/RpF78LWMuWLdP%2B/fu1fPlyzZ8/v3a8urpay5cv1y9/%2BUvjjxkXF6eCggK1bNlSoaGh8ng8XvMej0etWrXy%2BXjp6elKS0vzGnO5mqq8vLLBfcPCQhUZebUqKk6ourrG58cMNE7pE7CDL%2B81vnLSa9UpvTqlT%2Bm7Xu3gdwFr%2B/btWrt2reLj47VgwQJJ335EQ3Z2tsaMGdPogPXiiy8qKipKI0aMqB0rKipSu3btFBERoU6dOqmwsFD9%2BvWT9O1PMH7%2B%2Bee1P2Xoi9jY2DqXA8vKvlZVle9P5OrqmovaPlA5pU/gSrocryknvVad0qtT%2BrSL312AraysVHx8fJ3xmJgYffPNN40%2B/unTp/XYY4/J7XbrzJkz2rJli958801NnDhRkjRp0iT94Q9/UFFRkY4fP67ly5frxhtvVNeuXRv92AAAwBn87gzWddddp/fee0/Jycle90Jt27ZN//Zv/%2BbTMc6GoaqqKknSG2%2B8IUlyu92aOnWqKisrdf/996usrExt27bVM888o6SkJEnSxIkTVVZWpjvvvFOVlZVKTk6ucz8VAADAhfhdwJo8ebJmz56tO%2B64QzU1NXr%2B%2BedVUFCg7du366GHHvLpGG63u965kJAQ3Xvvvbr33nvrnc/MzLyoG9IBAAD%2Bld8FrPT0dLlcLq1du1ZhYWH6zW9%2Bow4dOmj58uX6wQ9%2BYHd5AAAADfK7gHXs2DHdcccduuOOO%2BwuBQAA4JL43U3uQ4YM4ff%2BAQCAgOZ3ASs5OVlbt261uwwAAIBL5neXCL/3ve/pV7/6lXJzc3XdddepSZMmXvMrVqywqTIAAADf%2BF3AOnjwoL7//e9L0kX9/j8AAAB/4TcBKysrSytXrtQLL7xQO/bMM88oIyPDxqoAAAAunt/cg7Vjx446Y7m5uTZUAgAA0Dh%2BE7DO95OD/DQhAAAIRH4TsEJCQnwaAwAA8Hd%2BE7AAAACCBQELAADAML/5KcIzZ85o7ty5DY7xOVgAAMDf%2BU3A6t27t0pLSxscAwAA8Hd%2BE7D%2B9fOvAAAAAhn3YAEAABjmN2ewEPyGP/m23SUAAHBFcAYLAADAMAIWAACAYQQsAAAAwwhYAAAAhhGwAAAADCNgAQAAGEbAAgAAMIyABQAAYBgBCwAAwDACFgAAgGEELAAAAMMIWAAAAIYRsAAAAAwjYAEAABhGwAIAADCMgAUAAGAYAQsAAMAwAhYAAIBhBCwAAADDCFgAAACGBW3A2rNnj1JSUpSVlVVn7tVXX9WoUaPUs2dPjR07Vm%2B99VbtXE1NjVauXKkhQ4aob9%2B%2BmjFjho4cOXIlSwcAAAEuKAPWs88%2BqyVLlqh9%2B/Z15vbv368FCxZo3rx5evfddzV9%2BnTdd999%2BvLLLyVJf/zjH7V582bl5uZq586dio%2BPV0ZGhizLutJtAACAABWUASsiIkIbNmw4b8Bav369UlNTlZqaqoiICI0ePVoJCQnatGmTJCkvL0/Tp0/X9ddfr%2BbNmysrK0tFRUX629/%2BdqXbAAAAAcpldwGXw9SpU%2BudKywsVGpqqtdYYmKi3G63Tp48qYMHDyoxMbF2rnnz5mrfvr3cbrd69Ojh0%2BOXlpaqrKzMa8zlaqrY2NgG9w0LC/X6DgAXy%2BUy9/7hpPckp/TqlD4le3sMyoB1IR6PR1FRUV5jUVFROnjwoP75z3/KsqzzzpeXl/v8GHl5ecrJyfEay8jIUGZmps/HiIy82udtAeBfRUc3M35MJ70nOaVXp/RpF8cFLEkN3k/V2Put0tPTlZaW5jXmcjVVeXllg/uGhYUqMvJqVVScUHV1TaPqAOBMvrzX%2BMpJ70lO6dUpfUrf9WoHxwWs6OhoeTwerzGPx6OYmBi1bNlSoaGh551v1aqVz48RGxtb53JgWdnXqqry/YlcXV1zUdsDwFmX473DSe9JTunVKX3aJfgvwJ4jKSlJBQUFXmNut1vdu3dXRESEOnXqpMLCwtq5iooKff755%2BrWrduVLhUAAAQox53BmjBhgsaNG6ddu3ZpwIAB2rx5sw4fPqzRo0dLkiZNmqTc3FzdcsstatOmjZYvX64bb7xRXbt2tblyAPDN8CfftrsEn22dc5PdJQCXRVAGrLNhqKqqSpL0xhtvSPr2TFVCQoKWL1%2Bu7OxsFRcXq2PHjlq9erWuueYaSdLEiRNVVlamO%2B%2B8U5WVlUpOTq5zwzoAAMCFhFh8guYVUVb2tU/buVyhio5upvLyyqC7Nh5I/6oGcGX40xmsYH7//VdO6VP6rlc7OO4eLAAAgMuNgAUAAGAYAQsAAMAwAhYAAIBhBCwAAADDCFgAAACGEbAAAAAMI2ABAAAYRsACAAAwjIAFAABgGAELAADAMAIWAACAYQQsAAAAwwhYAAAAhhGwAAAADCNgAQAAGEbAAgAAMIyABQAAYBgBCwAAwDACFgAAgGEELAAAAMMIWAAAAIYRsAAAAAwjYAEAABhGwAIAADCMgAUAAGAYAQsAAMAwAhYAAIBhBCwAAADDCFgAAACGEbAAAAAMI2ABAAAYRsACAAAwjIAFAABgGAELAADAMAIWAACAYQQsAAAAw1x2F2CHzp07q0mTJgoJCakdmzBhgh5%2B%2BGHl5%2BdrxYoVOnTokL73ve9p5syZGj16tI3VAgCAQOPIgCVJ27ZtU9u2bb3GSktLde%2B99%2Bqhhx7SqFGj9MEHH2jWrFnq0KGDunbtalOlAAAg0HCJ8F9s3rxZ8fHxGjdunCIiIpSSkqK0tDStX7/e7tIAAEAAcewZrBUrVuijjz7S8ePHNXz4cC1cuFCFhYVKTEz02i4xMVFbt269qGOXlpaqrKzMa8zlaqrY2NgG9w0LC/X6DgDBzOXyn/c6p7z/OqVPyd4eHRmwevTooZSUFD3xxBM6cuSI5syZo0cffVQej0dt2rTx2rZly5YqLy%2B/qOPn5eUpJyfHaywjI0OZmZk%2BHyMy8uqLekwACETR0c3sLqEOp7z/OqVPuzgyYOXl5dX%2B9/XXX6958%2BZp1qxZ6t27t5Hjp6enKy0tzWvM5Wqq8vLKBvcNCwtVZOTVqqg4oerqGiP1AIC/8uV98UpxyvuvU/qUvuvVDo4MWOdq27atqqurFRoaKo/H4zVXXl6umJiYizpebGxsncuBZWVfq6rK9ydydXXNRW0PAIHIH9/nnPL%2B65Q%2B7RL8F2DPsW/fPi1dutRrrKioSOHh4UpNTVVBQYHXXEFBgbp3734lSwQAAAHOcQGrVatWysvLU25urk6fPq3PPvtMTz31lNLT0/WjH/1IxcXFWr9%2BvU6dOqXdu3dr9%2B7dmjBhgt1lAwCAAOK4gNWmTRvl5uZqx44dSk5O1sSJE3XzzTfrwQcfVKtWrbR69WqtXbtWvXv31uOPP65ly5bphhtusLu4gKktAAAL%2B0lEQVRsAAAQQBx5D1bfvn21bt26eudefvnlK1wRAAAIJo47gwUAAHC5EbAAAAAMI2ABAAAYRsACAAAwjIAFAABgGAELAADAMAIWAACAYQQsAAAAwwhYAAAAhhGwAAAADHPkr8oBAPiH4U%2B%2BbXcJF2XrnJvsLgEBgjNYAAAAhnEGK8AF2r/%2BAABwAs5gAQAAGEbAAgAAMIyABQAAYBgBCwAAwDACFgAAgGEELAAAAMMIWAAAAIYRsAAAAAwjYAEAABhGwAIAADCMgAUAAGAYAQsAAMAwAhYAAIBhBCwAAADDCFgAAACGuewuAACAQDH8ybftLuGibJ1zk90lOBZnsAAAAAwjYAEAABhGwAIAADCMgAUAAGAYAQsAAMAwAhYAAIBhBCwAAADDCFgAAACGEbDOo7i4WD/96U%2BVnJyswYMHa9myZaqpqbG7LAAAECD4JPfzmD17trp06aI33nhDR48e1cyZM9W6dWvddddddpcGAIDPAumT54PtU%2Bc5g3UOt9utTz75RPPmzVOLFi0UHx%2Bv6dOnKy8vz%2B7SAABAgOAM1jkKCwsVFxenqKio2rEuXbros88%2B0/Hjx9W8efMGj1FaWqqysjKvMZerqWJjYxvcNyws1Os7AABO4HKZ/3vPzr9LCVjn8Hg8ioyM9Bo7G7bKy8t9Clh5eXnKycnxGrvvvvs0e/bsBvctLS3V73//W6Wnp/sUyN7/1Q8a3MYflZaWKi8vz%2Bc%2BAxm9Bh%2Bn9CnRazBySp/Sxf%2BdahKnSc7DsqxG7Z%2Benq6NGzd6faWnp/u0b1lZmXJycuqcAQs2TulTotdg5JQ%2BJXoNRk7pU7K3V85gnSMmJkYej8drzOPxKCQkRDExMT4dIzY2Nuj/VQAAAOrHGaxzJCUlqaSkRMeOHasdc7vd6tixo5o1a2ZjZQAAIFAQsM6RmJiorl27asWKFTp%2B/LiKior0/PPPa9KkSXaXBgAAAkTYI4888ojdRfibm2%2B%2BWVu2bNFjjz2mV155RePGjdOMGTMUEhJyRR6/WbNm6tevX9CfMXNKnxK9BiOn9CnRazBySp%2BSfb2GWI29oxsAAABeuEQIAABgGAELAADAMAIWAACAYQQsAAAAwwhYAAAAhhGwAAAADCNgAQAAGEbAAgAAMIyABQAAYBgBy0Z79uxRSkqKsrKyvMY3btyoG264QV27dvX62rt3r02VNk5xcbEyMjKUnJyslJQULVy4UBUVFZKk/fv3a8qUKerdu7eGDRumNWvW2Fxt49TX6xdffKHOnTvXWdPnnnvO7pIvySeffKJp06apd%2B/eSklJ0Zw5c1RWViZJys/P17hx49SrVy%2BNHDlSmzZtsrnaxqmv1/fee%2B%2B8a7p161a7Szbi8ccfV%2BfOnWv/HGzreta/9hmMa9q5c2clJSV59fPYY49JCr41ra9X29bVgi1yc3OtYcOGWRMnTrTmzJnjNfenP/3JmjJlik2VmffDH/7QWrhwoXX8%2BHGrpKTEGjt2rLVo0SLrxIkT1s0332w9/fTTVmVlpVVQUGD169fP2r59u90lX7L6ej1y5IiVkJBgd3lGnDp1yhowYICVk5NjnTp1yjp69Kg1ZcoU695777X%2B8Y9/WD169LDWr19vnTx50nr77betbt26WXv37rW77EtyoV7fffdda/DgwXaXeFns27fP6tevX%2B1zNtjW9axz%2BwzGNU1ISLCOHDlSZzwY17S%2BXu1aV85g2SQiIkIbNmxQ%2B/bt7S7lsqqoqFBSUpLmzp2rZs2a6dprr9Xtt9%2Bu999/X7t27dKZM2c0a9YsNW3aVF26dNH48eOVl5dnd9mX5EK9BpMTJ04oKytLM2fOVHh4uGJiYjR06FB9%2Bumn2rx5s%2BLj4zVu3DhFREQoJSVFaWlpWr9%2Bvd1lX5IL9RqsampqtHjxYk2fPr12LNjWVTp/n04SjGvqbwhYNpk6dapatGhR73xJSYnuuusu9e3bV0OGDNHLL798BaszJzIyUtnZ2WrdunXtWElJiWJjY1VYWKjOnTsrLCysdi4xMVEFBQV2lNpoF%2Br1rPnz52vgwIHq37%2B/VqxYoTNnzthRaqNERUVp/PjxcrlckqRDhw7pz3/%2Bs4YPH67CwkIlJiZ6bR/Ia3qhXiWpsrKy9pLwzTffrOeff16WZdlZcqOtW7dOERERGjVqVO1YsK2rdP4%2BpeBc0xUrVmjQoEHq06ePHn74YVVWVgblmkrn71WyZ10JWH4oJiZG8fHxevDBB/X222/rgQce0KJFi5Sfn293aY3mdru1du1azZo1Sx6PR5GRkV7zLVu2lMfjUU1NjU0VmvOvvYaHh6tnz54aOnSodu7cqdzcXG3atEn/9V//ZXeZl6y4uFhJSUkaMWKEunbtqszMzHrXtLy83KYqzThfr82bN1dCQoKmTZumPXv2KDs7Wzk5OfrTn/5kd7mX7KuvvtLTTz%2BtxYsXe40H27rW12cwrmmPHj2UkpKi1157TXl5efr444/16KOPBt2aSvX3ate6ErD80KBBg/Tb3/5WiYmJCg8P18iRIzV06FBt3LjR7tIa5YMPPtCMGTM0d%2B5cpaSk1LtdSEjIFazq8ji319jYWK1bt05Dhw5VkyZN1K1bN82cOTOg1zQuLk5ut1vbtm3T4cOHNX/%2BfLtLumzO12uXLl30wgsvqF%2B/fgoPD9fAgQM1ceLEgF7T7OxsjR07Vh07drS7lMuqvj6DcU3z8vI0fvx4hYeH6/rrr9e8efO0ZcuWgDx73pD6eu3UqZMt60rAChBxcXEqLS21u4xLtmPHDv30pz/VokWLNHXqVEnfnqk7919LHo9HLVu2VGho4D41z9fr%2BcTFxemrr74K6MsPISEhio%2BPV1ZWlrZs2SKXyyWPx%2BO1TXl5uWJiYmyq0Jxzez127FidbQL5dZqfn6%2BPPvpIGRkZdeaio6ODZl0v1Of5BPKank/btm1VXV2t0NDQoFnT%2Bpzt9ejRo3XmrsS6Bu7fYkHsxRdf1Kuvvuo1VlRUpHbt2tlUUeN8%2BOGHWrBggZ566imNGTOmdjwpKUkHDhxQVVVV7Zjb7Vb37t3tKNOI%2BnrNz8/XqlWrvLY9dOiQ4uLiAu6MXX5%2Bvm677Tavy7hnA3G3bt3q3MNRUFAQsGt6oV53796t//7v//ba/tChQwH7Ot20aZOOHj2qwYMHKzk5WWPHjpUkJScnKyEhIWjW9UJ9vvTSS0G1pvv27dPSpUu9xoqKihQeHq7U1NSgWVPpwr1%2B9NFH9qzrFf%2B5RXhZsGBBnY9p%2BN3vfmf179/f2rt3r3X69Glr8%2BbN1o033mi53W6bqrx0Z86csYYPH26tW7euztypU6eswYMHW//5n/9pffPNN9bHH39s9enTx9q5c%2BeVL9SAC/XqdrutLl26WC%2B99JJ1%2BvRpa%2B/evdZNN91krVmzxoZKG6eiosJKSUmxli5dan3zzTfW0aNHrRkzZliTJ0%2B2vvrqK6tnz57W//zP/1gnT560du3aZXXr1s3av3%2B/3WVfkgv1%2Bvrrr1vdunWz9uzZY50%2Bfdp66623rB49egTsx4x4PB6rpKSk9uujjz6yEhISrJKSEqu4uDho1vVCfQbbmn755ZdWjx49rNWrV1unTp2yDh06ZI0YMcJ67LHHgu61eqFe7VrXEMsK4OsTAaxr166SVHv25uxPKbndblmWpVWrVmnDhg0qKytT27ZtNX/%2BfA0ePNi2ei/V%2B%2B%2B/r3//939XeHh4nblt27apsrJSixcvVkFBgVq3bq27775bkydPtqHSxmuo13379iknJ0eHDx9WixYtdOedd%2Bruu%2B8OyMuhBw4c0JIlS7R37141bdpU/fv318KFC9WmTRv99a9/1ZIlS1RUVKS4uDjNnTtXw4YNs7vkS3ahXvPy8rRmzRqVlJSodevWmjVrlsaPH293yUZ88cUXGjJkiA4cOCBJQbeuZ53bZ7Ct6V//%2BletWLFCBw4cUHh4uG6//XZlZWUpIiIi6Nb0Qr3asa4ELAAAAMMC75/OAAAAfo6ABQAAYBgBCwAAwDACFgAAgGEELAAAAMMIWAAAAIYRsAAAAAwjYAEAABhGwAIAADCMgAUAAGAYAQsAAMAwAhYAAIBhBCwAAADD/h%2Bk2KsokG3uFwAAAABJRU5ErkJggg%3D%3D\"/>\n",
              "        </div>\n",
              "        <div role=\"tabpanel\" class=\"tab-pane col-md-12\" id=\"common-8014225069972112104\">\n",
              "            \n",
              "<table class=\"freq table table-hover\">\n",
              "    <thead>\n",
              "    <tr>\n",
              "        <td class=\"fillremaining\">Value</td>\n",
              "        <td class=\"number\">Count</td>\n",
              "        <td class=\"number\">Frequency (%)</td>\n",
              "        <td style=\"min-width:200px\">&nbsp;</td>\n",
              "    </tr>\n",
              "    </thead>\n",
              "    <tr class=\"\">\n",
              "        <td class=\"fillremaining\">32.3</td>\n",
              "        <td class=\"number\">13</td>\n",
              "        <td class=\"number\">1.0%</td>\n",
              "        <td>\n",
              "            <div class=\"bar\" style=\"width:2%\">&nbsp;</div>\n",
              "        </td>\n",
              "</tr><tr class=\"\">\n",
              "        <td class=\"fillremaining\">28.31</td>\n",
              "        <td class=\"number\">9</td>\n",
              "        <td class=\"number\">0.7%</td>\n",
              "        <td>\n",
              "            <div class=\"bar\" style=\"width:1%\">&nbsp;</div>\n",
              "        </td>\n",
              "</tr><tr class=\"\">\n",
              "        <td class=\"fillremaining\">31.35</td>\n",
              "        <td class=\"number\">8</td>\n",
              "        <td class=\"number\">0.6%</td>\n",
              "        <td>\n",
              "            <div class=\"bar\" style=\"width:1%\">&nbsp;</div>\n",
              "        </td>\n",
              "</tr><tr class=\"\">\n",
              "        <td class=\"fillremaining\">30.8</td>\n",
              "        <td class=\"number\">8</td>\n",
              "        <td class=\"number\">0.6%</td>\n",
              "        <td>\n",
              "            <div class=\"bar\" style=\"width:1%\">&nbsp;</div>\n",
              "        </td>\n",
              "</tr><tr class=\"\">\n",
              "        <td class=\"fillremaining\">30.875</td>\n",
              "        <td class=\"number\">8</td>\n",
              "        <td class=\"number\">0.6%</td>\n",
              "        <td>\n",
              "            <div class=\"bar\" style=\"width:1%\">&nbsp;</div>\n",
              "        </td>\n",
              "</tr><tr class=\"\">\n",
              "        <td class=\"fillremaining\">30.495</td>\n",
              "        <td class=\"number\">8</td>\n",
              "        <td class=\"number\">0.6%</td>\n",
              "        <td>\n",
              "            <div class=\"bar\" style=\"width:1%\">&nbsp;</div>\n",
              "        </td>\n",
              "</tr><tr class=\"\">\n",
              "        <td class=\"fillremaining\">28.88</td>\n",
              "        <td class=\"number\">8</td>\n",
              "        <td class=\"number\">0.6%</td>\n",
              "        <td>\n",
              "            <div class=\"bar\" style=\"width:1%\">&nbsp;</div>\n",
              "        </td>\n",
              "</tr><tr class=\"\">\n",
              "        <td class=\"fillremaining\">34.1</td>\n",
              "        <td class=\"number\">8</td>\n",
              "        <td class=\"number\">0.6%</td>\n",
              "        <td>\n",
              "            <div class=\"bar\" style=\"width:1%\">&nbsp;</div>\n",
              "        </td>\n",
              "</tr><tr class=\"\">\n",
              "        <td class=\"fillremaining\">27.36</td>\n",
              "        <td class=\"number\">7</td>\n",
              "        <td class=\"number\">0.5%</td>\n",
              "        <td>\n",
              "            <div class=\"bar\" style=\"width:1%\">&nbsp;</div>\n",
              "        </td>\n",
              "</tr><tr class=\"\">\n",
              "        <td class=\"fillremaining\">27.645</td>\n",
              "        <td class=\"number\">7</td>\n",
              "        <td class=\"number\">0.5%</td>\n",
              "        <td>\n",
              "            <div class=\"bar\" style=\"width:1%\">&nbsp;</div>\n",
              "        </td>\n",
              "</tr><tr class=\"other\">\n",
              "        <td class=\"fillremaining\">Other values (538)</td>\n",
              "        <td class=\"number\">1254</td>\n",
              "        <td class=\"number\">93.7%</td>\n",
              "        <td>\n",
              "            <div class=\"bar\" style=\"width:100%\">&nbsp;</div>\n",
              "        </td>\n",
              "</tr>\n",
              "</table>\n",
              "        </div>\n",
              "        <div role=\"tabpanel\" class=\"tab-pane col-md-12\"  id=\"extreme-8014225069972112104\">\n",
              "            <p class=\"h4\">Minimum 5 values</p>\n",
              "            \n",
              "<table class=\"freq table table-hover\">\n",
              "    <thead>\n",
              "    <tr>\n",
              "        <td class=\"fillremaining\">Value</td>\n",
              "        <td class=\"number\">Count</td>\n",
              "        <td class=\"number\">Frequency (%)</td>\n",
              "        <td style=\"min-width:200px\">&nbsp;</td>\n",
              "    </tr>\n",
              "    </thead>\n",
              "    <tr class=\"\">\n",
              "        <td class=\"fillremaining\">15.96</td>\n",
              "        <td class=\"number\">1</td>\n",
              "        <td class=\"number\">0.1%</td>\n",
              "        <td>\n",
              "            <div class=\"bar\" style=\"width:34%\">&nbsp;</div>\n",
              "        </td>\n",
              "</tr><tr class=\"\">\n",
              "        <td class=\"fillremaining\">16.815</td>\n",
              "        <td class=\"number\">2</td>\n",
              "        <td class=\"number\">0.1%</td>\n",
              "        <td>\n",
              "            <div class=\"bar\" style=\"width:67%\">&nbsp;</div>\n",
              "        </td>\n",
              "</tr><tr class=\"\">\n",
              "        <td class=\"fillremaining\">17.195</td>\n",
              "        <td class=\"number\">1</td>\n",
              "        <td class=\"number\">0.1%</td>\n",
              "        <td>\n",
              "            <div class=\"bar\" style=\"width:34%\">&nbsp;</div>\n",
              "        </td>\n",
              "</tr><tr class=\"\">\n",
              "        <td class=\"fillremaining\">17.29</td>\n",
              "        <td class=\"number\">3</td>\n",
              "        <td class=\"number\">0.2%</td>\n",
              "        <td>\n",
              "            <div class=\"bar\" style=\"width:100%\">&nbsp;</div>\n",
              "        </td>\n",
              "</tr><tr class=\"\">\n",
              "        <td class=\"fillremaining\">17.385</td>\n",
              "        <td class=\"number\">1</td>\n",
              "        <td class=\"number\">0.1%</td>\n",
              "        <td>\n",
              "            <div class=\"bar\" style=\"width:34%\">&nbsp;</div>\n",
              "        </td>\n",
              "</tr>\n",
              "</table>\n",
              "            <p class=\"h4\">Maximum 5 values</p>\n",
              "            \n",
              "<table class=\"freq table table-hover\">\n",
              "    <thead>\n",
              "    <tr>\n",
              "        <td class=\"fillremaining\">Value</td>\n",
              "        <td class=\"number\">Count</td>\n",
              "        <td class=\"number\">Frequency (%)</td>\n",
              "        <td style=\"min-width:200px\">&nbsp;</td>\n",
              "    </tr>\n",
              "    </thead>\n",
              "    <tr class=\"\">\n",
              "        <td class=\"fillremaining\">48.07</td>\n",
              "        <td class=\"number\">1</td>\n",
              "        <td class=\"number\">0.1%</td>\n",
              "        <td>\n",
              "            <div class=\"bar\" style=\"width:100%\">&nbsp;</div>\n",
              "        </td>\n",
              "</tr><tr class=\"\">\n",
              "        <td class=\"fillremaining\">49.06</td>\n",
              "        <td class=\"number\">1</td>\n",
              "        <td class=\"number\">0.1%</td>\n",
              "        <td>\n",
              "            <div class=\"bar\" style=\"width:100%\">&nbsp;</div>\n",
              "        </td>\n",
              "</tr><tr class=\"\">\n",
              "        <td class=\"fillremaining\">50.38</td>\n",
              "        <td class=\"number\">1</td>\n",
              "        <td class=\"number\">0.1%</td>\n",
              "        <td>\n",
              "            <div class=\"bar\" style=\"width:100%\">&nbsp;</div>\n",
              "        </td>\n",
              "</tr><tr class=\"\">\n",
              "        <td class=\"fillremaining\">52.58</td>\n",
              "        <td class=\"number\">1</td>\n",
              "        <td class=\"number\">0.1%</td>\n",
              "        <td>\n",
              "            <div class=\"bar\" style=\"width:100%\">&nbsp;</div>\n",
              "        </td>\n",
              "</tr><tr class=\"\">\n",
              "        <td class=\"fillremaining\">53.13</td>\n",
              "        <td class=\"number\">1</td>\n",
              "        <td class=\"number\">0.1%</td>\n",
              "        <td>\n",
              "            <div class=\"bar\" style=\"width:100%\">&nbsp;</div>\n",
              "        </td>\n",
              "</tr>\n",
              "</table>\n",
              "        </div>\n",
              "    </div>\n",
              "</div>\n",
              "</div><div class=\"row variablerow\">\n",
              "    <div class=\"col-md-3 namecol\">\n",
              "        <p class=\"h4 pp-anchor\" id=\"pp_var_charges\">charges<br/>\n",
              "            <small>Numeric</small>\n",
              "        </p>\n",
              "    </div><div class=\"col-md-6\">\n",
              "    <div class=\"row\">\n",
              "        <div class=\"col-sm-6\">\n",
              "            <table class=\"stats \">\n",
              "                <tr>\n",
              "                    <th>Distinct count</th>\n",
              "                    <td>1337</td>\n",
              "                </tr>\n",
              "                <tr>\n",
              "                    <th>Unique (%)</th>\n",
              "                    <td>99.9%</td>\n",
              "                </tr>\n",
              "                <tr class=\"ignore\">\n",
              "                    <th>Missing (%)</th>\n",
              "                    <td>0.0%</td>\n",
              "                </tr>\n",
              "                <tr class=\"ignore\">\n",
              "                    <th>Missing (n)</th>\n",
              "                    <td>0</td>\n",
              "                </tr>\n",
              "                <tr class=\"ignore\">\n",
              "                    <th>Infinite (%)</th>\n",
              "                    <td>0.0%</td>\n",
              "                </tr>\n",
              "                <tr class=\"ignore\">\n",
              "                    <th>Infinite (n)</th>\n",
              "                    <td>0</td>\n",
              "                </tr>\n",
              "            </table>\n",
              "\n",
              "        </div>\n",
              "        <div class=\"col-sm-6\">\n",
              "            <table class=\"stats \">\n",
              "\n",
              "                <tr>\n",
              "                    <th>Mean</th>\n",
              "                    <td>13270</td>\n",
              "                </tr>\n",
              "                <tr>\n",
              "                    <th>Minimum</th>\n",
              "                    <td>1121.9</td>\n",
              "                </tr>\n",
              "                <tr>\n",
              "                    <th>Maximum</th>\n",
              "                    <td>63770</td>\n",
              "                </tr>\n",
              "                <tr class=\"ignore\">\n",
              "                    <th>Zeros (%)</th>\n",
              "                    <td>0.0%</td>\n",
              "                </tr>\n",
              "            </table>\n",
              "        </div>\n",
              "    </div>\n",
              "</div>\n",
              "<div class=\"col-md-3 collapse in\" id=\"minihistogram-5469175264478786631\">\n",
              "    <img src=\"data:image/png;base64,iVBORw0KGgoAAAANSUhEUgAAAMgAAABLCAYAAAA1fMjoAAAABHNCSVQICAgIfAhkiAAAAAlwSFlzAAAPYQAAD2EBqD%2BnaQAAADl0RVh0U29mdHdhcmUAbWF0cGxvdGxpYiB2ZXJzaW9uIDMuMC4zLCBodHRwOi8vbWF0cGxvdGxpYi5vcmcvnQurowAAATJJREFUeJzt3MFtwkAQQFFAKSlFpCfO9JQi0tNyRRH6si053sB7d0t7%2BZ4BrXweY4wT8NTl6APAzD6OPsBvn9fv1c/83L52OAmYIJAEAkEgEAQCQSAQBAJBIBAEAkEgEAQCQSAQpruLtYX7W%2BzFBIEgEAgCgSAQCAKBIBAIAoEgEAgCgSAQCAKBIBAIAoEgEAgCgSAQCAKBIBAIAoEgEAgCgSAQCAKB8BLfxdrCt7RYwgSBIBAIb7tibbF2LbOS/X8mCASBQLBiTWbLv2trWf2WM0EgnMcY4%2BhDPPqLNyjrvevUMUEg%2BA3Cbl7htsJ0KxbMxIoFQSAQBAJBIBAEAkEgEAQCQSAQBAJBIBAEAkEgEAQCQSAQBAJBIBAEAkEgEAQCQSAQBAJBIBAEAkEgEAQC4Q4fTCGUFUbVIAAAAABJRU5ErkJggg%3D%3D\">\n",
              "\n",
              "</div>\n",
              "<div class=\"col-md-12 text-right\">\n",
              "    <a role=\"button\" data-toggle=\"collapse\" data-target=\"#descriptives-5469175264478786631,#minihistogram-5469175264478786631\"\n",
              "       aria-expanded=\"false\" aria-controls=\"collapseExample\">\n",
              "        Toggle details\n",
              "    </a>\n",
              "</div>\n",
              "<div class=\"row collapse col-md-12\" id=\"descriptives-5469175264478786631\">\n",
              "    <ul class=\"nav nav-tabs\" role=\"tablist\">\n",
              "        <li role=\"presentation\" class=\"active\"><a href=\"#quantiles-5469175264478786631\"\n",
              "                                                  aria-controls=\"quantiles-5469175264478786631\" role=\"tab\"\n",
              "                                                  data-toggle=\"tab\">Statistics</a></li>\n",
              "        <li role=\"presentation\"><a href=\"#histogram-5469175264478786631\" aria-controls=\"histogram-5469175264478786631\"\n",
              "                                   role=\"tab\" data-toggle=\"tab\">Histogram</a></li>\n",
              "        <li role=\"presentation\"><a href=\"#common-5469175264478786631\" aria-controls=\"common-5469175264478786631\"\n",
              "                                   role=\"tab\" data-toggle=\"tab\">Common Values</a></li>\n",
              "        <li role=\"presentation\"><a href=\"#extreme-5469175264478786631\" aria-controls=\"extreme-5469175264478786631\"\n",
              "                                   role=\"tab\" data-toggle=\"tab\">Extreme Values</a></li>\n",
              "\n",
              "    </ul>\n",
              "\n",
              "    <div class=\"tab-content\">\n",
              "        <div role=\"tabpanel\" class=\"tab-pane active row\" id=\"quantiles-5469175264478786631\">\n",
              "            <div class=\"col-md-4 col-md-offset-1\">\n",
              "                <p class=\"h4\">Quantile statistics</p>\n",
              "                <table class=\"stats indent\">\n",
              "                    <tr>\n",
              "                        <th>Minimum</th>\n",
              "                        <td>1121.9</td>\n",
              "                    </tr>\n",
              "                    <tr>\n",
              "                        <th>5-th percentile</th>\n",
              "                        <td>1757.8</td>\n",
              "                    </tr>\n",
              "                    <tr>\n",
              "                        <th>Q1</th>\n",
              "                        <td>4740.3</td>\n",
              "                    </tr>\n",
              "                    <tr>\n",
              "                        <th>Median</th>\n",
              "                        <td>9382</td>\n",
              "                    </tr>\n",
              "                    <tr>\n",
              "                        <th>Q3</th>\n",
              "                        <td>16640</td>\n",
              "                    </tr>\n",
              "                    <tr>\n",
              "                        <th>95-th percentile</th>\n",
              "                        <td>41182</td>\n",
              "                    </tr>\n",
              "                    <tr>\n",
              "                        <th>Maximum</th>\n",
              "                        <td>63770</td>\n",
              "                    </tr>\n",
              "                    <tr>\n",
              "                        <th>Range</th>\n",
              "                        <td>62649</td>\n",
              "                    </tr>\n",
              "                    <tr>\n",
              "                        <th>Interquartile range</th>\n",
              "                        <td>11900</td>\n",
              "                    </tr>\n",
              "                </table>\n",
              "            </div>\n",
              "            <div class=\"col-md-4 col-md-offset-2\">\n",
              "                <p class=\"h4\">Descriptive statistics</p>\n",
              "                <table class=\"stats indent\">\n",
              "                    <tr>\n",
              "                        <th>Standard deviation</th>\n",
              "                        <td>12110</td>\n",
              "                    </tr>\n",
              "                    <tr>\n",
              "                        <th>Coef of variation</th>\n",
              "                        <td>0.91256</td>\n",
              "                    </tr>\n",
              "                    <tr>\n",
              "                        <th>Kurtosis</th>\n",
              "                        <td>1.6063</td>\n",
              "                    </tr>\n",
              "                    <tr>\n",
              "                        <th>Mean</th>\n",
              "                        <td>13270</td>\n",
              "                    </tr>\n",
              "                    <tr>\n",
              "                        <th>MAD</th>\n",
              "                        <td>9091.1</td>\n",
              "                    </tr>\n",
              "                    <tr class=\"\">\n",
              "                        <th>Skewness</th>\n",
              "                        <td>1.5159</td>\n",
              "                    </tr>\n",
              "                    <tr>\n",
              "                        <th>Sum</th>\n",
              "                        <td>17756000</td>\n",
              "                    </tr>\n",
              "                    <tr>\n",
              "                        <th>Variance</th>\n",
              "                        <td>146650000</td>\n",
              "                    </tr>\n",
              "                    <tr>\n",
              "                        <th>Memory size</th>\n",
              "                        <td>10.5 KiB</td>\n",
              "                    </tr>\n",
              "                </table>\n",
              "            </div>\n",
              "        </div>\n",
              "        <div role=\"tabpanel\" class=\"tab-pane col-md-8 col-md-offset-2\" id=\"histogram-5469175264478786631\">\n",
              "            <img src=\"data:image/png;base64,iVBORw0KGgoAAAANSUhEUgAAAlgAAAGQCAYAAAByNR6YAAAABHNCSVQICAgIfAhkiAAAAAlwSFlzAAAPYQAAD2EBqD%2BnaQAAADl0RVh0U29mdHdhcmUAbWF0cGxvdGxpYiB2ZXJzaW9uIDMuMC4zLCBodHRwOi8vbWF0cGxvdGxpYi5vcmcvnQurowAAIABJREFUeJzt3Xl0VHWe//9XFgmyJCRqsAcXGIFAKAh7NKKBaINAQ0tYQjiOMoKCRjlB6YYGaWWwCd3A2AoOTdqjA%2BKMMR6VRbavsrRLup1W0EpAWhBGjMFESBEISSTJ5/eHP2osqjALH1KVyvNxTk7M51P31vvz9tbhlXtvVUKMMUYAAACwJtTfBQAAAAQbAhYAAIBlBCwAAADLCFgAAACWEbAAAAAsI2ABAABYRsACAACwjIAFAABgGQELAADAMgIWAACAZQQsAAAAywhYAAAAlhGwAAAALCNgAQAAWEbAAgAAsIyABQAAYBkBCwAAwDICFgAAgGUELAAAAMsIWAAAAJYRsAAAACwjYAEAAFhGwAIAALCMgAUAAGAZAQsAAMAyAhYAAIBlBCwAAADLCFgAAACWEbAAAAAsI2ABAABYRsACAACwjIAFAABgGQELAADAMgIWAACAZQQsAAAAywhYAAAAlhGwAAAALCNgAQAAWEbAAgAAsCzc3wW0FCUlpxu8TWhoiGJi2urkyXLV1prLUFXzRF%2B80RPf6Itv9MUbPfEtGPpyzTXt/fK8nMEKYKGhIQoJCVFoaIi/Swko9MUbPfGNvvhGX7zRE9/oS%2BMRsAAAACwjYAEAAFhGwAIAALCMgAUAAGAZAQsAAMAyAhYAAIBlBCwAAADLCFgAAACWEbAAAAAsI2ABAABYRsACAACwjIAFAABgGQELAADAsnB/F4BLM/KPH/i7hHrbmnmrv0sAAKBJcAYLAADAMgIWAACAZQQsAAAAywhYAAAAlhGwAAAALCNgAQAAWEbAAgAAsIyABQAAYBkBCwAAwDICFgAAgGUELAAAAMsIWAAAAJYRsAAAACwjYAEAAFhGwAIAALAsaANWXFycHA6Hevfu7f5avHixJCkvL08TJkxQ//79NXr0aG3cuNFj23Xr1mnEiBHq37%2B/0tPTlZ%2Bf748lAACAZirc3wVcTtu2bdN1113nMVZcXKyHH35YCxYs0JgxY/Txxx/roYceUpcuXdS7d2/t3LlTK1eu1AsvvKC4uDitW7dOM2fO1I4dO9SmTRs/rQQAADQnQXsG62I2bdqkzp07a8KECYqIiFBSUpJSUlKUm5srScrJyVFqaqoSEhLUunVrTZ8%2BXZK0a9cuf5YNAACakaAOWCtWrNDQoUM1cOBALVy4UOXl5SooKFB8fLzH4%2BLj492XAS%2BcDw0NVc%2BePeV0Opu0dgAA0HwF7SXCvn37KikpSb///e917NgxZWZmatGiRXK5XOrYsaPHYzt06KDS0lJJksvlUlRUlMd8VFSUe74%2BiouLVVJS4jEWHt5GsbGxDVpDWFiox/fmLjzczjqCrS820BPf6Itv9MUbPfGNvjRe0AasnJwc93/fdNNNmjNnjh566CENGDCgzm2NMZf83KtWrfIYy8jI0KxZsxq1v8jIKy%2BpnkARHd3W6v6CpS820RPf6Itv9MUbPfGNvjRc0AasC1133XWqqalRaGioXC6Xx1xpaaliYmIkSdHR0V7zLpdL3bp1q/dzpaWlKSUlxWMsPLyNSkvLG1RzWFioIiOvVFlZhWpqahu0bSBq6PovJtj6YgM98Y2%2B%2BEZfvNET34KhL7Z/ua%2BvoAxY%2B/fv18aNGzVv3jz32OHDh9WqVSslJyfrzTff9Hh8fn6%2BEhISJEkOh0MFBQUaN26cJKmmpkb79%2B/XhAkT6v38sbGxXpcDS0pOq7q6cQdnTU1to7cNJLbXECx9sYme%2BEZffKMv3uiJb/Sl4YLyoupVV12lnJwcZWdn6/vvv9eRI0f07LPPKi0tTb/85S9VWFio3NxcVVVVac%2BePdqzZ48mTZokSUpPT9dbb72lffv2qaKiQqtXr1arVq00dOhQ/y4KAAA0G0F5Bqtjx47Kzs7WihUr3AFp3Lhxmj17tiIiIrRmzRo9/fTTWrRokTp16qRly5apR48ekqTbb79djz32mDIzM3XixAn17t1b2dnZat26tZ9XBQAAmougDFiSNGjQIL366qsXnduwYcNFt50yZYqmTJlyuUoDAABBLigvEQIAAPgTAQsAAMAyAhYAAIBlBCwAAADLCFgAAACWEbAAAAAsI2ABAABYRsACAACwjIAFAABgGQELAADAMgIWAACAZQQsAAAAywhYAAAAlhGwAAAALCNgAQAAWEbAAgAAsIyABQAAYBkBCwAAwDICFgAAgGUELAAAAMsIWAAAAJYRsAAAACwjYAEAAFhGwAIAALCMgAUAAGAZAQsAAMAyAhYAAIBlBCwAAADLCFgAAACWEbAAAAAsI2ABAABYRsACAACwjIAFAABgGQELAADAMgIWAACAZQQsAAAAywhYAAAAlhGwAAAALCNgAQAAWEbAAgAAsIyABQAAYBkBCwAAwDICFgAAgGUELAAAAMsIWAAAAJYRsAAAACxrEQFryZIliouLc/%2Bcl5enCRMmqH///ho9erQ2btzo8fh169ZpxIgR6t%2B/v9LT05Wfn9/UJQMAgGYs6APWgQMHtGHDBvfPxcXFevjhhzV58mTl5eVpwYIFWrhwoZxOpyRp586dWrlypf7whz/oww8/1LBhwzRz5kydPXvWX0sAAADNTFAHrNraWj355JOaOnWqe2zTpk3q3LmzJkyYoIiICCUlJSklJUW5ubmSpJycHKWmpiohIUGtW7fW9OnTJUm7du3yxxIAAEAzFNQB69VXX1VERITGjBnjHisoKFB8fLzH4%2BLj492XAS%2BcDw0NVc%2BePd1nuAAAAOoS7u8CLpfvvvtOK1eu1Msvv%2Bwx7nK51LFjR4%2BxDh06qLS01D0fFRXlMR8VFeWer4/i4mKVlJR4jIWHt1FsbGxDlqCwsFCP781deLiddQRbX2ygJ77RF9/oizd64ht9abygDVhZWVlKTU1V165d9fXXXzdoW2PMJT13Tk6OVq1a5TGWkZGhWbNmNWp/kZFXXlI9gSI6uq3V/QVLX2yiJ77RF9/oizd64ht9abigDFh5eXnau3evNm/e7DUXHR0tl8vlMVZaWqqYmJiLzrtcLnXr1q3ez5%2BWlqaUlBSPsfDwNiotLa/3PqQffmOIjLxSZWUVqqmpbdC2gWjggm3%2BLqFB/t%2Bc2/xdQr0F27FiC33xjb54oye%2BBUNfbP9yX19BGbA2btyoEydOaNiwYZL%2B74xUYmKi7r//fq/glZ%2Bfr4SEBEmSw%2BFQQUGBxo0bJ0mqqanR/v37NWHChHo/f2xsrNflwJKS06qubtzBWVNT2%2Bht0XjNseccK77RF9/oizd64ht9abigvKg6b948bd%2B%2BXRs2bNCGDRuUnZ0tSdqwYYPGjBmjwsJC5ebmqqqqSnv27NGePXs0adIkSVJ6erreeust7du3TxUVFVq9erVatWqloUOH%2BnFFAACgOQnKM1hRUVEeN6pXV1dLkq699lpJ0po1a/T0009r0aJF6tSpk5YtW6YePXpIkm6//XY99thjyszM1IkTJ9S7d29lZ2erdevWTb8QAADQLAVlwLrQddddp4MHD7p/HjRokMeHj15oypQpmjJlSlOUBgAAglBQXiIEAADwJwIWAACAZQQsAAAAywhYAAAAlhGwAAAALCNgAQAAWEbAAgAAsIyABQAAYBkBCwAAwDICFgAAgGUELAAAAMsIWAAAAJYRsAAAACwjYAEAAFhGwAIAALCMgAUAAGAZAQsAAMAyAhYAAIBlBCwAAADLCFgAAACWEbAAAAAsI2ABAABYRsACAACwjIAFAABgGQELAADAMgIWAACAZQQsAAAAywhYAAAAlgVcwEpJSdGqVatUVFTk71IAAAAaJeAC1vjx47Vlyxbdeeedmj59unbs2KHq6mp/lwUAAFBvARewMjIytGXLFr322mvq1q2blixZouTkZC1btkxHjhzxd3kAAAB1CriAdV6vXr00d%2B5c7dq1S/Pnz9drr72mUaNGadq0afrss8/8XR4AAMBFBWzAOnfunLZs2aIHHnhAc%2BfOVceOHfWb3/xGPXv21NSpU7Vp0yZ/lwgAAOBTuL8LuNDhw4f1%2Buuv66233lJ5eblGjBihtWvXasCAAe7HDBo0SE899ZTGjBnjx0oBAAB8C7iANXr0aHXp0kUzZszQ3XffrQ4dOng9Jjk5WSdPnvRDdQAAAHULuIC1bt06DR48uM7Hffrpp01QDQAAQMMF3D1YcXFxmjlzpt555x332H/%2B53/qgQcekMvl8mNlAAAA9RNwASsrK0unT59W165d3WNDhw5VbW2tli5d6sfKAAAA6ifgLhG%2B//772rRpk6Kjo91jnTt31vLly/WLX/zCj5UBAADUT8CdwaqsrFRERITXeGhoqCoqKvxQEQAAQMMEXMAaNGiQli5dqlOnTrnHvv32Wy1atMjjoxoAAAACVcBdIpw/f77uv/9%2B3XLLLWrXrp1qa2tVXl6u66%2B/Xi%2B//LK/ywMAAKhTwAWs66%2B/Xm%2B//bb%2B8pe/6KuvvlJoaKi6dOmiIUOGKCwszN/lAQAA1CngApYktWrVSnfeeae/ywAAAGiUgAtYx44d04oVK/TFF1%2BosrLSa/7dd9/1Q1UAAAD1F3ABa/78%2BSouLtaQIUPUpk0bf5cDAADQYAEXsPLz8/Xuu%2B8qJibmkvbz%2BeefKysrS/n5%2BYqIiNDgwYO1YMECXXPNNcrLy9OKFSv05Zdf6mc/%2B5lmzJihsWPHurddt26dXnnlFZWUlCguLk4LFiyQw%2BG41KUBAIAWIuA%2BpuGqq6665DNX33//ve6//34NHjxYeXl52rx5s06cOKGnnnpKxcXFevjhhzV58mTl5eVpwYIFWrhwoZxOpyRp586dWrlypf7whz/oww8/1LBhwzRz5kydPXvWxvIAAEALEHABa8aMGVq1apWMMY3eR0VFhWbPnq0ZM2aoVatWiomJ0c9//nN98cUX2rRpkzp37qwJEyYoIiJCSUlJSklJUW5uriQpJydHqampSkhIUOvWrTV9%2BnRJ0q5du6ysDwAABL%2BAu0T4l7/8RZ988oneeOMNXXfddQoN9cyAr776ap37iIqK0sSJE90/f/nll3rzzTc1cuRIFRQUKD4%2B3uPx8fHx2rp1qySpoKBAo0aNcs%2BFhoaqZ8%2BecjqdGj16dL3WUFxcrJKSEo%2Bx8PA2io2Nrdf254WFhXp8R9MKD28%2BfedY8Y2%2B%2BEZfvNET3%2BhL4wVcwGrXrp1uv/12K/sqLCzUiBEjVF1drUmTJmnWrFl64IEH1LFjR4/HdejQQaWlpZIkl8ulqKgoj/moqCj3fH3k5ORo1apVHmMZGRmaNWtWo9YRGXllo7bDpYmObuvvEhqMY8U3%2BuIbffFGT3yjLw0XcAErKyvL2r46deokp9Op//3f/9Vvf/tb/frXv67XdpdyeVKS0tLSlJKS4jEWHt5GpaXlDdpPWFioIiOvVFlZhWpqai%2BpJjRcQ/9/%2BRPHim/0xTf64o2e%2BBYMffHXL8sBF7CkHy7pvf322/rmm2/cgWvv3r3q169fg/cVEhKizp07a/bs2Zo8ebKSk5Plcrk8HlNaWup%2B12J0dLTXvMvlUrdu3er9nLGxsV6XA0tKTqu6unEHZ01NbaO3ReM1x55zrPhGX3yjL97oiW/0peEC7qJqXl6exo4dqx07dmjz5s2Sfvjw0XvvvbfeHzKal5enESNGqLb2/w6G8/dy9enTR/n5%2BR6Pz8/PV0JCgiTJ4XCooKDAPVdTU6P9%2B/e75wEAAOoScAHrmWee0a9%2B9Stt2rRJISEhkn74%2B4RLly7V888/X699OBwOnTlzRsuWLVNFRYVOnjyplStXauDAgUpPT1dhYaFyc3NVVVWlPXv2aM%2BePZo0aZIkKT09XW%2B99Zb27duniooKrV69Wq1atdLQoUMv15IBAECQCbiA9Y9//EPp6emS5A5YknTXXXfp8OHD9dpH%2B/bt9eKLLyo/P18333yzRo8erfbt2%2Bvf//3fddVVV2nNmjVav369BgwYoCVLlmjZsmXq0aOHJOn222/XY489pszMTA0ePFgffvihsrOz1bp1a/uLBQAAQSng7sFq3769Kisr1apVK4/x4uJir7GfEhcXp5dfftnn3KBBg7Rhw4aLbjtlyhRNmTKl3s8FAADwYwF3Bqt///5asmSJzpw54x47cuSI5s6dq1tuucWPlQEAANRPwJ3B%2Bs1vfqP77rtPiYmJqqmpUf/%2B/VVRUaFu3bpp6dKl/i4PAACgTgEXsK699lpt3rxZe/bs0ZEjR9S6dWt16dJFt956q8c9WQAAAIEq4AKWJF1xxRW68847/V0GAABAowRcwEpJSfnJM1X1/SwsAAAAfwm4gDVq1CiPgFVTU6MjR47I6XTqvvvu82NlAAAA9RNwAWvOnDk%2Bx7dv366//e1vTVwNAABAwwXcxzRczJ133qm3337b32UAAADUqdkErP3798sY4%2B8yAAAA6hRwlwgnT57sNVZRUaHDhw9r%2BPDhfqgIAACgYQIuYHXu3NnrXYQRERGaMGGCJk6c6KeqAAAA6i/gAhaf1g4AAJq7gAtYb731Vr0fe/fdd1/GSgAAABon4ALWggULVFtb63VDe0hIiMdYSEgIAQsAAASkgAtYL7zwgl588UXNnDlTcXFxMsbo4MGD%2BvOf/6x77rlHiYmJ/i4RAADgJwVcwFq6dKmys7PVsWNH99jAgQN1/fXXa9q0adq8ebMfqwMAAKhbwH0O1tGjRxUVFeU1HhkZqcLCQj9UBAAA0DABF7A6deqkpUuXqrS01D1WVlamFStW6IYbbvBjZQAAAPUTcJcI58%2Bfr8cff1w5OTlq27atQkNDdebMGbVu3VrPP/%2B8v8sDAACoU8AFrCFDhmj37t3as2ePjh8/LmOMOnbsqNtuu03t27f3d3kAAAB1CriAJUlXXnml7rjjDh0/flzXX3%2B9v8sBAABokIC7B6uyslJz585Vv379NHLkSEk/3IM1ffp0lZWV%2Bbk6AACAugVcwFq2bJkOHDig5cuXKzT0/8qrqanR8uXL/VgZAABA/QRcwNq%2Bfbuee%2B453XXXXe4/%2BhwZGamsrCzt2LHDz9UBAADULeACVnl5uTp37uw1HhMTo7NnzzZ9QQAAAA0UcAHrhhtu0N/%2B9jdJ8vjbg9u2bdM//dM/%2BassAACAegu4dxFOmTJFjz76qMaPH6/a2lq99NJLys/P1/bt27VgwQJ/lwcAAFCngAtYaWlpCg8P1/r16xUWFqY//elP6tKli5YvX6677rrL3%2BUBAADUKeAC1smTJzV%2B/HiNHz/e36UAAAA0SsDdg3XHHXd43HsFAADQ3ARcwEpMTNTWrVv9XQYAAECjBdwlwp/97Gf63e9%2Bp%2BzsbN1www264oorPOZXrFjhp8oAAADqJ%2BAC1qFDh/TP//zPkqTS0lI/VwMAANBwAROwZs%2BerWeeeUYvv/yye%2Bz5559XRkaGH6sCAABouIC5B2vnzp1eY9nZ2X6oBAAA4NIETMDy9c5B3k0IAACao4AJWOf/sHNdYwAAAIEuYAIWAABAsCBgAQAAWBYw7yI8d%2B6cHn/88TrH%2BBwsAAAQ6AImYA0YMEDFxcV1jgEAAAS6gAlYP/78KwAAgOaMe7AAAAAsI2ABAABYRsACAACwjIAFAABgWdAGrMLCQmVkZCgxMVFJSUmaN2%2BeysrKJEkHDhzQPffcowEDBmj48OF68cUXPbbdsmWLxowZo379%2Bik1NVXvv/%2B%2BP5YAAACaqaANWDNnzlRkZKR27typN954Q1988YV%2B//vfq7KyUjNmzNDNN9%2Bs9957T88884zWrFmjHTt2SPohfM2dO1dz5szRX//6V02dOlWPPPKIjh8/7ucVAQCA5iIoA1ZZWZkcDocef/xxtW3bVtdee63GjRunv//979q9e7fOnTunhx56SG3atFGvXr00ceJE5eTkSJJyc3OVnJys5ORkRUREaOzYserevbs2btzo51UBAIDmImA%2BB8umyMhIZWVleYwVFRUpNjZWBQUFiouLU1hYmHsuPj5eubm5kqSCggIlJyd7bBsfHy%2Bn01nv5y8uLlZJSYnHWHh4G8XGxjZoHWFhoR7f0bTCw5tP3zlWfKMvvtEXb/TEN/rSeEEZsC7kdDq1fv16rV69Wlu3blVkZKTHfIcOHeRyuVRbWyuXy6WoqCiP%2BaioKB06dKjez5eTk6NVq1Z5jGVkZGjWrFmNqj8y8spGbYdLEx3d1t8lNBjHim/0xTf64o2e%2BEZfGi7oA9bHH3%2Bshx56SI8//riSkpK0detWn48LCQlx/7cx5pKeMy0tTSkpKR5j4eFtVFpa3qD9hIWFKjLySpWVVaimpvaSakLDNfT/lz9xrPhGX3yjL97oiW/B0Bd//bIc1AFr586d%2BtWvfqWFCxfq7rvvliTFxMTo6NGjHo9zuVzq0KGDQkNDFR0dLZfL5TUfExNT7%2BeNjY31uhxYUnJa1dWNOzhramobvS0arzn2nGPFN/riG33xRk98oy8NF7QXVT/55BPNnTtXzz77rDtcSZLD4dDBgwdVXV3tHnM6nUpISHDP5%2Bfne%2Bzrx/MAAAB1CcqAVV1drSeeeEJz5szRkCFDPOaSk5PVrl07rV69WhUVFfr000/1%2BuuvKz09XZI0adIkffjhh9q9e7eqqqr0%2Buuv6%2BjRoxo7dqw/lgIAAJqhoLxEuG/fPh0%2BfFhPP/20nn76aY%2B5bdu26U9/%2BpOefPJJZWdn6%2Bqrr9bs2bM1dOhQSVL37t21fPlyZWVlqbCwUF27dtWaNWt0zTXX%2BGElAACgOQrKgDVw4EAdPHjwJx/z3//93xedGz58uIYPH267LAAA0EIE5SVCAAAAfyJgAQAAWEbAAgAAsIyABQAAYBkBCwAAwDICFgAAgGUELAAAAMsIWAAAAJYRsAAAACwjYAEAAFhGwAIAALCMgAUAAGAZAQsAAMAyAhYAAIBlBCwAAADLCFgAAACWEbAAAAAsI2ABAABYRsACAACwjIAFAABgGQELAADAMgIWAACAZQQsAAAAywhYAAAAlhGwAAAALCNgAQAAWEbAAgAAsIyABQAAYBkBCwAAwDICFgAAgGUELAAAAMsIWAAAAJYRsAAAACwjYAEAAFgW7u8CgEA18o8f%2BLuEBvn77%2B7ydwkAgP8fZ7AAAAAsI2ABAABYRsACAACwjIAFAABgGQELAADAMgIWAACAZQQsAAAAywhYAAAAlhGwAAAALCNgAQAAWEbAAgAAsCxoA9Z7772npKQkzZ4922tuy5YtGjNmjPr166fU1FS9//777rna2lo988wzuuOOOzRo0CBNmzZNx44da8rSAQBAMxeUAevPf/6znn76ad14441ecwcOHNDcuXM1Z84c/fWvf9XUqVP1yCOP6Pjx45KkV155RZs2bVJ2drZ27dqlzp07KyMjQ8aYpl4GAABopoIyYEVEROj111/3GbByc3OVnJys5ORkRUREaOzYserevbs2btwoScrJydHUqVN10003qV27dpo9e7YOHz6sTz/9tKmXAQAAmqlwfxdwOdx7770XnSsoKFBycrLHWHx8vJxOpyorK3Xo0CHFx8e759q1a6cbb7xRTqdTffv2rdfzFxcXq6SkxGMsPLyNYmNjG7AKKSws1OM7UBeOFU%2B8hnyjL97oiW/0pfGCMmD9FJfLpaioKI%2BxqKgoHTp0SKdOnZIxxud8aWlpvZ8jJydHq1at8hjLyMjQrFmzGlVzZOSVjdoOLQ/Him/0xTf64o2e%2BEZfGq7FBSxJdd5Pdan3W6WlpSklJcVjLDy8jUpLyxu0n7CwUEVGXqmysgrV1NReUk1oGThWPPEa8o2%2BeKMnvgVDX6Kj2/rleVtcwIqOjpbL5fIYc7lciomJUYcOHRQaGupz/qqrrqr3c8TGxnpdDiwpOa3q6sYdnDU1tY3eFi0Lx4pv9MU3%2BuKNnvhGXxquxV1UdTgcys/P9xhzOp1KSEhQRESEunXrpoKCAvdcWVmZvvrqK/Xp06epSwUAAM1UiwtYkyZN0ocffqjdu3erqqpKr7/%2Buo4ePaqxY8dKktLT07Vu3TodPnxYZ86c0fLly9WzZ0/17t3bz5UDAIDmIigvEZ4PQ9XV1ZKkd955R9IPZ6q6d%2B%2Bu5cuXKysrS4WFheratavWrFmja665RpI0efJklZSU6F/%2B5V9UXl6uxMRErxvWAQAAfkqI4RM0m0RJyekGbxMeHqro6LYqLS2/6LXvkX/84FJLQ5D4%2B%2B/u%2BsljpSWqz2uoJaIv3uiJb8HQl2uuae%2BX521xlwgBAAAut6C8RAi0RAMXbPN3CfW2NfNWf5cAAJcVZ7AAAAAsI2ABAABYRsACAACwjIAFAABgGQELAADAMgIWAACAZQQsAAAAywhYAAAAlhGwAAAALCNgAQAAWEbAAgAAsIyABQAAYBkBCwAAwDICFgAAgGXh/i4AAALdyD9%2B4O8SGmRr5q3%2BLgFo8TiDBQAAYBlnsAAgyDSnM26cbUOw4gwWAACAZQQsAAAAywhYAAAAlhGwAAAALCNgAQAAWEbAAgAAsIyABQAAYBkBCwAAwDICFgAAgGUELAAAAMsIWAAAAJbxtwgBNLnm9LfyAKAxOIMFAABgGWewAAB%2B09zOZm7NvNXfJaCZ4AwWAACAZQQsAAAAywhYAAAAlhGwAAAALCNgAQAAWEbAAgAAsIyABQAAYBkBCwAAwDICFgAAgGUELAAAAMsIWAAAAJYRsAAAACwjYAEAAFhGwPKhsLBQDz74oBITEzVs2DAtW7ZMtbW1/i4LAAA0E%2BH%2BLiAQPfroo%2BrVq5feeecdnThxQjNmzNDVV1%2Btf/3Xf/V3aQAAoBkgYF3A6XTq888/10svvaT27durffv2mjp1qtauXUvAAgA0KyP/%2BIG/S6i3rZm3%2BrsEqwhYFygoKFCnTp0UFRXlHuvVq5eOHDmiM2fOqF27dnXuo7i4WCUlJR5j4eFtFBsb26BawsJCPb4DAPyrOQWW5iY8PLj%2BrSNgXcDlcikyMtJj7HzYKi0trVd8UrscAAAMYUlEQVTAysnJ0apVqzzGHnnkET366KMNqqW4uFhr176gtLS0i4azv//urgbtMxgUFxcrJyfnJ/vS0tAT3%2BiLb/TFGz3xjb40XnDFRUuMMZe0fVpamt544w2Pr7S0tAbvp6SkRKtWrfI6G9bS0Rdv9MQ3%2BuIbffFGT3yjL43HGawLxMTEyOVyeYy5XC6FhIQoJiamXvuIjY0l6QMA0IJxBusCDodDRUVFOnnypHvM6XSqa9euatu2rR8rAwAAzQUB6wLx8fHq3bu3VqxYoTNnzujw4cN66aWXlJ6e7u/SAABAMxH21FNPPeXvIgLNbbfdps2bN2vx4sV6%2B%2B23NWHCBE2bNk0hISFNXkvbtm01ePBgzp5dgL54oye%2B0Rff6Is3euIbfWmcEHOpd3QDAADAA5cIAQAALCNgAQAAWEbAAgAAsIyABQAAYBkBCwAAwDICFgAAgGUELAAAAMsIWAAAAJYRsAAAACwjYAWowsJCPfjgg0pMTNSwYcO0bNky1dbW%2BrusS/bee%2B8pKSlJs2fP9prbsmWLxowZo379%2Bik1NVXvv/%2B%2Be662tlbPPPOM7rjjDg0aNEjTpk3TsWPH3PMul0uZmZlKSkrSkCFDtGDBAlVWVrrnDxw4oHvuuUcDBgzQ8OHD9eKLL17ehTZQYWGhMjIylJiYqKSkJM2bN09lZWWS6q79cvbNnz7//HPdd999GjBggJKSkpSZmamSkhJJUl5eniZMmKD%2B/ftr9OjR2rhxo8e269at04gRI9S/f3%2Blp6crPz/fPVdVVaXf/va3uv3225WYmKhZs2aptLTUPd%2BcXntLlixRXFyc%2B%2BeW2pe4uDg5HA717t3b/bV48WJJLbcn561evVpDhgxR3759NXXqVH399deS6EuTMAhI48aNM0888YQpKyszR44cMcOHDzcvvviiv8u6JNnZ2Wb48OFm8uTJJjMz02Nu//79xuFwmN27d5vKykqzYcMGk5CQYIqKiowxxqxbt84MGzbMHDp0yJw%2Bfdr827/9mxkzZoypra01xhjzyCOPmAcffNCcOHHCHD9%2B3KSlpZnFixcbY4ypqKgwt912m1m5cqUpLy83%2Bfn5ZvDgwWb79u1N24Cf8Itf/MLMmzfPnDlzxhQVFZnU1FQzf/78Omu/nH3zp6qqKnPLLbeYVatWmaqqKnPixAlzzz33mIcffth8%2B%2B23pm/fviY3N9dUVlaaDz74wPTp08d89tlnxhhj3n33XTNw4ECzb98%2BU1FRYdasWWNuvfVWU15ebowxJisry6SmpppvvvnGlJaWmkceecTMmDHD/dzN5bW3f/9%2BM3jwYNO9e3djjGnRfenevbs5duyY13hL7okxxqxfv97cdddd5vDhw%2Bb06dNm8eLFZvHixS2%2BL02FgBWAPvvsM9OzZ0/jcrncY//1X/9lRowY4ceqLt3atWtNWVmZmTt3rlfAWrRokcnIyPAYmzhxolmzZo0xxpjRo0ebtWvXuudOnz5t4uPjzd69e01JSYnp0aOHOXDggHt%2Bz549pm/fvub77783W7duNTfffLOprq52zy9btszcf//9l2OZDXbq1Ckzb948U1JS4h57%2BeWXzfDhw%2Bus/XL2zZ9cLpd57bXXzLlz59xja9euNT//%2Bc/NCy%2B8YO6%2B%2B26Px2dmZpqFCxcaY4x58MEHzZIlS9xzNTU15tZbbzWbN282586dMwMGDDDvvPOOe/7QoUMmLi7OHD9%2BvNm89mpqaszEiRPNf/zHf7gDVkvuy8UCVkvuiTHGpKSk%2BPxFsqX3palwiTAAFRQUqFOnToqKinKP9erVS0eOHNGZM2f8WNmluffee9W%2BfXufcwUFBYqPj/cYi4%2BPl9PpVGVlpQ4dOuQx365dO914441yOp06cOCAwsLCPC6V9OrVS2fPntWXX36pgoICxcXFKSwszGPfPz7l7U%2BRkZHKysrS1Vdf7R4rKipSbGxsnbVfzr75U1RUlCZOnKjw8HBJ0pdffqk333xTI0eOvOiaL9aT0NBQ9ezZU06nU1999ZVOnz6tXr16uedvuukmtW7dWgUFBc3mtffqq68qIiJCY8aMcY%2B19L6sWLFCQ4cO1cCBA7Vw4UKVl5e36J58%2B%2B23%2Bvrrr3Xq1CmNGjXKfSnv5MmTLbovTYmAFYBcLpciIyM9xs4frD%2B%2Bzh1MXC6XxwtS%2BmHNpaWlOnXqlIwxF513uVxq166dQkJCPOYkuecv7GeHDh3kcrkC8r4Ap9Op9evX66GHHqqz9svZt0BQWFgoh8OhUaNGqXfv3po1a9ZFe3K%2B5p/qicvlkiSv7SMjIy96rARaT7777jutXLlSTz75pMd4S%2B5L3759lZSUpB07dignJ0f79u3TokWLWnRPjh8/Lknatm2bXnrpJW3YsEHHjx/XE0880aL70pQIWAHKGOPvEppcXWv%2BqfnG9OvHwSJQfPzxx5o2bZoef/xxJSUlXfRxP669qfvWlDp16iSn06lt27bp6NGj%2BvWvf12v7YK5J1lZWUpNTVXXrl0bvG2w9iUnJ0cTJ05Uq1atdNNNN2nOnDnavHmzzp07V%2Be2wdqT87VNnz5dHTt21LXXXqtHH31UO3fubND2jZkP5L40JQJWAIqJiXH/lnCey%2BVSSEiIYmJi/FTV5RUdHe1zzTExMerQoYNCQ0N9zl911VWKiYnRmTNnVFNT4zEnyT1/4W9OLpfLvd9AsXPnTj344IOaP3%2B%2B7r33Xkmqs/bL2bdAERISos6dO2v27NnavHmzwsPDvdZUWlrqfm38VE/OP%2BbC%2BVOnTrl7Esivvby8PO3du1cZGRlec77W3VL6cqHrrrtONTU1Po//ltKT87cc/PhsUqdOnWSM0blz51psX5pS4PzrAjeHw6GioiKdPHnSPeZ0OtW1a1e1bdvWj5VdPg6Hw%2BueKKfTqYSEBEVERKhbt24qKChwz5WVlemrr75Snz591LNnTxlj9Pnnn3tsGxkZqS5dusjhcOjgwYOqrq722neg%2BOSTTzR37lw9%2B%2Byzuvvuu93jddV%2BOfvmT3l5eRoxYoTHJdzzYbhPnz5ea87Pz/foyY/XXFNTo/379yshIUHXX3%2B9oqKiPOb/8Y9/6Pvvv5fD4Qj4197GjRt14sQJDRs2TImJiUpNTZUkJSYmqnv37i2yL/v379fSpUs9xg4fPqxWrVopOTm5RfZEkq699lq1a9dOBw4ccI8VFhbqiiuuaNF9aVJNdjs9GmTixIlm/vz55vTp0%2BbQoUMmJSXFrF%2B/3t9lWeHrXYQHDx40vXv3Nrt27TKVlZUmNzfX9OvXzxQXFxtjfngXytChQ90fN7Bw4UIzfvx49/aZmZlm%2BvTp5sSJE6aoqMiMHz/eLF261Bjzw1v%2Bhw0bZp577jlz9uxZs2/fPjNw4ECza9euJlvzTzl37pwZOXKkefXVV73m6qr9cvbNn8rKykxSUpJZunSpOXv2rDlx4oSZNm2amTJlivnuu%2B9Mv379zGuvvWYqKyvN7t27TZ8%2BfdzvhtyzZ48ZMGCA2bt3rzl79qxZuXKlSU5ONhUVFcaYH96FOW7cOPPNN9%2BYkydPmhkzZphHH33U/dyB/NpzuVymqKjI/bV3717TvXt3U1RUZAoLC1tkX44fP2769u1r1qxZY6qqqsyXX35pRo0aZRYvXtyijxVjjFmyZIm54447zNGjR813331n0tLSzLx581p8X5oKAStAFRUVmenTp5s%2BffqYpKQk89xzz7k/u6i5cjgcxuFwmB49epgePXq4fz5v%2B/btZvjw4aZXr17ml7/8pfnoo4/cc7W1tebZZ581t9xyi%2BnTp4954IEH3J/1ZMwP/yDPnj3b9O3b1wwaNMgsWrTIVFVVuecPHjxoJk%2BebBwOhxk6dKh55ZVXmmbR9fA///M/pnv37u5%2B/Pjr66%2B/rrP2y9k3f/r888/NPffcY/r06WNuvvlmk5mZaY4fP26MMeajjz4yY8eONb169TLDhw/3eiv6K6%2B8YpKTk43D4TDp6enm4MGD7rmqqirz1FNPmUGDBpl%2B/fqZxx57zJSVlbnnm9Nr79ixY%2B6PaTCm5fblo48%2BMmlpaaZv375m8ODBJisry1RWVrrnWmJPjPGsv2/fvmbu3LnmzJkzxpiW3ZemEmIMd6MBAADYxD1YAAAAlhGwAAAALCNgAQAAWEbAAgAAsIyABQAAYBkBCwAAwDICFgAAgGUELAAAAMsIWAAAAJYRsAAAACwjYAEAAFhGwAIAALCMgAUAAGDZ/weeZSJmMgGaEwAAAABJRU5ErkJggg%3D%3D\"/>\n",
              "        </div>\n",
              "        <div role=\"tabpanel\" class=\"tab-pane col-md-12\" id=\"common-5469175264478786631\">\n",
              "            \n",
              "<table class=\"freq table table-hover\">\n",
              "    <thead>\n",
              "    <tr>\n",
              "        <td class=\"fillremaining\">Value</td>\n",
              "        <td class=\"number\">Count</td>\n",
              "        <td class=\"number\">Frequency (%)</td>\n",
              "        <td style=\"min-width:200px\">&nbsp;</td>\n",
              "    </tr>\n",
              "    </thead>\n",
              "    <tr class=\"\">\n",
              "        <td class=\"fillremaining\">1639.5631</td>\n",
              "        <td class=\"number\">2</td>\n",
              "        <td class=\"number\">0.1%</td>\n",
              "        <td>\n",
              "            <div class=\"bar\" style=\"width:1%\">&nbsp;</div>\n",
              "        </td>\n",
              "</tr><tr class=\"\">\n",
              "        <td class=\"fillremaining\">8825.086</td>\n",
              "        <td class=\"number\">1</td>\n",
              "        <td class=\"number\">0.1%</td>\n",
              "        <td>\n",
              "            <div class=\"bar\" style=\"width:1%\">&nbsp;</div>\n",
              "        </td>\n",
              "</tr><tr class=\"\">\n",
              "        <td class=\"fillremaining\">43254.41795</td>\n",
              "        <td class=\"number\">1</td>\n",
              "        <td class=\"number\">0.1%</td>\n",
              "        <td>\n",
              "            <div class=\"bar\" style=\"width:1%\">&nbsp;</div>\n",
              "        </td>\n",
              "</tr><tr class=\"\">\n",
              "        <td class=\"fillremaining\">5257.50795</td>\n",
              "        <td class=\"number\">1</td>\n",
              "        <td class=\"number\">0.1%</td>\n",
              "        <td>\n",
              "            <div class=\"bar\" style=\"width:1%\">&nbsp;</div>\n",
              "        </td>\n",
              "</tr><tr class=\"\">\n",
              "        <td class=\"fillremaining\">1980.07</td>\n",
              "        <td class=\"number\">1</td>\n",
              "        <td class=\"number\">0.1%</td>\n",
              "        <td>\n",
              "            <div class=\"bar\" style=\"width:1%\">&nbsp;</div>\n",
              "        </td>\n",
              "</tr><tr class=\"\">\n",
              "        <td class=\"fillremaining\">4340.4409</td>\n",
              "        <td class=\"number\">1</td>\n",
              "        <td class=\"number\">0.1%</td>\n",
              "        <td>\n",
              "            <div class=\"bar\" style=\"width:1%\">&nbsp;</div>\n",
              "        </td>\n",
              "</tr><tr class=\"\">\n",
              "        <td class=\"fillremaining\">5375.0380000000005</td>\n",
              "        <td class=\"number\">1</td>\n",
              "        <td class=\"number\">0.1%</td>\n",
              "        <td>\n",
              "            <div class=\"bar\" style=\"width:1%\">&nbsp;</div>\n",
              "        </td>\n",
              "</tr><tr class=\"\">\n",
              "        <td class=\"fillremaining\">8219.2039</td>\n",
              "        <td class=\"number\">1</td>\n",
              "        <td class=\"number\">0.1%</td>\n",
              "        <td>\n",
              "            <div class=\"bar\" style=\"width:1%\">&nbsp;</div>\n",
              "        </td>\n",
              "</tr><tr class=\"\">\n",
              "        <td class=\"fillremaining\">1621.3402</td>\n",
              "        <td class=\"number\">1</td>\n",
              "        <td class=\"number\">0.1%</td>\n",
              "        <td>\n",
              "            <div class=\"bar\" style=\"width:1%\">&nbsp;</div>\n",
              "        </td>\n",
              "</tr><tr class=\"\">\n",
              "        <td class=\"fillremaining\">6986.696999999999</td>\n",
              "        <td class=\"number\">1</td>\n",
              "        <td class=\"number\">0.1%</td>\n",
              "        <td>\n",
              "            <div class=\"bar\" style=\"width:1%\">&nbsp;</div>\n",
              "        </td>\n",
              "</tr><tr class=\"other\">\n",
              "        <td class=\"fillremaining\">Other values (1327)</td>\n",
              "        <td class=\"number\">1327</td>\n",
              "        <td class=\"number\">99.2%</td>\n",
              "        <td>\n",
              "            <div class=\"bar\" style=\"width:100%\">&nbsp;</div>\n",
              "        </td>\n",
              "</tr>\n",
              "</table>\n",
              "        </div>\n",
              "        <div role=\"tabpanel\" class=\"tab-pane col-md-12\"  id=\"extreme-5469175264478786631\">\n",
              "            <p class=\"h4\">Minimum 5 values</p>\n",
              "            \n",
              "<table class=\"freq table table-hover\">\n",
              "    <thead>\n",
              "    <tr>\n",
              "        <td class=\"fillremaining\">Value</td>\n",
              "        <td class=\"number\">Count</td>\n",
              "        <td class=\"number\">Frequency (%)</td>\n",
              "        <td style=\"min-width:200px\">&nbsp;</td>\n",
              "    </tr>\n",
              "    </thead>\n",
              "    <tr class=\"\">\n",
              "        <td class=\"fillremaining\">1121.8739</td>\n",
              "        <td class=\"number\">1</td>\n",
              "        <td class=\"number\">0.1%</td>\n",
              "        <td>\n",
              "            <div class=\"bar\" style=\"width:100%\">&nbsp;</div>\n",
              "        </td>\n",
              "</tr><tr class=\"\">\n",
              "        <td class=\"fillremaining\">1131.5066</td>\n",
              "        <td class=\"number\">1</td>\n",
              "        <td class=\"number\">0.1%</td>\n",
              "        <td>\n",
              "            <div class=\"bar\" style=\"width:100%\">&nbsp;</div>\n",
              "        </td>\n",
              "</tr><tr class=\"\">\n",
              "        <td class=\"fillremaining\">1135.9407</td>\n",
              "        <td class=\"number\">1</td>\n",
              "        <td class=\"number\">0.1%</td>\n",
              "        <td>\n",
              "            <div class=\"bar\" style=\"width:100%\">&nbsp;</div>\n",
              "        </td>\n",
              "</tr><tr class=\"\">\n",
              "        <td class=\"fillremaining\">1136.3994</td>\n",
              "        <td class=\"number\">1</td>\n",
              "        <td class=\"number\">0.1%</td>\n",
              "        <td>\n",
              "            <div class=\"bar\" style=\"width:100%\">&nbsp;</div>\n",
              "        </td>\n",
              "</tr><tr class=\"\">\n",
              "        <td class=\"fillremaining\">1137.011</td>\n",
              "        <td class=\"number\">1</td>\n",
              "        <td class=\"number\">0.1%</td>\n",
              "        <td>\n",
              "            <div class=\"bar\" style=\"width:100%\">&nbsp;</div>\n",
              "        </td>\n",
              "</tr>\n",
              "</table>\n",
              "            <p class=\"h4\">Maximum 5 values</p>\n",
              "            \n",
              "<table class=\"freq table table-hover\">\n",
              "    <thead>\n",
              "    <tr>\n",
              "        <td class=\"fillremaining\">Value</td>\n",
              "        <td class=\"number\">Count</td>\n",
              "        <td class=\"number\">Frequency (%)</td>\n",
              "        <td style=\"min-width:200px\">&nbsp;</td>\n",
              "    </tr>\n",
              "    </thead>\n",
              "    <tr class=\"\">\n",
              "        <td class=\"fillremaining\">55135.402089999996</td>\n",
              "        <td class=\"number\">1</td>\n",
              "        <td class=\"number\">0.1%</td>\n",
              "        <td>\n",
              "            <div class=\"bar\" style=\"width:100%\">&nbsp;</div>\n",
              "        </td>\n",
              "</tr><tr class=\"\">\n",
              "        <td class=\"fillremaining\">58571.074479999996</td>\n",
              "        <td class=\"number\">1</td>\n",
              "        <td class=\"number\">0.1%</td>\n",
              "        <td>\n",
              "            <div class=\"bar\" style=\"width:100%\">&nbsp;</div>\n",
              "        </td>\n",
              "</tr><tr class=\"\">\n",
              "        <td class=\"fillremaining\">60021.39897</td>\n",
              "        <td class=\"number\">1</td>\n",
              "        <td class=\"number\">0.1%</td>\n",
              "        <td>\n",
              "            <div class=\"bar\" style=\"width:100%\">&nbsp;</div>\n",
              "        </td>\n",
              "</tr><tr class=\"\">\n",
              "        <td class=\"fillremaining\">62592.87309</td>\n",
              "        <td class=\"number\">1</td>\n",
              "        <td class=\"number\">0.1%</td>\n",
              "        <td>\n",
              "            <div class=\"bar\" style=\"width:100%\">&nbsp;</div>\n",
              "        </td>\n",
              "</tr><tr class=\"\">\n",
              "        <td class=\"fillremaining\">63770.42801</td>\n",
              "        <td class=\"number\">1</td>\n",
              "        <td class=\"number\">0.1%</td>\n",
              "        <td>\n",
              "            <div class=\"bar\" style=\"width:100%\">&nbsp;</div>\n",
              "        </td>\n",
              "</tr>\n",
              "</table>\n",
              "        </div>\n",
              "    </div>\n",
              "</div>\n",
              "</div><div class=\"row variablerow\">\n",
              "    <div class=\"col-md-3 namecol\">\n",
              "        <p class=\"h4 pp-anchor\" id=\"pp_var_children\">children<br/>\n",
              "            <small>Numeric</small>\n",
              "        </p>\n",
              "    </div><div class=\"col-md-6\">\n",
              "    <div class=\"row\">\n",
              "        <div class=\"col-sm-6\">\n",
              "            <table class=\"stats \">\n",
              "                <tr>\n",
              "                    <th>Distinct count</th>\n",
              "                    <td>6</td>\n",
              "                </tr>\n",
              "                <tr>\n",
              "                    <th>Unique (%)</th>\n",
              "                    <td>0.4%</td>\n",
              "                </tr>\n",
              "                <tr class=\"ignore\">\n",
              "                    <th>Missing (%)</th>\n",
              "                    <td>0.0%</td>\n",
              "                </tr>\n",
              "                <tr class=\"ignore\">\n",
              "                    <th>Missing (n)</th>\n",
              "                    <td>0</td>\n",
              "                </tr>\n",
              "                <tr class=\"ignore\">\n",
              "                    <th>Infinite (%)</th>\n",
              "                    <td>0.0%</td>\n",
              "                </tr>\n",
              "                <tr class=\"ignore\">\n",
              "                    <th>Infinite (n)</th>\n",
              "                    <td>0</td>\n",
              "                </tr>\n",
              "            </table>\n",
              "\n",
              "        </div>\n",
              "        <div class=\"col-sm-6\">\n",
              "            <table class=\"stats \">\n",
              "\n",
              "                <tr>\n",
              "                    <th>Mean</th>\n",
              "                    <td>1.0949</td>\n",
              "                </tr>\n",
              "                <tr>\n",
              "                    <th>Minimum</th>\n",
              "                    <td>0</td>\n",
              "                </tr>\n",
              "                <tr>\n",
              "                    <th>Maximum</th>\n",
              "                    <td>5</td>\n",
              "                </tr>\n",
              "                <tr class=\"alert\">\n",
              "                    <th>Zeros (%)</th>\n",
              "                    <td>42.9%</td>\n",
              "                </tr>\n",
              "            </table>\n",
              "        </div>\n",
              "    </div>\n",
              "</div>\n",
              "<div class=\"col-md-3 collapse in\" id=\"minihistogram5672166983736220529\">\n",
              "    <img src=\"data:image/png;base64,iVBORw0KGgoAAAANSUhEUgAAAMgAAABLCAYAAAA1fMjoAAAABHNCSVQICAgIfAhkiAAAAAlwSFlzAAAPYQAAD2EBqD%2BnaQAAADl0RVh0U29mdHdhcmUAbWF0cGxvdGxpYiB2ZXJzaW9uIDMuMC4zLCBodHRwOi8vbWF0cGxvdGxpYi5vcmcvnQurowAAAR9JREFUeJzt3MEJwkAQQFEjlmQR9uTZnizCnta7yCcKJlHfuwf28hkYNjuNMcYOeGq/9gFgyw5rH%2BDR8Xx9%2BZvb5fSBk4AJAkkgEAQCQSAQBAJBIBAEAkEgEAQCQSAQBAJBIBAEAkEgEAQCQSAQBAJBIBAEAkEgEDb3aMNSPA7BHCYIBIFAEAgEgUAQCIS/3WItwabs%2B5kgEAQCQSAQBAJBIBAEAsGa9we8uk62Sp7PBIEgEAgCgSAQCAKBIBAIAoEgEAgCgSAQCK6aMMs7f0e%2BY2vXYEwQCNMYY6x9CNgqEwSCQCAIBIJAIAgEgkAgCASCQCAIBIJAIAgEgkAgCASCQCAIBIJAIAgEgkAgCASCQCAIBIJAIAgEgkAgCATCHZp4F5ekfW3yAAAAAElFTkSuQmCC\">\n",
              "\n",
              "</div>\n",
              "<div class=\"col-md-12 text-right\">\n",
              "    <a role=\"button\" data-toggle=\"collapse\" data-target=\"#descriptives5672166983736220529,#minihistogram5672166983736220529\"\n",
              "       aria-expanded=\"false\" aria-controls=\"collapseExample\">\n",
              "        Toggle details\n",
              "    </a>\n",
              "</div>\n",
              "<div class=\"row collapse col-md-12\" id=\"descriptives5672166983736220529\">\n",
              "    <ul class=\"nav nav-tabs\" role=\"tablist\">\n",
              "        <li role=\"presentation\" class=\"active\"><a href=\"#quantiles5672166983736220529\"\n",
              "                                                  aria-controls=\"quantiles5672166983736220529\" role=\"tab\"\n",
              "                                                  data-toggle=\"tab\">Statistics</a></li>\n",
              "        <li role=\"presentation\"><a href=\"#histogram5672166983736220529\" aria-controls=\"histogram5672166983736220529\"\n",
              "                                   role=\"tab\" data-toggle=\"tab\">Histogram</a></li>\n",
              "        <li role=\"presentation\"><a href=\"#common5672166983736220529\" aria-controls=\"common5672166983736220529\"\n",
              "                                   role=\"tab\" data-toggle=\"tab\">Common Values</a></li>\n",
              "        <li role=\"presentation\"><a href=\"#extreme5672166983736220529\" aria-controls=\"extreme5672166983736220529\"\n",
              "                                   role=\"tab\" data-toggle=\"tab\">Extreme Values</a></li>\n",
              "\n",
              "    </ul>\n",
              "\n",
              "    <div class=\"tab-content\">\n",
              "        <div role=\"tabpanel\" class=\"tab-pane active row\" id=\"quantiles5672166983736220529\">\n",
              "            <div class=\"col-md-4 col-md-offset-1\">\n",
              "                <p class=\"h4\">Quantile statistics</p>\n",
              "                <table class=\"stats indent\">\n",
              "                    <tr>\n",
              "                        <th>Minimum</th>\n",
              "                        <td>0</td>\n",
              "                    </tr>\n",
              "                    <tr>\n",
              "                        <th>5-th percentile</th>\n",
              "                        <td>0</td>\n",
              "                    </tr>\n",
              "                    <tr>\n",
              "                        <th>Q1</th>\n",
              "                        <td>0</td>\n",
              "                    </tr>\n",
              "                    <tr>\n",
              "                        <th>Median</th>\n",
              "                        <td>1</td>\n",
              "                    </tr>\n",
              "                    <tr>\n",
              "                        <th>Q3</th>\n",
              "                        <td>2</td>\n",
              "                    </tr>\n",
              "                    <tr>\n",
              "                        <th>95-th percentile</th>\n",
              "                        <td>3</td>\n",
              "                    </tr>\n",
              "                    <tr>\n",
              "                        <th>Maximum</th>\n",
              "                        <td>5</td>\n",
              "                    </tr>\n",
              "                    <tr>\n",
              "                        <th>Range</th>\n",
              "                        <td>5</td>\n",
              "                    </tr>\n",
              "                    <tr>\n",
              "                        <th>Interquartile range</th>\n",
              "                        <td>2</td>\n",
              "                    </tr>\n",
              "                </table>\n",
              "            </div>\n",
              "            <div class=\"col-md-4 col-md-offset-2\">\n",
              "                <p class=\"h4\">Descriptive statistics</p>\n",
              "                <table class=\"stats indent\">\n",
              "                    <tr>\n",
              "                        <th>Standard deviation</th>\n",
              "                        <td>1.2055</td>\n",
              "                    </tr>\n",
              "                    <tr>\n",
              "                        <th>Coef of variation</th>\n",
              "                        <td>1.101</td>\n",
              "                    </tr>\n",
              "                    <tr>\n",
              "                        <th>Kurtosis</th>\n",
              "                        <td>0.20245</td>\n",
              "                    </tr>\n",
              "                    <tr>\n",
              "                        <th>Mean</th>\n",
              "                        <td>1.0949</td>\n",
              "                    </tr>\n",
              "                    <tr>\n",
              "                        <th>MAD</th>\n",
              "                        <td>0.98541</td>\n",
              "                    </tr>\n",
              "                    <tr class=\"\">\n",
              "                        <th>Skewness</th>\n",
              "                        <td>0.93838</td>\n",
              "                    </tr>\n",
              "                    <tr>\n",
              "                        <th>Sum</th>\n",
              "                        <td>1465</td>\n",
              "                    </tr>\n",
              "                    <tr>\n",
              "                        <th>Variance</th>\n",
              "                        <td>1.4532</td>\n",
              "                    </tr>\n",
              "                    <tr>\n",
              "                        <th>Memory size</th>\n",
              "                        <td>10.5 KiB</td>\n",
              "                    </tr>\n",
              "                </table>\n",
              "            </div>\n",
              "        </div>\n",
              "        <div role=\"tabpanel\" class=\"tab-pane col-md-8 col-md-offset-2\" id=\"histogram5672166983736220529\">\n",
              "            <img src=\"data:image/png;base64,iVBORw0KGgoAAAANSUhEUgAAAlgAAAGQCAYAAAByNR6YAAAABHNCSVQICAgIfAhkiAAAAAlwSFlzAAAPYQAAD2EBqD%2BnaQAAADl0RVh0U29mdHdhcmUAbWF0cGxvdGxpYiB2ZXJzaW9uIDMuMC4zLCBodHRwOi8vbWF0cGxvdGxpYi5vcmcvnQurowAAIABJREFUeJzt3X9UVXW%2B//EXcAIFBUFD78UKb5qJMBb%2BoCFHFEtLr940FPHOLW9aaiRL0hl/ZemN0kJX3y60TJqbM9as6YyuUiR/LUdj6isz9/bD5oDmLdKZYunAICfS8Ac/vn/0jXtPWqJ%2Bdvvs7fOxlqv87H32ee33WtSLvTeHkLa2tjYBAADAmFC7AwAAALgNBQsAAMAwChYAAIBhFCwAAADDKFgAAACGUbAAAAAMo2ABAAAYRsECAAAwjIIFAABgGAULAADAMAoWAACAYRQsAAAAwyhYAAAAhlGwAAAADKNgAQAAGEbBAgAAMIyCBQAAYBgFCwAAwDAKFgAAgGEULAAAAMMoWAAAAIZRsAAAAAyjYAEAABhGwQIAADCMggUAAGAYBQsAAMAwChYAAIBhFCwAAADDKFgAAACGUbAAAAAMo2ABAAAYRsECAAAwjIIFAABgGAULAADAMAoWAACAYRQsAAAAw1xdsNatW6fhw4frlltu0YwZM/T5559LkioqKpSVlaXU1FSNHz9epaWlAa/buHGjxo4dq9TUVOXk5KiystKO%2BAAAwKFcW7B%2B/etfq7S0VBs3btQ777yjvn376pe//KVqa2v18MMPa9q0aaqoqNCyZcu0fPly%2BXw%2BSdLevXtVVFSkZ599Vvv379eoUaM0Z84cffXVVzafEQAAcIqQtra2NrtDWGH06NFatGiRxowZE7D%2BH//xHyorK9Mbb7zRvpafn6%2BuXbvq3/7t3zR79mwlJiZqyZIlkqTW1laNGDFCS5Ys0fjx43/QcwAAAM7ksTuAFf7617/q888/1xdffKFx48apvr5eaWlpWrFihaqqqpSUlBSwf1JSknbs2CFJqqqq0rhx49q3hYaGasCAAfL5fB0uWLW1taqrqwtY83giFR8ff4VnFigkJEQxMZ31xRdNcmlPtg2ztQ6ztRbztQ6ztY6Vs42NjTJ6vI5yZcE6fvy4JGnnzp3asGGD2tralJeXp8cee0ynT59Wz549A/bv1q2bGhoaJEl%2Bv18xMTEB22NiYtq3d4TX61VxcXHAWm5urvLy8i7ndC6qW7dIS44LZmslZmst5msdZmsdN83WlQXrm/Y7a9as9jI1b948Pfjgg0pPT%2B/w6y9Xdna2MjMzA9Y8nkg1NJy6ouN%2BW1hYqKKjO6uxsUktLa1Gj321Y7bWYbbWYr7WYbbWsXK2XMEyqEePHpKk6Ojo9rWEhAS1tbXp3Llz8vv9Afs3NDQoLi5OkhQbG3vedr/fr379%2BnX4/ePj48%2B7HVhX96Wam635gmxpabXs2Fc7ZmsdZmst5msdZmsdN83WlT9F2KtXL3Xp0kWHDh1qX6upqdE111yjjIyM8z52obKyUoMGDZIkJScnq6qqqn1bS0uLDh482L4dAADgYlxZsDwej7KysvTiiy/qz3/%2Bs%2Brr6/XCCy9owoQJmjRpkmpqarRp0yadOXNG5eXlKi8v19SpUyVJOTk52rJliw4cOKCmpiatW7dO4eHhGjlypL0nBQAAHMOVtwglacGCBTp79qymTJmic%2BfOaezYsXrssccUFRWl9evXq6CgQCtXrlRCQoIKCwt18803S5JGjBihRx99VPPnz1d9fb1SUlJUUlKiTp062XxGAADAKVz7OVjBpq7uS%2BPH9HhCFRsbpYaGU665Zx0smK11mK21mK91mK11rJzttdd2NXq8jnLlLUIAAAA7UbAAAAAMo2ABAAAYRsECAAAwjIIFAABgGAULAADAMAoWAACAYa79oNGrxZBlO%2B2O0GE75t9udwQAAH4QXMECAAAwjIIFAABgGAULAADAMAoWAACAYRQsAAAAwyhYAAAAhlGwAAAADKNgAQAAGEbBAgAAMIyCBQAAYBgFCwAAwDAKFgAAgGEULAAAAMMoWAAAAIZRsAAAAAyjYAEAABhGwQIAADCMggUAAGAYBQsAAMAwChYAAIBhFCwAAADDKFgAAACGUbAAAAAMo2ABAAAYRsECAAAwjIIFAABgGAULAADAMAoWAACAYRQsAAAAwyhYAAAAhlGwAAAADKNgAQAAGEbBAgAAMIyCBQAAYJhrC1b//v2VnJyslJSU9j9PPvmkJKmiokJZWVlKTU3V%2BPHjVVpaGvDajRs3auzYsUpNTVVOTo4qKyvtOAUAAOBQHrsDWGnnzp3q3bt3wFptba0efvhhLVu2TBMmTNB7772nuXPnqk%2BfPkpJSdHevXtVVFSkX/ziF%2Brfv782btyoOXPmaPfu3YqMjLTpTAAAgJO49grWd9m2bZsSExOVlZWliIgIpaenKzMzU5s2bZIkeb1eTZ48WYMGDVKnTp00a9YsSdK%2BffvsjA0AABzE1QVr7dq1GjlypIYMGaLly5fr1KlTqqqqUlJSUsB%2BSUlJ7bcBv709NDRUAwYMkM/n%2B0GzAwAA53LtLcJbbrlF6enpeuaZZ/TZZ59p/vz5Wrlypfx%2Bv3r27Bmwb7du3dTQ0CBJ8vv9iomJCdgeExPTvr0jamtrVVdXF7Dm8UQqPj7%2BMs/mwsLCnNWPPR7n5P1mtk6bsRMwW2sxX%2BswW%2Bu4cbauLVher7f932%2B88UYtXLhQc%2BfO1eDBgy/62ra2tit%2B7%2BLi4oC13Nxc5eXlXdFxnS42NsruCJcsOrqz3RFci9lai/lah9lax02zdW3B%2BrbevXurpaVFoaGh8vv9AdsaGhoUFxcnSYqNjT1vu9/vV79%2B/Tr8XtnZ2crMzAxY83gi1dBw6jLTX5jTmr7p87dSWFiooqM7q7GxSS0trXbHcRVmay3max1max0rZ2vXN/euLFgHDx5UaWmpFi9e3L5WXV2t8PBwZWRk6I033gjYv7KyUoMGDZIkJScnq6qqSpMmTZIktbS06ODBg8rKyurw%2B8fHx593O7Cu7ks1N1/dX5BOPP%2BWllZH5nYCZmst5msdZmsdN83WWZdAOqh79%2B7yer0qKSnR2bNndeTIET3//PPKzs7WP/3TP6mmpkabNm3SmTNnVF5ervLyck2dOlWSlJOToy1btujAgQNqamrSunXrFB4erpEjR9p7UgAAwDFceQWrZ8%2BeKikp0dq1a9sL0qRJk5Sfn6%2BIiAitX79eBQUFWrlypRISElRYWKibb75ZkjRixAg9%2Buijmj9/vurr65WSkqKSkhJ16tTJ5rMCAABOEdJ2pU90o0Pq6r40fkyPJ1R3rnnb%2BHGtsmP%2B7XZH6DCPJ1SxsVFqaDjlmsvVwYLZWov5WofZWsfK2V57bVejx%2BsoV94iBAAAsBMFCwAAwDAKFgAAgGEULAAAAMMoWAAAAIZRsAAAAAyjYAEAABhGwQIAADCMggUAAGAYBQsAAMAwChYAAIBhFCwAAADDKFgAAACGUbAAAAAMo2ABAAAYRsECAAAwjIIFAABgGAULAADAMAoWAACAYRQsAAAAwyhYAAAAhlGwAAAADKNgAQAAGEbBAgAAMIyCBQAAYBgFCwAAwDAKFgAAgGEULAAAAMMoWAAAAIZRsAAAAAyjYAEAABhGwQIAADCMggUAAGAYBQsAAMAwChYAAIBhFCwAAADDKFgAAACGUbAAAAAMo2ABAAAYRsECAAAwjIIFAABgGAULAADAsKuiYD399NPq379/%2B98rKiqUlZWl1NRUjR8/XqWlpQH7b9y4UWPHjlVqaqpycnJUWVn5Q0cGAAAO5vqCdejQIW3durX977W1tXr44Yc1bdo0VVRUaNmyZVq%2BfLl8Pp8kae/evSoqKtKzzz6r/fv3a9SoUZozZ46%2B%2Buoru04BAAA4jKsLVmtrq5544gnNmDGjfW3btm1KTExUVlaWIiIilJ6erszMTG3atEmS5PV6NXnyZA0aNEidOnXSrFmzJEn79u2z4xQAAIADubpgvfbaa4qIiNCECRPa16qqqpSUlBSwX1JSUvttwG9vDw0N1YABA9qvcAEAAFyMx%2B4AVvnb3/6moqIivfLKKwHrfr9fPXv2DFjr1q2bGhoa2rfHxMQEbI%2BJiWnf3hG1tbWqq6sLWPN4IhUfH38pp3BRYWHO6scej3PyfjNbp83YCZittZivdZitddw4W9cWrFWrVmny5Mnq27evPv/880t6bVtb2xW9t9frVXFxccBabm6u8vLyrui4ThcbG2V3hEsWHd3Z7giuxWytxXytw2yt46bZurJgVVRU6IMPPlBZWdl522JjY%2BX3%2BwPWGhoaFBcX953b/X6/%2BvXr1%2BH3z87OVmZmZsCaxxOphoZTHT5GRzit6Zs%2BfyuFhYUqOrqzGhub1NLSanccV2G21mK%2B1mG21rFytnZ9c%2B/KglVaWqr6%2BnqNGjVK0v9ckUpLS9MDDzxwXvGqrKzUoEGDJEnJycmqqqrSpEmTJEktLS06ePCgsrKyOvz%2B8fHx590OrKv7Us3NV/cXpBPPv6Wl1ZG5nYDZWov5WofZWsdNs3XWJZAOWrx4sXbt2qWtW7dq69atKikpkSRt3bpVEyZMUE1NjTZt2qQzZ86ovLxc5eXlmjp1qiQpJydHW7Zs0YEDB9TU1KR169YpPDxcI0eOtPGMAACAk7jyClZMTEzAg%2BrNzc2SpF69ekmS1q9fr4KCAq1cuVIJCQkqLCzUzTffLEkaMWKEHn30Uc2fP1/19fVKSUlRSUmJOnXq9MOfCAAAcCRXFqxv6927tw4fPtz%2B96FDhwZ8%2BOi3TZ8%2BXdOnT/8hogEAABdy5S1CAAAAO1GwAAAADKNgAQAAGEbBAgAAMIyCBQAAYBgFCwAAwDAKFgAAgGEULAAAAMMoWAAAAIZRsAAAAAyjYAEAABhGwQIAADCMggUAAGBY0BWszMxMFRcX69ixY3ZHAQAAuCxBV7Duvfdebd%2B%2BXXfccYdmzZql3bt3q7m52e5YAAAAHRZ0BSs3N1fbt2/Xb3/7W/Xr109PP/20MjIyVFhYqCNHjtgdDwAA4KKCrmB9Y%2BDAgVq0aJH27dunpUuX6re//a3GjRunmTNn6k9/%2BpPd8QAAAL5T0Basc%2BfOafv27XrwwQe1aNEi9ezZU0uWLNGAAQM0Y8YMbdu2ze6IAAAAF%2BSxO8C3VVdXa/PmzdqyZYtOnTqlsWPH6le/%2BpUGDx7cvs/QoUO1YsUKTZgwwcakAAAAFxZ0BWv8%2BPHq06ePZs%2BerXvuuUfdunU7b5%2BMjAydOHHChnQAAAAXF3QFa%2BPGjRo2bNhF9/vwww9/gDQAAACXLuiewerfv7/mzJmjPXv2tK/98pe/1IMPPii/329jMgAAgI4JuoK1atUqffnll%2Brbt2/72siRI9Xa2qrVq1fbmAwAAKBjgu4W4TvvvKNt27YpNja2fS0xMVFr1qzRP/7jP9qYDAAAoGOC7grW6dOnFRERcd56aGiompqabEgEAABwaYKuYA0dOlSrV6/WF1980b7217/%2BVStXrgz4qAYAAIBgFXS3CJcuXaoHHnhAP/7xj9WlSxe1trbq1KlTuu666/TKK6/YHQ8AAOCigq5gXXfddXrzzTf1%2B9//Xn/5y18UGhqqPn36aPjw4QoLC7M7HgAAwEUFXcGSpPDwcN1xxx12xwAAALgsQVewPvvsM61du1Yff/yxTp8%2Bfd723/3udzakAgAA6LigK1hLly5VbW2thg8frsjISLvjAAAAXLKgK1iVlZX63e9%2Bp7i4OLujAAAAXJag%2B5iG7t27c%2BUKAAA4WtAVrNmzZ6u4uFhtbW12RwEAALgsQXeL8Pe//73ef/99vf766%2Brdu7dCQwM74GuvvWZTMlxthizbaXeES7Jj/u12RwAA/H9BV7C6dOmiESNG2B0DAADgsgVdwVq1apXdEQAAAK5I0D2DJUmffvqpioqKtGTJkva1Dz74wMZEAAAAHRd0BauiokITJ07U7t27VVZWJunrDx%2B97777%2BJBRAADgCEFXsJ577jn97Gc/07Zt2xQSEiLp699PuHr1ar3wwgs2pwMAALi4oCtY//3f/62cnBxJai9YknTXXXepurrarlgAAAAdFnQFq2vXrhf8HYS1tbUKDw%2B3IREAAMClCbqClZqaqqefflonT55sXzty5IgWLVqkH//4xx0%2BzkcffaT7779fgwcPVnp6uubPn6%2B6ujpJXz/nlZWVpdTUVI0fP16lpaUBr924caPGjh2r1NRU5eTkqLKy0szJAQCAq0LQFawlS5bogw8%2BUFpams6cOaPU1FSNGzdOfr9fixcv7tAxzp49qwceeEDDhg1TRUWFysrKVF9frxUrVqi2tlYPP/ywpk2bpoqKCi1btkzLly%2BXz%2BeTJO3du1dFRUV69tlntX//fo0aNUpz5szRV199ZeVpAwAAFwm6z8Hq1auXysrKVF5eriNHjqhTp07q06ePbr/99oBnsr5PU1OT8vPzNWnSJHk8HsXFxenOO%2B/Uq6%2B%2Bqm3btikxMVFZWVmSpPT0dGVmZmrTpk1KSUmR1%2BvV5MmTNWjQIEnSrFmztHHjRu3bt0/jx4%2B37LwBAIB7BF3BkqRrrrlGd9xxx2W/PiYmRlOmTGn/%2B6effqo33nhDd999t6qqqpSUlBSwf1JSknbs2CFJqqqq0rhx49q3hYaGasCAAfL5fBQsAADQIUFXsDIzM7/3StWlfBZWTU2Nxo4dq%2BbmZk2dOlV5eXl68MEH1bNnz4D9unXrpoaGBkmS3%2B9XTExMwPaYmJj27R1RW1vb/rzXNzyeSMXHx3f4GB0RFhZ0d3i/l8fjnLxOm63knPl%2BM1snztgJmK91mK113DjboCtY48aNCyhYLS0tOnLkiHw%2Bn%2B6///5LOlZCQoJ8Pp/%2B/Oc/6/HHH9fPf/7zDr2ura3tkt7n27xer4qLiwPWcnNzlZeXd0XHdbrY2Ci7I7ia0%2BYbHd3Z7giuxnytw2yt46bZBl3BWrhw4QXXd%2B3apT/%2B8Y%2BXfLyQkBAlJiYqPz9f06ZNU0ZGhvx%2Bf8A%2BDQ0NiouLkyTFxsaet93v96tfv34dfs/s7GxlZmYGrHk8kWpoOHXJ%2Bb%2BP05q%2B6fO3ktNmKzlnvmFhoYqO7qzGxia1tLTaHcd1mK91mK11rJytXd98Bl3B%2Bi533HGHHn/8cT3%2B%2BOMX3beiokIrVqzQjh07FBr69f8ov/nnj370I%2B3atStg/8rKyvaH2pOTk1VVVaVJkyZJ%2BvoK2sGDB9sfiu%2BI%2BPj4824H1tV9qebmq/sL8mo/f6s5bb4tLa2Oy%2BwkzNc6zNY6bpqtY75NP3jwYIdv3SUnJ%2BvkyZMqLCxUU1OTTpw4oaKiIg0ZMkQ5OTmqqanRpk2bdObMGZWXl6u8vFxTp06VJOXk5GjLli06cOCAmpqatG7dOoWHh2vkyJEWnh0AAHCToLuCNW3atPPWmpqaVF1drTFjxnToGF27dtXLL7%2BsgoIC3XbbbYqMjNRtt92mp556St27d9f69etVUFCglStXKiEhQYWFhbr55pslSSNGjNCjjz6q%2BfPnq76%2BXikpKSopKVGnTp2MnicAAHCvoCtYiYmJ5/0UYUREhLKysgI%2BeuFi%2Bvfvr1deeeWC24YOHaqtW7d%2B52unT5%2Bu6dOnd/i9AAAA/regK1irV6%2B2OwIAAMAVCbqCtWXLlg7ve88991iYBAAA4PIEXcFatmyZWltbz3ugPSQkJGAtJCSEggUAAIJS0BWsX/ziF3r55Zc1Z84c9e/fX21tbTp8%2BLBeeukl/fSnP1VaWprdEQEAAL5X0BWs1atXq6SkJODX2QwZMkTXXXedZs6cqbKyMhvTAQAAXFzQfQ7W0aNHz/tdgJIUHR2tmpoaGxIBAABcmqArWAkJCVq9enXAL1dubGzU2rVrdf3119uYDAAAoGOC7hbh0qVLtWDBAnm9XkVFRSk0NFQnT55Up06d9MILL9gdDwAA4KKCrmANHz5cb731lsrLy3X8%2BHG1tbWpZ8%2Be%2BslPfqKuXbvaHQ8AAOCigq5gSVLnzp01evRoHT9%2BXNddd53dcQAAAC5J0D2Ddfr0aS1atEi33nqr7r77bklfP4M1a9YsNTY22pwOAADg4oKuYBUWFurQoUNas2aNQkP/J15LS4vWrFljYzIAAICOCbqCtWvXLv37v/%2B77rrrrvZf%2BhwdHa1Vq1Zp9%2B7dNqcDAAC4uKArWKdOnVJiYuJ563Fxcfrqq69%2B%2BEAAAACXKOgK1vXXX68//vGPkhTwuwd37typv//7v7crFgAAQIcF3U8RTp8%2BXfPmzdO9996r1tZWbdiwQZWVldq1a5eWLVtmdzwAAICLCrqClZ2dLY/Ho1dffVVhYWF68cUX1adPH61Zs0Z33XWX3fEAAAAuKugK1okTJ3Tvvffq3nvvtTsKAADAZQm6Z7BGjx4d8OwVAACA0wRdwUpLS9OOHTvsjgEAAHDZgu4W4d/93d/pqaeeUklJia6//npdc801AdvXrl1rUzIAAICOCbqC9cknn%2Bgf/uEfJEkNDQ02pwEAALh0QVOw8vPz9dxzz%2BmVV15pX3vhhReUm5trYyoAAIBLFzTPYO3du/e8tZKSEhuSAAAAXJmgKVgX%2BslBfpoQAAA4UdAUrG9%2BsfPF1gAAAIJd0DyDBeDqMWTZTrsjXJId82%2B3OwIAhwmaK1gAAABuETRXsM6dO6cFCxZcdI3PwQIAAMEuaArW4MGDVVtbe9E1AACAYBc0Bet/f/4VAACAk/EMFgAAgGEULAAAAMMoWAAAAIZRsAAAAAyjYAEAABhGwQIAADCMggUAAGAYBQsAAMAwChYAAIBhFCwAAADDKFgAAACGubZg1dTUKDc3V2lpaUpPT9fixYvV2NgoSTp06JB%2B%2BtOfavDgwRozZoxefvnlgNdu375dEyZM0K233qrJkyfrnXfeseMUAACAQ7m2YM2ZM0fR0dHau3evXn/9dX388cd65plndPr0ac2ePVu33Xab3n77bT333HNav369du/eLenr8rVo0SItXLhQf/jDHzRjxgw98sgjOn78uM1nBAAAnMKVBauxsVHJyclasGCBoqKi1KtXL02aNEnvvvuu3nrrLZ07d05z585VZGSkBg4cqClTpsjr9UqSNm3apIyMDGVkZCgiIkITJ07UTTfdpNLSUpvPCgAAOIUrC1Z0dLRWrVqlHj16tK8dO3ZM8fHxqqqqUv/%2B/RUWFta%2BLSkpSZWVlZKkqqoqJSUlBRwvKSlJPp/vhwkPAAAcz2N3gB%2BCz%2BfTq6%2B%2BqnXr1mnHjh2Kjo4O2N6tWzf5/X61trbK7/crJiYmYHtMTIw%2B%2BeSTDr9fbW2t6urqAtY8nkjFx8df/klcQFiYs/qxx%2BOcvE6breSc%2BTJba30zXyfOOdgxW%2Bu4cbauL1jvvfee5s6dqwULFig9PV07duy44H4hISHt/97W1nZF7%2Bn1elVcXBywlpubq7y8vCs6rtPFxkbZHcHVmK91nDjb6OjOdkdwLWZrHTfN1tUFa%2B/evfrZz36m5cuX65577pEkxcXF6ejRowH7%2Bf1%2BdevWTaGhoYqNjZXf7z9ve1xcXIffNzs7W5mZmQFrHk%2BkGhpOXd6JfAenNX3T528lp81Wcs58ma21wsJCFR3dWY2NTWppabU7jqswW%2BtYOVu7vkFybcF6//33tWjRIj3//PMaPnx4%2B3pycrJ%2B85vfqLm5WR7P16fv8/k0aNCg9u3fPI/1DZ/Pp/Hjx3f4vePj48%2B7HVhX96Wam6/uL8ir/fytxnyt48TZtrS0OjK3EzBb67hpts77VrIDmpub9dhjj2nhwoUB5UqSMjIy1KVLF61bt05NTU368MMPtXnzZuXk5EiSpk6dqv379%2Butt97SmTNntHnzZh09elQTJ06041QAAIADufIK1oEDB1RdXa2CggIVFBQEbNu5c6defPFFPfHEEyopKVGPHj2Un5%2BvkSNHSpJuuukmrVmzRqtWrVJNTY369u2r9evX69prr7XhTAAAgBO5smANGTJEhw8f/t59fvOb33zntjFjxmjMmDGmYwEAgKuEK28RAgAA2ImCBQAAYBgFCwAAwDAKFgAAgGEULAAAAMMoWAAAAIZRsAAAAAyjYAEAABhGwQIAADCMggUAAGAYBQsAAMAwChYAAIBhFCwAAADDKFgAAACGUbAAAAAMo2ABAAAYRsECAAAwzGN3AACAWUOW7bQ7QoftmH%2B73REAS3AFCwAAwDAKFgAAgGEULAAAAMMoWAAAAIZRsAAAAAyjYAEAABhGwQIAADCMggUAAGAYBQsAAMAwChYAAIBhFCwAAADDKFgAAACGUbAAAAAMo2ABAAAYRsECAAAwjIIFAABgGAULAADAMAoWAACAYRQsAAAAwyhYAAAAhlGwAAAADKNgAQAAGEbBAgAAMIyCBQAAYJhrC9bbb7%2Bt9PR05efnn7dt%2B/btmjBhgm699VZNnjxZ77zzTvu21tZWPffccxo9erSGDh2qmTNn6rPPPvshowMAAIdzZcF66aWXVFBQoBtuuOG8bYcOHdKiRYu0cOFC/eEPf9CMGTP0yCOP6Pjx45KkX//619q2bZtKSkq0b98%2BJSYmKjc3V21tbT/0aQAAAIdyZcGKiIjQ5s2bL1iwNm3apIyMDGVkZCgiIkITJ07UTTfdpNLSUkmS1%2BvVjBkzdOONN6pLly7Kz89XdXW1Pvzwwx/6NAAAgEO5smDdd9996tq16wW3VVVVKSkpKWAtKSlJPp9Pp0%2Bf1ieffBKwvUuXLrrhhhvk8/kszQwAANzDY3eAH5rf71dMTEzAWkxMjD755BN98cUXamtru%2BD2hoaGDr9HbW2t6urqAtY8nkjFx8dffvALCAtzVj/2eJyT12mzlZwzX2ZrLafN14mzddqMncCNs73qCpakiz5PdaXPW3m9XhUXFwes5ebmKi8v74qO63SxsVF2R3A15msdZmsdJ842Orqz3RFcy02zveoKVmxsrPx%2Bf8Ca3%2B9XXFycunXrptDQ0Atu7969e4ffIzs7W5mZmQFrHk%2BkGhpOXX7wC3Ba0zd9/lZy2mwl58yX2VrLafN12myjozursbFJLS2tdsdxFStna1eJv%2BoKVnJysiorKwPWfD6fxo%2B1IsARAAAJQElEQVQfr4iICPXr109VVVUaNmyYJKmxsVF/%2Bctf9KMf/ajD7xEfH3/e7cC6ui/V3Hx1f0Fe7edvNeZrHWZrHSfOtqWl1ZG5ncBNs3XWtzoGTJ06Vfv379dbb72lM2fOaPPmzTp69KgmTpwoScrJydHGjRtVXV2tkydPas2aNRowYIBSUlJsTg4AAJzClVewvilDzc3NkqQ9e/ZI%2BvpK1U033aQ1a9Zo1apVqqmpUd%2B%2BfbV%2B/Xpde%2B21kqRp06aprq5O//Iv/6JTp04pLS3tvOepAAAAvo8rC9bFPlJhzJgxGjNmzAW3hYSEKC8v76p/IB0AAFy%2Bq%2B4WIQAAgNUoWAAAAIZRsAAAAAyjYAEAABhGwQIAADCMggUAAGAYBQsAAMAwChYAAIBhFCwAAADDKFgAAACGUbAAAAAMo2ABAAAYRsECAAAwjIIFAABgGAULAADAMAoWAACAYRQsAAAAwyhYAAAAhlGwAAAADKNgAQAAGEbBAgAAMIyCBQAAYBgFCwAAwDAKFgAAgGEULAAAAMMoWAAAAIZRsAAAAAyjYAEAABhGwQIAADCMggUAAGAYBQsAAMAwChYAAIBhFCwAAADDKFgAAACGeewOAACAUwxZttPuCJdkx/zb7Y5w1eIKFgAAgGEULAAAAMO4RQgAgEvd/X/%2Br90ROuzdp%2B6yO4JRXMECAAAwjIIFAABgGAULAADAMAoWAACAYRQsAAAAwyhYF1BTU6OHHnpIaWlpGjVqlAoLC9Xa2mp3LAAA4BB8TMMFzJs3TwMHDtSePXtUX1%2Bv2bNnq0ePHvrXf/1Xu6MBAAAH4ArWt/h8Pn300UdauHChunbtqsTERM2YMUNer9fuaAAAwCG4gvUtVVVVSkhIUExMTPvawIEDdeTIEZ08eVJdunS56DFqa2tVV1cXsObxRCo%2BPt5o1rAwZ/Vjj8c5eZ02W8k582W21nLafJkt/jc3zZiC9S1%2Bv1/R0dEBa9%2BUrYaGhg4VLK/Xq%2BLi4oC1Rx55RPPmzTMXVF8Xuft7fazs7Gzj5e1qx2ytw2ytxXytw2ytU1tbq6KiIlfN1j1V0aC2trYren12drZef/31gD/Z2dmG0v2Puro6FRcXn3e1DFeO2VqH2VqL%2BVqH2VrHjbPlCta3xMXFye/3B6z5/X6FhIQoLi6uQ8eIj493TQMHAACXjitY35KcnKxjx47pxIkT7Ws%2Bn099%2B/ZVVFSUjckAAIBTULC%2BJSkpSSkpKVq7dq1Onjyp6upqbdiwQTk5OXZHAwAADhG2YsWKFXaHCDY/%2BclPVFZWpieffFJvvvmmsrKyNHPmTIWEhNgd7TxRUVEaNmwYV9cswGytw2ytxXytw2yt47bZhrRd6RPdAAAACMAtQgAAAMMoWAAAAIZRsAAAAAyjYAEAABhGwQIAADCMggUAAGAYBQsAAMAwChYAAIBhFCwAAADDKFgOVFNTo4ceekhpaWkaNWqUCgsL1draancs13j77beVnp6u/Px8u6O4Tk1NjXJzc5WWlqb09HQtXrxYjY2NdsdyhY8%2B%2Bkj333%2B/Bg8erPT0dM2fP191dXV2x3Kdp59%2BWv3797c7hqv0799fycnJSklJaf/z5JNP2h3rilGwHGjevHnq2bOn9uzZow0bNmjPnj361a9%2BZXcsV3jppZdUUFCgG264we4orjRnzhxFR0dr7969ev311/Xxxx/rmWeesTuW4509e1YPPPCAhg0bpoqKCpWVlam%2Bvl78qlmzDh06pK1bt9odw5V27twpn8/X/mf58uV2R7piFCyH8fl8%2Buijj7Rw4UJ17dpViYmJmjFjhrxer93RXCEiIkKbN2%2BmYFmgsbFRycnJWrBggaKiotSrVy9NmjRJ7777rt3RHK%2BpqUn5%2BfmaPXu2wsPDFRcXpzvvvFMff/yx3dFco7W1VU888YRmzJhhdxQ4BAXLYaqqqpSQkKCYmJj2tYEDB%2BrIkSM6efKkjcnc4b777lPXrl3tjuFK0dHRWrVqlXr06NG%2BduzYMcXHx9uYyh1iYmI0ZcoUeTweSdKnn36qN954Q3fffbfNydzjtddeU0REhCZMmGB3FFdau3atRo4cqSFDhmj58uU6deqU3ZGuGAXLYfx%2Bv6KjowPWvilbDQ0NdkQCLovP59Orr76quXPn2h3FNWpqapScnKxx48YpJSVFeXl5dkdyhb/97W8qKirSE088YXcUV7rllluUnp6u3bt3y%2Bv16sCBA1q5cqXdsa4YBcuB2tra7I4AXJH33ntPM2fO1IIFC5Senm53HNdISEiQz%2BfTzp07dfToUf385z%2B3O5IrrFq1SpMnT1bfvn3tjuJKXq9XU6ZMUXh4uG688UYtXLhQZWVlOnv2rN3RrggFy2Hi4uLk9/sD1vx%2Bv0JCQhQXF2dTKqDj9u7dq4ceekhLly7VfffdZ3cc1wkJCVFiYqLy8/NVVlamEydO2B3J0SoqKvTBBx8oNzfX7ihXjd69e6ulpUX19fV2R7kiFCyHSU5O1rFjxwL%2Bo%2Bnz%2BdS3b19FRUXZmAy4uPfff1%2BLFi3S888/r3vuucfuOK5RUVGhsWPHBnxcS2jo1/95v%2Baaa%2ByK5QqlpaWqr6/XqFGjlJaWpsmTJ0uS0tLS9Oabb9qczvkOHjyo1atXB6xVV1crPDzc8c9nUrAcJikpSSkpKVq7dq1Onjyp6upqbdiwQTk5OXZHA75Xc3OzHnvsMS1cuFDDhw%2B3O46rJCcn6%2BTJkyosLFRTU5NOnDihoqIiDRkyhB/auEKLFy/Wrl27tHXrVm3dulUlJSWSpK1btyozM9PmdM7XvXt3eb1elZSU6OzZszpy5Iief/55ZWdnKywszO54VySkjQd6HOf48eNavny5/vM//1NdunTRtGnT9MgjjygkJMTuaI6XkpIi6esyIKn9p7J8Pp9tmdzi3Xff1T//8z8rPDz8vG07d%2B5UQkKCDanc4/DhwyooKNCf/vQnRUZG6rbbbtPixYvVs2dPu6O5yueff67Ro0fr8OHDdkdxjf/6r//S2rVrdfjwYYWHh2vSpEnKz89XRESE3dGuCAULAADAMG4RAgAAGEbBAgAAMIyCBQAAYBgFCwAAwDAKFgAAgGEULAAAAMMoWAAAAIZRsAAAAAyjYAEAABhGwQIAADCMggUAAGAYBQsAAMAwChYAAIBh/w%2BCbRLbio5E3gAAAABJRU5ErkJggg%3D%3D\"/>\n",
              "        </div>\n",
              "        <div role=\"tabpanel\" class=\"tab-pane col-md-12\" id=\"common5672166983736220529\">\n",
              "            \n",
              "<table class=\"freq table table-hover\">\n",
              "    <thead>\n",
              "    <tr>\n",
              "        <td class=\"fillremaining\">Value</td>\n",
              "        <td class=\"number\">Count</td>\n",
              "        <td class=\"number\">Frequency (%)</td>\n",
              "        <td style=\"min-width:200px\">&nbsp;</td>\n",
              "    </tr>\n",
              "    </thead>\n",
              "    <tr class=\"\">\n",
              "        <td class=\"fillremaining\">0</td>\n",
              "        <td class=\"number\">574</td>\n",
              "        <td class=\"number\">42.9%</td>\n",
              "        <td>\n",
              "            <div class=\"bar\" style=\"width:100%\">&nbsp;</div>\n",
              "        </td>\n",
              "</tr><tr class=\"\">\n",
              "        <td class=\"fillremaining\">1</td>\n",
              "        <td class=\"number\">324</td>\n",
              "        <td class=\"number\">24.2%</td>\n",
              "        <td>\n",
              "            <div class=\"bar\" style=\"width:56%\">&nbsp;</div>\n",
              "        </td>\n",
              "</tr><tr class=\"\">\n",
              "        <td class=\"fillremaining\">2</td>\n",
              "        <td class=\"number\">240</td>\n",
              "        <td class=\"number\">17.9%</td>\n",
              "        <td>\n",
              "            <div class=\"bar\" style=\"width:42%\">&nbsp;</div>\n",
              "        </td>\n",
              "</tr><tr class=\"\">\n",
              "        <td class=\"fillremaining\">3</td>\n",
              "        <td class=\"number\">157</td>\n",
              "        <td class=\"number\">11.7%</td>\n",
              "        <td>\n",
              "            <div class=\"bar\" style=\"width:28%\">&nbsp;</div>\n",
              "        </td>\n",
              "</tr><tr class=\"\">\n",
              "        <td class=\"fillremaining\">4</td>\n",
              "        <td class=\"number\">25</td>\n",
              "        <td class=\"number\">1.9%</td>\n",
              "        <td>\n",
              "            <div class=\"bar\" style=\"width:5%\">&nbsp;</div>\n",
              "        </td>\n",
              "</tr><tr class=\"\">\n",
              "        <td class=\"fillremaining\">5</td>\n",
              "        <td class=\"number\">18</td>\n",
              "        <td class=\"number\">1.3%</td>\n",
              "        <td>\n",
              "            <div class=\"bar\" style=\"width:4%\">&nbsp;</div>\n",
              "        </td>\n",
              "</tr>\n",
              "</table>\n",
              "        </div>\n",
              "        <div role=\"tabpanel\" class=\"tab-pane col-md-12\"  id=\"extreme5672166983736220529\">\n",
              "            <p class=\"h4\">Minimum 5 values</p>\n",
              "            \n",
              "<table class=\"freq table table-hover\">\n",
              "    <thead>\n",
              "    <tr>\n",
              "        <td class=\"fillremaining\">Value</td>\n",
              "        <td class=\"number\">Count</td>\n",
              "        <td class=\"number\">Frequency (%)</td>\n",
              "        <td style=\"min-width:200px\">&nbsp;</td>\n",
              "    </tr>\n",
              "    </thead>\n",
              "    <tr class=\"\">\n",
              "        <td class=\"fillremaining\">0</td>\n",
              "        <td class=\"number\">574</td>\n",
              "        <td class=\"number\">42.9%</td>\n",
              "        <td>\n",
              "            <div class=\"bar\" style=\"width:100%\">&nbsp;</div>\n",
              "        </td>\n",
              "</tr><tr class=\"\">\n",
              "        <td class=\"fillremaining\">1</td>\n",
              "        <td class=\"number\">324</td>\n",
              "        <td class=\"number\">24.2%</td>\n",
              "        <td>\n",
              "            <div class=\"bar\" style=\"width:56%\">&nbsp;</div>\n",
              "        </td>\n",
              "</tr><tr class=\"\">\n",
              "        <td class=\"fillremaining\">2</td>\n",
              "        <td class=\"number\">240</td>\n",
              "        <td class=\"number\">17.9%</td>\n",
              "        <td>\n",
              "            <div class=\"bar\" style=\"width:42%\">&nbsp;</div>\n",
              "        </td>\n",
              "</tr><tr class=\"\">\n",
              "        <td class=\"fillremaining\">3</td>\n",
              "        <td class=\"number\">157</td>\n",
              "        <td class=\"number\">11.7%</td>\n",
              "        <td>\n",
              "            <div class=\"bar\" style=\"width:28%\">&nbsp;</div>\n",
              "        </td>\n",
              "</tr><tr class=\"\">\n",
              "        <td class=\"fillremaining\">4</td>\n",
              "        <td class=\"number\">25</td>\n",
              "        <td class=\"number\">1.9%</td>\n",
              "        <td>\n",
              "            <div class=\"bar\" style=\"width:5%\">&nbsp;</div>\n",
              "        </td>\n",
              "</tr>\n",
              "</table>\n",
              "            <p class=\"h4\">Maximum 5 values</p>\n",
              "            \n",
              "<table class=\"freq table table-hover\">\n",
              "    <thead>\n",
              "    <tr>\n",
              "        <td class=\"fillremaining\">Value</td>\n",
              "        <td class=\"number\">Count</td>\n",
              "        <td class=\"number\">Frequency (%)</td>\n",
              "        <td style=\"min-width:200px\">&nbsp;</td>\n",
              "    </tr>\n",
              "    </thead>\n",
              "    <tr class=\"\">\n",
              "        <td class=\"fillremaining\">1</td>\n",
              "        <td class=\"number\">324</td>\n",
              "        <td class=\"number\">24.2%</td>\n",
              "        <td>\n",
              "            <div class=\"bar\" style=\"width:100%\">&nbsp;</div>\n",
              "        </td>\n",
              "</tr><tr class=\"\">\n",
              "        <td class=\"fillremaining\">2</td>\n",
              "        <td class=\"number\">240</td>\n",
              "        <td class=\"number\">17.9%</td>\n",
              "        <td>\n",
              "            <div class=\"bar\" style=\"width:74%\">&nbsp;</div>\n",
              "        </td>\n",
              "</tr><tr class=\"\">\n",
              "        <td class=\"fillremaining\">3</td>\n",
              "        <td class=\"number\">157</td>\n",
              "        <td class=\"number\">11.7%</td>\n",
              "        <td>\n",
              "            <div class=\"bar\" style=\"width:48%\">&nbsp;</div>\n",
              "        </td>\n",
              "</tr><tr class=\"\">\n",
              "        <td class=\"fillremaining\">4</td>\n",
              "        <td class=\"number\">25</td>\n",
              "        <td class=\"number\">1.9%</td>\n",
              "        <td>\n",
              "            <div class=\"bar\" style=\"width:8%\">&nbsp;</div>\n",
              "        </td>\n",
              "</tr><tr class=\"\">\n",
              "        <td class=\"fillremaining\">5</td>\n",
              "        <td class=\"number\">18</td>\n",
              "        <td class=\"number\">1.3%</td>\n",
              "        <td>\n",
              "            <div class=\"bar\" style=\"width:6%\">&nbsp;</div>\n",
              "        </td>\n",
              "</tr>\n",
              "</table>\n",
              "        </div>\n",
              "    </div>\n",
              "</div>\n",
              "</div><div class=\"row variablerow\">\n",
              "    <div class=\"col-md-3 namecol\">\n",
              "        <p class=\"h4 pp-anchor\" id=\"pp_var_region\">region<br/>\n",
              "            <small>Categorical</small>\n",
              "        </p>\n",
              "    </div><div class=\"col-md-3\">\n",
              "    <table class=\"stats \">\n",
              "        <tr class=\"\">\n",
              "            <th>Distinct count</th>\n",
              "            <td>4</td>\n",
              "        </tr>\n",
              "        <tr>\n",
              "            <th>Unique (%)</th>\n",
              "            <td>0.3%</td>\n",
              "        </tr>\n",
              "        <tr class=\"ignore\">\n",
              "            <th>Missing (%)</th>\n",
              "            <td>0.0%</td>\n",
              "        </tr>\n",
              "        <tr class=\"ignore\">\n",
              "            <th>Missing (n)</th>\n",
              "            <td>0</td>\n",
              "        </tr>\n",
              "    </table>\n",
              "</div>\n",
              "<div class=\"col-md-6 collapse in\" id=\"minifreqtable-3860353719008557072\">\n",
              "    <table class=\"mini freq\">\n",
              "        <tr class=\"\">\n",
              "    <th>southeast</th>\n",
              "    <td>\n",
              "        <div class=\"bar\" style=\"width:100%\" data-toggle=\"tooltip\" data-placement=\"right\" data-html=\"true\"\n",
              "             data-delay=500 title=\"Percentage: 27.2%\">\n",
              "            364\n",
              "        </div>\n",
              "        \n",
              "    </td>\n",
              "</tr><tr class=\"\">\n",
              "    <th>southwest</th>\n",
              "    <td>\n",
              "        <div class=\"bar\" style=\"width:89%\" data-toggle=\"tooltip\" data-placement=\"right\" data-html=\"true\"\n",
              "             data-delay=500 title=\"Percentage: 24.3%\">\n",
              "            325\n",
              "        </div>\n",
              "        \n",
              "    </td>\n",
              "</tr><tr class=\"\">\n",
              "    <th>northwest</th>\n",
              "    <td>\n",
              "        <div class=\"bar\" style=\"width:89%\" data-toggle=\"tooltip\" data-placement=\"right\" data-html=\"true\"\n",
              "             data-delay=500 title=\"Percentage: 24.3%\">\n",
              "            325\n",
              "        </div>\n",
              "        \n",
              "    </td>\n",
              "</tr>\n",
              "    </table>\n",
              "</div>\n",
              "<div class=\"col-md-12 text-right\">\n",
              "    <a role=\"button\" data-toggle=\"collapse\" data-target=\"#freqtable-3860353719008557072, #minifreqtable-3860353719008557072\"\n",
              "       aria-expanded=\"true\" aria-controls=\"collapseExample\">\n",
              "        Toggle details\n",
              "    </a>\n",
              "</div>\n",
              "<div class=\"col-md-12 extrapadding collapse\" id=\"freqtable-3860353719008557072\">\n",
              "    \n",
              "<table class=\"freq table table-hover\">\n",
              "    <thead>\n",
              "    <tr>\n",
              "        <td class=\"fillremaining\">Value</td>\n",
              "        <td class=\"number\">Count</td>\n",
              "        <td class=\"number\">Frequency (%)</td>\n",
              "        <td style=\"min-width:200px\">&nbsp;</td>\n",
              "    </tr>\n",
              "    </thead>\n",
              "    <tr class=\"\">\n",
              "        <td class=\"fillremaining\">southeast</td>\n",
              "        <td class=\"number\">364</td>\n",
              "        <td class=\"number\">27.2%</td>\n",
              "        <td>\n",
              "            <div class=\"bar\" style=\"width:100%\">&nbsp;</div>\n",
              "        </td>\n",
              "</tr><tr class=\"\">\n",
              "        <td class=\"fillremaining\">southwest</td>\n",
              "        <td class=\"number\">325</td>\n",
              "        <td class=\"number\">24.3%</td>\n",
              "        <td>\n",
              "            <div class=\"bar\" style=\"width:89%\">&nbsp;</div>\n",
              "        </td>\n",
              "</tr><tr class=\"\">\n",
              "        <td class=\"fillremaining\">northwest</td>\n",
              "        <td class=\"number\">325</td>\n",
              "        <td class=\"number\">24.3%</td>\n",
              "        <td>\n",
              "            <div class=\"bar\" style=\"width:89%\">&nbsp;</div>\n",
              "        </td>\n",
              "</tr><tr class=\"\">\n",
              "        <td class=\"fillremaining\">northeast</td>\n",
              "        <td class=\"number\">324</td>\n",
              "        <td class=\"number\">24.2%</td>\n",
              "        <td>\n",
              "            <div class=\"bar\" style=\"width:89%\">&nbsp;</div>\n",
              "        </td>\n",
              "</tr>\n",
              "</table>\n",
              "</div>\n",
              "</div><div class=\"row variablerow\">\n",
              "    <div class=\"col-md-3 namecol\">\n",
              "        <p class=\"h4 pp-anchor\" id=\"pp_var_sex\">sex<br/>\n",
              "            <small>Categorical</small>\n",
              "        </p>\n",
              "    </div><div class=\"col-md-3\">\n",
              "    <table class=\"stats \">\n",
              "        <tr class=\"\">\n",
              "            <th>Distinct count</th>\n",
              "            <td>2</td>\n",
              "        </tr>\n",
              "        <tr>\n",
              "            <th>Unique (%)</th>\n",
              "            <td>0.1%</td>\n",
              "        </tr>\n",
              "        <tr class=\"ignore\">\n",
              "            <th>Missing (%)</th>\n",
              "            <td>0.0%</td>\n",
              "        </tr>\n",
              "        <tr class=\"ignore\">\n",
              "            <th>Missing (n)</th>\n",
              "            <td>0</td>\n",
              "        </tr>\n",
              "    </table>\n",
              "</div>\n",
              "<div class=\"col-md-6 collapse in\" id=\"minifreqtable7042694555152560016\">\n",
              "    <table class=\"mini freq\">\n",
              "        <tr class=\"\">\n",
              "    <th>male</th>\n",
              "    <td>\n",
              "        <div class=\"bar\" style=\"width:100%\" data-toggle=\"tooltip\" data-placement=\"right\" data-html=\"true\"\n",
              "             data-delay=500 title=\"Percentage: 50.5%\">\n",
              "            676\n",
              "        </div>\n",
              "        \n",
              "    </td>\n",
              "</tr><tr class=\"\">\n",
              "    <th>female</th>\n",
              "    <td>\n",
              "        <div class=\"bar\" style=\"width:97%\" data-toggle=\"tooltip\" data-placement=\"right\" data-html=\"true\"\n",
              "             data-delay=500 title=\"Percentage: 49.5%\">\n",
              "            662\n",
              "        </div>\n",
              "        \n",
              "    </td>\n",
              "</tr>\n",
              "    </table>\n",
              "</div>\n",
              "<div class=\"col-md-12 text-right\">\n",
              "    <a role=\"button\" data-toggle=\"collapse\" data-target=\"#freqtable7042694555152560016, #minifreqtable7042694555152560016\"\n",
              "       aria-expanded=\"true\" aria-controls=\"collapseExample\">\n",
              "        Toggle details\n",
              "    </a>\n",
              "</div>\n",
              "<div class=\"col-md-12 extrapadding collapse\" id=\"freqtable7042694555152560016\">\n",
              "    \n",
              "<table class=\"freq table table-hover\">\n",
              "    <thead>\n",
              "    <tr>\n",
              "        <td class=\"fillremaining\">Value</td>\n",
              "        <td class=\"number\">Count</td>\n",
              "        <td class=\"number\">Frequency (%)</td>\n",
              "        <td style=\"min-width:200px\">&nbsp;</td>\n",
              "    </tr>\n",
              "    </thead>\n",
              "    <tr class=\"\">\n",
              "        <td class=\"fillremaining\">male</td>\n",
              "        <td class=\"number\">676</td>\n",
              "        <td class=\"number\">50.5%</td>\n",
              "        <td>\n",
              "            <div class=\"bar\" style=\"width:100%\">&nbsp;</div>\n",
              "        </td>\n",
              "</tr><tr class=\"\">\n",
              "        <td class=\"fillremaining\">female</td>\n",
              "        <td class=\"number\">662</td>\n",
              "        <td class=\"number\">49.5%</td>\n",
              "        <td>\n",
              "            <div class=\"bar\" style=\"width:97%\">&nbsp;</div>\n",
              "        </td>\n",
              "</tr>\n",
              "</table>\n",
              "</div>\n",
              "</div><div class=\"row variablerow\">\n",
              "    <div class=\"col-md-3 namecol\">\n",
              "        <p class=\"h4 pp-anchor\" id=\"pp_var_smoker\">smoker<br/>\n",
              "            <small>Categorical</small>\n",
              "        </p>\n",
              "    </div><div class=\"col-md-3\">\n",
              "    <table class=\"stats \">\n",
              "        <tr class=\"\">\n",
              "            <th>Distinct count</th>\n",
              "            <td>2</td>\n",
              "        </tr>\n",
              "        <tr>\n",
              "            <th>Unique (%)</th>\n",
              "            <td>0.1%</td>\n",
              "        </tr>\n",
              "        <tr class=\"ignore\">\n",
              "            <th>Missing (%)</th>\n",
              "            <td>0.0%</td>\n",
              "        </tr>\n",
              "        <tr class=\"ignore\">\n",
              "            <th>Missing (n)</th>\n",
              "            <td>0</td>\n",
              "        </tr>\n",
              "    </table>\n",
              "</div>\n",
              "<div class=\"col-md-6 collapse in\" id=\"minifreqtable8220905387691766736\">\n",
              "    <table class=\"mini freq\">\n",
              "        <tr class=\"\">\n",
              "    <th>no</th>\n",
              "    <td>\n",
              "        <div class=\"bar\" style=\"width:100%\" data-toggle=\"tooltip\" data-placement=\"right\" data-html=\"true\"\n",
              "             data-delay=500 title=\"Percentage: 79.5%\">\n",
              "            1064\n",
              "        </div>\n",
              "        \n",
              "    </td>\n",
              "</tr><tr class=\"\">\n",
              "    <th>yes</th>\n",
              "    <td>\n",
              "        <div class=\"bar\" style=\"width:26%\" data-toggle=\"tooltip\" data-placement=\"right\" data-html=\"true\"\n",
              "             data-delay=500 title=\"Percentage: 20.5%\">\n",
              "            274\n",
              "        </div>\n",
              "        \n",
              "    </td>\n",
              "</tr>\n",
              "    </table>\n",
              "</div>\n",
              "<div class=\"col-md-12 text-right\">\n",
              "    <a role=\"button\" data-toggle=\"collapse\" data-target=\"#freqtable8220905387691766736, #minifreqtable8220905387691766736\"\n",
              "       aria-expanded=\"true\" aria-controls=\"collapseExample\">\n",
              "        Toggle details\n",
              "    </a>\n",
              "</div>\n",
              "<div class=\"col-md-12 extrapadding collapse\" id=\"freqtable8220905387691766736\">\n",
              "    \n",
              "<table class=\"freq table table-hover\">\n",
              "    <thead>\n",
              "    <tr>\n",
              "        <td class=\"fillremaining\">Value</td>\n",
              "        <td class=\"number\">Count</td>\n",
              "        <td class=\"number\">Frequency (%)</td>\n",
              "        <td style=\"min-width:200px\">&nbsp;</td>\n",
              "    </tr>\n",
              "    </thead>\n",
              "    <tr class=\"\">\n",
              "        <td class=\"fillremaining\">no</td>\n",
              "        <td class=\"number\">1064</td>\n",
              "        <td class=\"number\">79.5%</td>\n",
              "        <td>\n",
              "            <div class=\"bar\" style=\"width:100%\">&nbsp;</div>\n",
              "        </td>\n",
              "</tr><tr class=\"\">\n",
              "        <td class=\"fillremaining\">yes</td>\n",
              "        <td class=\"number\">274</td>\n",
              "        <td class=\"number\">20.5%</td>\n",
              "        <td>\n",
              "            <div class=\"bar\" style=\"width:26%\">&nbsp;</div>\n",
              "        </td>\n",
              "</tr>\n",
              "</table>\n",
              "</div>\n",
              "</div>\n",
              "    <div class=\"row headerrow highlight\">\n",
              "        <h1>Correlations</h1>\n",
              "    </div>\n",
              "    <div class=\"row variablerow\">\n",
              "    <img src=\"data:image/png;base64,iVBORw0KGgoAAAANSUhEUgAAAmEAAAIXCAYAAADUjomXAAAABHNCSVQICAgIfAhkiAAAAAlwSFlzAAAPYQAAD2EBqD%2BnaQAAADl0RVh0U29mdHdhcmUAbWF0cGxvdGxpYiB2ZXJzaW9uIDMuMC4zLCBodHRwOi8vbWF0cGxvdGxpYi5vcmcvnQurowAAIABJREFUeJzs3XtYlHX%2B//EXjAgqAqJAHjBPecLDgpGFZYqaZhblZh620qwtU1FIy8wstay2NF3DMrfL02b%2BKG3LzF0LzWrLDn41QxQtNM8JBqOCIqf5/UHMOokK9z144/h8XBcX8LkP8567ZN68Pp978HI4HA4BAADgkvK2ugAAAIArEU0YAACABWjCAAAALEATBgAAYAGaMAAAAAvQhAEAAFiAJgwAAMACNGEAAAAWoAkDAACwAE0YAACABWpYXQAAc9q0aXPebT4%2BPgoKClKHDh105513qm/fvvLy8rqE1QEAzseLvx0JXN7KmrBOnTopJCTEZduZM2e0Z88eHT58WJLUs2dPzZs3TzVr1rzkdQIAXNGEAZe5siZs/vz56t27d7n7pKSk6PHHH9epU6c0cuRITZo06VKWCAAoB2vCgCtA7969NWHCBEnSihUrdObMGYsrAgCwJgy4Qtxyyy167rnndPr0ae3YsUORkZEu2zdt2qTly5frhx9%2BkN1ul7%2B/v9q2bas///nPuv3228s9p91u1%2BLFi/X5559r3759KigoUGBgoDp16qQHHnhAXbt2PeeY2NhYHTp0SP/4xz905swZzZkzRwcOHNCSJUvUpUsXSdLu3bu1aNEibd68WUePHlWNGjUUGhqq6667Tvfee2%2B56%2BBOnjyppUuXav369dq3b58KCwvVoEEDRUVFacSIEerYsaPL/gcPHlSvXr0kST/%2B%2BKMyMjL0xhtvaOvWrbLb7QoNDVWvXr2UmJio2rVrG7rmAHAhJGHAFSIoKMj59YkTJ1y2zZkzRyNGjNCnn34qf39/de3aVcHBwdq0aZMmTpyohIQEFRcXuxyTlZWlgQMHasGCBdqzZ4/at2%2Bv66%2B/XjVr1tRnn32m4cOHa9WqVeetZ8%2BePUpMTJSPj4%2Buv/56%2Bfn5SZK%2B%2B%2B47/fnPf9a//vUvnTlzRl26dFFkZKRyc3P17rvv6p577tGmTZtcznXo0CHdddddeu211/Tzzz%2Brbdu2uv766%2BVwOLRmzRrdc889Wrly5Xlr2bJli4YNG6a0tDS1bdtWzZs316FDh7Rs2TLFx8dX%2BBoDQKU4AFzWWrdu7WjdurXj008/veB%2BGRkZzn1//PFH5/gnn3ziaN26tSM6Otrx7bffuhzz3XffOWJiYhytW7d2LF682GXb888/72jdurWjb9%2B%2BjmPHjjnHi4qKHDNnznS0bt3a0aVLF0dubq7LcT179nS0bt3aERsb63jjjTfOqXPQoEGO1q1bO1566SVHcXGxy3nnzJnjaN26tWPAgAEuxwwbNszRunVrx8CBAx1Hjx51jhcXFztee%2B01R%2BvWrR0dOnRw7Nmzx7ntwIEDzuvRo0cPx8KFCx0lJSXO7f/617%2Bc23fu3HmhSwsAhpCEAVeITz75RJIUGBiodu3aOcffeOMNSdKkSZN03XXXuRwTHR2tJ554QpK0dOlSl22hoaG67bbbNHbsWNWvX985brPZlJiYKG9vb508eVI//PBDufWUlJTo4YcfPmd8586dkqSBAwfK2/t/P6JsNpvGjRuncePG6b777lNBQYEkadu2bdq8ebMk6eWXX1ZoaKjzGG9vb40dO1YREREqKCjQ//t//6/cWq655hr99a9/dXn7jri4OAUHBzsfAwDcjTVhwBXg888/15tvvilJeuihh1SjRuk//aNHjyotLU2S1KdPn3KP7d27t7y8vHT48GHt3btXzZs3lyT99a9/Pe/j1apVS/Xr11dWVpaysrLK3ef66693abLKBAQE6NixY1q7dq3Gjx/vss3b21tjxoxxGfvyyy8lld4l2rJly/M%2Bh7S0tHOmMcuUt%2BbNy8tL4eHhys7OVk5OTrnHAYAZNGGAh3jzzTf1/vvvu4wVFBTol19%2B0YEDBySVpksPPfSQc/vu3budXz/55JPnPXeNGjVUWFioX375xdmElZ3/888/1/bt25WZmakTJ07I8fu73pw8eVJSaeJVnrCwsHLHhw8frtmzZ%2Bv111/Xl19%2BqQEDBuiGG24475vS/vzzz5JK06zzadGihaTSdWjladq0abnjvr6%2BkqTCwsLznhsAjKIJAzzEjz/%2BeM6YzWZTvXr11KtXLw0ePFg333yzy/bjx487v16/fv1FH6OssZKk9PR0jRkzRgcPHjRUb2BgYLnjZVOUb775plJTU5WamipJCgkJUb9%2B/TR8%2BHCFh4efU1NAQMB5H6tu3bqSSpup/Px8500AZXjzWgBWoAkDPMSF3qz1fMrWQPn4%2BCg1NbXCf9IoPz9fjz76qA4fPqxmzZpp9OjRuuGGG1SvXj35%2BPhI%2Bt9bUVzsscvz8MMPa8iQIUpJSdHnn3%2Bur7/%2BWllZWfrnP/%2Bp5ORkvfzyy7r11lsr/DwdZ70ndXlToABgBZow4ApW9rYVhYWFysnJcS5Ev5gvvvhChw8flpeXlxYuXKirr776nH3y8/NN1RYQEKCBAwdq4MCBKi4u1tdff6358%2Bdr69atmjJliq6//nrVq1fPmaj98W03zla2zc/Pj9QLQLXBr4TAFax169bOr3/66acKH/fLL79IKl1LVV4Dtn//fv3222%2Bm6ytjs9l00003admyZQoLC1NeXp5z%2BrVsLdjZ69v%2BqGzbhdaNAcClRhMGXMFCQkIUEREhSXr33XfL3Wfv3r2Ki4tzvpWF9L81Vuf780fz5893fv3HN3m9kG3btumpp57SokWLyt1es2ZNNWjQQNL/kraydW67d%2B8utxErKSlxvj3HTTfdVOFaAKCq0YQBV7hRo0ZJktasWaMlS5a4rJ/at2%2Bfxo0bp/T0dB05csQ53rZtW0nSr7/%2BqpSUFOf46dOn9fzzzys1NdX5Z5HOd0dieWw2m1atWqV58%2BZp48aN52z/9NNPtXPnTvn4%2BCgqKkqS1L59e914442SpKeeekrZ2dnO/YuKivTKK68oIyNDdevW1ZAhQypcCwBUNdaEAVe4W265RQ8//LAWLlyoF198UcuWLVOLFi2Uk5OjnTt3qri4WO3bt9fEiROdx0RGRurGG2/Uf//7X8XHx6tz587y9fXV9u3bVaNGDS1evFgff/yxtm7dqmXLlmnXrl169NFHFR0dfcFaOnTooJEjR2rRokV65JFH1LhxY1199dXy9vbWwYMHndOgU6ZMUUhIiPO4F154QcOHD1dqaqpiY2PVunVr%2Bfr66qefflJOTo78/Pw0e/bs874tBgBYgSYMgCZMmKCYmBi9/fbb%2BuGHH7Rp0yb5%2BvqqQ4cO6t%2B/v4YNG3bOgva5c%2Bdq1qxZWr9%2BvbZv367Q0FD17dtXo0aNUtOmTXXVVVdpx44d2rJli3766acK33k5adIkRUdH64MPPtD27du1detWFRUVKSQkRAMGDNC99957zh8fDwsL08qVK7VkyRJ9%2Bumn%2Bumnn1RUVKSwsDDdcsstevDBB8tduwYAVvJynD33AAAAgEuCNWEAAAAWoAkDAACwAE0YAACABWjCAACAx/jyyy8VExOjxMTEC%2B5XUlKiOXPmqFevXoqOjtaDDz6oAwcOOLfb7XYlJCQoJiZGN954o6ZMmWL6L4H8EU0YAADwCP/4xz/0/PPPV%2Bhu6OXLl%2Bujjz7SwoUL9dlnn6lZs2YaM2aM870Sp06dqtOnT2vNmjVatWqVMjIyNGvWLLfWSxMGAAA8gq%2Bvr1auXFmhJiw5OVkjRoxQy5Yt5e/vr8TERGVkZGjbtm06duyYUlJSlJiYqODgYIWFhWn06NFatWqVCgsL3VYv7xMGAACqjczMTGVlZbmMhYSEKDQ09KLH3n///RV6jPz8fP38889q3769c8zf319XX321UlNTdfLkSdlsNrVp08a5PSIiQqdOndKePXtcxs2gCauoCr7R5GWjeXPpp5%2Bka66R9u61uhr3OXjQ6grcy2aTwsKko0elSvwNxmovKMjqCtzLy0uqVUs6fVrypLde3LDB6grcq3ZtKTa29HmdOmV1Ne5z%2B%2B3WPXYVvDYmz5unpKQkl7GxY8cqPj7ebY9x/PhxORwOBQYGuowHBgYqJydHQUFB8vf3d3mT6bJ9c3Jy3FYHTdiVKiio9AXe014MPY23d%2BkPOW9vz2rCPI2X1/8%2BPKkJ8zQ%2BPqX/jXx8rK4EFzB48GDFxsa6jJ39Z8rc6ULvV38p3sueJgwAABjj7f6l5aGhoRWaejQjKChI3t7estvtLuN2u13169dXcHCwcnNzVVxcLJvN5twmSfXr13dbHSzMBwAAVxRfX19dc801SktLc46dOHFC%2B/fvV6dOndSuXTs5HA6lp6c7t6empiogIEDNmzd3Wx00YQAAwBhvb/d/VJGjR4%2BqX79%2BzvcCGzp0qJYtW6aMjAzl5uZq1qxZateunTp27Kjg4GD17dtXc%2BfOVXZ2tn799VfNnz9fd999t2rUcN8kItORAADAI3Ts2FGSVFRUJElKSUmRVJpiFRYWau/evSooKJAkDRkyRFlZWbrvvvuUl5enrl27utwQMGPGDD377LPq1auXfHx8NGDAgIu%2BAWxleTkuxcozT%2BBpd0dGRkpbtkhRUdLWrVZX4z6ednekj48UGiplZkpufG8ay3naDSHe3v%2B7O7KkxOpq3MfT7o4MDJS6d5e%2B%2BEI6ftzqatzHyrsjfX3df84zZ9x/zmqKJAwAABhThdOHVwKuHgAAgAVIwgAAgDEkYaZw9QAAACxAEgYAAIwhCTOFJgwAABhDE2YKVw8AAMACJGEAAMAYkjBTuHoAAAAWIAkDAADGkISZQhMGAACMoQkzhasHAABgAZIwAABgDEmYKVw9AAAAC5CEAQAAY0jCTKEJAwAAxtCEmcLVAwAAsABJGAAAMIYkzBSuHgAAgAVIwgAAgDEkYabQhAEAAGNowkzh6gEAAFiAJAwAABhDEmYKVw8AAMACJGEAAMAYkjBTaMIAAIAxNGGmcPUAAAAsQBIGAACMIQkzhasHAABgAZIwAABgDEmYKTRhAADAGJowU7h6AAAAFiAJAwAAxpCEmUITBgAAjKEJM4WrBwAAYAGSMAAAYAxJmClcPQAAAAuQhAEAAGNIwkyhCQMAAMbQhJnC1QMAALAASRgAADCGJMwUrh4AAIAFSMIAAIAx1TAJO3TokKZPn65t27apdu3a6t%2B/vyZMmCDvP9Q6cuRIff/99y5jRUVFGjNmjMaOHav77rtPW7ZscTmuefPmWr16tdtqpQkDAADGVMMmLD4%2BXhEREUpJSdFvv/2mRx55RA0aNNADDzzgst%2BiRYtcvj9x4oT69%2B%2BvPn36OMeee%2B45DRw4sMpqrX5X73epqakaNmyYrr32WsXExOjZZ59VYWGhJOm9995TTEyMrr32Wr3yyiuaMmWKnnzySeexb7/9tm699VZ17txZt912m1JSUqx6GgAA4BJJTU1Venq6Jk6cqLp166pZs2YaMWKEkpOTL3rs3Llz1adPH7Vp0%2BYSVFqq2iZhiYmJuuOOO/TPf/5TR48e1ZAhQ9SqVStFRUVp6tSp%2Bvvf/64ePXroH//4h9577z3FxsZKkj755BMlJSXprbfeUtu2bbVhwwYlJCTok08%2BUaNGjSr02JmZmcrKynIZC2neXKFBQW5/npZp29b1s6fw8bG6AveqUcP1s6eohr89m%2BLl9b/PnvTcAgOtrsC9/P1dP8O8Kvj/vdzX4JAQhYaGXvTYtLQ0NW7cWIFn/b8bERGhvXv3Kjc3V/7n%2BW%2B/b98%2BffDBB%2BeENmvXrtVbb72lI0eOqHPnzpoxY4aaNm1q4FmVr9r%2BZP/ggw9Us2ZN2Ww2NWrUSNHR0dq%2Bfbtyc3PVpk0b9e3bV5L06KOP6r333nMet3LlSt19993q0KGDJOmWW25Rly5dtGbNGj388MMVeuzk5GQlJSW5jI0dP17x48e76dlVI%2B%2B8Y3UFqIjgYKsrQEX4%2BVldgXt17251BVUjKsrqCnAB5b4Gjx2r%2BPj4ix5rt9sVEBDgMlbWkOXk5Jy3CVu4cKH%2B/Oc/K/isn7UtW7ZUrVq1NGvWLJWUlOj555/XQw89pDVr1qhmzZqVfVrlqrZN2DfffKP58%2Bfrl19%2BUVFRkYqKitSvXz9lZWWpcePGzv1sNpvat2/v/H7//v366quvtHTpUueYw%2BFQq1atKvzYgwcPdiZrZUJuv10665yXvbZtSxuwYcOk9HSrq3Gf//zH6grcq0aN0gYsO1sqKrK6GvepW9fqCtzLy6u0AcvPlxwOq6txnz8sWr7s%2BfuXNmBbtki5uVZX4z5WNstVkISV%2BxocElLh4x2V/Ddot9v14Ycf6t///rfL%2BLRp01y%2BnzFjhrp27ar/%2B7//0w033FCpxzifatmEZWRkaPz48Zo0aZLuuece%2Bfn56fHHH1dRUZFKSkpU4w9TM2ffueDn56cJEyZo5MiRhh8/NDT03Nhz717D56vW0tOlrVutrsJ9fl836HGKijzruZWUWF2Be5X9DHI4POu5HT9udQVVIzfXc5/bpVYFTVi5r8EVFBwcLLvd7jJmt9vl5eXlknKdbf369WrevLnCw8MveG5/f38FBgbq6NGjhmorT7VcvLBz507VrFlT999/v/z8/ORwOLRz505JUv369XX48GHnvsXFxdqxY4fz%2B6ZNm2rXrl0u5zt8%2BHClO2MAAHB56dChg44cOaLs7GznWGpqqlq1aqU6deqUe8z69evVrVs3l7Hc3FxNmzbNpeHKzs5Wdnb2RZu1yqiWTVjjxo2Vn5%2BvnTt36vjx43rllVdUs2ZNZWZmqmvXrtq%2Bfbs2btyogoICvfHGG8rPz3ceO3jwYK1du1YbN25UUVGRvvnmGw0YMEDbtm2z8BkBAOCBvL3d/2FC%2B/bt1bFjR82ePVu5ubnKyMjQ4sWLNXToUElSv379tHnzZpdjdu7cqSZNmriM%2Bfv7a9u2bXr%2B%2Bedlt9t1/PhxTZ8%2BXW3atFFkZKSpGs9WLZuwyMhI/eUvf9G9996r2267TY0bN9ZTTz2l3bt365133lFCQoImTpyom2%2B%2BWTVq1FDXrl3l9fvdSd26ddOkSZM0Y8YMRUVFacaMGZo2bZr%2B9Kc/WfysAABAVZs3b54yMzPVrVs33X///brzzjs1bNgwSdLevXt16tQpl/2zsrLUoEGDc84zf/58ORwO9e3bVz169FBhYaEWLlx4zpu%2BmuHluAzn6QoKClzuTLj33nt17bXXKiEhoeoetOwWdE8RGVm6ODUqyrPWhB08aHUF7uXjI4WGSpmZnrUmzJPe7kUq/e29Vi3p9GnPWhO2YYPVFbhXYGDpIvYvvvCsNWG3327dY//%2BTgVutW6d%2B89ZTVXLJOxCDhw4oMjISG3YsEElJSX673//q61bt6q7p95KDQBAdVXNpiMvN9Xy7sgLCQ8P10svvaRXXnlFjz32mMLCwvTss88qivd9AQAAl5HLrgmTpNtvv123Wxm/AgCAKy65cjeuHgAAgAUuyyQMAABUAyRhptCEAQAAY2jCTOHqAQAAWIAkDAAAGEMSZgpXDwAAwAIkYQAAwBiSMFNowgAAgDE0YaZw9QAAACxAEgYAAIwhCTOFqwcAAGABkjAAAGAMSZgpNGEAAMAYmjBTuHoAAAAWIAkDAADGkISZwtUDAACwAEkYAAAwhiTMFJowAABgDE2YKVw9AAAAC5CEAQAAY0jCTOHqAQAAWIAkDAAAGEMSZgpNGAAAMIYmzBSuHgAAgAVIwgAAgDEkYabQhAEAAGNowkzh6gEAAFiAJAwAABhDEmYKVw8AAMACJGEAAMAYkjBTaMIAAIAxNGGmcPUAAAAsQBIGAACMIQkzhasHAABgAZIwAABgDEmYKTRhAADAGJowU7h6AAAAFiAJAwAAxpCEmcLVAwAAsABJGAAAMKYaJmGHDh3S9OnTtW3bNtWuXVv9%2B/fXhAkT5P2HWl977TW9/vrrqlHDtRX67LPP1KBBA505c0YzZ87Uxo0bdebMGXXt2lXTp09XvXr13FZr9bt6AADg8uDt7f4Pk%2BLj4xUWFqaUlBQtXrxYKSkpWrp0abn7xsXFKTU11eWjQYMGkqQ5c%2BYoLS1NycnJWrdunRwOhyZPnmy6vrPRhAEAAI%2BQmpqq9PR0TZw4UXXr1lWzZs00YsQIJScnV%2Bo8RUVFWrlypUaPHq2GDRsqKChICQkJ2rhxo44ePeq2epmOBAAAxlTBdGRmZqaysrJcxkJCQhQaGnrRY9PS0tS4cWMFBgY6xyIiIrR3717l5ubK39/fZf9du3ZpyJAh2r17txo2bKjJkyfrxhtv1P79%2B3Xy5ElFREQ4923ZsqX8/PyUlpamsLAwk8%2ByFE1YRR08aHUF7uXjU/r5P/%2BRCgutrcWdmjSxugL3ioyUtmyR%2BvWTtm61uhr3KSqyuoKqUbOm1RW4V6NGVlfgXrVqlX5u0ECqU8faWnBeycnJSkpKchkbO3as4uPjL3qs3W5XQECAy1hZQ5aTk%2BPShF111VUKDw/XhAkTFBoaquTkZI0aNUqrV6%2BW3W6XpHPOFRAQoJycHEPPqzw0YQAAwJgqSMIGDx6s2NhYl7GQkJAKH%2B9wOCq036BBgzRo0CDn9yNGjNDHH3%2Bs1atXq3v37pU6l1E0YQAAwJgqaMJCQ0MrNPVYnuDgYGeKVcZut8vLy0vBwcEXPb5x48bKzMx07mu321XnrNT0%2BPHjql%2B/vqHaysPCfAAA4BE6dOigI0eOKDs72zmWmpqqVq1auTRTkvT6669r06ZNLmMZGRkKDw9XeHi4AgMDlZaW5ty2e/duFRQUqEOHDm6rlyYMAAAYU83eoqJ9%2B/bq2LGjZs%2BerdzcXGVkZGjx4sUaOnSoJKlfv37avHmzpNKUa/r06dqzZ4/OnDmjRYsWaf/%2B/brrrrtks9l0zz33aMGCBTpy5IhycnL06quvqk%2BfPs63sHAHpiMBAIDHmDdvnqZOnapu3brJ399fQ4YM0bBhwyRJe/fu1alTpyRJEyZMkFS6Fsxut6tVq1ZasmSJrrrqKknSuHHjlJeXp7i4OBUVFalnz56aNm2aW2v1clT1qjNPceiQ1RW4l4%2BPFBoqZWZyd2R1VnZ3ZFQUd0dWdzabVFxsdRXu9cMPVlfgXrVqSe3bSzt2SKdPW12N%2B3TpYt1jv/ii%2B8/p5jdErc5IwgAAgDHV8M8WXU64egAAABYgCQMAAMaQhJnC1QMAALAASRgAADCGJMwUmjAAAGAMTZgpXD0AAAALkIQBAABjSMJM4eoBAABYgCQMAAAYQxJmCk0YAAAwhibMFK4eAACABUjCAACAMSRhpnD1AAAALEASBgAAjCEJM4UmDAAAGEMTZgpXDwAAwAIkYQAAwBiSMFNowgAAgDE0YaZw9QAAACxAEgYAAIwhCTOFqwcAAGABkjAAAGAMSZgpNGEAAMAYmjBTuHoAAAAWIAkDAADGkISZwtUDAACwAEkYAAAwhiTMFJowAABgDE2YKVw9AAAAC5CEAQAAY0jCTOHqAQAAWIAkDAAAGEMSZgpNGAAAMIYmzBSuHgAAgAVIwgAAgDEkYaZw9QAAACxAEgYAAIwhCTOFJgwAABhDE2YKVw8AAMACJGEAAMAYkjBTqu3VO3jwoNq0aaOMjAzT5xo5cqTmzp3rhqoAAADc44pIwhYtWmR1CQAAeJ5qmIQdOnRI06dP17Zt21S7dm31799fEyZMkHc5ta5YsUJLlixRZmammjZtqvj4ePXu3VuS9OSTT2r16tWy2WzO/X19fbV582a31XpFNGEAAKAKVMMmLD4%2BXhEREUpJSdFvv/2mRx55RA0aNNADDzzgst%2B6des0e/Zsvfnmm%2BrUqZM%2B%2BOADJSQk6N///rfCw8MlSY8%2B%2Bqji4%2BOrrNbqd/X%2BIDU1VQMGDFBkZKSGDx%2Buo0eP6ttvv1VUVJTWr1%2Bv2NhYRUZGau7cuUpNTdUdd9yhyMhIjR07VoWFhZKk%2B%2B67T7NmzbL4mQAAgKqUmpqq9PR0TZw4UXXr1lWzZs00YsQIJScnn7Nvfn6%2BHnvsMXXp0kU%2BPj4aNGiQ6tSpox9%2B%2BOGS1Vvtk7B3331XCxcuVJ06dTRmzBhNnTpVDz74oE6fPq1Nmzbp448/1rp16/Tkk09q165dWrJkiY4fP6477rhDGzZsUN%2B%2BfSv9mJmZmcrKynIZC5EUGhLipmdVDdSo4frZU0RGWl2Be7Vt6/oZuJRq1bK6Avfy83P9DPOqIAkr9zU4JEShoaEXPTYtLU2NGzdWYGCgcywiIkJ79%2B5Vbm6u/P39neNxcXEux544cUJ5eXkKCwtzjn3zzTdav3699u3bp5YtW2ratGnq0KGD0ad2jmr/CvyXv/xFjRo1kiSNGDFCCQkJGjFihEpKSjRs2DDVqlVLsbGxcjgc6tu3r4KDgxUcHKwWLVpo3759hh4zOTlZSUlJLmNjx4xR/Lhxpp9PtRMcbHUF7rVli9UVVI133rG6AlTEWWtHPEL79lZXUDVatLC6AlxAua/BY8dWaFrQbrcrICDAZaysIcvJyXFpws7mcDj09NNPq3PnzrruuuskSeHh4fL29tb48eNVp04dJSUlaeTIkVq3bp3q1atn5Kmdo9o3YS1btnR%2B3bRpUxUWFuq3336TJDVs2FBS6UI5SS7dq6%2Bvr86cOWPoMQcPHqzY2FiXsRBJysw0dL5qqUaN0gYsO1sqKrK6Gvfp18/qCtyrbdvSBmzYMCk93epq3Of7762uwP1sNqm42Ooq3GvXLqsrcC8/v9IGbM8eKT/f6mrcx8pmuQqSsHJfgysxE%2BVwOCr1eIWFhXryySf1888/a9myZc7xMWPGuOz3%2BOOPa82aNUpJSdGgQYMq9RjnU%2B2bsLPvZii7sGVN1x/vdCjvzgcjQkNDz409Dx2Sfl9j5lGKijzreW3danUFVSM93XOfG6qv06etrqBq5Od77nO71KqgCSv3NbiCgoODZbfbXcbsdru8vLwUXM7MT35%2BvkaPHq3Tp09r%2BfLlF0y4bDabGjZsqEw3BjLVfmH%2B3r17nV8fOHBAfn5%2BLnPd6GcmAAAgAElEQVS9AAAAktShQwcdOXJE2dnZzrHU1FS1atVKderUcdnX4XAoMTFRNWrU0JIlS1waMIfDoRdffFHpZ81AFBQUaP/%2B/c47J92h2jdhy5cvV1ZWlk6ePKmlS5c6378DAABYzNvb/R8mtG/fXh07dtTs2bOVm5urjIwMLV68WEOHDpUk9evXz/k%2BXx999JF%2B/vln/f3vf3fOsJXx8vLSwYMHNX36dB09elR5eXmaNWuWfHx83NqHVPsmbMiQIRo%2BfLi6d%2B%2BumjVr6qmnnrK6JAAAUE3NmzdPmZmZ6tatm%2B6//37deeedGjZsmKTS2bVTp05JklatWqVDhw7puuuuU8eOHZ0fTz/9tCRp5syZatasmQYOHKiYmBjt3LlTS5cuVe3atd1Wq5ejsivYrlSHDlldgXv5%2BEihoaU3G3jSmrAmTayuwL0iI0vv%2BIyK8qw1YZ50M0gZT1yYfwnfL%2BmSqFWrdBH7jh2etSasSxfrHnvTJvef84Yb3H/OaqraL8wHAADVVDV8x/zLCVcPAADAAiRhAADAGJIwU7h6AAAAFiAJAwAAxpCEmUITBgAAjKEJM4WrBwAAYAGSMAAAYAxJmCk0YQAAwBiaMFO4egAAABYgCQMAAMaQhJnC1QMAALAASRgAADCGJMwUmjAAAGAMTZgpXD0AAAALkIQBAABjSMJM4eoBAABYgCQMAAAYQxJmCk0YAAAwhibMFK4eAACABUjCAACAMSRhpnD1AAAALEASBgAAjCEJM4UmDAAAGEMTZgpXDwAAwAIkYQAAwBiSMFO4egAAABYgCQMAAMaQhJlCEwYAAIyhCTOFqwcAAGABkjAAAGAMSZgpXD0AAAALkIQBAABjSMJMoQkDAADG0ISZwtUDAACwAEkYAAAwhiTMFK4eAACABUjCAACAMSRhptCEAQAAY2jCTOHqAQAAWIAkDAAAGEMSZgpXDwAAwAI0YQAAwBhvb/d/mHTo0CE9/PDD6tq1q3r27KlXXnlFJSUl5e67bNky9e3bV1FRURo6dKi2b9/u3HbmzBk988wz6t69u7p27apx48YpJyfHdH1nowkDAADGVMMmLD4%2BXmFhYUpJSdHixYuVkpKipUuXnrPfhg0b9Nprr%2Bnll1/W119/rZ49e2rUqFE6deqUJGnOnDlKS0tTcnKy1q1bJ4fDocmTJ5uu72w0YQAAwCOkpqYqPT1dEydOVN26ddWsWTONGDFCycnJ5%2BybnJysgQMHqnPnzvLz89NDDz0kSfrss89UVFSklStXavTo0WrYsKGCgoKUkJCgjRs36ujRo26rl4X5AADAmCpYmJ%2BZmamsrCyXsZCQEIWGhl702LS0NDVu3FiBgYHOsYiICO3du1e5ubny9/d32bd///7O7729vdWuXTulpqaqXbt2OnnypCIiIpzbW7ZsKT8/P6WlpSksLMzMU3SiCauooCCrK3Cvsn84detK55krvywVFVldQdX4/nurK3CvGh72oycyUtqyRYqOlrZutboa98nOtroC97LZSj83aSIVF1tbC84rOTlZSUlJLmNjx45VfHz8RY%2B12%2B0KCAhwGStryHJyclyaMLvd7tKsle2bk5Mju90uSeecKyAgwK3rwjzsJyEAALhUHPJy%2BzkHDx6s2NhYl7GQkJAKH%2B9wONy2b2XOZQRNGAAAMKQqJlJCQ0MrNPVYnuDgYGeKVcZut8vLy0vBwcEu4/Xq1St332uuuca5r91uV506dZzbjx8/rvr16xuqrTwszAcAAB6hQ4cOOnLkiLLPmkpPTU1Vq1atXJqpsn3T0tKc3xcXF2vHjh3q3LmzwsPDFRgY6LJ99%2B7dKigoUIcOHdxWL00YAAAwpKTE/R9mtG/fXh07dtTs2bOVm5urjIwMLV68WEOHDpUk9evXT5s3b5YkDR06VB988IF%2B%2BOEHnT59Wm%2B88YZq1qypHj16yGaz6Z577tGCBQt05MgR5eTk6NVXX1WfPn3UoEEDs5fNielIAADgMebNm6epU6eqW7du8vf315AhQzRs2DBJ0t69e53vA9a9e3c99thjSkhI0G%2B//aaOHTtq4cKF8vPzkySNGzdOeXl5iouLU1FRkXr27Klp06a5tVYvR1WvOvMUeXlWV%2BBe3t5SrVrS6dOedXfk7/94PIrN5nl3cnnq3ZFRUdwdWZ3ZbFJAgHTihGf9m6pXz7KHPnPG/ef09XX/OasrD/tJCAAALhVP%2Bh3eCqwJAwAAsABJGAAAMIQkzByaMAAAYAhNmDlMRwIAAFiAJAwAABhCEmYOSRgAAIAFSMIAAIAhJGHm0IQBAABDaMLMYToSAADAAiRhAADAEJIwc0jCAAAALEASBgAADCEJM4cmDAAAGEITZg7TkQAAABYgCQMAAIaQhJlDEgYAAGABkjAAAGAISZg5NGEAAMAQmjBzmI4EAACwAEkYAAAwhCTMHJIwAAAAC5CEAQAAQ0jCzKEJAwAAhtCEmcN0JAAAgAVIwgAAgCEkYeaQhAEAAFiAJAwAABhCEmYOTRgAADCEJswcpiMBAAAsQBIGAAAMIQkzhyQMAADAAiRhAADAEJIwc2jCAACAITRh5jAdCQAAYAGSMAAAYAhJmDkkYQAAABYgCQMAAIaQhJlDEwYAAAyhCTOH6UgAAAALkIQBAABDSMLMcVsS1qZNG33xxRflbvvggw8UGxsrSfr222/Vpk0bnTlzptx9V6xY4dwXAADAU12S6cg777xTGzZsuBQPBQAALpGSEvd/VCW73a6EhATFxMToxhtv1JQpU5Sfn3/e/T/55BPdcccdioyMVN%2B%2BffXuu%2B86t7322mtq166dOnbs6PJx7NixCtfDdCQAADDkcpuOnDp1qgoKCrRmzRoVFhZq/PjxmjVrlp5%2B%2Bulz9v3xxx81ceJEvfrqq%2BrRo4e%2B%2BuorjRkzRi1atNC1114rSYqLi9NLL71kuJ5KJ2EHDhzQyJEjFRkZqZ49e2rZsmXObVlZWRo%2BfLg6deqk/v37a/fu3ZKk999/X926dSv3fNu2bdMdd9yhP/3pT3rggQf022%2B/Obd9%2B%2B23ioyM1JIlSxQVFaWtW7dKkt5%2B%2B23deuut6ty5s2677TalpKQ4j7nvvvu0YMECPf7444qKitJNN92kDz/8sLJPEwAAeJBjx44pJSVFiYmJCg4OVlhYmEaPHq1Vq1apsLDwnP3tdrseeeQR9e7dWzVq1NDNN9%2Bs1q1ba/PmzW6rqdJJ2NixY3Xddddp/vz5%2BuWXX/SXv/xFLVu2lCQlJyfrb3/7m0JCQjR69Gi9%2BuqrWrBgwXnPVVxcrHHjxum2227T%2BPHjlZ6ervj4eNWo8b%2ByCgsLtW/fPn399dfy9fXVJ598oqSkJL311ltq27atNmzYoISEBH3yySdq1KiRJGn58uV64YUX9MILL2jBggWaMWOG%2BvfvLx8fnwo9x8zMTGVlZbmMhfj7KzQ0tLKXq/ry8vrfZ29uksUlFhlpdQXu1bat62dPYbNZXYF7lf2s42ee21RFElbua3BIiOnX4J07d8pms6lNmzbOsYiICJ06dUp79uxxGZek7t27q3v37s7vi4qKlJWVpbCwMOfYrl27NGTIEO3evVsNGzbU5MmTdeONN1a4pko1YTt27NCuXbu0dOlS1apVS%2B3atVNSUpKzoLi4ODVv3lySFBsbqxUrVlzwfNu3b1dmZqYeffRR%2Bfr6qnPnzurTp48%2B%2B%2Bwz5z6FhYUaNmyY/Pz8JEkrV67U3XffrQ4dOkiSbrnlFnXp0kVr1qzRww8/LEmKjIzUTTfdJEm69dZblZSUpMzMTDVu3LhCzzM5OVlJSUkuY2PHjFH8uHEVOv6y8vt1RTXnaS%2BGW7ZYXUHVeOcdqytARfj7W12Bx6iKJqzc1%2BCxYxUfH2/qvHa7Xf7%2B/vIqCyEkBQYGSpJycnIuevysWbNUu3Zt9e/fX5J01VVXKTw8XBMmTFBoaKiSk5M1atQorV69Wi1atKhQTZVqwvbv3y9/f38FBQU5x2JiYpxfN2nSxPm1r69vufHe2X799VcFBASobt26zrFmzZqds19ZwlVWw1dffaWlS5c6xxwOh1q1alVuHWXN24UW3v3R4MGDz7lDM8TfXzp9usLnqPa8vEobsPx8yeGwuhr3qVnT6grcz2aTioutrsK9oqOtrsC92rYtbcCGDZPS062uxn02brS6Avfy9i5twHJzL7/FTBcSEGB1BW5V7mtwSEiFjv3www/1xBNPlLstMTFRDgOvdw6HQ7NmzdKaNWu0bNky%2Bfr6SpIGDRqkQYMGOfcbMWKEPv74Y61evVoJCQkVOnelmjBvb2%2BVXOB/3LO7y4ooKChQ8R9eXMo7/9nTk35%2BfpowYYJGjhx5wTrNCA0NPTf2zMvzrH%2B0ZdfI4fCs54XLw%2B/rOz1OerpnPTdPa/7LlJR47nO7xKri5aPc1%2BAKiouLU1xcXLnbvvrqK%2BXm5qq4uFi232cX7Ha7JKl%2B/frlHlNSUqLJkyfrxx9/1IoVKxQeHn7Bx2/cuLEyMzMrXG%2BlupXw8HDl5eW5PEBKSoq%2B%2B%2B67ypzGKTQ0VLm5uTp58qRzLCMj44LHNG3aVLt27XIZO3z4sKHuFgAAXBnatWsnh8Oh9LPS6tTUVAUEBDiXUv3RCy%2B8oJ9%2B%2BqncBuz111/Xpk2bXMYyMjIu2qidrVJNWLt27dS%2BfXvNnTtXeXl52r1790XfY%2BNCOnfurMDAQL311lsqKCjQ5s2bXdaDlWfw4MFau3atNm7cqKKiIn3zzTcaMGCAtm3bZqgGAABgzOX0PmHBwcHq27ev5s6dq%2BzsbP3666%2BaP3%2B%2B7r77bueM2/Dhw7V27VpJ0v/93/9p9erVWrhwocsyrDJ2u13Tp0/Xnj17dObMGS1atEj79%2B/XXXfdVeGaKn135IIFC/TEE08oJiZG9evX1%2BjRo13uHqgMPz8/zZ8/X9OmTdOSJUsUGRmpkSNH6p///Od5j%2BnWrZsmTZqkGTNm6NixY2rSpImmTZumP/3pT4ZqAAAAxlxuq1lmzJihZ599Vr169ZKPj48GDBigxMRE5/YDBw7o%2BPHjkqRVq1bp5MmT6tmzp8s5oqOjtWjRIk2YMEFS6Vowu92uVq1aacmSJbrqqqsqXI%2BXg3m8isnLs7oC9/L2lmrVKr3Z4HL7V3Qhnni3pycuzK/hYe8THRlZesdnVJRnrQnLzra6Avey2UoXsZ844Vn/purVs%2Byh161z/zn79nX/OasrD/tJCAAALhVP%2Bh3eCrxjHQAAgAVIwgAAgCEkYebQhAEAAENowsxhOhIAAMACJGEAAMAQkjBzSMIAAAAsQBIGAAAMIQkzhyYMAAAYQhNmDtORAAAAFiAJAwAAhpCEmUMSBgAAYAGSMAAAYAhJmDk0YQAAwBCaMHOYjgQAALAASRgAADCEJMwckjAAAAALkIQBAABDSMLMoQkDAACG0ISZw3QkAACABUjCAACAISRh5pCEAQAAWIAkDAAAGEISZg5NGAAAMIQmzBymIwEAACxAEgYAAAwhCTOHJAwAAMACJGEAAMAQkjBzaMIAAIAhNGHmMB0JAABgAZIwAABgCEmYOSRhAAAAFiAJAwAAhpCEmUMTBgAADKEJM4fpSAAAAAuQhAEAAENIwsyhCQMAAIbQhJnDdCQAAIAFSMIAAIAhJGHmkIQBAABYgCQMAAAYQhJmDkkYAAAwpKTE/R9VyW63KyEhQTExMbrxxhs1ZcoU5efnl7vv%2B%2B%2B/r7Zt26pjx44uHz/%2B%2BOPvz71Ec%2BbMUa9evRQdHa0HH3xQBw4cqFQ9NGEAAOCKMHXqVJ0%2BfVpr1qzRqlWrlJGRoVmzZp13/%2BjoaKWmprp8dOrUSZK0fPlyffTRR1q4cKE%2B%2B%2BwzNWvWTGPGjJHD4ahwPTRhAADAkMspCTt27JhSUlKUmJio4OBghYWFafTo0Vq1apUKCwsrfb7k5GSNGDFCLVu2lL%2B/vxITE5WRkaFt27ZV%2BBw0YQAAwOPt3LlTNptNbdq0cY5FRETo1KlT2rNnT7nHHDlyRA888ICio6PVq1cvffjhh5Kk/Px8/fzzz2rfvr1zX39/f1199dVKTU2tcE0szAcAAIZURXKVmZmprKwsl7GQkBCFhoaaOq/dbpe/v7%2B8vLycY4GBgZKknJycc/YPDg5Ws2bN9Nhjj6lVq1b69NNP9cQTTyg0NFQtWrSQw%2BFwHn/2%2Bco71/nQhFXUhg1WV%2BBegYFS9%2B7S999Lx49bXY37NGpkdQXuVauW1L69tGuXdPq01dW4T3a21RW4l81W%2BnnjRqm42NJS3Co42OoK3CsyUtqyRerRQ9q61epq3KcSa5DcrSqasOTkZCUlJbmMjR07VvHx8Rc99sMPP9QTTzxR7rbExMRKrdfq0aOHevTo4fz%2Btttu06effqr3339fEydOlKRKna88NGEAAKDaGDx4sGJjY13GQkJCKnRsXFyc4uLiyt321VdfKTc3V8XFxbL9/ouT3W6XJNWvX79C52/cuLG2b9%2BuoKAgeXt7O48vY7fbK3wuiSYMAAAYVBVJWGhoqOmpx/K0a9dODodD6enpioiIkCSlpqYqICBAzZs3P2f/FStWKDAwUP3793eOZWRkKDw8XL6%2BvrrmmmuUlpam6667TpJ04sQJ7d%2B/33n3ZEWwMB8AAHi84OBg9e3bV3PnzlV2drZ%2B/fVXzZ8/X3fffbdq1CjNpIYPH661a9dKkgoKCvTcc88pNTVVhYWFWrNmjb744gsNGTJEkjR06FAtW7ZMGRkZys3N1axZs9SuXTt17NixwjWRhAEAAEMut3fMnzFjhp599ln16tVLPj4%2BGjBggBITE53bDxw4oOO/r5O%2B//77lZeXp/HjxysrK0tNmjTR/Pnz1aFDB0nSkCFDlJWVpfvuu095eXnq2rXrOWvZLsbLYXZV2ZXio4%2BsrsC9yhbmf/EFC/Ors7KF%2BTt2eNbC/BYtrK7AvWw2KSBAOnGChfnVWdnC/KgoFua7yeTJ7j/niy%2B6/5zVFdORAAAAFmA6EgAAGHK5TUdWNyRhAAAAFiAJAwAAhpCEmUMTBgAADKEJM4fpSAAAAAuQhAEAAENIwswhCQMAALAASRgAADCEJMwcmjAAAGAITZg5TEcCAABYgCQMAAAYQhJmDkkYAACABUjCAACAISRh5tCEAQAAQ2jCzGE6EgAAwAIkYQAAwBCSMHNIwgAAACxAEgYAAAwhCTOHJgwAABhCE2YO05EAAAAWIAkDAACGkISZQxIGAABgAZIwAABgCEmYOTRhAADAEJowc5iOBAAAsABJGAAAMIQkzBySMAAAAAuQhAEAAENIwsyhCQMAAIbQhJnDdCQAAIAFSMIAAIAhJGHm0IQBAABDaMLMYToSAADAAiRhAADAEJIwc0jCAAAALEASBgAADCEJM4cmDAAAGEITZg7TkQAAABYgCQMAAIaQhJlDEgYAAGABtzVhbdq00RdffOGu0wEAgGqupMT9H1cSpiMBAIAhl1vTZLfbNW3aNH333Xfy9vbWzTffrKlTp8rPz%2B%2BcfZ9%2B%2Bml9%2BOGHLmPFxcWKi4vTiy%2B%2BqCeffFKrV6%2BWzWZzbvf19dXmzZsrXA/TkQAA4IowdepUnT59WmvWrNGqVauUkZGhWbNmlbvv888/r9TUVOfH1q1b1aJFC/Xr18%2B5z6OPPuqyT2UaMMlAE3bgwAGNHDlSkZGR6tmzp5YtW%2BbclpWVpeHDh6tTp07q37%2B/du/e7dy2evVq9e/fX5GRkYqNjdU777zj3Pbaa6/pkUceUUJCgqKioiRJ2dnZznPFxcXp888/V5s2bXTw4EFJ0qFDhzRq1Ch17dpV0dHReuKJJ5SbmytJOn36tCZNmqQbbrhBkZGRGjJkiLZv317ZpwoAAC7gcpqOPHbsmFJSUpSYmKjg4GCFhYVp9OjRWrVqlQoLCy96/NKlS9WoUSPdfPPNbqup0k3Y2LFj1bJlS3399dd6/fXXNXfuXH311VeSpOTkZE2bNk1ff/21GjRooFdffVVSaeM2adIkPf3009qyZYtmzpyp5557Tunp6c7z/vDDD7ruuuv0/fffS5KmTJmiwsJCffHFF5o7d67%2B/ve/O/d1OBwaPXq0GjZsqI0bN%2Bo///mPjh49qr/97W%2BSSi/UsWPH9Omnn%2Brbb7/VTTfdpKlTpxq/SgAA4LK2c%2BdO2Ww2tWnTxjkWERGhU6dOac%2BePRc89sSJE1qwYIEef/xxl/FvvvlGd955pyIjI3X33XdXOvCp1JqwHTt2aNeuXVq6dKlq1aqldu3aKSkpSWFhYZKkuLg4NW/eXJIUGxurFStWSJKaNGmib775RoGBgZKkG264QfXr11daWpratm0rSbLZbBo6dKi8vLxUUlKiL7/8UnPnzlVQUJCCgoI0ePBgPfPMM5Kk1NRU/fTTT1qxYoVq1aqlWrVqKT4%2BXg8%2B%2BKBmzJihEydOyMfHR35%2BfqpRo4ZGjx6t0aNHV/h5ZmZmKisry2UspLBQoQ0aVOZyVW/%2B/q6fPUWtWlZX4F5l6xTKWa9wWTtrDYVH8PZ2/ewpIiOtrsC9fn%2B9cX6GaVWRXJX7GhwSotDQUFPntdvt8vf3l5eXl3OsrC/Jycm54LFvv/22oqOjdc011zjHwsPD5e3trfHjx6tOnTpKSkrSyJEjtW7dOtWrV69CNVWqCdu/f7/8/f0VFBTkHIuJiXF%2B3aRJE%2BfXvr6%2BznjPy8tLK1as0MqVK5WZmSmHw6GCggIVFBQ497/qqqucF8Zut6uwsFCNGzd2bu/YsaPz6wMHDqi4uFhdu3Z1qa%2B4uFg5OTkaNmyYHnzwQd1888266aab1Lt3b/Xq1avCzzM5OVlJSUkuY2PHjFH8wIEVPsdl4/fpX1RzLVpYXQEqwtN%2BqdmyxeoKqsZZy2FgTlU0YeW%2BBo8dq/j4%2BIse%2B%2BGHH%2BqJJ54od1tiYqIcDkel6ykuLtby5cs1e/Zsl/ExY8a4fP/4449rzZo1SklJ0aBBgyp07ko1Yd7e3iq5wBU/u7s823vvvaeFCxfq9ddfV3R0tGw22zlzqjVq/K%2BUsot09pj3Wb9h%2Bvr6qnbt2tq6dWu5jxccHKy1a9fq22%2B/1YYNG/TMM89o9erVmjdv3sWfpKTBgwcrNjbWZSxk1y7Jk96Cw9%2B/tAHbskX6fS2dR/CktFIqTcBatJD27JHy862uxn3O%2BoXNI3h7l/6bys29/G4Xu5AePayuwL3ati1twIYNk85aDnPZ87BmudzX4JCQCh0bFxenuLi4crd99dVXys3NVXFxsfOORrvdLkmqX7/%2Bec/5/fffq6CgQNdee%2B0FH9tms6lhw4bKzMysUK1SJZuw8PBw5eXlKTMz0xkLpqSkKCAg4ILHpaam6tprr9X1118vqXQB/4WKDAoKks1m0%2BHDh53RX2pqqnN706ZNderUKR04cEDh4eGSpNzcXBUWFqpevXrKy8uTj4%2BPYmJiFBMTowceeECxsbHKycmpUEQYGhp6buy5Z490/PhFj73s5OZ61vOqU8fqCqpGfr50%2BrTVVbhPcbHVFVSNkhLPem7n%2BUX3spee7rnP7RKrit85yn0NdoN27drJ4XAoPT1dERERkkp7i4CAAOdSqvKsX79e119//Tlh0UsvvaS77rrLuayqoKBA%2B/fvd/YlFVGpBQzt2rVT%2B/btNXfuXOXl5Wn37t2aMmWK8i/yG3rjxo21Z88eHT9%2BXIcOHdLzzz%2BvRo0a6ejRo%2BXub7PZdO2112rx4sU6efKk9u7dq/fee8%2B5vXXr1oqMjNTMmTOVnZ2tEydO6Nlnn3VGkOPGjdPf/vY35ebmqqSkRFu3blVQUJBz7hcAAFxZgoOD1bdvX82dO1fZ2dn69ddfNX/%2BfN19993OBmv48OFau3aty3E7d%2B50WW4llc78HTx4UNOnT9fRo0eVl5enWbNmycfHR717965wTZVeRbpgwQIdOnRIMTExGjVqlEaPHq3u3btf8JihQ4fq6quv1s0336yHH35Y9957r%2B69914tXrxYy5cvL/eYmTNn6sSJE%2BrWrZsmT56sRx55pLTg36clZ8%2BeLYfDoV69eqlPnz4qLi7WSy%2B9JEl67rnntG/fPnXv3l3R0dF6%2B%2B23NX/%2BfJcpTQAAYM7l9BYVkjRjxgzVrVtXvXr10h133KFOnTopMTHRuf3AgQM6/ofZoaysLDUoZ6nLzJkz1axZMw0cOFAxMTHauXOnli5dqtq1a1e4Hi%2BHkVVql0hBQYFq1qwpqfQ20AceeEDbtm1zjl1SH3106R%2BzKgUGSt27l65z86TpyEaNrK7AvWrVktq3l3bs8KzpSE%2B70cBmkwICpBMnPGs6MjjY6grcKzKydP1UVJRnTUda%2BDJ%2Bww3uP%2BemTe4/Z3VVbaOhp556Sn/961914sQJnTx5UosXL1ZMTIw1DRgAAICbVdsm7PHHH1dgYKB69%2B6t3r17y2azaebMmVaXBQAAfne5TUdWN9X2D3jXq1evwm8pAQAAcLmptk0YAACo3q605MrdaMIAAIAhNGHmVNs1YQAAAJ6MJAwAABhCEmYOSRgAAIAFSMIAAIAhJGHm0IQBAABDaMLMYToSAADAAiRhAADAEJIwc0jCAAAALEASBgAADCEJM4cmDAAAGEITZg7TkQAAABYgCQMAAIaQhJlDEgYAAGABkjAAAGAISZg5NGEAAMAQmjBzmI4EAACwAEkYAAAwhCTMHJowAABgCE2YOUxHAgAAWIAkDAAAGEISZg5JGAAAgAVIwgAAgCEkYebQhAEAAENowsxhOhIAAMACJGEAAMAQkjBzSMIAAAAsQBIGAAAMIQkzhyYMAAAYQhNmDtORAAAAFiAJAwAAhpCEmUMSBgAAYAGSMAAAYAhJmDk0YQAAwBCaMHOYjgQAALAASRgAADCEJMwckjAAAAALkIQBAABDSMLMIQkDAACGlJS4/6Oqpaamqk%2BfPrrnnnsuuu%2ByZcvUt29fRUVFaejQodq%2Bfbtz25kzZ/TMM8%2Boe/fu6tq1q8aNG6KPzNsAABBOSURBVKecnJxK1UITBgAArgirV69WfHy8rr766ovuu2HDBr322mt6%2BeWX9fXXX6tnz54aNWqUTp06JUmaM2eO0tLSlJycrHXr1snhcGjy5MmVqocmDAAAGHK5JWFnzpxRcnKyOnfufNF9k5OTNXDgQHXu3Fl%2Bfn566KGHJEmfffaZioqKtHLlSo0ePVoNGzZUUFCQEhIStHHjRh09erTC9dCEAQCAK8KgQYMUFhZWoX3T0v5/e/ceFFXZgAH82QUBi5siYCySSjaoyHW9Vo6hJo4ZXZy81aRS3rmohYOgMYo6XiIMUrshGKGCNWlOWV5SIxVFSVYgGUcKF5EFAkUwYC/fH37uuCJClL6L5/nNOO6es8w%2BzgH34Zz3vG8BBgwYYHwul8vRv39/qFQqlJaWoq6uDgMHDjTu9/T0hI2NDQoKCtqdhwPziYiIqEMexJkrjUaDyspKk23Ozs5wcXH579/sPmpra%2BHg4GCyzcHBATU1NaitrQUA2Nvbm%2By3t7f/R%2BPCWMLaa%2BJE0Qn%2BUxqNBruSkjB58uSH/o1N7cfj1DloNBrsSkt79I6TwSA6wX/K%2BPO0f/%2BjdZwEehDfIklJu5CcnGyybeHChQgLC2vza/fs2YOoqKh77lu7di1effXVf5TF0MY/sK39bWEJk6jKykokJycjKCiI/xmZMR6nzoHHqXPgceocJk%2BejKCgIJNtzs7O7frakJAQhISE/Cc5unXrZjzjdVttbS369euH7t27G58//vjjxv3Xrl2Dk5NTu9%2BDJYyIiIjMhouLi1mUZG9vbxQUFOCVV14BAOh0OhQWFmLSpEno1asXHBwcUFBQAIVCAQAoLi5GU1MTvL292/0eHJhPREREBCA4OBi5ubkAgKlTp%2BLbb7/Fb7/9hps3b2LLli2wsrLCqFGjYGFhgddffx1bt25FeXk5ampqkJCQgLFjx6JHjx7tfj%2BeCSMiIiJJGDduHK5cuQKdTge9Xo9BgwYBAPbv3w%2BFQoGSkhLjPGAjR47E4sWLERkZierqagwaNAiffvopbGxsAADh4eGor69HSEgItFotnn/%2BecTFxf2jPDLDvx1VRp2SRqPBrl27Hr2BxI8YHqfOgcepc%2BBxInPDEkZEREQkAMeEEREREQnAEkZEREQkAEsYERERkQAsYUREREQCsIQRERERCcASRkRERCQASxgRERGRACxhRERERAKwhBEREREJwLUjiYg6SKfTQaPR4O%2B//26xr0%2BfPgISUVuuXbsGBwcH0TGIALCESc7Vq1exb98%2BXL16FbGxsQCA/Px8%2BPj4CE4mbR999BHCw8MBAAkJCfd97eLFix9GJGrD3r17sWrVKty4cQMAYDAYIJPJjH8XFRUJTkgFBQVYvnw5vvnmGwBAREQEfvzxR3Tr1g2bN2%2BGv7%2B/4IQkdSxhEnLo0CEsWrQIAQEBOHPmDGJjY1FeXo6ZM2di5cqVmDBhguiIknXu3Dnj47y8vFZfJ5PJHkYcaocPPvgAb731FsaPHw8bGxvRcege4uPjMWbMGADAwYMHcebMGRw%2BfBhnz57Fhg0bkJGRITghSR0X8JaQiRMnIiIiAmPGjIGPjw/y8/MBACdPnkR8fDz27dsnOCFR5xEYGIhTp07BwsJCdBRqRWBgIHJycmBpaYno6GjY2dlh2bJlMBgMGDJkCE6fPi06Ikkcz4RJyOXLlxEUFATA9IzK4MGDoVarRcWiu%2Bh0Ohw%2BfBh//PEHGhsbTfbJZDIsWLBAUDK60%2BjRo5GTk4MRI0aIjkKtsLa2RnNzM2QyGX755Rds2LABANDQ0AC9Xi84HRFLmKS4ubnhwoUL6N%2B/v8n27OxsODk5CUpFd4uMjMTRo0fRt29fWFtbm%2BxjCTMfnp6eiI6Ohr%2B/P9zd3SGXm95szrF74o0cORLh4eGwtLSEra0thg0bhubmZnz44YcICAgQHY%2BIJUxKpk2bhtDQUEyaNAk6nQ6pqam4cOECvv/%2Be0RFRYmOR/%2BXnZ2NvXv3onfv3qKj0H1kZ2fDw8MD1dXVqK6uNtnHsXvmIS4uDqmpqairq0NsbCxkMhmam5tRUlKC1atXi45HxDFhUvPTTz/h66%2B/RmlpKWxsbNCrVy9MmTKFl1TMSEhICNLS0uDo6Cg6CtEjo6amBt26dRMdg8gESxiRmTl//jy2bNmC4OBguLi4tLjMNXjwYEHJ6G63p3ypqKhATEwMAE75Yk7q6%2Buxbt067N27F1qtFufPn0dtbS2WLl2KtWvXonv37qIjksSxhElIdHR0q/vkcjlcXV0xcuRI%2BPn5PcRUdLdNmzZh69atuNePJuefMh93T/miUqlQXl6OF198kVO%2BmImlS5dCo9FgwYIFmDVrFvLz81FfX48VK1bAYDC0OScf0YPGEiYhsbGxOHDgALp27YoBAwZALpejsLAQjY2NGDJkCKqqqpCXl4e4uDhMmjRJdFzJCggIwPvvv4%2BgoKAWA/MBwMrKSkAquhunfDF/Q4cOxQ8//IDu3bvD19fXOB/f9evXMW7cOJw4cUJwQpI6DsyXEEdHR7z55puYP3%2B%2B8RKXXq/Hli1b0KVLF8yePRvZ2dmIj49nCRPI0dERwcHB9yxgZD445Yv5k8lksLW1bbFdp9O1mP6FSAQu4C0hmZmZmD17tskYI7lcjnfeeQdpaWkAgGeeeQYVFRWiIhJunbHcuHEj/vzzTzQ2NqKpqcnkD5mH21O%2B3I1TvpgPf39/rF%2B/3mRtz7KyMsTExGDIkCECkxHdwjNhEtKlSxccO3bMuIzHbSdOnDB%2BuB85cgRPPPGEiHj0f%2B%2B99x5u3ryJL7/80uQMC9ckNC%2Bc8sX8LV%2B%2BHPPnz4dSqYRWq0VgYCAaGhrg5%2BfH8WBkFjgmTEKysrKwYsUKeHl5QaFQwNLSEleuXIFKpcKiRYswY8YMBAQEYN26dRxULNCpU6cA3LpkUl1dDWtrazg4OBj38zd488EpXzqH/Px8qNVqWFtbw8PDA/369RMdiQgAS5jkFBYW4tixY6isrIRer4eTkxOGDh2KHTt2ICEhAWq1Gu7u7qJjSlplZSWWL1%2BOX3/9FVqtFgBgY2ODMWPGIDo6mrfVm4lz587B19dXdAy6jytXrrS6Ty6Xo0ePHrC05AUhEoclTEJ0Oh127tyJ8%2BfPm4wt0mg0KC4uRk5OjsB0dNvMmTOh1WoxY8YMeHh4wGAwoLS0FNu3b4e1tTU%2B%2B%2Bwz0REJgFKpxPHjx3m3qhnz8vK67%2BoFcrkcI0aMQHx8PFxdXR9iMqJbWMIkJC4uDj///DOUSiX279%2BPCRMmoKioCFZWVoiJieFaambC398fx44dg52dncn2uro6jBo1CmfOnBGUjO6UlpaG0tJSTJs2DW5ubrCwsDDZz3Im3tGjR7Fp0yZMmTIFgwYNgkwmg0qlwu7duzF37lx07doVqampsLS0RHJysui4JEE8DyshBw8exO7du9GzZ08cOHAA69evh8FgwMaNG3HhwgWWMDPh7u6OhoaGFiWssbERPXv2FJSK7paYmAitVouMjIx77ucNFOIlJiYiMTERTz75pHGbl5cXlEolYmJikJGRgYEDB%2BKFF14QmJKkjCVMQu78ELewsEBTUxOsrKwwe/ZsTJw4EVOnThWcULpKSkqMj99%2B%2B20sWbIE06dPh6enJ%2BRyOUpKSvDVV18hLCxMYEq60yeffCI6ArXh0qVL9xxD6ezsjMLCQuNzvV7/MGMRGbGEScjTTz%2BN5ORkzJkzB3369EFWVhamT5%2BO8vJyNDQ0iI4naePHj4dMJjNZqig3N7fF63JychAcHPwwo1EreJeq%2BfPz88O8efMwa9YsuLm5oUuXLigrK0NqaiqeeuopaLVahIWFYfjw4aKjkkRxTJiEqFQqLF68GHv27MHx48cRGRkJKysrNDY2Yvr06Vi2bJnoiJJVVlbW7tcqFIoHmITuJygo6L4Dve906NChB5yG2lJTU4Nly5YhOzsbzc3NAG5dBVAqlVizZg0UCgViYmIQFRVlMg0M0cPCEiZhly5dQlFRERQKBRftJmqHnTt3Gh9XV1cjMzMTY8eORe/evaHX63Hx4kUcOXIEs2bNwowZM8QFJRMGgwG1tbUwGAxwdHQ0WTWESCSWMCKiDggNDUVERAR8fHxMtufm5mLz5s1ISUkRlIxuUyqVOH36dLvPXhI9bPx1gIioA86ePQsvL68W2318fJCXlycgEd3tueeeQ2ZmpugYRK3iwHwiog7w8PBAUlIS5syZA1tbWwDAjRs38Pnnn3PVCTNx8%2BZNJCYmIikpCT179mwxO/6dl5eJRGAJIyLqgJUrVyIiIgIpKSmwt7eHTqfDjRs3YG9vj48//lh0PALg7e0Nb29v0TGIWsUxYUREHaTX66FSqVBRUYGmpia4uLjA19cX1tbWoqNRGzIyMjBt2jTRMUjiWMKIiNrpzjVX28Jli8xDcXExCgoKTI5dRUUFtm3bxrF7JBwvRxIRtZOPj0%2Bbd9oZDAbIZDIuW2QGduzYgVWrVsHJyQlVVVVwdXWFRqOBQqFARESE6HhELGFERO2VlpbG6Q46kS%2B%2B%2BAIpKSkYNmwYfHx8cOTIEVRWVmL16tUcK0ZmgZcjiYjokeTv72%2B85Ojn54e8vDzIZDKUlZVh7ty5%2BO677wQnJKnjmTAionYaPXq0cTmiZ5999r6vzc7OfhiR6D7c3Nxw8uRJDBs2DM7OzsjNzcXgwYNhZ2cHtVotOh4RSxgRUXuFh4cbHy9ZskRgEmqPOXPmIDQ0FCdPnsRrr72GefPmQalU4tKlSwgMDBQdj4iXI4mI6NGlVquNk%2BdmZWVBpVLB3d0dU6dOhZ2dneB0JHUsYUREHXDx4kUkJCSgpKTknlNX3L5sSUTUGl6OJCLqgIiICPTo0QOTJ0%2BGjY2N6Dh0DyzKZO5YwoiIOkCtViMrKwuPPfaY6CjUisjISDg5ObEok9liCSMi6gB/f39UVVXBw8NDdBRqxeXLl5GZmcmiTGaLJYyIqJ3unHbipZdeQlRUFF5%2B%2BWUoFIoWk7i2NYUFPXgsymTuODCfiKidvLy82vU6Llskzp1FWaPRIDMzk0WZzBZLGBFRBx0/fhyurq7w9PQEAJw%2BfRqNjY38cBeIRZk6E16OJCLqgPT0dCQmJiIpKclYwq5fv46YmBgsXLgQb7zxhuCE0vT777%2BbPGdRJnMmFx2AiKgzSklJQXp6OoYPH27cNnr0aGzfvh3btm0TmIxuS09PR3h4ODQajXHb9evX8e677yI9PV1gMqJbWMKIiDqgpqYGffv2bbHd3d0df/31l4BEdDcWZTJ3LGFERB0QEBCAhIQE1NXVGbdVVVVhzZo18PX1FZiMbmNRJnPHgflERB1w%2BfJlhIWFobi4GLa2ttDr9aivr0f//v2xdetWuLi4iI4oeaGhoejXrx8WLFhgXCeyqqoKiYmJUKvVSE1NFRuQJI8ljIjoXygqKkJpaSnkcjl69erV7rvz6MFjUSZzxxJGRESPNBZlMlcsYUREREQCcGA%2BERERkQAsYUREREQCsIQRERERCcASRkRERCQASxgRERGRACxhRERERAKwhBEREREJwBJGREREJMD/AA9nMwEUqR4YAAAAAElFTkSuQmCC\" class=\"center-img\">\n",
              "    <img src=\"data:image/png;base64,iVBORw0KGgoAAAANSUhEUgAAAmEAAAIXCAYAAADUjomXAAAABHNCSVQICAgIfAhkiAAAAAlwSFlzAAAPYQAAD2EBqD%2BnaQAAADl0RVh0U29mdHdhcmUAbWF0cGxvdGxpYiB2ZXJzaW9uIDMuMC4zLCBodHRwOi8vbWF0cGxvdGxpYi5vcmcvnQurowAAIABJREFUeJzs3XlclXXe//E3IIuKoii4IGZqoCIZJqlopmijWUl1ay6TuTRThqCQa1OWWrZMpk5iOda4ZXkzZb80c8Ykc5xMLcsMSbTQck1QOSq4sJ3fH%2BS5PYkK13XwwtPr%2BXjwAL7Xcj7X1%2BJ8eF8LHna73S4AAABcU55WFwAAAPB7RBMGAABgAZowAAAAC9CEAQAAWIAmDAAAwAI0YQAAABagCQMAALAATRgAAIAFaMIAAAAsQBMGAABggWpWFwDg8r777jt98MEH2r59uw4ePKizZ8/K19dXwcHBatu2rfr27avY2Fh5eHhYXSoAoII8%2BNuRQNVjt9s1Y8YMvf3225KkgIAAhYWFyd/fX3l5edq1a5fy8vIkST169NBrr70mHx8fK0sGAFQQTRhQBb3zzjuaPn26/Pz8NG3aNN17773y8vJyLD937pz%2B93//Vy%2B//LJKSkr06KOPaty4cRZWDACoKK4JA6qg5cuXS5Iefvhh3XfffU4NmCT5%2Bflp%2BPDh%2BvOf/yxJWrZsmc6dO3fN6wQAGEcTBlRB%2B/fvlySFh4dfcb3hw4frrbfe0rp16%2BTn5ydJmjx5ssLDw/Xyyy8rPz9fL774omJjYxUZGalOnTopISFBe/bsuew%2BN2/erISEBHXt2lVt27ZVp06dNHz4cH300UeX3cZms2n27Nm67777FBUVpYiICMXExGjUqFHaunVrmdvExsYqPDxcGzdu1Lp169S3b19FRkbq66%2B/liTNnTtX4eHhmjx5sgoKCjR37lz17t1bN998s%2B644w4999xzOnPmjCTphx9%2B0JgxY9SlSxdFRkbq3nvv1apVq8p83bNnz%2BrNN9/Ugw8%2BqA4dOqhNmzbq2LGjRowYoXXr1pW5zdChQxUeHq7ly5crPz9fs2fPdtQSHR2tP//5z9q5c%2Bdl5wcAykITBlRBgYGBkqRvv/32quvdfvvtql%2B//iXL8vPzNXz4cC1fvlx169ZVdHS0iouLtW7dOg0YMKDMpmH27NkaPny41q1bJ39/f3Xs2FGBgYHavHmzxo8fr6SkJBUXFzttk5OTowceeEDz58/X3r171aZNG3Xq1Ek%2BPj767LPPNGzYMK1YseKyx7B3714lJyfL29tbnTp1cjSTF5swYYIWLlyokJAQ3XTTTcrOztayZcs0adIk7dmzR4MHD1ZmZqZatWqloKAg7dmzRxMmTNCGDRuc9nP27FkNGTJEM2fOVEZGhlq0aKHOnTsrICBAX3zxhRISEjR37tzL1lpQUKDhw4dryZIlatSokSIiIlRcXKyNGzdq6NChjuYZAMrFDqDKmTRpkj0sLMweHh5uf/nll%2B1Hjx6t8Lbt27e333PPPU7bnjp1yt6/f397WFiYvX///k7bffLJJ/awsDB7dHS0fevWrU7LvvzyS3tMTIw9LCzMvmjRIqdlzz//vD0sLMzeu3dv%2B7FjxxzjRUVF9hkzZtjDwsLst956qz0vL89pux49etjDwsLssbGx9jfeeOOS43jttdfsYWFh9q5du9r79etnz8nJcSxbt26dY3769Oljnzt3rr2kpMRut9vtxcXF9tGjR9vDwsLsjzzyiNM%2BFy1aZA8LC7N36tTJvm/fvjKXtW7d2r5//36nZQ899JA9LCzM3r17d/uQIUPsx48fdyzLzs62d%2BnSxR4WFmZ/4YUXLjkOALgckjCgCkpKSlKjRo1kt9v1j3/8Q927d9dDDz2kOXPm6IsvvtDZs2evuo%2B8vDxNnTpVwcHBjrFatWpp8uTJkkoff/HTTz85lr3xxhuSpEmTJum2225z2ld0dLQmTpwoSVqyZInTsuDgYN19991KSEhQvXr1HONeXl5KTk6Wp6enTp8%2BfdlU78KNBZeTnZ2tadOmOaV9vXr1UlBQkOx2u6pVq6bRo0c7HtPh6empgQMHSpK%2B//57p33VrFlT9957r0aNGqVmzZo5LRs2bJiCgoJUXFyszZs3l1lLTk6OZs2a5UgqJSkoKEj33nuvJGnHjh2XPQ4A%2BC2eEwZUQQ0bNtR7772nV155RatXr1ZxcbG%2B%2BuorffXVV3rjjTfk7e2tjh07ql%2B/frr77rtVrdql/ysHBwfr1ltvvWQ8KipKNWvWVH5%2Bvr799ls1a9ZMR48eVUZGhiTpzjvvLLOmXr16ycPDQ4cPH9a%2Bfft04403SpLj5oCyVK9eXfXq1VNOTo5ycnLKXKdTp07y9Lz874NBQUG65ZZbLhkPCQlRTk6OevTocclz0kJCQiRJJ0%2BedBofMGCABgwYUObreHh4qEmTJles9bbbblODBg0uGW/atKkkKTc397LHAQC/RRMGVFFBQUH661//qokTJ2rdunXavHmztm3bpuPHj6uwsFCff/65Pv/8c7355pt6/fXXHY3ABWFhYWXu19PTUyEhIdqzZ48OHjwoSU4X6l9IyspSrVo1FRYW6qeffnI0YVLptVL/%2Bc9/tHPnTmVnZ%2BvUqVOy//r0m9OnT0sqTbzKUlZTc7EmTZqUOX7huWgXGq6ylhUVFV2yrKSkRJs2bdL27duVnZ0tm83mqG3fvn1XrDU0NLTMcV9fX0lSYWHhlQ4FAJzQhAFVXP369TV48GANHjxYUumF7Fu3btXKlSu1fft2/fDDD3r00Uf10Ucfydvb27FdQEDAZfdZq1YtSaUX70vOidGnn3561ZouNFaSlJmZqdGjRzsauoq6Up2SnI7JyPKLHT58WKNHj77kNGV58UBcAK5EEwZcZ5o3b67mzZtr8ODBWrJkiV544QXt27dPa9asUVxcnGO9K53iu5D0XFjnwuk8b29vpaenl/vPIJ07d06PP/64Dh8%2BrGbNmik%2BPl6dO3dW3bp1Hc1RbGysDh06dNl9XMs/uTRmzBh9//33ql%2B/vhITE9WtWzfVr1/f0VwNHTpUX3755TWrB8DvG00YcB0bNmyYli1bpv379%2BuHH35wWnbhzxqV5cKyC4lYnTp1JJWeTsvNzXW68PxKNm7cqMOHD8vDw0MLFizQDTfccMk6VeUhshkZGUpPT5ckzZw5U507d75knapSK4DfB%2B6OBKqYdevW6ZlnntGCBQvKtf6F03kXrku64Mcffyxz/eLiYkcydeEap4uvH/ttM3clF%2B6ubNq0aZkN2P79%2B3X8%2BPFy768y/fzzz5LkeB7Zb%2BXn51/xIbYA4Go0YUAVk56ertTUVC1YsECHDx%2B%2B4rpHjx5VZmamJF1yB%2BGBAwe0a9euS7b5%2BuuvHU%2Baj4qKklR6E0BERIQk6Z///GeZr7Vv3z7FxcU5HmUh/V%2BSdv78%2BTK3mTdvnuPr3z7k9Vrz9/eXVHoqtqwL6P/xj384krCyLugHAFejCQOqmBEjRigoKEinT5/WsGHDyvyzP3a7XVu2bNGf/vQnFRYW6pZbblGXLl2c1qlVq5aefvpppyTKZrPppZdeklT6aIjGjRs7lo0aNUqStHr1ai1evNhxd6NUmiKNGTNGmZmZOnLkiGO8VatWkqRffvlFaWlpjvGzZ8/q%2BeefV3p6uqPR27t3r%2BE5cYWwsDB5eXmpuLhY7777rmO8qKhIf//735WamqoePXpI%2Br%2B7JAGgMnFNGFDF1K1bVwsXLlRiYqJ%2B%2BuknPfzwwwoKClLz5s1Vo0YN2Ww2HTx40PEsq1tvvVUpKSmXXIgfGxurAwcOqGfPnoqMjJS3t7d27NihvLw8%2Bfv765lnnnFa/w9/%2BIMeffRRLViwQC%2B%2B%2BKKWLl2q5s2bKzc3V7t27VJxcbHatGmj8ePHO7aJiopS165d9fnnnysxMVHt2rWTr6%2Bvdu7cqWrVqmnRokX6%2BOOPtX37di1dulS7d%2B/W448/rujo6MqfyN9o2LCh%2Bvfvr9TUVL344otatWqV6tSpo127dik/P18pKSk6ePCgPvvsM61du1ZDhw7VkCFDdNddd13zWgH8PtCEAVVQWFiYPvroI3388cdav369MjMz9d1336mgoEB%2Bfn5q0KCBOnfurL59%2B6p79%2B5l3mHo6emphQsX6vXXX9cnn3yiw4cPq2bNmurdu7eSk5OdnvN1wbhx4xQTE6Nly5bp22%2B/1ebNm%2BXr66u2bduqb9%2B%2BGjJkyCWPaZgzZ45mzpypTz/9VDt37lRwcLB69%2B6tUaNGqWnTpmrYsKG%2B//57ffPNN/rhhx%2Bu6d2Qv/X0008rICBAq1ev1p49e1SvXj117NhRjz32mFq3bq1z585p69at2rhxo3744QenNBAAXM3Dzk8ZwK1MnjxZ/%2B///T/df//9jlOPAICqh2vCAAAALEATBgAAYAGaMAAAAAvQhAEAALfx3//%2BVzExMUpOTr7ieiUlJZo9e7Z69uyp6OhoPfLIIzpw4IBjuc1mU1JSkmJiYtS1a1c99dRTLv%2BrGlyYDwAA3MKbb76p999/X4GBgWrYsKFmz5592XXffvttLVq0SG%2B%2B%2BaYaNGig2bNn66uvvtLKlSvl4eGhxMREFRQU6MUXX1RhYaHGjh2rtm3b6umnn3ZZvSRhAADALfj6%2Bur9998v88%2Bo/VZqaqqGDx%2BuFi1ayN/fX8nJycrKytKOHTt07NgxpaWlKTk5WYGBgWrQoIHi4%2BO1YsWKMv/ihlE8JwwAAFQZ2dnZjodRXxAUFKTg4OCrbvvwww%2BX6zXOnTunH3/8UW3atHGM%2Bfv764YbblB6erpOnz4tLy8vhYeHO5ZHRETozJkz2rt3r9O4GTRh5WXhAyYrxY03Sj/8IN10k%2BROf6Ll4EGrK3AtLy%2BpQQPp6FHJ4r%2B96FK//h1Ht%2BHhIdWqJZ0%2BLbnTFR4vvGB1Ba4VGChNmCC98op04oTV1bjOyy9b99qV8N6Y%2BtprSklJcRpLSEhQYmKiy17j5MmTstvtCggIcBoPCAhQbm6u6tSpI39/f6eHS19YNzc312V10IT9XtWpU/oGX6eO1ZXgSjw9S3/IeXq6VxPmbjw8/u/DnZowd%2BPnV/r/kp%2Bf1ZXgCgYOHKjY2FinsaCgoEp5rStdFn8tLpmnCQMAAMZ4uv7S8uDg4HKdejSjTp068vT0lM1mcxq32WyqV6%2BeAgMDlZeXp%2BLiYnl5eTmWSVK9evVcVgcX5gMAgN8VX19f3XTTTcrIyHCMnTp1Svv379fNN9%2Bs1q1by263KzMz07E8PT1dtWvXLvPv7hpFEwYAAIzx9HT9RyU5evSo%2BvTp43gW2ODBg7V06VJlZWUpLy9PM2fOVOvWrRUZGanAwED17t1bc%2BbM0YkTJ/TLL79o3rx56t%2B/v6pVc91JRE5HAgAAtxAZGSlJKioqkiSlpaVJKk2xCgsLtW/fPhUUFEiSBg0apJycHA0dOlT5%2Bfnq2LGj0w0B06dP17PPPquePXvK29tb99xzz1UfAFtRNGEAAMCYSkyujEhPT7/ssiZNmmj37t2O7z08PDRmzBiNGTOmzPVr1aqlWbNmubzGi9GEAQAAY6pYE3a9YfYAAAAsQBIGAACMIQkzhdkDAACwAEkYAAAwhiTMFJowAABgDE2YKcweAACABUjCAACAMSRhpjB7AAAAFiAJAwAAxpCEmUITBgAAjKEJM4XZAwAAsABJGAAAMIYkzBRmDwAAwAIkYQAAwBiSMFNowgAAgDE0YaYwewAAABYgCQMAAMaQhJnC7AEAAFiAJAwAABhDEmYKTRgAADCGJswUZg8AAMACJGEAAMAYkjBTmD0AAAALkIQBAABjSMJMoQkDAADG0ISZwuwBAABYgCQMAAAYQxJmCrMHAABgAZIwAABgDEmYKTRhAADAGJowU5g9AAAAC5CEAQAAY0jCTKEJAwAAxtCEmcLsAQAAWIAkDAAAGEMSZgqzBwAAYAGSMAAAYAxJmCk0YQAAwBiaMFOYPQAAAAuQhAEAAGNIwkxh9gAAACxAEgYAAIypgknYoUOHNG3aNO3YsUM1atRQ3759NW7cOHn%2BptaRI0fqq6%2B%2BchorKirS6NGjlZCQoKFDh%2Bqbb75x2u7GG2/UqlWrXFYrTRgAADCmCjZhiYmJioiIUFpamo4fP67HHntM9evX14gRI5zWW7hwodP3p06dUt%2B%2BfXXnnXc6xp577jk98MADlVZr1Zu9X6Wnp2vIkCHq0KGDYmJi9Oyzz6qwsFCS9N577ykmJkYdOnTQK6%2B8oqeeekqTJ092bLts2TLdddddateune6%2B%2B26lpaVZdRgAAOAaSU9PV2ZmpsaPH69atWqpWbNmGj58uFJTU6%2B67Zw5c3TnnXcqPDz8GlRaqsomYcnJyerXr5/efvttHT16VIMGDVLLli3Vvn17TZkyRX/729/UvXt3vfnmm3rvvfcUGxsrSfrkk0%2BUkpKit956S61atdL69euVlJSkTz75RI0bNy7Xa2dnZysnJ8dpLOjGGxVcp47Lj9MyrVo5f3YX3t5WV%2BBa1ao5f3YXVfC3Z1MuHI%2B7HVc5f2ZeN4KCnD/DvEr4b77M9%2BCgIAUHB19124yMDIWEhCggIMAxFhERoX379ikvL0/%2B/v5lbvfzzz/rww8/vCS0WbNmjd566y0dOXJE7dq10/Tp09W0aVMDR1W2KvuT/cMPP5SPj4%2B8vLzUuHFjRUdHa%2BfOncrLy1N4eLh69%2B4tSXr88cf13nvvObZ7//331b9/f7Vt21aS9Ic//EG33nqrVq9erUcffbRcr52amqqUlBSnsYSxY5U4dqyLjq4KefddqytAeQQGWl0ByqNmTasrcC13/JknSUOGWF0BrqDM9%2BCEBCUmJl51W5vNptq1azuNXWjIcnNzL9uELViwQP/zP/%2BjwIt%2B1rZo0ULVq1fXzJkzVVJSoueff15/%2BtOftHr1avn4%2BFT0sMpUZZuwLVu2aN68efrpp59UVFSkoqIi9enTRzk5OQoJCXGs5%2BXlpTZt2ji%2B379/vzZt2qQlS5Y4xux2u1q2bFnu1x44cKAjWbsg6N57pYv2ed1r1aq0ARsyRMrMtLoa1/n3v62uwLWqVSttwE6ckIqKrK7GdapXt7oC1/L0LG3A8vOlkhKrq3Gd31wzc90LCir9mffuu9JvkpbrmpXNciUkYWW%2BB1cgvbTb7RV6PZvNppUrV%2Bpf//qX0/jUqVOdvp8%2Bfbo6duyor7/%2BWp07d67Qa1xOlWzCsrKyNHbsWE2aNEkPPvig/Pz8NGHCBBUVFamkpETVfnNq5uI7F/z8/DRu3DiNHDnS8OsHBwdfGnvu22d4f1VaZqa0fbvVVbjOr9cNup2iIvc6Nl9fqyuoHCUl7tWEHT5sdQWVIyfHfY/tWquEJqzM9%2BByCgwMlM1mcxqz2Wzy8PBwSrku9umnn%2BrGG29UaGjoFfft7%2B%2BvgIAAHT161FBtZamSFzDs2rVLPj4%2Bevjhh%2BXn5ye73a5du3ZJkurVq6fDF/3PU1xcrO%2B//97xfdOmTbV7926n/R0%2BfLjCnTEAALi%2BtG3bVkeOHNGJEyccY%2Bnp6WrZsqVqXuZygU8//VRdunRxGsvLy9PUqVOdGq4TJ07oxIkTV23WKqJKNmEhISE6d%2B6cdu3apZMnT%2BqVV16Rj4%2BPsrOz1bFjR%2B3cuVMbNmxQQUGB3njjDZ07d86x7cCBA7VmzRpt2LBBRUVF2rJli%2B655x7t2LHDwiMCAMANeXq6/sOENm3aKDIyUq%2B%2B%2Bqry8vKUlZWlRYsWafDgwZKkPn36aNu2bU7b7Nq1S02aNHEa8/f3144dO/T888/LZrPp5MmTmjZtmsLDwxUVFWWqxotVySYsKipKf/zjH/XQQw/p7rvvVkhIiP7yl79oz549evfdd5WUlKTx48frjjvuULVq1dSxY0d5eHhIkrp06aJJkyZp%2BvTpat%2B%2BvaZPn66pU6fqlltusfioAABAZXvttdeUnZ2tLl266OGHH9Z9992nIb/ejLFv3z6dOXPGaf2cnBzVr1//kv3MmzdPdrtdvXv3Vvfu3VVYWKgFCxZc8tBXMzzs1%2BF5uoKCAqc7Ex566CF16NBBSUlJlfeivzZ5biMqSvrmG6l9e/e6JuzgQasrcC1vbyk4WMrOdq9rwi5zh9J1y9NTqlVLOn3ava4Je%2BEFqytwrcaNSy9i/9vf3OuasJdftu61f31SgUutXev6fVZRVTIJu5IDBw4oKipK69evV0lJiT7//HNt375d3bp1s7o0AAB%2BX6rY6cjrTZW8O/JKQkND9dJLL%2BmVV17RE088oQYNGujZZ59V%2B/btrS4NAACg3K67JkyS7r33Xt17771WlwEAwO/b7yy5cjVmDwAAwALXZRIGAACqAJIwU2jCAACAMTRhpjB7AAAAFiAJAwAAxpCEmcLsAQAAWIAkDAAAGEMSZgpNGAAAMIYmzBRmDwAAwAIkYQAAwBiSMFOYPQAAAAuQhAEAAGNIwkyhCQMAAMbQhJnC7AEAAFiAJAwAABhDEmYKswcAAGABkjAAAGAMSZgpNGEAAMAYmjBTmD0AAAALkIQBAABjSMJMYfYAAAAsQBIGAACMIQkzhSYMAAAYQxNmCrMHAABgAZIwAABgDEmYKTRhAADAGJowU5g9AAAAC5CEAQAAY0jCTGH2AAAALEASBgAAjCEJM4UmDAAAGEMTZgqzBwAAYAGSMAAAYAxJmCnMHgAAgAVIwgAAgDEkYabQhAEAAGNowkxh9gAAACxAEgYAAIwhCTOF2QMAALAASRgAADCmCiZhhw4d0rRp07Rjxw7VqFFDffv21bhx4%2BT5m1rnzp2r119/XdWqObdCn332merXr6/z589rxowZ2rBhg86fP6%2BOHTtq2rRpqlu3rstqrXqzBwAArg%2Benq7/MCkxMVENGjRQWlqaFi1apLS0NC1ZsqTMdePi4pSenu70Ub9%2BfUnS7NmzlZGRodTUVK1du1Z2u11PPvmk6fouRhMGAADcQnp6ujIzMzV%2B/HjVqlVLzZo10/Dhw5Wamlqh/RQVFen9999XfHy8GjVqpDp16igpKUkbNmzQ0aNHXVYvpyMBAIAxlXA6Mjs7Wzk5OU5jQUFBCg4Ovuq2GRkZCgkJUUBAgGMsIiJC%2B/btU15envz9/Z3W3717twYNGqQ9e/aoUaNGevLJJ9W1a1ft379fp0%2BfVkREhGPdFi1ayM/PTxkZGWrQoIHJoyxFE1ZeBw9aXYFreXuXfv73v6XCQmtrcaUmTayuwLWioqRvvpH69JG2b7e6GtcpKrK6gspRo4bVFbhWfLzVFbiWj0/p5wcflAoKrK0Fl5WamqqUlBSnsYSEBCUmJl51W5vNptq1azuNXWjIcnNznZqwhg0bKjQ0VOPGjVNwcLBSU1M1atQorVq1SjabTZIu2Vft2rWVm5tr6LjKQhMGAACMqYQkbODAgYqNjXUaCwoKKvf2dru9XOsNGDBAAwYMcHw/fPhwffzxx1q1apW6detWoX0ZRRMGAACMqYQmLDg4uFynHssSGBjoSLEusNls8vDwUGBg4FW3DwkJUXZ2tmNdm82mmjVrOpafPHlS9erVM1RbWbgwHwAAuIW2bdvqyJEjOnHihGMsPT1dLVu2dGqmJOn111/X5s2bncaysrIUGhqq0NBQBQQEKCMjw7Fsz549KigoUNu2bV1WL00YAAAwpoo9oqJNmzaKjIzUq6%2B%2Bqry8PGVlZWnRokUaPHiwJKlPnz7atm2bpNKUa9q0adq7d6/Onz%2BvhQsXav/%2B/br//vvl5eWlBx98UPPnz9eRI0eUm5urWbNm6c4773Q8wsIVOB0JAADcxmuvvaYpU6aoS5cu8vf316BBgzRkyBBJ0r59%2B3TmzBlJ0rhx4ySVXgtms9nUsmVLLV68WA0bNpQkjRkzRvn5%2BYqLi1NRUZF69OihqVOnurRWD3tlX3XmLg4dsroC1/L2loKDpexs7o6syi7cHdm%2BPXdHVnVeXlJxsdVVuJa73RXu4yM1aiQdOeJed0fecIN1r/3ii67fp4sfiFqVkYQBAABjquCfLbqeMHsAAAAWIAkDAADGkISZwuwBAABYgCQMAAAYQxJmCk0YAAAwhibMFGYPAADAAiRhAADAGJIwU5g9AAAAC5CEAQAAY0jCTKEJAwAAxtCEmcLsAQAAWIAkDAAAGEMSZgqzBwAAYAGSMAAAYAxJmCk0YQAAwBiaMFOYPQAAAAuQhAEAAGNIwkyhCQMAAMbQhJnC7AEAAFiAJAwAABhDEmYKswcAAGABkjAAAGAMSZgpNGEAAMAYmjBTmD0AAAALkIQBAABjSMJMYfYAAAAsQBIGAACMIQkzhSYMAAAYQxNmCrMHAABgAZIwAABgDEmYKcweAACABUjCAACAMSRhptCEAQAAY2jCTGH2AAAALEASBgAAjCEJM4XZAwAAsABJGAAAMIYkzBSaMAAAYAxNmCnMHgAAgAVIwgAAgDEkYaZU2dk7ePCgwsPDlZWVZXpfI0eO1Jw5c1xQFQAAgGv8LpKwhQsXWl0CAADupwomYYcOHdK0adO0Y8cO1ahRQ3379tW4cePkWUaty5cv1%2BLFi5Wdna2mTZsqMTFRvXr1kiRNnjxZq1atkpeXl2N9X19fbdu2zWW1/i6aMAAAUAmqYBOWmJioiIgIpaWl6fjx43rsscdUv359jRgxwmm9tWvX6tVXX9Xf//533Xzzzfrwww%2BVlJSkf/3rXwoNDZUkPf7440pMTKy0Wqve7P1Genq67rnnHkVFRWnYsGE6evSotm7dqvbt2%2BvTTz9VbGysoqKiNGfOHKWnp6tfv36KiopSQkKCCgsLJUlDhw7VzJkzLT4SAABQmdLT05WZmanx48erVq1aatasmYYPH67U1NRL1j137pyeeOIJ3XrrrfL29taAAQNUs2ZNffvtt9es3iqfhP3zn//UggULVLNmTY0ePVpTpkzRI488orNnz2rz5s36%2BOOPtXbtWk2ePFm7d%2B/W4sWLdfLkSfXr10/r169X7969K/ya2dnZysnJcRoLkhQcFOSio6oCqlVz/uwuoqKsrsC1WrVy/gxcSz4%2BVlfgWu76c89KlZCElfkeHBSk4ODgq26bkZGhkJAQBQQEOMYiIiK0b98%2B5eXlyd/f3zEeFxfGPPfkAAAgAElEQVTntO2pU6eUn5%2BvBg0aOMa2bNmiTz/9VD///LNatGihqVOnqm3btkYP7RJV/r/EP/7xj2rcuLEkafjw4UpKStLw4cNVUlKiIUOGqHr16oqNjZXdblfv3r0VGBiowMBANW/eXD///LOh10xNTVVKSorTWMLo0UocM8b08VQ5gYFWV%2BBa33xjdQWV4913ra4A5XHRtSNuoVEjqyuoHO70C7UbKvM9OCGhXKcFbTabateu7TR2oSHLzc11asIuZrfb9fTTT6tdu3a67bbbJEmhoaHy9PTU2LFjVbNmTaWkpGjkyJFau3at6tata%2BTQLlHlm7AWLVo4vm7atKkKCwt1/PhxSVKjX39A%2BPr6SpJT9%2Brr66vz588bes2BAwcqNjbWaSxIkrKzDe2vSqpWrbQBO3FCKiqyuhrX6dPH6gpcq1Wr0gZsyBApM9Pqalznq6%2BsrsD1vLyk4mKrq3Atd/qZJ5X%2B3AsKknJy3OvnnpXNciUkYWW%2BB1egcbbb7RV6vcLCQk2ePFk//vijli5d6hgfPXq003oTJkzQ6tWrlZaWpgEDBlToNS6nyjdhF9/NcGFiLzRdv73Toaw7H4wIDg6%2BNPY8dEj69Rozt1JU5F7HtX271RVUjsxM9z02VF0FBVZXUDmKitz32K61SmjCynwPLqfAwEDZbDanMZvNJg8PDwWWcebn3Llzio%2BP19mzZ/XOO%2B9cMeHy8vJSo0aNlO3CX06q/IX5%2B/btc3x94MAB%2Bfn5OZ3rBQAAkKS2bdvqyJEjOnHihGMsPT1dLVu2VM2aNZ3WtdvtSk5OVrVq1bR48WKnBsxut%2BvFF19U5kVnIAoKCrR//37HnZOuUOWbsHfeeUc5OTk6ffq0lixZ4nh%2BBwAAsJinp%2Bs/TGjTpo0iIyP16quvKi8vT1lZWVq0aJEGDx4sSerTp4/jOV8fffSRfvzxR/3tb39znGG7wMPDQwcPHtS0adN09OhR5efna%2BbMmfL29nZpH1Llm7BBgwZp2LBh6tatm3x8fPSXv/zF6pIAAEAV9dprryk7O1tdunTRww8/rPvuu09DhgyRVHp27cyZM5KkFStW6NChQ7rtttsUGRnp%2BHj66aclSTNmzFCzZs30wAMPKCYmRrt27dKSJUtUo0YNl9XqYa/oFWy/V4cOWV2Ba3l7S8HBpRfeutM1YU2aWF2Ba0VFld7x2b69e10T5k4XRV/gjhfmHzxodQWu5eNTehH7kSPudU3YDTdY99qbN7t%2Bn507u36fVVSVvzAfAABUUVXwifnXE2YPAADAAiRhAADAGJIwU5g9AAAAC5CEAQAAY0jCTKEJAwAAxtCEmcLsAQAAWIAkDAAAGEMSZgpNGAAAMIYmzBRmDwAAwAIkYQAAwBiSMFOYPQAAAAuQhAEAAGNIwkyhCQMAAMbQhJnC7AEAAFiAJAwAABhDEmYKswcAAGABkjAAAGAMSZgpNGEAAMAYmjBTmD0AAAALkIQBAABjSMJMYfYAAAAsQBIGAACMIQkzhSYMAAAYQxNmCrMHAABgAZIwAABgDEmYKcweAACABUjCAACAMSRhptCEAQAAY2jCTGH2AAAALEASBgAAjCEJM4XZAwAAsABJGAAAMIYkzBSaMAAAYAxNmCnMHgAAgAVIwgAAgDEkYaYwewAAABYgCQMAAMaQhJlCEwYAAIyhCTOF2QMAALAASRgAADCGJMwUZg8AAMACNGEAAMAYT0/Xf5h06NAhPfroo%2BrYsaN69OihV155RSUlJWWuu3TpUvXu3Vvt27fX4MGDtXPnTsey8%2BfP65lnnlG3bt3UsWNHjRkzRrm5uabruxhNGAAAMKYKNmGJiYlq0KCB0tLStGjRIqWlpWnJkiWXrLd%2B/XrNnTtXf/3rX/XFF1%2BoR48eGjVqlM6cOSNJmj17tjIyMpSamqq1a9fKbrfrySefNF3fxWjCAACAW0hPT1dmZqbGjx%2BvWrVqqVmzZho%2BfLhSU1MvWTc1NVUPPPCA2rVrJz8/P/3pT3%2BSJH322WcqKirS%2B%2B%2B/r/j4eDVq1Eh16tRRUlKSNmzYoKNHj7qsXi7MBwAAxlTChfnZ2dnKyclxGgsKClJwcPBVt83IyFBISIgCAgIcYxEREdq3b5/y8vLk7%2B/vtG7fvn0d33t6eqp169ZKT09X69atdfr0aUVERDiWt2jRQn5%2BfsrIyFCDBg3MHKIDTVh5XfQP5xYu/I9Tvbrk62ttLa5UVGR1BZXjq6%2BsrsC1qrnZj56oKOmbb6ToaGn7dqurcZ0ff7S6Ate68HOvqMh9f1a4gdTUVKWkpDiNJSQkKDEx8arb2mw21a5d22nsQkOWm5vr1ITZbDanZu3Curm5ubLZbJJ0yb5q167t0uvC3OwnIQAAuFbs8nD5PgcOHKjY2FinsaCgoHJvb7fbXbZuRfZlBE0YAAAw5DI3HZoSHBxcrlOPZQkMDHSkWBfYbDZ5eHgoMDDQabxu3bplrnvTTTc51rXZbKpZs6Zj%2BcmTJ1WvXj1DtZWFC/MBAIBbaNu2rY4cOaITJ044xtLT09WyZUunZurCuhkZGY7vi4uL9f3336tdu3YKDQ1VQECA0/I9e/aooKBAbdu2dVm9NGEAAMCQkhLXf5jRpk0bRUZG6tVXX1VeXp6ysrK0aNEiDR48WJLUp08fbdu2TZI0ePBgffjhh/r222919uxZvfHGG/Lx8VH37t3l5eWlBx98UPPnz9eRI0eUm5urWbNm6c4771T9%2BvXNTpsDpyMBAIDbeO211zRlyhR16dJF/v7%2BGjRokIYMGSJJ2rdvn%2BM5YN26ddMTTzyhpKQkHT9%2BXJGRkVqwYIH8/PwkSWPGjFF%2Bfr7i4uJUVFSkHj16aOrUqS6t1cNe2VeduYuTJ62uwLU8PaVataTTpyvnpL5V3O0uVkny8pKKi62uwrXc9e7I9u25O7Iq8/GRQkOlAwekggKrq3GdFi0se%2Bnz512/T3e6Yf9q3OwnIQAAuFbc6Xd4K3BNGAAAgAVIwgAAgCEkYebQhAEAAENowszhdCQAAIAFSMIAAIAhJGHmkIQBAABYgCQMAAAYQhJmDk0YAAAwhCbMHE5HAgAAWIAkDAAAGEISZg5JGAAAgAVIwgAAgCEkYebQhAEAAENowszhdCQAAIAFSMIAAIAhJGHmkIQBAABYgCQMAAAYQhJmDk0YAAAwhCbMHE5HAgAAWIAkDAAAGEISZg5JGAAAgAVIwgAAgCEkYebQhAEAAENowszhdCQAAIAFSMIAAIAhJGHmkIQBAABYgCQMAAAYQhJmDk0YAAAwhCbMHE5HAgAAWIAkDAAAGEISZg5JGAAAgAVIwgAAgCEkYebQhAEAAENowszhdCQAAIAFSMIAAIAhJGHmkIQBAABYgCQMAAAYQhJmDk0YAAAwhCbMHE5HAgAAWIAkDAAAGEISZo7LkrDw8HBt3LixzGUffvihYmNjJUlbt25VeHi4zp8/X%2Ba6y5cvd6wLAADgrq7J6cj77rtP69evvxYvBQAArpGSEtd/VCabzaakpCTFxMSoa9eueuqpp3Tu3LnLrv/JJ5%2BoX79%2BioqKUu/evfXPf/7TsWzu3Llq3bq1IiMjnT6OHTtW7no4HQkAAAy53k5HTpkyRQUFBVq9erUKCws1duxYzZw5U08//fQl63733XcaP368Zs2ape7du2vTpk0aPXq0mjdvrg4dOkiS4uLi9NJLLxmup8JJ2IEDBzRy5EhFRUWpR48eWrp0qWNZTk6Ohg0bpptvvll9%2B/bVnj17JEkffPCBunTpUub%2BduzYoX79%2BumWW27RiBEjdPz4cceyrVu3KioqSosXL1b79u21fft2SdKyZct01113qV27drr77ruVlpbm2Gbo0KGaP3%2B%2BJkyYoPbt2%2Bv222/XypUrK3qYAADAjRw7dkxpaWlKTk5WYGCgGjRooPj4eK1YsUKFhYWXrG%2Bz2fTYY4%2BpV69eqlatmu644w6FhYVp27ZtLqupwklYQkKCbrvtNs2bN08//fST/vjHP6pFixaSpNTUVL388ssKCgpSfHy8Zs2apfnz5192X8XFxRozZozuvvtujR07VpmZmUpMTFS1av9XVmFhoX7%2B%2BWd98cUX8vX11SeffKKUlBS99dZbatWqldavX6%2BkpCR98sknaty4sSTpnXfe0QsvvKAXXnhB8%2BfP1/Tp09W3b195e3uX6xizs7OVk5PjNBZUvbqCg4IqOl1Vl6en82fgWoqKsroC12rVyvmzu/DxsboC17rwHlDO9wJcXWUkYWW%2BBwcFKTg42NR%2Bd%2B3aJS8vL4WHhzvGIiIidObMGe3du9dpXJK6deumbt26Ob4vKipSTk6OGjRo4BjbvXu3Bg0apD179qhRo0Z68skn1bVr13LXVKEm7Pvvv9fu3bu1ZMkSVa9eXa1bt1ZKSoqjoLi4ON14442SpNjYWC1fvvyK%2B9u5c6eys7P1%2BOOPy9fXV%2B3atdOdd96pzz77zLFOYWGhhgwZIj8/P0nS%2B%2B%2B/r/79%2B6tt27aSpD/84Q%2B69dZbtXr1aj366KOSpKioKN1%2B%2B%2B2SpLvuukspKSnKzs5WSEhIuY4zNTVVKSkpTmMJo0crccyYcm1/XalZ0%2BoKUB5eXlZX4FrffGN1BZXj3XetrgDl0bCh1RW4jcpowsp8D05IUGJioqn92mw2%2Bfv7y8PDwzEWEBAgScrNzb3q9jNnzlSNGjXUt29fSVLDhg0VGhqqcePGKTg4WKmpqRo1apRWrVql5s2bl6umCjVh%2B/fvl7%2B/v%2BrUqeMYi4mJcXzdpEkTx9e%2Bvr5lxnsX%2B%2BWXX1S7dm3VqlXLMdasWbNL1ruQcF2oYdOmTVqyZIljzG63q2XLlmXWcaF5u9KFd781cODAS%2B7QDKpeXTp9utz7qPI8PUsbsPz86%2B%2Bk/pXUqGF1Ba7n5SUVF1tdhWtFR1tdgWu1alXagA0ZImVmWl2N67jbpRze3qUN2C%2B/SFd5f7quhIZaXYFLlfkeXM4zUStXrtTEiRPLXJacnCy73V7heux2u2bOnKnVq1dr6dKl8vX1lSQNGDBAAwYMcKw3fPhwffzxx1q1apWSkpLKte8KNWGenp4qucIb9sXdZXkUFBSo%2BDdvLmXt/%2BLTk35%2Bfho3bpxGjhx5xTrNCA4OvjT2PHnSvZqVC67F7SjAb/16fafbycx0r2MrKLC6gspRWOi%2Bx3aNVcbbR5nvweUUFxenuLi4Mpdt2rRJeXl5Ki4ultevZxdsNpskqV69emVuU1JSoieffFLfffedli9frtCrNLwhISHKzs4ud70V6lZCQ0OVn5/v9AJpaWn68ssvK7Ibh%2BDgYOXl5en0RQlTVlbWFbdp2rSpdu/e7TR2%2BPBhQ90tAAD4fWjdurXsdrsyL0qr09PTVbt2bcelVL/1wgsv6IcffiizAXv99de1efNmp7GsrKyrNmoXq1AT1rp1a7Vp00Zz5sxRfn6%2B9uzZc9VnbFxJu3btFBAQoLfeeksFBQXatm2b0/VgZRk4cKDWrFmjDRs2qKioSFu2bNE999yjHTt2GKoBAAAYcz09JywwMFC9e/fWnDlzdOLECf3yyy%2BaN2%2Be%2Bvfv7zjjNmzYMK1Zs0aS9PXXX2vVqlVasGCB02VYF9hsNk2bNk179%2B7V%2BfPntXDhQu3fv1/3339/uWuq8N2R8%2BfP18SJExUTE6N69eopPj7e6e6BivDz89O8efM0depULV68WFFRURo5cqTefvvty27TpUsXTZo0SdOnT9exY8fUpEkTTZ06VbfccouhGgAAgDHX29Us06dP17PPPquePXvK29tb99xzj5KTkx3LDxw4oJMnT0qSVqxYodOnT6tHjx5O%2B4iOjtbChQs1btw4SaXXgtlsNrVs2VKLFy9Wwwrc%2BOFh5zxe%2Bfz6j%2BI2PD2lWrVKbza43v4vuhJ/f6srcD13vDC/mps9JzoqqvSOz/bt3euasB9/tLoC1/LxKb2I/cAB97om7NfHRFlh7VrX77N3b9fvs6pys5%2BEAADgWnGn3%2BGtwJM6AQAALEASBgAADCEJM4cmDAAAGEITZg6nIwEAACxAEgYAAAwhCTOHJAwAAMACJGEAAMAQkjBzaMIAAIAhNGHmcDoSAADAAiRhAADAEJIwc0jCAAAALEASBgAADCEJM4cmDAAAGEITZg6nIwEAACxAEgYAAAwhCTOHJAwAAMACJGEAAMAQkjBzaMIAAIAhNGHmcDoSAADAAiRhAADAEJIwc0jCAAAALEASBgAADCEJM4cmDAAAGEITZg6nIwEAACxAEgYAAAwhCTOHJAwAAMACJGEAAMAQkjBzaMIAAIAhNGHmcDoSAADAAiRhAADAEJIwc0jCAAAALEASBgAADCEJM4cmDAAAGEITZg6nIwEAACxAEgYAAAwhCTOHJgwAABhCE2YOpyMBAAAsQBIGAAAMIQkzhyQMAADAAiRhAADAEJIwc0jCAACAISUlrv%2BoTDabTUlJSYqJiVHXrl311FNP6dy5c2Wu%2B8EHH6hVq1aKjIx0%2Bvjuu%2B9%2BPfYSzZ49Wz179lR0dLQeeeQRHThwoEL10IQBAIDfhSlTpujs2bNavXq1VqxYoaysLM2cOfOy60dHRys9Pd3p4%2Babb5YkvfPOO/roo4%2B0YMECffbZZ2rWrJlGjx4tu91e7npowgAAgCHXUxJ27NgxpaWlKTk5WYGBgWrQoIHi4%2BO1YsUKFRYWVnh/qampGj58uFq0aCF/f38lJycrKytLO3bsKPc%2BaMIAAIDb27Vrl7y8vBQeHu4Yi4iI0JkzZ7R3794ytzly5IhGjBih6Oho9ezZUytXrpQknTt3Tj/%2B%2BKPatGnjWNff31833HCD0tPTy10TF%2BYDAABDKiO5ys7OVk5OjtNYUFCQgoODTe3XZrPJ399fHh4ejrGAgABJUm5u7iXrBwYGqlmzZnriiSfUsmVLrVu3ThMnTlRwcLCaN28uu93u2P7i/ZW1r8uhCSuvF16wugLXatxYGjtWWrhQOnzY6mpcJz7e6gpcy8dHatRIys6WCgqsrsZ1fvzR6gpcy8en9PPKle7179SypdUVuFZUlPTNN1JcnLR9u9XVuE4FrkFytcpowlJTU5WSkuI0lpCQoMTExKtuu3LlSk2cOLHMZcnJyRW6Xqt79%2B7q3r274/u7775b69at0wcffKDx48dLUoX2VxaaMAAAUGUMHDhQsbGxTmNBQUHl2jYuLk5xcXFlLtu0aZPy8vJUXFwsLy8vSaXpmCTVq1evXPsPCQnRzp07VadOHXl6ejq2v8Bms5V7XxJNGAAAMKgykrDg4GDTpx7L0rp1a9ntdmVmZioiIkKSlJ6ertq1a%2BvGG2%2B8ZP3ly5crICBAffv2dYxlZWUpNDRUvr6%2Buummm5SRkaHbbrtNknTq1Cnt37/fcfdkeXBhPgAAcHuBgYHq3bu35syZoxMnTuiXX37RvHnz1L9/f1WrVppJDRs2TGvWrJEkFRQU6LnnnlN6eroKCwu1evVqbdy4UYMGDZIkDR48WEuXLlVWVpby8vI0c%2BZMtW7dWpGRkeWuiSQMAAAYcr09MX/69Ol69tln1bNnT3l7e%2Buee%2B5RcnKyY/mBAwd08uRJSdLDDz%2Bs/Px8jR07Vjk5OWrSpInmzZuntm3bSpIGDRqknJwcDR06VPn5%2BerYseMl17JdDU0YAAAw5HprwmrVqqVZs2Zddvn69esdX3t4eCg%2BPl7xl7nhy8PDQ2PGjNGYMWMM18PpSAAAAAuQhAEAAEOutySsqiEJAwAAsABJGAAAMIQkzByaMAAAYAhNmDmcjgQAALAASRgAADCEJMwckjAAAAALkIQBAABDSMLMoQkDAACG0ISZw%2BlIAAAAC5CEAQAAQ0jCzCEJAwAAsABJGAAAMIQkzByaMAAAYAhNmDmcjgQAALAASRgAADCEJMwckjAAAAALkIQBAABDSMLMoQkDAACG0ISZw%2BlIAAAAC5CEAQAAQ0jCzCEJAwAAsABJGAAAMIQkzByaMAAAYAhNmDmcjgQAALAASRgAADCEJMwckjAAAAALkIQBAABDSMLMoQkDAACG0ISZw%2BlIAAAAC5CEAQAAQ0jCzKEJAwAAhtCEmcPpSAAAAAuQhAEAAENIwswhCQMAALAASRgAADCEJMwcmjAAAGAITZg5nI4EAACwAEkYAAAwhCTMHJIwAAAAC7isCQsPD9fGjRtdtTsAAFDFlZS4/uP3hNORAADAkOutabLZbJo6daq%2B/PJLeXp66o477tCUKVPk5%2Bd3ybpPP/20Vq5c6TRWXFysuLg4vfjii5o8ebJWrVolLy8vx3JfX19t27at3PVwOhIAAPwuTJkyRWfPntXq1au1YsUKZWVlaebMmWWu%2B/zzzys9Pd3xsX37djVv3lx9%2BvRxrPP44487rVORBkwy0IQdOHBAI0eOVFRUlHr06KGlS5c6luXk5GjYsGG6%2Beab1bdvX%2B3Zs8exbNWqVerbt6%2BioqIUGxurd99917Fs7ty5euyxx5SUlKT27dtLkk6cOOHYV1xcnP7zn/8oPDxcBw8elCQdOnRIo0aNUseOHRUdHa2JEycqLy9PknT27FlNmjRJnTt3VlRUlAYNGqSdO3dW9FABAMAVXE%2BnI48dO6a0tDQlJycrMDBQDRo0UHx8vFasWKHCwsKrbr9kyRI1btxYd9xxh8tqqnATlpCQoBYtWuiLL77Q66%2B/rjlz5mjTpk2SpNTUVE2dOlVffPGF6tevr1mzZkkqbdwmTZqkp59%2BWt98841mzJih5557TpmZmY79fvvtt7rtttv01VdfSZKeeuopFRYWauPGjZozZ47%2B9re/Oda12%2B2Kj49Xo0aNtGHDBv373//W0aNH9fLLL0sqnahjx45p3bp12rp1q26//XZNmTLF%2BCwBAIDr2q5du%2BTl5aXw8HDHWEREhM6cOaO9e/decdtTp05p/vz5mjBhgtP4li1bdN999ykqKkr9%2B/evcOBToWvCvv/%2Be%2B3evVtLlixR9erV1bp1a6WkpKhBgwaSpLi4ON14442SpNjYWC1fvlyS1KRJE23ZskUBAQGSpM6dO6tevXrKyMhQq1atJEleXl4aPHiwPDw8VFJSov/%2B97%2BaM2eO6tSpozp16mjgwIF65plnJEnp6en64YcftHz5clWvXl3Vq1dXYmKiHnnkEU2fPl2nTp2St7e3/Pz8VK1aNcXHxys%2BPr7cx5mdna2cnBynsSA/PwUHBlZkuqq2oCDnz%2B7Cx8fqClyrWjXnz%2B7C082uhPD2dv7sLqKirK7AtX59v3F8hmmVkVyV%2BR4cFKTg4GBT%2B7XZbPL395eHh4dj7EJfkpube8Vtly1bpujoaN10002OsdDQUHl6emrs2LGqWbOmUlJSNHLkSK1du1Z169YtV00V%2Bsm%2Bf/9%2B%2Bfv7q06dOo6xmJgYx9dNmjRxfO3r6%2BuI9zw8PLR8%2BXK9//77ys7Olt1uV0FBgQoKChzrN2zY0DExNptNhYWFCgkJcSyPjIx0fH3gwAEVFxerY8eOTvUVFxcrNzdXQ4YM0SOPPKI77rhDt99%2Bu3r16qWePXuW%2BzhTU1OVkpLiNJYwerQSx4wp9z6uG0OGWF0BysPdmmV31bCh1RW41jffWF1B5bjochiYUxlNWJnvwQkJSkxMvOq2K1eu1MSJE8tclpycLLvdXuF6iouL9c477%2BjVV191Gh89erTT9xMmTNDq1auVlpamAQMGlGvfFWrCPD09VXKFGb%2B4u7zYe%2B%2B9pwULFuj1119XdHS0vLy8LjmnWu2i3/QvTNLFY54X/ebs6%2BurGjVqaPv27WW%2BXmBgoNasWaOtW7dq/fr1euaZZ7Rq1Sq99tprVz9ISQMHDlRsbKzTWNA//ylddEr0uhcUVNqAvfuu9JvfOK5rDz5odQWuVa1a6b9VTo5UVGR1Na7jTscilSZgDRtKv/wilePakutGXJzVFbhWq1alP/OGDJEuuhzmuudmzXKZ78Hl/EU0Li5OcZf573bTpk3Ky8tTcXGx445Gm80mSapXr95l9/nVV1%2BpoKBAHTp0uOJre3l5qVGjRsrOzi5XrVIFm7DQ0FDl5%2BcrOzvbEQumpaWpdu3aV9wuPT1dHTp0UKdOnSSVXsB/pSLr1KkjLy8vHT582BH9paenO5Y3bdpUZ86c0YEDBxQaGipJysvLU2FhoerWrav8/Hx5e3srJiZGMTExGjFihGJjY5Wbm1uuiDA4OPjS2PPcOenw4atue93JyXGv47ooXXUrRUXudWzu1oRdUFjoXv9Ol/lF97qXmem%2Bx3aNVUYSVuZ7sAu0bt1adrtdmZmZioiIkFTaW9SuXdtxKVVZPv30U3Xq1OmSsOill17S/fff77isqqCgQPv373f0JeVRoQszWrdurTZt2mjOnDnKz8/Xnj179NRTT%2BncuXNX3C4kJER79%2B7VyZMndejQIT3//PNq3Lixjh49Wub6Xl5e6tChgxYtWqTTp09r3759eu%2B99xzLw8LCFBUVpRkzZujEiRM6deqUnn32WUcEOWbMGL388svKy8tTSUmJtm/frjp16jjO/QIAgN%2BXwMBA9e7dW3PmzNGJEyf0yy%2B/aN68eerfv7%2BjwRo2bJjWrFnjtN2uXbucLreSSs/8HTx4UNOmTdPRo0eVn5%2BvmTNnytvbW7169Sp3TRW%2BOnb%2B/Pk6dOiQYmJiNGrUKMXHx6tbt25X3Gbw4MG64YYbdMcdd%2BjRRx/VQw89pIceekiLFi3SO%2B%2B8U%2BY2M2bM0KlTp9SlSxc9%2BeSTeuyxx0oL/vW05Kuvviq73a6ePXvqzjvvVHFxsV566SVJ0nPPPaeff/5Z3bp1U3R0tJYtW6Z58%2BY5ndIEAADmXE%2BPqJCk6dOnq1atWurZs6f69eunm2%2B%2BWcnJyY7lBw4c0MmTJ522ycnJUf369S/Z14wZM9SsWTM98MADiomJ0a5du7RkyRLVqFGj3PV42I1cpXaNFBQUyOfXu922bNmiESNGaMeOHY6xa2rSpGv/mpWpcWNp7NjS63bQuBYAABKcSURBVNzc6XRkBe6CvS74%2BEiNGklHjrjXaS53Ox3p4yOFhkoHDrjXv1PLllZX4FpRUaXXT7Vv716nIy18G%2B/c2fX73LzZ9fusqqpsNPSXv/xFf/7zn3Xq1CmdPn1aixYtUkxMjDUNGAAAgItV2SZswoQJCggIUK9evdSrVy95eXlpxowZVpcFAAB%2Bdb2djqxqquwTIOvWrVvuR0oAAABcb6psEwYAAKq231ty5Wo0YQAAwBCaMHOq7DVhAAAA7owkDAAAGEISZg5JGAAAgAVIwgAAgCEkYebQhAEAAENowszhdCQAAIAFSMKA/9/enQdFXf9xHH/tikClgqKggnSYDZaCIB5dTKGmTYcdlqE1mZqaxqGWDaLmlNVohRiWdimaaaA1ZU1ZmpmRaV4louk0UogHCwR5YCjs/v7w547rBS3qZ22fjxlH%2BH6/Di9nVV6%2Bv5/9fAEAbmESVj9MwgAAAAxgEgYAANzCJKx%2BKGEAAMAtlLD64XYkAACAAUzCAACAW5iE1Q%2BTMAAAAAOYhAEAALcwCasfShgAAHALJax%2BuB0JAABgAJMwAADgFiZh9UMJAwAAbqGE1Q%2B3IwEAAAxgEgYAANzCJKx%2BmIQBAAAYwCQMAAC4hUlY/VDCAACAWyhh9cPtSAAAAAOYhAEAALcwCasfJmEAAAAGMAkDAABuYRJWP5QwAADgFkpY/XA7EgAAwAAmYQAAwC1MwuqHSRgAAIABTMIAAIBbmITVDyUMAAC4hRJWP9yOBAAAMIBJGAAAcAuTsPphEgYAAGAAkzAAAOAWJmH1wyQMAAC4xW4//z8utLy8PPXq1UsPP/xwrdfOnz9fvXv3VkxMjBISErR161bnuaqqKk2aNElxcXHq1q2bkpKSVF5e/q%2ByUMIAAIBXWLp0qRITE3XllVfWeu3KlSuVmZmpadOmac2aNbr99ts1YsQIVVZWSpKmT5%2Bu/Px8ZWdn6%2Buvv5bD4VBqauq/ykMJAwAAbrnUJmFVVVXKzs5WVFRUrddmZ2frgQceUFRUlPz9/TV06FBJ0nfffafq6motWbJEI0eOVKtWrRQYGKiUlBStWrVKxcXFdc5DCQMAAF7hoYceUkhISJ2uzc/P1/XXX%2B/83Gq1qn379srLy1NhYaEOHjyoG264wXm%2Bbdu28vf3V35%2Bfp3zsDAfAAC45UJMrmw2m0pKSlyOtWjRQsHBwef/i51DRUWFAgICXI4FBASovLxcFRUVkqQmTZq4nG/SpMm/WhdGCaurqVNNJzivbDabsjMz1T8h4aL/wUbdOV%2Bn/v0VXIc1DDDD5XVq08Z0nPPH4TCd4Lxyvk7LlvHv3nlyIf6IZGZma%2BbMmS7Hnn76aSUmJtb6az/77DONGzfujOdeeeUVPfDAA/8qi6OW32Bt52tDCfNSJSUlmjlzpuLj4/nHyIPxOl0aeJ0uDbxOl4b%2B/fsrPj7e5ViLFi3q9Gv79u2rvn37npccTZs2dU68TqioqFC7du3UrFkz5%2BdXXHGF8/zff/%2BtoKCgOn8NShgAAPAYwcHBHlGSO3TooPz8fN1///2SpJqaGm3btk39%2BvVTmzZtFBAQoPz8fIWGhkqSdu7cqaNHj6pDhw51/hoszAcAAJDUp08fbdiwQZKUkJCgTz/9VL/88ouOHDmiWbNmydfXV7fddpsaNGighx9%2BWLNnz9a%2BfftUXl6u9PR09erVS82bN6/z12MSBgAAvELv3r21d%2B9e1dTUyG63q2PHjpKkZcuWKTQ0VAUFBc59wOLi4jRmzBilpKSorKxMHTt21DvvvCN/f39JUlJSkg4fPqy%2Bffuqurpat99%2BuyZPnvyv8lgc9V1VhkuSzWZTdnb28YXEHjD2xZnxOl0aeJ0uDbxO8DSUMAAAAANYEwYAAGAAJQwAAMAAShgAAIABlDAAAAADKGEAAAAGUMIAAAAMoIQBAAAYQAkDAAAwgBIGAABgAM%2BOBAA31dTUyGaz6Z9//jnt3NVXX20gEWrz999/KyAgwHQMQBIlzOvs379fX3zxhfbv368JEyZIkrZs2aLIyEjDybzbG2%2B8oaSkJElSenr6Oa8dM2bMxYiEWixdulQvvviiDh06JElyOByyWCzOn7dv3244IfLz8zVx4kR98sknkqTk5GR9/fXXatq0qd566y1FR0cbTghvRwnzIt9%2B%2B61Gjx6tmJgYbdy4URMmTNC%2Bffv0xBNP6IUXXtBdd91lOqLX%2BvXXX50fb968%2BazXWSyWixEHdfD666/r8ccf15133il/f3/TcXAGU6ZMUc%2BePSVJK1as0MaNG7Vy5Upt2rRJr776qhYuXGg4IbwdD/D2Ivfcc4%2BSk5PVs2dPRUZGasuWLZKktWvXasqUKfriiy8MJwQuHZ07d9bPP/%2BsBg0amI6Cs%2BjcubPWrVsnHx8fpaamqnHjxho/frwcDoe6du2q9evXm44IL8ckzIvs3r1b8fHxklwnKl26dFFRUZGpWDhFTU2NVq5cqT/%2B%2BENVVVUu5ywWi0aNGmUoGU7Wo0cPrVu3TjfddJPpKDgLPz8/HTt2TBaLRT/88INeffVVSVJlZaXsdrvhdAAlzKu0bt1aO3bsUPv27V2O5%2BbmKigoyFAqnColJUXff/%2B9rrnmGvn5%2Bbmco4R5jrZt2yo1NVXR0dEKCwuT1er6ZnPW7pkXFxenpKQk%2Bfj4qFGjRurevbuOHTum6dOnKyYmxnQ8gBLmTQYMGKAhQ4aoX79%2BqqmpUVZWlnbs2KEvv/xS48aNMx0P/5ebm6ulS5fqqquuMh0F55Cbm6vw8HCVlZWprKzM5Rxr9zzD5MmTlZWVpYMHD2rChAmyWCw6duyYCgoK9NJLL5mOB7AmzNt88803%2Bvjjj1VYWCh/f3%2B1adNGjzzyCLdUPEjfvn01b948BQYGmo4C/GeUl5eradOmpmMALihhgIfZunWrZs2apT59%2Big4OPi021xdunQxlAynOrHlS3FxsdLS0iSx5YsnOXz4sKZOnaqlS5equrpaW7duVUVFhZ577jm98soratasmemI8HKUMC%2BSmpp61nNWq1UhISGKi4tTp06dLmIqnGrGjBmaPXu2zvRXk/2nPMepW77k5eVp3759uvvuu9nyxUM899xzstlsGjVqlAYPHqwtW7bo8OHDmjRpkhwOR6178gEXGiXMi0yYMEHLly/XZZddpuuvv15Wq1Xbtm1TVVWVunbtqtLSUm3evFmTJ09Wv379TMf1WjExMXr%2B%2BecVHx9/2sJ8SfL19TWQCqdiyxfP161bN3311Vdq1qyZoqKinPvxHThwQL1799ZPP/1kOCG8HQvzvUhgYKAee%2BwxjRw50nmLy263a9asWWrYsKGGDRum3NxcTZkyhRJmUGBgoPr06XPGAgbPwZYvns9isahRo0anHa%2BpqTlt%2BxfABB7g7UVycnI0bNgwlzVGVqtVTz75pObNmydJuvnmm1VcXGwqInR8Yvnaa6/pzz//VFVVlY4ePeryA57hxJYvp2LLF88RHR2tadOmuTzbc8%2BePUpLS1PXrl0NJgOOYxLmRRo2bKjVq1c7H%2BNxwk8//eT85r5q1Sq1atXKRDz837PPPqsjR47ogw8%2BcJmw8ExCz8KWL55v4sSJGjlypGJjY1VdXa3OnTursrJSnTp1Yj0YPAJrwrzI4sWLNWnSJEVERCg0NFQ%2BPj7au3ev8vLyNHr0aA0aNEgxMTGaOnUqi4oN%2BvnnnyUdv2VSVlYmPz8/BQQEOM/zP3jPwZYvl4YtW7aoqKhIfn5%2BCg8PV7t27UxHAiRRwrzOtm3btHr1apWUlMhutysoKEjdunXTokWLlJ6erqKiIoWFhZmO6dVKSko0ceJE/fjjj6qurpYk%2Bfv7q2fPnkpNTeVt9R7i119/VVRUlOkYOIe9e/ee9ZzValXz5s3l48MNIZhDCfMiNTU1%2Buijj7R161aXtUU2m007d%2B7UunXrDKbDCU888YSqq6s1aNAghYeHy%2BFwqLCwUPPnz5efn5/effdd0xEhKTY2VmvWrOHdqh4sIiLinE8vsFqtuummmzRlyhSFhIRcxGTAcZQwLzJ58mR99913io2N1bJly3TXXXdp%2B/bt8vX1VVpaGs9S8xDR0dFavXq1Gjdu7HL84MGDuu2227Rx40ZDyXCyefPmqbCwUAMGDFDr1q3VoEEDl/OUM/O%2B//57zZgxQ4888og6duwoi8WivLw8LVmyRCNGjNBll12mrKws%2Bfj4aObMmabjwgsxh/UiK1as0JIlS9SyZUstX75c06ZNk8Ph0GuvvaYdO3ZQwjxEWFiYKisrTythVVVVatmypaFUOFVGRoaqq6u1cOHCM57nDRTmZWRkKCMjQ1deeaXzWEREhGJjY5WWlqaFCxfqhhtu0B133GEwJbwZJcyLnPxNvEGDBjp69Kh8fX01bNgw3XPPPUpISDCc0HsVFBQ4Px46dKjGjh2rgQMHqm3btrJarSooKNCHH36oxMREgylxsrffftt0BNRi165dZ1xD2aJFC23bts35ud1uv5ixACdKmBe57rrrNHPmTA0fPlxXX321Fi9erIEDB2rfvn2qrKw0Hc%2Br3XnnnbJYLC6PKtqwYcNp161bt059%2BvS5mNFwFrxL1fN16tRJTz31lAYPHqzWrVurYcOG2rNnj7KysnTttdequrpaiYmJuvHGG01HhZdiTZgXycvL05gxY/TZZ59pzZo1SklJka%2Bvr6qqqjRw4ECNHz/edESvtWfPnjpfGxoaegGT4Fzi4%2BPPudD7ZN9%2B%2B%2B0FToPalJeXa/z48crNzdWxY8ckHb8LEBsbq5dfflmhoaFKS0vTuHHjXLaBAS4WSpgX27Vrl7Zv367Q0FAe2g3UwUcffeT8uKysTDk5OerVq5euuuoq2e12/f7771q1apUGDx6sQYMGmQsKFw6HQxUVFXI4HAoMDHR5aghgEiUMANwwZMgQJScnKzIy0uX4hg0b9NZbb2nOnDmGkuGE2NhYrV%2B/vs7TS%2BBi478DAOCGTZs2KSIi4rTjkZGR2rx5s4FEONWtt96qnJwc0zGAs2JhPgC4ITw8XJmZmRo%2BfLgaNWokSTp06JDee%2B89njrhIY4cOaKMjAxlZmaqZcuWp%2B2Of/LtZcAEShgAuOGFF15QcnKy5syZoyZNmqimpkaHDh1SkyZN9Oabb5qOB0kdOnRQhw4dTMcAzoo1YQDgJrvdrry8PBUXF%2Bvo0aMKDg5WVFSU/Pz8TEdDLRYuXKgBAwaYjgEvRwkDgDo6%2BZmrteGxRZ5h586dys/Pd3ntiouLNXfuXNbuwThuRwJAHUVGRtb6TjuHwyGLxcJjizzAokWL9OKLLyooKEilpaUKCQmRzWZTaGiokpOTTccDKGEAUFfz5s1ju4NLyPvvv685c%2Baoe/fuioyM1KpVq1RSUqKXXnqJtWLwCNyOBAD8J0VHRztvOXbq1EmbN2%2BWxWLRnj17NGLECH3%2B%2BeeGE8LbMQkDgDrq0aOH83FEt9xyyzmvzc3NvRiRcA6tW7fW2rVr1b17d7Vo0UIbNmxQly5d1LhxYxUVFZmOB1DCAKCukpKSnB%2BPHTvWYBLUxfDhwzVkyBCtXbtWDz74oJ566inFxsZq165d6ty5s%2Bl4ALcjAQD/XUVFRc7NcxcvXqy8vDyFhYUpISFBjRs3NpwO3o4SBgBu%2BP3335Wenq6CgoIzbl1x4rYlAJwNtyMBwA3Jyclq3ry5%2BvfvL39/f9NxcAYUZXg6ShgAuKGoqEiLFy/W5ZdfbjoKziIlJUVBQUEUZXgsShgAuCE6OlqlpaUKDw83HQVnsXv3buXk5FCU4bEoYQBQRydvO3Hvvfdq3Lhxuu%2B%2B%2BxQaGnraJq61bWGBC4%2BiDE/HwnwAqKOIiIg6Xcdji8w5uSjbbDbl5ORQlOGxKGEA4KY1a9YoJCREbdu2lSStX79eVVVVfHM3iKKMSwm3IwHADQsWLFBGRoYyMzOdJezAgQNKS0vT008/rUcffdRwQu/022%2B/uXxOUYYns5oOAACXojlz5mjBggW68cYbncd69Oih%2BfPna%2B7cuQaT4YQFCxYoKSlJNpvNeezAgQN65plntGDBAoPJgOMoYQDghvLycl1zzTWnHQ8LC9Nff/1lIBFORVGGp6OEAYAbYmJilJ6eroMHDzqPlZaW6uWXX1ZUVJTBZDiBogxPx8J8AHDD7t27lZiYqJ07d6pRo0ay2%2B06fPiw2rdvr9mzZys4ONh0RK83ZMgQtWvXTqNGjXI%2BJ7K0tFQZGRkqKipSVlaW2YDwepQwAKiH7du3q7CwUFarVW3atKnzu/Nw4VGU4ekoYQCA/zSKMjwVJQwAAMAAFuYDAAAYQAkDAAAwgBIGAABgACUMAADAAEoYAACAAZQwAAAAAyhhAAAABlDCAAAADPgfCD7u9tZUVt0AAAAASUVORK5CYII%3D\" class=\"center-img\">\n",
              "</div>\n",
              "    <div class=\"row headerrow highlight\">\n",
              "        <h1>Sample</h1>\n",
              "    </div>\n",
              "    <div class=\"row variablerow\">\n",
              "    <div class=\"col-md-12\" style=\"overflow:scroll; width: 100%%; overflow-y: hidden;\">\n",
              "        <table border=\"1\" class=\"dataframe sample\">\n",
              "  <thead>\n",
              "    <tr style=\"text-align: right;\">\n",
              "      <th></th>\n",
              "      <th>age</th>\n",
              "      <th>sex</th>\n",
              "      <th>bmi</th>\n",
              "      <th>children</th>\n",
              "      <th>smoker</th>\n",
              "      <th>region</th>\n",
              "      <th>charges</th>\n",
              "    </tr>\n",
              "  </thead>\n",
              "  <tbody>\n",
              "    <tr>\n",
              "      <th>0</th>\n",
              "      <td>19</td>\n",
              "      <td>female</td>\n",
              "      <td>27.900</td>\n",
              "      <td>0</td>\n",
              "      <td>yes</td>\n",
              "      <td>southwest</td>\n",
              "      <td>16884.92400</td>\n",
              "    </tr>\n",
              "    <tr>\n",
              "      <th>1</th>\n",
              "      <td>18</td>\n",
              "      <td>male</td>\n",
              "      <td>33.770</td>\n",
              "      <td>1</td>\n",
              "      <td>no</td>\n",
              "      <td>southeast</td>\n",
              "      <td>1725.55230</td>\n",
              "    </tr>\n",
              "    <tr>\n",
              "      <th>2</th>\n",
              "      <td>28</td>\n",
              "      <td>male</td>\n",
              "      <td>33.000</td>\n",
              "      <td>3</td>\n",
              "      <td>no</td>\n",
              "      <td>southeast</td>\n",
              "      <td>4449.46200</td>\n",
              "    </tr>\n",
              "    <tr>\n",
              "      <th>3</th>\n",
              "      <td>33</td>\n",
              "      <td>male</td>\n",
              "      <td>22.705</td>\n",
              "      <td>0</td>\n",
              "      <td>no</td>\n",
              "      <td>northwest</td>\n",
              "      <td>21984.47061</td>\n",
              "    </tr>\n",
              "    <tr>\n",
              "      <th>4</th>\n",
              "      <td>32</td>\n",
              "      <td>male</td>\n",
              "      <td>28.880</td>\n",
              "      <td>0</td>\n",
              "      <td>no</td>\n",
              "      <td>northwest</td>\n",
              "      <td>3866.85520</td>\n",
              "    </tr>\n",
              "  </tbody>\n",
              "</table>\n",
              "    </div>\n",
              "</div>\n",
              "</div>"
            ],
            "text/plain": [
              "<pandas_profiling.ProfileReport at 0x7f8f433cae80>"
            ]
          },
          "metadata": {
            "tags": []
          },
          "execution_count": 10
        }
      ]
    },
    {
      "cell_type": "markdown",
      "metadata": {
        "id": "ugjYXvluUWEx",
        "colab_type": "text"
      },
      "source": [
        "# Univariate Analysis"
      ]
    },
    {
      "cell_type": "markdown",
      "metadata": {
        "id": "aNM1y_zU-DPC",
        "colab_type": "text"
      },
      "source": [
        "### Classifing numerical and categorical data"
      ]
    },
    {
      "cell_type": "code",
      "metadata": {
        "id": "9uvtMfdSDPDQ",
        "colab_type": "code",
        "colab": {}
      },
      "source": [
        "columns=list(data.columns)\n",
        "num=[]\n",
        "cat=[]\n",
        "#Classifing numerical and categorical data into num[] and cat[] lists\n",
        "for i in columns:\n",
        "    if((np.array(data[i].unique()).shape[0]>30 and data[i].dtype in['int64','float64'])):\n",
        "      num.append(i)  #appending to num list\n",
        "    else:\n",
        "      cat.append(i)  #appending to cat list"
      ],
      "execution_count": 0,
      "outputs": []
    },
    {
      "cell_type": "code",
      "metadata": {
        "id": "QDPsZ38NEWdB",
        "colab_type": "code",
        "colab": {
          "base_uri": "https://localhost:8080/",
          "height": 0
        },
        "outputId": "0fe303d7-c191-4a89-a922-562f7945bb9a"
      },
      "source": [
        "num"
      ],
      "execution_count": 27,
      "outputs": [
        {
          "output_type": "execute_result",
          "data": {
            "text/plain": [
              "['age', 'bmi', 'charges']"
            ]
          },
          "metadata": {
            "tags": []
          },
          "execution_count": 27
        }
      ]
    },
    {
      "cell_type": "markdown",
      "metadata": {
        "id": "F9KM7BRjTshb",
        "colab_type": "text"
      },
      "source": [
        "## Histogram and Box plots for Numerical variables\n"
      ]
    },
    {
      "cell_type": "code",
      "metadata": {
        "id": "jijlsM0HDTwA",
        "colab_type": "code",
        "colab": {
          "base_uri": "https://localhost:8080/",
          "height": 0
        },
        "outputId": "e29d071b-d304-47f9-85c3-a592c5c69af5"
      },
      "source": [
        "for j in num:\n",
        "  data.hist(column=j,grid=False,figsize=(8,6))\n",
        "  #plt.savefig('%s_hist.png'%j)\n",
        "  plt.show() \n",
        "  data.boxplot(column=j,grid=False,figsize=(8,6))\n",
        "  plt.show()"
      ],
      "execution_count": 28,
      "outputs": [
        {
          "output_type": "display_data",
          "data": {
            "image/png": "[encoded data removed]",
            "text/plain": [
              "<Figure size 576x432 with 1 Axes>"
            ]
          },
          "metadata": {
            "tags": []
          }
        },
        {
          "output_type": "display_data",
          "data": {
            "image/png": "[encoded data removed]",
            "text/plain": [
              "<Figure size 576x432 with 1 Axes>"
            ]
          },
          "metadata": {
            "tags": []
          }
        },
        {
          "output_type": "display_data",
          "data": {
            "image/png": "[encoded data removed]",
            "text/plain": [
              "<Figure size 576x432 with 1 Axes>"
            ]
          },
          "metadata": {
            "tags": []
          }
        },
        {
          "output_type": "display_data",
          "data": {
            "image/png": "[encoded data removed]",
            "text/plain": [
              "<Figure size 576x432 with 1 Axes>"
            ]
          },
          "metadata": {
            "tags": []
          }
        },
        {
          "output_type": "display_data",
          "data": {
            "image/png": "[encoded data removed]",
            "text/plain": [
              "<Figure size 576x432 with 1 Axes>"
            ]
          },
          "metadata": {
            "tags": []
          }
        },
        {
          "output_type": "display_data",
          "data": {
            "image/png": "[encoded data removed]",
            "text/plain": [
              "<Figure size 576x432 with 1 Axes>"
            ]
          },
          "metadata": {
            "tags": []
          }
        }
      ]
    },
    {
      "cell_type": "code",
      "metadata": {
        "id": "H72EfJJeJgOk",
        "colab_type": "code",
        "outputId": "431dddd3-aab8-41b2-997b-7147ba700979",
        "colab": {
          "base_uri": "https://localhost:8080/",
          "height": 0
        }
      },
      "source": [
        "data.describe()"
      ],
      "execution_count": 36,
      "outputs": [
        {
          "output_type": "execute_result",
          "data": {
            "text/html": [
              "<div>\n",
              "<style scoped>\n",
              "    .dataframe tbody tr th:only-of-type {\n",
              "        vertical-align: middle;\n",
              "    }\n",
              "\n",
              "    .dataframe tbody tr th {\n",
              "        vertical-align: top;\n",
              "    }\n",
              "\n",
              "    .dataframe thead th {\n",
              "        text-align: right;\n",
              "    }\n",
              "</style>\n",
              "<table border=\"1\" class=\"dataframe\">\n",
              "  <thead>\n",
              "    <tr style=\"text-align: right;\">\n",
              "      <th></th>\n",
              "      <th>age</th>\n",
              "      <th>bmi</th>\n",
              "      <th>children</th>\n",
              "      <th>charges</th>\n",
              "    </tr>\n",
              "  </thead>\n",
              "  <tbody>\n",
              "    <tr>\n",
              "      <th>count</th>\n",
              "      <td>1338.000000</td>\n",
              "      <td>1338.000000</td>\n",
              "      <td>1338.000000</td>\n",
              "      <td>1338.000000</td>\n",
              "    </tr>\n",
              "    <tr>\n",
              "      <th>mean</th>\n",
              "      <td>39.207025</td>\n",
              "      <td>30.663397</td>\n",
              "      <td>1.094918</td>\n",
              "      <td>13270.422265</td>\n",
              "    </tr>\n",
              "    <tr>\n",
              "      <th>std</th>\n",
              "      <td>14.049960</td>\n",
              "      <td>6.098187</td>\n",
              "      <td>1.205493</td>\n",
              "      <td>12110.011237</td>\n",
              "    </tr>\n",
              "    <tr>\n",
              "      <th>min</th>\n",
              "      <td>18.000000</td>\n",
              "      <td>15.960000</td>\n",
              "      <td>0.000000</td>\n",
              "      <td>1121.873900</td>\n",
              "    </tr>\n",
              "    <tr>\n",
              "      <th>25%</th>\n",
              "      <td>27.000000</td>\n",
              "      <td>26.296250</td>\n",
              "      <td>0.000000</td>\n",
              "      <td>4740.287150</td>\n",
              "    </tr>\n",
              "    <tr>\n",
              "      <th>50%</th>\n",
              "      <td>39.000000</td>\n",
              "      <td>30.400000</td>\n",
              "      <td>1.000000</td>\n",
              "      <td>9382.033000</td>\n",
              "    </tr>\n",
              "    <tr>\n",
              "      <th>75%</th>\n",
              "      <td>51.000000</td>\n",
              "      <td>34.693750</td>\n",
              "      <td>2.000000</td>\n",
              "      <td>16639.912515</td>\n",
              "    </tr>\n",
              "    <tr>\n",
              "      <th>max</th>\n",
              "      <td>64.000000</td>\n",
              "      <td>53.130000</td>\n",
              "      <td>5.000000</td>\n",
              "      <td>63770.428010</td>\n",
              "    </tr>\n",
              "  </tbody>\n",
              "</table>\n",
              "</div>"
            ],
            "text/plain": [
              "               age          bmi     children       charges\n",
              "count  1338.000000  1338.000000  1338.000000   1338.000000\n",
              "mean     39.207025    30.663397     1.094918  13270.422265\n",
              "std      14.049960     6.098187     1.205493  12110.011237\n",
              "min      18.000000    15.960000     0.000000   1121.873900\n",
              "25%      27.000000    26.296250     0.000000   4740.287150\n",
              "50%      39.000000    30.400000     1.000000   9382.033000\n",
              "75%      51.000000    34.693750     2.000000  16639.912515\n",
              "max      64.000000    53.130000     5.000000  63770.428010"
            ]
          },
          "metadata": {
            "tags": []
          },
          "execution_count": 36
        }
      ]
    },
    {
      "cell_type": "code",
      "metadata": {
        "id": "-IdezVqPJlJr",
        "colab_type": "code",
        "outputId": "0a6263ef-474e-49a2-a4cd-3fbdf62b63a1",
        "colab": {
          "base_uri": "https://localhost:8080/",
          "height": 153
        }
      },
      "source": [
        "data.isnull().sum()"
      ],
      "execution_count": 37,
      "outputs": [
        {
          "output_type": "execute_result",
          "data": {
            "text/plain": [
              "age         0\n",
              "sex         0\n",
              "bmi         0\n",
              "children    0\n",
              "smoker      0\n",
              "region      0\n",
              "charges     0\n",
              "dtype: int64"
            ]
          },
          "metadata": {
            "tags": []
          },
          "execution_count": 37
        }
      ]
    },
    {
      "cell_type": "code",
      "metadata": {
        "id": "QrPgZwToKGWb",
        "colab_type": "code",
        "outputId": "1e3061b6-fb87-47b9-c77f-62bac7a9a52c",
        "colab": {
          "base_uri": "https://localhost:8080/",
          "height": 68
        }
      },
      "source": [
        "data['sex'].value_counts()"
      ],
      "execution_count": 38,
      "outputs": [
        {
          "output_type": "execute_result",
          "data": {
            "text/plain": [
              "male      676\n",
              "female    662\n",
              "Name: sex, dtype: int64"
            ]
          },
          "metadata": {
            "tags": []
          },
          "execution_count": 38
        }
      ]
    },
    {
      "cell_type": "code",
      "metadata": {
        "id": "xEy1fzKwKeMi",
        "colab_type": "code",
        "outputId": "24310b9f-4f17-4b57-b254-06aa48546dfc",
        "colab": {
          "base_uri": "https://localhost:8080/",
          "height": 136
        }
      },
      "source": [
        "data['children'].value_counts()"
      ],
      "execution_count": 40,
      "outputs": [
        {
          "output_type": "execute_result",
          "data": {
            "text/plain": [
              "0    574\n",
              "1    324\n",
              "2    240\n",
              "3    157\n",
              "4     25\n",
              "5     18\n",
              "Name: children, dtype: int64"
            ]
          },
          "metadata": {
            "tags": []
          },
          "execution_count": 40
        }
      ]
    },
    {
      "cell_type": "code",
      "metadata": {
        "id": "kx0_OVg_Kqvz",
        "colab_type": "code",
        "outputId": "7672ea3e-b836-40c9-9bf4-d80970271607",
        "colab": {
          "base_uri": "https://localhost:8080/",
          "height": 68
        }
      },
      "source": [
        "data['smoker'].value_counts()"
      ],
      "execution_count": 41,
      "outputs": [
        {
          "output_type": "execute_result",
          "data": {
            "text/plain": [
              "no     1064\n",
              "yes     274\n",
              "Name: smoker, dtype: int64"
            ]
          },
          "metadata": {
            "tags": []
          },
          "execution_count": 41
        }
      ]
    },
    {
      "cell_type": "code",
      "metadata": {
        "id": "l1hN5msDKz4t",
        "colab_type": "code",
        "outputId": "4ab1e489-b80a-456e-b515-07a2111232ec",
        "colab": {
          "base_uri": "https://localhost:8080/",
          "height": 102
        }
      },
      "source": [
        "data['region'].value_counts()"
      ],
      "execution_count": 42,
      "outputs": [
        {
          "output_type": "execute_result",
          "data": {
            "text/plain": [
              "southeast    364\n",
              "southwest    325\n",
              "northwest    325\n",
              "northeast    324\n",
              "Name: region, dtype: int64"
            ]
          },
          "metadata": {
            "tags": []
          },
          "execution_count": 42
        }
      ]
    },
    {
      "cell_type": "code",
      "metadata": {
        "id": "2SvtnsDLK7Hn",
        "colab_type": "code",
        "outputId": "79f717c3-cf71-476d-ae11-f22c65aad0cd",
        "colab": {
          "base_uri": "https://localhost:8080/",
          "height": 34
        }
      },
      "source": [
        "data.columns"
      ],
      "execution_count": 43,
      "outputs": [
        {
          "output_type": "execute_result",
          "data": {
            "text/plain": [
              "Index(['age', 'sex', 'bmi', 'children', 'smoker', 'region', 'charges'], dtype='object')"
            ]
          },
          "metadata": {
            "tags": []
          },
          "execution_count": 43
        }
      ]
    },
    {
      "cell_type": "markdown",
      "metadata": {
        "id": "dGL454M_EsIt",
        "colab_type": "text"
      },
      "source": [
        "## barplots for Categorical variables"
      ]
    },
    {
      "cell_type": "code",
      "metadata": {
        "id": "atcGiyf2DfsI",
        "colab_type": "code",
        "colab": {
          "base_uri": "https://localhost:8080/",
          "height": 0
        },
        "outputId": "1146c411-289f-4ab7-ed98-71c8b47ed9f4"
      },
      "source": [
        "import seaborn as sns\n",
        "for g in cat:\n",
        "        sns.countplot(data[g])\n",
        "        #plt.savefig(str(g)+'_barplot.png')\n",
        "        \n",
        "        plt.show()"
      ],
      "execution_count": 30,
      "outputs": [
        {
          "output_type": "display_data",
          "data": {
            "image/png": "[encoded data removed]",
            "text/plain": [
              "<Figure size 432x288 with 1 Axes>"
            ]
          },
          "metadata": {
            "tags": []
          }
        },
        {
          "output_type": "display_data",
          "data": {
            "image/png": "[encoded data removed]",
            "text/plain": [
              "<Figure size 432x288 with 1 Axes>"
            ]
          },
          "metadata": {
            "tags": []
          }
        },
        {
          "output_type": "display_data",
          "data": {
            "image/png": "[encoded data removed]",
            "text/plain": [
              "<Figure size 432x288 with 1 Axes>"
            ]
          },
          "metadata": {
            "tags": []
          }
        },
        {
          "output_type": "display_data",
          "data": {
            "image/png": "[encoded data removed]",
            "text/plain": [
              "<Figure size 432x288 with 1 Axes>"
            ]
          },
          "metadata": {
            "tags": []
          }
        }
      ]
    },
    {
      "cell_type": "markdown",
      "metadata": {
        "id": "-UBMeD3NRkyV",
        "colab_type": "text"
      },
      "source": [
        "## Feature Engineering"
      ]
    },
    {
      "cell_type": "code",
      "metadata": {
        "id": "5CjpZocmPTq6",
        "colab_type": "code",
        "colab": {}
      },
      "source": [
        "df = data.copy()\n",
        "df['bmi_30'] = np.where(df['bmi']>=30,'yes','no')\n"
      ],
      "execution_count": 0,
      "outputs": []
    },
    {
      "cell_type": "code",
      "metadata": {
        "id": "7j41rt9nRf_U",
        "colab_type": "code",
        "outputId": "9da0f4e6-be7a-456f-81da-417abd829ec7",
        "colab": {
          "base_uri": "https://localhost:8080/",
          "height": 0
        }
      },
      "source": [
        "df.head()"
      ],
      "execution_count": 33,
      "outputs": [
        {
          "output_type": "execute_result",
          "data": {
            "text/html": [
              "<div>\n",
              "<style scoped>\n",
              "    .dataframe tbody tr th:only-of-type {\n",
              "        vertical-align: middle;\n",
              "    }\n",
              "\n",
              "    .dataframe tbody tr th {\n",
              "        vertical-align: top;\n",
              "    }\n",
              "\n",
              "    .dataframe thead th {\n",
              "        text-align: right;\n",
              "    }\n",
              "</style>\n",
              "<table border=\"1\" class=\"dataframe\">\n",
              "  <thead>\n",
              "    <tr style=\"text-align: right;\">\n",
              "      <th></th>\n",
              "      <th>age</th>\n",
              "      <th>sex</th>\n",
              "      <th>bmi</th>\n",
              "      <th>children</th>\n",
              "      <th>smoker</th>\n",
              "      <th>region</th>\n",
              "      <th>charges</th>\n",
              "      <th>bmi_30</th>\n",
              "    </tr>\n",
              "  </thead>\n",
              "  <tbody>\n",
              "    <tr>\n",
              "      <th>0</th>\n",
              "      <td>19</td>\n",
              "      <td>female</td>\n",
              "      <td>27.900</td>\n",
              "      <td>0</td>\n",
              "      <td>yes</td>\n",
              "      <td>southwest</td>\n",
              "      <td>16884.92400</td>\n",
              "      <td>no</td>\n",
              "    </tr>\n",
              "    <tr>\n",
              "      <th>1</th>\n",
              "      <td>18</td>\n",
              "      <td>male</td>\n",
              "      <td>33.770</td>\n",
              "      <td>1</td>\n",
              "      <td>no</td>\n",
              "      <td>southeast</td>\n",
              "      <td>1725.55230</td>\n",
              "      <td>yes</td>\n",
              "    </tr>\n",
              "    <tr>\n",
              "      <th>2</th>\n",
              "      <td>28</td>\n",
              "      <td>male</td>\n",
              "      <td>33.000</td>\n",
              "      <td>3</td>\n",
              "      <td>no</td>\n",
              "      <td>southeast</td>\n",
              "      <td>4449.46200</td>\n",
              "      <td>yes</td>\n",
              "    </tr>\n",
              "    <tr>\n",
              "      <th>3</th>\n",
              "      <td>33</td>\n",
              "      <td>male</td>\n",
              "      <td>22.705</td>\n",
              "      <td>0</td>\n",
              "      <td>no</td>\n",
              "      <td>northwest</td>\n",
              "      <td>21984.47061</td>\n",
              "      <td>no</td>\n",
              "    </tr>\n",
              "    <tr>\n",
              "      <th>4</th>\n",
              "      <td>32</td>\n",
              "      <td>male</td>\n",
              "      <td>28.880</td>\n",
              "      <td>0</td>\n",
              "      <td>no</td>\n",
              "      <td>northwest</td>\n",
              "      <td>3866.85520</td>\n",
              "      <td>no</td>\n",
              "    </tr>\n",
              "  </tbody>\n",
              "</table>\n",
              "</div>"
            ],
            "text/plain": [
              "   age     sex     bmi  children smoker     region      charges bmi_30\n",
              "0   19  female  27.900         0    yes  southwest  16884.92400     no\n",
              "1   18    male  33.770         1     no  southeast   1725.55230    yes\n",
              "2   28    male  33.000         3     no  southeast   4449.46200    yes\n",
              "3   33    male  22.705         0     no  northwest  21984.47061     no\n",
              "4   32    male  28.880         0     no  northwest   3866.85520     no"
            ]
          },
          "metadata": {
            "tags": []
          },
          "execution_count": 33
        }
      ]
    },
    {
      "cell_type": "code",
      "metadata": {
        "id": "wurED_vnSVD9",
        "colab_type": "code",
        "outputId": "91a39083-1c96-4bea-fa07-93d3abdba1a6",
        "colab": {
          "base_uri": "https://localhost:8080/",
          "height": 303
        }
      },
      "source": [
        "sns.boxplot(x='bmi_30',y='charges',data=df)"
      ],
      "execution_count": 34,
      "outputs": [
        {
          "output_type": "execute_result",
          "data": {
            "text/plain": [
              "<matplotlib.axes._subplots.AxesSubplot at 0x7f8f3d961c88>"
            ]
          },
          "metadata": {
            "tags": []
          },
          "execution_count": 34
        },
        {
          "output_type": "display_data",
          "data": {
            "image/png": "[encoded data removed]",
            "text/plain": [
              "<Figure size 432x288 with 1 Axes>"
            ]
          },
          "metadata": {
            "tags": []
          }
        }
      ]
    },
    {
      "cell_type": "markdown",
      "metadata": {
        "id": "vh9rszw3SK-g",
        "colab_type": "text"
      },
      "source": [
        "The idea behind deriving a new variable bmi_30 is that, 30 is the bmi threshold for obesity and we all know that obesity plays a huge role in a person’s health. As we can see, although obese and non-obese people has the same median medical expenses, their average expenditure differ by almost USD 5000.\n",
        "\n"
      ]
    },
    {
      "cell_type": "code",
      "metadata": {
        "id": "k6IEkmMiU5ZY",
        "colab_type": "code",
        "colab": {}
      },
      "source": [
        "df['age_square']= df['age']**2"
      ],
      "execution_count": 0,
      "outputs": []
    },
    {
      "cell_type": "markdown",
      "metadata": {
        "id": "WA-RwpXiV6e5",
        "colab_type": "text"
      },
      "source": [
        "create a new variable age_square which is basically age squared. Like I’ve said earlier, relationship between age and charges might not be totally linear so the idea behind this is to include the variable age_square to deal with this non-linearity in our model. "
      ]
    },
    {
      "cell_type": "markdown",
      "metadata": {
        "id": "MDf-b51wSV3-",
        "colab_type": "text"
      },
      "source": [
        "# **Bivariate Analysis**"
      ]
    },
    {
      "cell_type": "code",
      "metadata": {
        "id": "VFMQtbEPG-8o",
        "colab_type": "code",
        "outputId": "1efd1b20-2ced-49f2-a68d-e42c2dc0139a",
        "colab": {
          "base_uri": "https://localhost:8080/",
          "height": 0
        }
      },
      "source": [
        "(pd.crosstab(data['charges'],data['region'])).describe()\n"
      ],
      "execution_count": 44,
      "outputs": [
        {
          "output_type": "execute_result",
          "data": {
            "text/html": [
              "<div>\n",
              "<style scoped>\n",
              "    .dataframe tbody tr th:only-of-type {\n",
              "        vertical-align: middle;\n",
              "    }\n",
              "\n",
              "    .dataframe tbody tr th {\n",
              "        vertical-align: top;\n",
              "    }\n",
              "\n",
              "    .dataframe thead th {\n",
              "        text-align: right;\n",
              "    }\n",
              "</style>\n",
              "<table border=\"1\" class=\"dataframe\">\n",
              "  <thead>\n",
              "    <tr style=\"text-align: right;\">\n",
              "      <th>region</th>\n",
              "      <th>northeast</th>\n",
              "      <th>northwest</th>\n",
              "      <th>southeast</th>\n",
              "      <th>southwest</th>\n",
              "    </tr>\n",
              "  </thead>\n",
              "  <tbody>\n",
              "    <tr>\n",
              "      <th>count</th>\n",
              "      <td>1337.000000</td>\n",
              "      <td>1337.000000</td>\n",
              "      <td>1337.000000</td>\n",
              "      <td>1337.000000</td>\n",
              "    </tr>\n",
              "    <tr>\n",
              "      <th>mean</th>\n",
              "      <td>0.242334</td>\n",
              "      <td>0.243082</td>\n",
              "      <td>0.272251</td>\n",
              "      <td>0.243082</td>\n",
              "    </tr>\n",
              "    <tr>\n",
              "      <th>std</th>\n",
              "      <td>0.428655</td>\n",
              "      <td>0.430845</td>\n",
              "      <td>0.445285</td>\n",
              "      <td>0.429104</td>\n",
              "    </tr>\n",
              "    <tr>\n",
              "      <th>min</th>\n",
              "      <td>0.000000</td>\n",
              "      <td>0.000000</td>\n",
              "      <td>0.000000</td>\n",
              "      <td>0.000000</td>\n",
              "    </tr>\n",
              "    <tr>\n",
              "      <th>25%</th>\n",
              "      <td>0.000000</td>\n",
              "      <td>0.000000</td>\n",
              "      <td>0.000000</td>\n",
              "      <td>0.000000</td>\n",
              "    </tr>\n",
              "    <tr>\n",
              "      <th>50%</th>\n",
              "      <td>0.000000</td>\n",
              "      <td>0.000000</td>\n",
              "      <td>0.000000</td>\n",
              "      <td>0.000000</td>\n",
              "    </tr>\n",
              "    <tr>\n",
              "      <th>75%</th>\n",
              "      <td>0.000000</td>\n",
              "      <td>0.000000</td>\n",
              "      <td>1.000000</td>\n",
              "      <td>0.000000</td>\n",
              "    </tr>\n",
              "    <tr>\n",
              "      <th>max</th>\n",
              "      <td>1.000000</td>\n",
              "      <td>2.000000</td>\n",
              "      <td>1.000000</td>\n",
              "      <td>1.000000</td>\n",
              "    </tr>\n",
              "  </tbody>\n",
              "</table>\n",
              "</div>"
            ],
            "text/plain": [
              "region    northeast    northwest    southeast    southwest\n",
              "count   1337.000000  1337.000000  1337.000000  1337.000000\n",
              "mean       0.242334     0.243082     0.272251     0.243082\n",
              "std        0.428655     0.430845     0.445285     0.429104\n",
              "min        0.000000     0.000000     0.000000     0.000000\n",
              "25%        0.000000     0.000000     0.000000     0.000000\n",
              "50%        0.000000     0.000000     0.000000     0.000000\n",
              "75%        0.000000     0.000000     1.000000     0.000000\n",
              "max        1.000000     2.000000     1.000000     1.000000"
            ]
          },
          "metadata": {
            "tags": []
          },
          "execution_count": 44
        }
      ]
    },
    {
      "cell_type": "code",
      "metadata": {
        "id": "qf4eEDNXIFL2",
        "colab_type": "code",
        "outputId": "39f21269-b85f-40d5-88ae-0b3e8821a207",
        "colab": {
          "base_uri": "https://localhost:8080/",
          "height": 297
        }
      },
      "source": [
        "(pd.crosstab(data['charges'],data['smoker'])).describe()\n"
      ],
      "execution_count": 45,
      "outputs": [
        {
          "output_type": "execute_result",
          "data": {
            "text/html": [
              "<div>\n",
              "<style scoped>\n",
              "    .dataframe tbody tr th:only-of-type {\n",
              "        vertical-align: middle;\n",
              "    }\n",
              "\n",
              "    .dataframe tbody tr th {\n",
              "        vertical-align: top;\n",
              "    }\n",
              "\n",
              "    .dataframe thead th {\n",
              "        text-align: right;\n",
              "    }\n",
              "</style>\n",
              "<table border=\"1\" class=\"dataframe\">\n",
              "  <thead>\n",
              "    <tr style=\"text-align: right;\">\n",
              "      <th>smoker</th>\n",
              "      <th>no</th>\n",
              "      <th>yes</th>\n",
              "    </tr>\n",
              "  </thead>\n",
              "  <tbody>\n",
              "    <tr>\n",
              "      <th>count</th>\n",
              "      <td>1337.000000</td>\n",
              "      <td>1337.000000</td>\n",
              "    </tr>\n",
              "    <tr>\n",
              "      <th>mean</th>\n",
              "      <td>0.795812</td>\n",
              "      <td>0.204936</td>\n",
              "    </tr>\n",
              "    <tr>\n",
              "      <th>std</th>\n",
              "      <td>0.405110</td>\n",
              "      <td>0.403806</td>\n",
              "    </tr>\n",
              "    <tr>\n",
              "      <th>min</th>\n",
              "      <td>0.000000</td>\n",
              "      <td>0.000000</td>\n",
              "    </tr>\n",
              "    <tr>\n",
              "      <th>25%</th>\n",
              "      <td>1.000000</td>\n",
              "      <td>0.000000</td>\n",
              "    </tr>\n",
              "    <tr>\n",
              "      <th>50%</th>\n",
              "      <td>1.000000</td>\n",
              "      <td>0.000000</td>\n",
              "    </tr>\n",
              "    <tr>\n",
              "      <th>75%</th>\n",
              "      <td>1.000000</td>\n",
              "      <td>0.000000</td>\n",
              "    </tr>\n",
              "    <tr>\n",
              "      <th>max</th>\n",
              "      <td>2.000000</td>\n",
              "      <td>1.000000</td>\n",
              "    </tr>\n",
              "  </tbody>\n",
              "</table>\n",
              "</div>"
            ],
            "text/plain": [
              "smoker           no          yes\n",
              "count   1337.000000  1337.000000\n",
              "mean       0.795812     0.204936\n",
              "std        0.405110     0.403806\n",
              "min        0.000000     0.000000\n",
              "25%        1.000000     0.000000\n",
              "50%        1.000000     0.000000\n",
              "75%        1.000000     0.000000\n",
              "max        2.000000     1.000000"
            ]
          },
          "metadata": {
            "tags": []
          },
          "execution_count": 45
        }
      ]
    },
    {
      "cell_type": "code",
      "metadata": {
        "id": "moW1_ymGSTQ-",
        "colab_type": "code",
        "outputId": "09cfc1b1-f53a-4a5c-b54c-62b2ff3ca763",
        "colab": {
          "base_uri": "https://localhost:8080/",
          "height": 532
        }
      },
      "source": [
        "# Age vs Charges\n",
        "# the more the age the more will be insurance charge (roughly estimated)\n",
        "\n",
        "plt.figure(figsize = (12, 8))\n",
        "sns.barplot(x = 'age', y = 'charges', data = data)\n",
        "\n",
        "plt.title(\"Age vs Charges\")"
      ],
      "execution_count": 46,
      "outputs": [
        {
          "output_type": "execute_result",
          "data": {
            "text/plain": [
              "Text(0.5, 1.0, 'Age vs Charges')"
            ]
          },
          "metadata": {
            "tags": []
          },
          "execution_count": 46
        },
        {
          "output_type": "display_data",
          "data": {
            "image/png": "[encoded data removed]",
            "text/plain": [
              "<Figure size 864x576 with 1 Axes>"
            ]
          },
          "metadata": {
            "tags": []
          }
        }
      ]
    },
    {
      "cell_type": "code",
      "metadata": {
        "id": "9DJIbfZ9TOh8",
        "colab_type": "code",
        "outputId": "fca70c0a-8a56-4c96-ff6b-1f169ce395b4",
        "colab": {
          "base_uri": "https://localhost:8080/",
          "height": 424
        }
      },
      "source": [
        "# sex vs charges\n",
        "# males have slightly greater insurance charges than females in general\n",
        "\n",
        "plt.figure(figsize = (6, 6))\n",
        "sns.barplot(x = 'sex', y = 'charges', data = data)\n",
        "\n",
        "plt.title('sex vs charges')"
      ],
      "execution_count": 47,
      "outputs": [
        {
          "output_type": "execute_result",
          "data": {
            "text/plain": [
              "Text(0.5, 1.0, 'sex vs charges')"
            ]
          },
          "metadata": {
            "tags": []
          },
          "execution_count": 47
        },
        {
          "output_type": "display_data",
          "data": {
            "image/png": "[encoded data removed]",
            "text/plain": [
              "<Figure size 432x432 with 1 Axes>"
            ]
          },
          "metadata": {
            "tags": []
          }
        }
      ]
    },
    {
      "cell_type": "code",
      "metadata": {
        "id": "rWTY7O8vTxeW",
        "colab_type": "code",
        "outputId": "d9a7cbe7-979c-44ae-fd94-821d82c92bb3",
        "colab": {
          "base_uri": "https://localhost:8080/",
          "height": 532
        }
      },
      "source": [
        "# children vs charges\n",
        "# no. of childrens of a person has a very interesting dependency on insurance costs\n",
        "\n",
        "plt.figure(figsize = (12, 8))\n",
        "sns.barplot(x = 'children', y = 'charges', data = data)\n",
        "\n",
        "plt.title('children vs charges')"
      ],
      "execution_count": 48,
      "outputs": [
        {
          "output_type": "execute_result",
          "data": {
            "text/plain": [
              "Text(0.5, 1.0, 'children vs charges')"
            ]
          },
          "metadata": {
            "tags": []
          },
          "execution_count": 48
        },
        {
          "output_type": "display_data",
          "data": {
            "image/png": "[encoded data removed]",
            "text/plain": [
              "<Figure size 864x576 with 1 Axes>"
            ]
          },
          "metadata": {
            "tags": []
          }
        }
      ]
    },
    {
      "cell_type": "code",
      "metadata": {
        "id": "KYaqiln6UQbo",
        "colab_type": "code",
        "outputId": "9a967449-22a1-4e02-e111-fa5cf23fa215",
        "colab": {
          "base_uri": "https://localhost:8080/",
          "height": 532
        }
      },
      "source": [
        "# region vs charges\n",
        "# From the graph we can see that the region actually does not play any role in determining the insurance charges\n",
        "\n",
        "plt.figure(figsize = (12, 8))\n",
        "sns.barplot(x = 'region', y = 'charges', data = data)\n",
        "\n",
        "plt.title('region vs charges')"
      ],
      "execution_count": 49,
      "outputs": [
        {
          "output_type": "execute_result",
          "data": {
            "text/plain": [
              "Text(0.5, 1.0, 'region vs charges')"
            ]
          },
          "metadata": {
            "tags": []
          },
          "execution_count": 49
        },
        {
          "output_type": "display_data",
          "data": {
            "image/png": "[encoded data removed]",
            "text/plain": [
              "<Figure size 864x576 with 1 Axes>"
            ]
          },
          "metadata": {
            "tags": []
          }
        }
      ]
    },
    {
      "cell_type": "code",
      "metadata": {
        "id": "4D6DWu4LUi9V",
        "colab_type": "code",
        "outputId": "bad20fff-fe29-4f8c-b1c1-304747a7048d",
        "colab": {
          "base_uri": "https://localhost:8080/",
          "height": 424
        }
      },
      "source": [
        "# smoker vs charges\n",
        "# from the graph below, it is visible that smokers have more insurance charges than the non smokers\n",
        "\n",
        "plt.figure(figsize = (6, 6))\n",
        "sns.barplot(x = 'smoker', y = 'charges', data = data)\n",
        "\n",
        "plt.title('smoker vs charges')"
      ],
      "execution_count": 50,
      "outputs": [
        {
          "output_type": "execute_result",
          "data": {
            "text/plain": [
              "Text(0.5, 1.0, 'smoker vs charges')"
            ]
          },
          "metadata": {
            "tags": []
          },
          "execution_count": 50
        },
        {
          "output_type": "display_data",
          "data": {
            "image/png": "[encoded data removed]",
            "text/plain": [
              "<Figure size 432x432 with 1 Axes>"
            ]
          },
          "metadata": {
            "tags": []
          }
        }
      ]
    },
    {
      "cell_type": "markdown",
      "metadata": {
        "id": "-YjQjcXcaTpl",
        "colab_type": "text"
      },
      "source": [
        "### **Correlation Plot**"
      ]
    },
    {
      "cell_type": "code",
      "metadata": {
        "id": "c3NXyPrDaZEw",
        "colab_type": "code",
        "outputId": "1ef8b92e-859f-410d-e03d-a7ed13556f9a",
        "colab": {
          "base_uri": "https://localhost:8080/",
          "height": 599
        }
      },
      "source": [
        "# plotting the correlation plot for the dataset\n",
        "\n",
        "f, ax = plt.subplots(figsize = (10, 10))\n",
        "\n",
        "corr = data.corr()\n",
        "sns.heatmap(corr, mask = np.zeros_like(corr, dtype = np.bool), \n",
        "            cmap = sns.diverging_palette(50, 10, as_cmap = True), square = True, ax = ax)"
      ],
      "execution_count": 51,
      "outputs": [
        {
          "output_type": "execute_result",
          "data": {
            "text/plain": [
              "<matplotlib.axes._subplots.AxesSubplot at 0x7f8f3c6e20b8>"
            ]
          },
          "metadata": {
            "tags": []
          },
          "execution_count": 51
        },
        {
          "output_type": "display_data",
          "data": {
            "image/png": "[encoded data removed]",
            "text/plain": [
              "<Figure size 720x720 with 2 Axes>"
            ]
          },
          "metadata": {
            "tags": []
          }
        }
      ]
    },
    {
      "cell_type": "markdown",
      "metadata": {
        "id": "MAIrZByUV3EX",
        "colab_type": "text"
      },
      "source": [
        "# *Data cleaning*\n",
        "\n"
      ]
    },
    {
      "cell_type": "code",
      "metadata": {
        "id": "lwae6FtGUnZK",
        "colab_type": "code",
        "outputId": "6171196c-6862-4992-96f1-1bbbdf2b38dd",
        "colab": {
          "base_uri": "https://localhost:8080/",
          "height": 54
        }
      },
      "source": [
        "# removing unnecassary columns from the dataset\n",
        "# side by side boxplot of with charges the median of 4 levels of region are almost have equal charges. so, i drop the region column.\n",
        "\n",
        "data = data.drop('region', axis = 1) \n",
        "print(data.shape)\n",
        "\n",
        "data.columns"
      ],
      "execution_count": 126,
      "outputs": [
        {
          "output_type": "stream",
          "text": [
            "(1338, 6)\n"
          ],
          "name": "stdout"
        },
        {
          "output_type": "execute_result",
          "data": {
            "text/plain": [
              "Index(['age', 'sex', 'bmi', 'children', 'smoker', 'charges'], dtype='object')"
            ]
          },
          "metadata": {
            "tags": []
          },
          "execution_count": 126
        }
      ]
    },
    {
      "cell_type": "code",
      "metadata": {
        "id": "0LK16BtFWSF4",
        "colab_type": "code",
        "colab": {}
      },
      "source": [
        "# label encoding for sex and smoker\n",
        "\n",
        "# importing label encoder\n",
        "from sklearn.preprocessing import LabelEncoder\n",
        "\n",
        "# creating a label encoder\n",
        "le = LabelEncoder()\n",
        "\n",
        "\n",
        "# label encoding for sex\n",
        "# 0 for females and 1 for males\n",
        "data['sex'] = le.fit_transform(data['sex'])\n",
        "\n",
        "# label encoding for smoker\n",
        "# 0 for smokers and 1 for non smokers\n",
        "data['smoker'] = le.fit_transform(data['smoker'])"
      ],
      "execution_count": 0,
      "outputs": []
    },
    {
      "cell_type": "code",
      "metadata": {
        "id": "KcCEqPqDX2XN",
        "colab_type": "code",
        "outputId": "f6c2d41e-7741-46bf-abbc-f3d789b61a38",
        "colab": {
          "base_uri": "https://localhost:8080/",
          "height": 72
        }
      },
      "source": [
        "data['sex'].value_counts()"
      ],
      "execution_count": 128,
      "outputs": [
        {
          "output_type": "execute_result",
          "data": {
            "text/plain": [
              "1    676\n",
              "0    662\n",
              "Name: sex, dtype: int64"
            ]
          },
          "metadata": {
            "tags": []
          },
          "execution_count": 128
        }
      ]
    },
    {
      "cell_type": "code",
      "metadata": {
        "id": "Q75usRuGZQDy",
        "colab_type": "code",
        "outputId": "d679440e-3050-4fc6-c910-98b9be899d32",
        "colab": {
          "base_uri": "https://localhost:8080/",
          "height": 72
        }
      },
      "source": [
        "data['smoker'].value_counts()"
      ],
      "execution_count": 129,
      "outputs": [
        {
          "output_type": "execute_result",
          "data": {
            "text/plain": [
              "0    1064\n",
              "1     274\n",
              "Name: smoker, dtype: int64"
            ]
          },
          "metadata": {
            "tags": []
          },
          "execution_count": 129
        }
      ]
    },
    {
      "cell_type": "code",
      "metadata": {
        "id": "i-FhhCvaWRoF",
        "colab_type": "code",
        "colab": {}
      },
      "source": [
        "from sklearn.preprocessing import StandardScaler\n",
        "sc = StandardScaler()"
      ],
      "execution_count": 0,
      "outputs": []
    },
    {
      "cell_type": "code",
      "metadata": {
        "id": "QJsyL1UaYK20",
        "colab_type": "code",
        "colab": {}
      },
      "source": [
        "data['age'] = sc.fit_transform(data['age'].values.reshape(-1,1))\n",
        "data['bmi'] = sc.fit_transform(data['bmi'].values.reshape(-1,1))\n"
      ],
      "execution_count": 0,
      "outputs": []
    },
    {
      "cell_type": "code",
      "metadata": {
        "id": "vZ86Mt1IXQFx",
        "colab_type": "code",
        "colab": {
          "base_uri": "https://localhost:8080/",
          "height": 198
        },
        "outputId": "b979970f-7ac2-4239-dc80-7b8d6d46c43c"
      },
      "source": [
        "data.head()"
      ],
      "execution_count": 134,
      "outputs": [
        {
          "output_type": "execute_result",
          "data": {
            "text/html": [
              "<div>\n",
              "<style scoped>\n",
              "    .dataframe tbody tr th:only-of-type {\n",
              "        vertical-align: middle;\n",
              "    }\n",
              "\n",
              "    .dataframe tbody tr th {\n",
              "        vertical-align: top;\n",
              "    }\n",
              "\n",
              "    .dataframe thead th {\n",
              "        text-align: right;\n",
              "    }\n",
              "</style>\n",
              "<table border=\"1\" class=\"dataframe\">\n",
              "  <thead>\n",
              "    <tr style=\"text-align: right;\">\n",
              "      <th></th>\n",
              "      <th>age</th>\n",
              "      <th>sex</th>\n",
              "      <th>bmi</th>\n",
              "      <th>children</th>\n",
              "      <th>smoker</th>\n",
              "      <th>charges</th>\n",
              "    </tr>\n",
              "  </thead>\n",
              "  <tbody>\n",
              "    <tr>\n",
              "      <th>0</th>\n",
              "      <td>-1.438764</td>\n",
              "      <td>0</td>\n",
              "      <td>-0.453320</td>\n",
              "      <td>0</td>\n",
              "      <td>1</td>\n",
              "      <td>16884.92400</td>\n",
              "    </tr>\n",
              "    <tr>\n",
              "      <th>1</th>\n",
              "      <td>-1.509965</td>\n",
              "      <td>1</td>\n",
              "      <td>0.509621</td>\n",
              "      <td>1</td>\n",
              "      <td>0</td>\n",
              "      <td>1725.55230</td>\n",
              "    </tr>\n",
              "    <tr>\n",
              "      <th>2</th>\n",
              "      <td>-0.797954</td>\n",
              "      <td>1</td>\n",
              "      <td>0.383307</td>\n",
              "      <td>3</td>\n",
              "      <td>0</td>\n",
              "      <td>4449.46200</td>\n",
              "    </tr>\n",
              "    <tr>\n",
              "      <th>3</th>\n",
              "      <td>-0.441948</td>\n",
              "      <td>1</td>\n",
              "      <td>-1.305531</td>\n",
              "      <td>0</td>\n",
              "      <td>0</td>\n",
              "      <td>21984.47061</td>\n",
              "    </tr>\n",
              "    <tr>\n",
              "      <th>4</th>\n",
              "      <td>-0.513149</td>\n",
              "      <td>1</td>\n",
              "      <td>-0.292556</td>\n",
              "      <td>0</td>\n",
              "      <td>0</td>\n",
              "      <td>3866.85520</td>\n",
              "    </tr>\n",
              "  </tbody>\n",
              "</table>\n",
              "</div>"
            ],
            "text/plain": [
              "        age  sex       bmi  children  smoker      charges\n",
              "0 -1.438764    0 -0.453320         0       1  16884.92400\n",
              "1 -1.509965    1  0.509621         1       0   1725.55230\n",
              "2 -0.797954    1  0.383307         3       0   4449.46200\n",
              "3 -0.441948    1 -1.305531         0       0  21984.47061\n",
              "4 -0.513149    1 -0.292556         0       0   3866.85520"
            ]
          },
          "metadata": {
            "tags": []
          },
          "execution_count": 134
        }
      ]
    },
    {
      "cell_type": "code",
      "metadata": {
        "id": "aKMOtdFYZTmQ",
        "colab_type": "code",
        "outputId": "8f6e65af-e173-4a23-abdb-7f69c0a0280b",
        "colab": {
          "base_uri": "https://localhost:8080/",
          "height": 54
        }
      },
      "source": [
        "# splitting the dependent and independent variable\n",
        "\n",
        "x = data.iloc[:,:5]\n",
        "y = data.iloc[:,5]\n",
        "\n",
        "print(x.shape)\n",
        "print(y.shape)"
      ],
      "execution_count": 135,
      "outputs": [
        {
          "output_type": "stream",
          "text": [
            "(1338, 5)\n",
            "(1338,)\n"
          ],
          "name": "stdout"
        }
      ]
    },
    {
      "cell_type": "code",
      "metadata": {
        "id": "gRO-8MMhaDdS",
        "colab_type": "code",
        "outputId": "6aa7c7a7-3e9a-4cc9-b79e-8b05341226a9",
        "colab": {
          "base_uri": "https://localhost:8080/",
          "height": 90
        }
      },
      "source": [
        "# splitting the dataset into training and testing sets\n",
        "\n",
        "from sklearn.model_selection import train_test_split\n",
        "\n",
        "x_train, x_test, y_train, y_test = train_test_split(x, y, test_size = 0.2, random_state = 30)\n",
        "\n",
        "print(x_train.shape)\n",
        "print(x_test.shape)\n",
        "print(y_train.shape)\n",
        "print(y_test.shape)"
      ],
      "execution_count": 136,
      "outputs": [
        {
          "output_type": "stream",
          "text": [
            "(1070, 5)\n",
            "(268, 5)\n",
            "(1070,)\n",
            "(268,)\n"
          ],
          "name": "stdout"
        }
      ]
    },
    {
      "cell_type": "markdown",
      "metadata": {
        "id": "U0Gyy6rzd3TP",
        "colab_type": "text"
      },
      "source": [
        "## **Modelling**"
      ]
    },
    {
      "cell_type": "markdown",
      "metadata": {
        "id": "yDE5ss6ij7QS",
        "colab_type": "text"
      },
      "source": [
        "**Linear Regression**"
      ]
    },
    {
      "cell_type": "code",
      "metadata": {
        "id": "62CTGLqjc83y",
        "colab_type": "code",
        "outputId": "116b43c8-df5f-4847-c384-cfa9e3688c92",
        "colab": {
          "base_uri": "https://localhost:8080/",
          "height": 72
        }
      },
      "source": [
        "from sklearn.linear_model import LinearRegression\n",
        "from sklearn.metrics import r2_score\n",
        "\n",
        "\n",
        "# creating the model\n",
        "model = LinearRegression()\n",
        "\n",
        "# feeding the training data to the model\n",
        "model.fit(x_train, y_train)\n",
        "\n",
        "# predicting the test set results\n",
        "y_pred = model.predict(x_test)\n",
        "\n",
        "# calculating the mean squared error\n",
        "mse = np.mean((y_test - y_pred)**2, axis = None)\n",
        "print(\"MSE :\", mse)\n",
        "\n",
        "# Calculating the root mean squared error\n",
        "rmse = np.sqrt(mse)\n",
        "print(\"RMSE :\", rmse)\n",
        "\n",
        "# Calculating the r2 score\n",
        "r2 = r2_score(y_test, y_pred)\n",
        "print(\"r2 score :\", r2)\n",
        "\n"
      ],
      "execution_count": 137,
      "outputs": [
        {
          "output_type": "stream",
          "text": [
            "MSE : 37057975.7833593\n",
            "RMSE : 6087.5262449832035\n",
            "r2 score : 0.7597585280148957\n"
          ],
          "name": "stdout"
        }
      ]
    },
    {
      "cell_type": "markdown",
      "metadata": {
        "id": "x3BBZnGL_JgE",
        "colab_type": "text"
      },
      "source": [
        "* 75.97 % of varaiance in charges is being explained by the model."
      ]
    },
    {
      "cell_type": "markdown",
      "metadata": {
        "id": "GBYaTz7FkdHc",
        "colab_type": "text"
      },
      "source": [
        "**Random Forest**"
      ]
    },
    {
      "cell_type": "markdown",
      "metadata": {
        "id": "wEUu4OunDq05",
        "colab_type": "text"
      },
      "source": [
        "Hyper parameters tuning using GridSearchcv"
      ]
    },
    {
      "cell_type": "code",
      "metadata": {
        "id": "2B-m5jpzA_5F",
        "colab_type": "code",
        "colab": {}
      },
      "source": [
        "from sklearn.model_selection import GridSearchCV"
      ],
      "execution_count": 0,
      "outputs": []
    },
    {
      "cell_type": "code",
      "metadata": {
        "id": "S0bU9CHNCPlc",
        "colab_type": "code",
        "colab": {}
      },
      "source": [
        "param_grid = {\n",
        "    'bootstrap': [True],\n",
        "    'max_depth': [80, 90, 100, 110],\n",
        "    'max_features': [2, 3],\n",
        "    'min_samples_leaf': [3, 4, 5],\n",
        "    'min_samples_split': [8, 10, 12],\n",
        "    'n_estimators': [20, 30, 40, 50]\n",
        "}\n",
        "rf = RandomForestRegressor()\n",
        "grid_search = GridSearchCV(estimator = rf, param_grid = param_grid, \n",
        "                          cv = 3, n_jobs = -1, verbose = 2)\n",
        "\n"
      ],
      "execution_count": 0,
      "outputs": []
    },
    {
      "cell_type": "code",
      "metadata": {
        "id": "Bjhsb66wCqc9",
        "colab_type": "code",
        "colab": {
          "base_uri": "https://localhost:8080/",
          "height": 217
        },
        "outputId": "efa79c31-ada1-49eb-8e9a-178e9d1f45bf"
      },
      "source": [
        "# Fit the grid search to the data\n",
        "grid_search.fit(x_train, y_train)\n",
        "grid_search.best_params_"
      ],
      "execution_count": 149,
      "outputs": [
        {
          "output_type": "stream",
          "text": [
            "Fitting 3 folds for each of 288 candidates, totalling 864 fits\n"
          ],
          "name": "stdout"
        },
        {
          "output_type": "stream",
          "text": [
            "[Parallel(n_jobs=-1)]: Using backend LokyBackend with 2 concurrent workers.\n",
            "[Parallel(n_jobs=-1)]: Done  71 tasks      | elapsed:    4.5s\n",
            "[Parallel(n_jobs=-1)]: Done 555 tasks      | elapsed:   20.5s\n",
            "[Parallel(n_jobs=-1)]: Done 864 out of 864 | elapsed:   30.9s finished\n"
          ],
          "name": "stderr"
        },
        {
          "output_type": "execute_result",
          "data": {
            "text/plain": [
              "{'bootstrap': True,\n",
              " 'max_depth': 110,\n",
              " 'max_features': 3,\n",
              " 'min_samples_leaf': 5,\n",
              " 'min_samples_split': 12,\n",
              " 'n_estimators': 40}"
            ]
          },
          "metadata": {
            "tags": []
          },
          "execution_count": 149
        }
      ]
    },
    {
      "cell_type": "code",
      "metadata": {
        "id": "mnUYRbumkd1i",
        "colab_type": "code",
        "outputId": "d25fba30-d3a0-4ffe-b43d-a7e6fce43ca4",
        "colab": {
          "base_uri": "https://localhost:8080/",
          "height": 72
        }
      },
      "source": [
        "from sklearn.ensemble import RandomForestRegressor\n",
        "\n",
        "# creating the model\n",
        "model = RandomForestRegressor(n_estimators = 40, max_depth = 110, n_jobs = -1,max_features=3,min_samples_leaf=5,min_samples_split=12,bootstrap=True)\n",
        "\n",
        "# feeding the training data to the model\n",
        "model.fit(x_train, y_train)\n",
        "\n",
        "# predicting the test set results\n",
        "y_pred = model.predict(x_test)\n",
        "\n",
        "# calculating the mean squared error\n",
        "mse = np.mean((y_test - y_pred)**2, axis = None)\n",
        "print(\"MSE :\", mse)\n",
        "\n",
        "# Calculating the root mean squared error\n",
        "rmse = np.sqrt(mse)\n",
        "print(\"RMSE :\", rmse)\n",
        "\n",
        "# Calculating the r2 score\n",
        "r2 = r2_score(y_test, y_pred)\n",
        "print(\"r2 score :\", r2)\n"
      ],
      "execution_count": 150,
      "outputs": [
        {
          "output_type": "stream",
          "text": [
            "MSE : 23180433.70299867\n",
            "RMSE : 4814.606287433965\n",
            "r2 score : 0.8497246167298158\n"
          ],
          "name": "stdout"
        }
      ]
    },
    {
      "cell_type": "markdown",
      "metadata": {
        "id": "m_5LK8wMllAH",
        "colab_type": "text"
      },
      "source": [
        "**Decision Trees**"
      ]
    },
    {
      "cell_type": "code",
      "metadata": {
        "id": "4rh8MEXflfts",
        "colab_type": "code",
        "outputId": "df3e25eb-dc80-44f7-eacc-c5ba026ffad0",
        "colab": {
          "base_uri": "https://localhost:8080/",
          "height": 72
        }
      },
      "source": [
        "from sklearn.tree import DecisionTreeRegressor\n",
        "\n",
        "# creating the model\n",
        "model = DecisionTreeRegressor()\n",
        "\n",
        "# feeding the training data to the model\n",
        "model.fit(x_train, y_train)\n",
        "\n",
        "# predicting the test set results\n",
        "y_pred = model.predict(x_test)\n",
        "\n",
        "# calculating the mean squared error\n",
        "mse = np.mean((y_test - y_pred)**2, axis = None)\n",
        "print(\"MSE :\", mse)\n",
        "\n",
        "# Calculating the root mean squared error\n",
        "rmse = np.sqrt(mse)\n",
        "print(\"RMSE :\", rmse)\n",
        "\n",
        "# Calculating the r2 score\n",
        "r2 = r2_score(y_test, y_pred)\n",
        "print(\"r2 score :\", r2)\n"
      ],
      "execution_count": 139,
      "outputs": [
        {
          "output_type": "stream",
          "text": [
            "MSE : 49052844.43049734\n",
            "RMSE : 7003.773585039521\n",
            "r2 score : 0.681997537589984\n"
          ],
          "name": "stdout"
        }
      ]
    },
    {
      "cell_type": "markdown",
      "metadata": {
        "id": "oDyPqAB5D8tP",
        "colab_type": "text"
      },
      "source": [
        "## After Feature Engineering with extra columns as bmi_30,\tage_square."
      ]
    },
    {
      "cell_type": "code",
      "metadata": {
        "id": "JbdXl5x6LBsM",
        "colab_type": "code",
        "colab": {
          "base_uri": "https://localhost:8080/",
          "height": 198
        },
        "outputId": "c30e08b7-683c-42b4-f0da-ebb2e7994ca2"
      },
      "source": [
        "df.head()"
      ],
      "execution_count": 66,
      "outputs": [
        {
          "output_type": "execute_result",
          "data": {
            "text/html": [
              "<div>\n",
              "<style scoped>\n",
              "    .dataframe tbody tr th:only-of-type {\n",
              "        vertical-align: middle;\n",
              "    }\n",
              "\n",
              "    .dataframe tbody tr th {\n",
              "        vertical-align: top;\n",
              "    }\n",
              "\n",
              "    .dataframe thead th {\n",
              "        text-align: right;\n",
              "    }\n",
              "</style>\n",
              "<table border=\"1\" class=\"dataframe\">\n",
              "  <thead>\n",
              "    <tr style=\"text-align: right;\">\n",
              "      <th></th>\n",
              "      <th>sex</th>\n",
              "      <th>bmi</th>\n",
              "      <th>children</th>\n",
              "      <th>smoker</th>\n",
              "      <th>region</th>\n",
              "      <th>charges</th>\n",
              "      <th>bmi_30</th>\n",
              "      <th>age_square</th>\n",
              "    </tr>\n",
              "  </thead>\n",
              "  <tbody>\n",
              "    <tr>\n",
              "      <th>0</th>\n",
              "      <td>female</td>\n",
              "      <td>27.900</td>\n",
              "      <td>0</td>\n",
              "      <td>yes</td>\n",
              "      <td>southwest</td>\n",
              "      <td>16884.92400</td>\n",
              "      <td>no</td>\n",
              "      <td>361</td>\n",
              "    </tr>\n",
              "    <tr>\n",
              "      <th>1</th>\n",
              "      <td>male</td>\n",
              "      <td>33.770</td>\n",
              "      <td>1</td>\n",
              "      <td>no</td>\n",
              "      <td>southeast</td>\n",
              "      <td>1725.55230</td>\n",
              "      <td>yes</td>\n",
              "      <td>324</td>\n",
              "    </tr>\n",
              "    <tr>\n",
              "      <th>2</th>\n",
              "      <td>male</td>\n",
              "      <td>33.000</td>\n",
              "      <td>3</td>\n",
              "      <td>no</td>\n",
              "      <td>southeast</td>\n",
              "      <td>4449.46200</td>\n",
              "      <td>yes</td>\n",
              "      <td>784</td>\n",
              "    </tr>\n",
              "    <tr>\n",
              "      <th>3</th>\n",
              "      <td>male</td>\n",
              "      <td>22.705</td>\n",
              "      <td>0</td>\n",
              "      <td>no</td>\n",
              "      <td>northwest</td>\n",
              "      <td>21984.47061</td>\n",
              "      <td>no</td>\n",
              "      <td>1089</td>\n",
              "    </tr>\n",
              "    <tr>\n",
              "      <th>4</th>\n",
              "      <td>male</td>\n",
              "      <td>28.880</td>\n",
              "      <td>0</td>\n",
              "      <td>no</td>\n",
              "      <td>northwest</td>\n",
              "      <td>3866.85520</td>\n",
              "      <td>no</td>\n",
              "      <td>1024</td>\n",
              "    </tr>\n",
              "  </tbody>\n",
              "</table>\n",
              "</div>"
            ],
            "text/plain": [
              "      sex     bmi  children smoker     region      charges bmi_30  age_square\n",
              "0  female  27.900         0    yes  southwest  16884.92400     no         361\n",
              "1    male  33.770         1     no  southeast   1725.55230    yes         324\n",
              "2    male  33.000         3     no  southeast   4449.46200    yes         784\n",
              "3    male  22.705         0     no  northwest  21984.47061     no        1089\n",
              "4    male  28.880         0     no  northwest   3866.85520     no        1024"
            ]
          },
          "metadata": {
            "tags": []
          },
          "execution_count": 66
        }
      ]
    },
    {
      "cell_type": "code",
      "metadata": {
        "id": "ETJaWgsULHTO",
        "colab_type": "code",
        "colab": {}
      },
      "source": [
        "df.drop('age',axis=1,inplace=True)"
      ],
      "execution_count": 0,
      "outputs": []
    },
    {
      "cell_type": "code",
      "metadata": {
        "id": "pmxUuBTkLbPe",
        "colab_type": "code",
        "colab": {}
      },
      "source": [
        "df['sex'] = le.fit_transform(df['sex'])\n",
        "\n",
        "# label encoding for smoker\n",
        "# 0 for smokers and 1 for non smokers\n",
        "df['smoker'] = le.fit_transform(df['smoker'])\n",
        "df['region'] = le.fit_transform(df['region'])\n",
        "df['bmi_30'] = le.fit_transform(df['bmi_30'])"
      ],
      "execution_count": 0,
      "outputs": []
    },
    {
      "cell_type": "code",
      "metadata": {
        "id": "UuxiTgdVNO_D",
        "colab_type": "code",
        "colab": {}
      },
      "source": [
        "df['bmi'] = sc.fit_transform(df['bmi'].values.reshape(-1, 1))\n",
        "df['age_square'] = sc.fit_transform(df['age_square'].values.reshape(-1, 1))\n"
      ],
      "execution_count": 0,
      "outputs": []
    },
    {
      "cell_type": "code",
      "metadata": {
        "id": "YJ56K9PgMjyj",
        "colab_type": "code",
        "colab": {}
      },
      "source": [
        "df = pd.get_dummies(df,columns=['children','region'])"
      ],
      "execution_count": 0,
      "outputs": []
    },
    {
      "cell_type": "code",
      "metadata": {
        "id": "vaBpnFbSK-EN",
        "colab_type": "code",
        "colab": {}
      },
      "source": [
        "cols = ['sex', 'bmi', 'smoker', 'bmi_30', 'age_square', 'children_0',\n",
        "       'children_1', 'children_2', 'children_3', 'children_4', 'children_5']\n",
        "X = df[cols]\n",
        "y = df['charges']"
      ],
      "execution_count": 0,
      "outputs": []
    },
    {
      "cell_type": "code",
      "metadata": {
        "id": "B9UnD8yINycj",
        "colab_type": "code",
        "colab": {
          "base_uri": "https://localhost:8080/",
          "height": 198
        },
        "outputId": "51a4c095-b423-4994-e8ac-17bedef9edbf"
      },
      "source": [
        "X.head()"
      ],
      "execution_count": 155,
      "outputs": [
        {
          "output_type": "execute_result",
          "data": {
            "text/html": [
              "<div>\n",
              "<style scoped>\n",
              "    .dataframe tbody tr th:only-of-type {\n",
              "        vertical-align: middle;\n",
              "    }\n",
              "\n",
              "    .dataframe tbody tr th {\n",
              "        vertical-align: top;\n",
              "    }\n",
              "\n",
              "    .dataframe thead th {\n",
              "        text-align: right;\n",
              "    }\n",
              "</style>\n",
              "<table border=\"1\" class=\"dataframe\">\n",
              "  <thead>\n",
              "    <tr style=\"text-align: right;\">\n",
              "      <th></th>\n",
              "      <th>sex</th>\n",
              "      <th>bmi</th>\n",
              "      <th>smoker</th>\n",
              "      <th>bmi_30</th>\n",
              "      <th>age_square</th>\n",
              "      <th>children_0</th>\n",
              "      <th>children_1</th>\n",
              "      <th>children_2</th>\n",
              "      <th>children_3</th>\n",
              "      <th>children_4</th>\n",
              "      <th>children_5</th>\n",
              "    </tr>\n",
              "  </thead>\n",
              "  <tbody>\n",
              "    <tr>\n",
              "      <th>0</th>\n",
              "      <td>0</td>\n",
              "      <td>-0.453320</td>\n",
              "      <td>1</td>\n",
              "      <td>0</td>\n",
              "      <td>-1.220462</td>\n",
              "      <td>1</td>\n",
              "      <td>0</td>\n",
              "      <td>0</td>\n",
              "      <td>0</td>\n",
              "      <td>0</td>\n",
              "      <td>0</td>\n",
              "    </tr>\n",
              "    <tr>\n",
              "      <th>1</th>\n",
              "      <td>1</td>\n",
              "      <td>0.509621</td>\n",
              "      <td>0</td>\n",
              "      <td>1</td>\n",
              "      <td>-1.253341</td>\n",
              "      <td>0</td>\n",
              "      <td>1</td>\n",
              "      <td>0</td>\n",
              "      <td>0</td>\n",
              "      <td>0</td>\n",
              "      <td>0</td>\n",
              "    </tr>\n",
              "    <tr>\n",
              "      <th>2</th>\n",
              "      <td>1</td>\n",
              "      <td>0.383307</td>\n",
              "      <td>0</td>\n",
              "      <td>1</td>\n",
              "      <td>-0.844579</td>\n",
              "      <td>0</td>\n",
              "      <td>0</td>\n",
              "      <td>0</td>\n",
              "      <td>1</td>\n",
              "      <td>0</td>\n",
              "      <td>0</td>\n",
              "    </tr>\n",
              "    <tr>\n",
              "      <th>3</th>\n",
              "      <td>1</td>\n",
              "      <td>-1.305531</td>\n",
              "      <td>0</td>\n",
              "      <td>0</td>\n",
              "      <td>-0.573551</td>\n",
              "      <td>1</td>\n",
              "      <td>0</td>\n",
              "      <td>0</td>\n",
              "      <td>0</td>\n",
              "      <td>0</td>\n",
              "      <td>0</td>\n",
              "    </tr>\n",
              "    <tr>\n",
              "      <th>4</th>\n",
              "      <td>1</td>\n",
              "      <td>-0.292556</td>\n",
              "      <td>0</td>\n",
              "      <td>0</td>\n",
              "      <td>-0.631311</td>\n",
              "      <td>1</td>\n",
              "      <td>0</td>\n",
              "      <td>0</td>\n",
              "      <td>0</td>\n",
              "      <td>0</td>\n",
              "      <td>0</td>\n",
              "    </tr>\n",
              "  </tbody>\n",
              "</table>\n",
              "</div>"
            ],
            "text/plain": [
              "   sex       bmi  smoker  ...  children_3  children_4  children_5\n",
              "0    0 -0.453320       1  ...           0           0           0\n",
              "1    1  0.509621       0  ...           0           0           0\n",
              "2    1  0.383307       0  ...           1           0           0\n",
              "3    1 -1.305531       0  ...           0           0           0\n",
              "4    1 -0.292556       0  ...           0           0           0\n",
              "\n",
              "[5 rows x 11 columns]"
            ]
          },
          "metadata": {
            "tags": []
          },
          "execution_count": 155
        }
      ]
    },
    {
      "cell_type": "code",
      "metadata": {
        "id": "gCpaJpZSMd-o",
        "colab_type": "code",
        "colab": {}
      },
      "source": [
        "X_train1, X_test1, y_train1, y_test1 = train_test_split(X, y, test_size = 0.3, random_state = 30)"
      ],
      "execution_count": 0,
      "outputs": []
    },
    {
      "cell_type": "code",
      "metadata": {
        "id": "TUfRwnPuQH_O",
        "colab_type": "code",
        "colab": {
          "base_uri": "https://localhost:8080/",
          "height": 72
        },
        "outputId": "d4903807-55c9-44b4-f501-a1338bedf540"
      },
      "source": [
        "model = LinearRegression()\n",
        "\n",
        "# feeding the training data to the model\n",
        "model.fit(X_train1, y_train1)\n",
        "\n",
        "# predicting the test set results\n",
        "y_pred = model.predict(X_test1)\n",
        "\n",
        "# calculating the mean squared error\n",
        "mse = np.mean((y_test1 - y_pred)**2, axis = None)\n",
        "print(\"MSE :\", mse)\n",
        "\n",
        "# Calculating the root mean squared error\n",
        "rmse = np.sqrt(mse)\n",
        "print(\"RMSE :\", rmse)\n",
        "\n",
        "# Calculating the r2 score\n",
        "r2 = r2_score(y_test1, y_pred)\n",
        "print(\"r2 score :\", r2)\n"
      ],
      "execution_count": 167,
      "outputs": [
        {
          "output_type": "stream",
          "text": [
            "MSE : 33523829.882013533\n",
            "RMSE : 5789.976673702022\n",
            "r2 score : 0.768686903404534\n"
          ],
          "name": "stdout"
        }
      ]
    },
    {
      "cell_type": "code",
      "metadata": {
        "id": "XrPSnEIdS5uS",
        "colab_type": "code",
        "colab": {
          "base_uri": "https://localhost:8080/",
          "height": 72
        },
        "outputId": "289812b7-8900-42ba-d1b6-8db64cee90f1"
      },
      "source": [
        "from sklearn.tree import DecisionTreeRegressor\n",
        "\n",
        "# creating the model\n",
        "model = DecisionTreeRegressor()\n",
        "\n",
        "# feeding the training data to the model\n",
        "model.fit(X_train1, y_train1)\n",
        "\n",
        "# predicting the test set results\n",
        "y_pred = model.predict(X_test1)\n",
        "\n",
        "# calculating the mean squared error\n",
        "mse = np.mean((y_test1 - y_pred)**2, axis = None)\n",
        "print(\"MSE :\", mse)\n",
        "\n",
        "# Calculating the root mean squared error\n",
        "rmse = np.sqrt(mse)\n",
        "print(\"RMSE :\", rmse)\n",
        "\n",
        "# Calculating the r2 score\n",
        "r2 = r2_score(y_test1, y_pred)\n",
        "print(\"r2 score :\", r2)"
      ],
      "execution_count": 170,
      "outputs": [
        {
          "output_type": "stream",
          "text": [
            "MSE : 47100232.30939098\n",
            "RMSE : 6862.960899596542\n",
            "r2 score : 0.6750102651100591\n"
          ],
          "name": "stdout"
        }
      ]
    },
    {
      "cell_type": "code",
      "metadata": {
        "id": "KmbWWJ05Eosu",
        "colab_type": "code",
        "colab": {
          "base_uri": "https://localhost:8080/",
          "height": 199
        },
        "outputId": "0b9a38b8-4b75-48cf-cddb-315630067e87"
      },
      "source": [
        "grid_search.fit(X_train1, y_train1)\n",
        "grid_search.best_params_"
      ],
      "execution_count": 165,
      "outputs": [
        {
          "output_type": "stream",
          "text": [
            "Fitting 3 folds for each of 288 candidates, totalling 864 fits\n"
          ],
          "name": "stdout"
        },
        {
          "output_type": "stream",
          "text": [
            "[Parallel(n_jobs=-1)]: Using backend LokyBackend with 2 concurrent workers.\n",
            "[Parallel(n_jobs=-1)]: Done 400 tasks      | elapsed:   10.3s\n",
            "[Parallel(n_jobs=-1)]: Done 864 out of 864 | elapsed:   23.1s finished\n"
          ],
          "name": "stderr"
        },
        {
          "output_type": "execute_result",
          "data": {
            "text/plain": [
              "{'bootstrap': True,\n",
              " 'max_depth': 90,\n",
              " 'max_features': 3,\n",
              " 'min_samples_leaf': 3,\n",
              " 'min_samples_split': 10,\n",
              " 'n_estimators': 30}"
            ]
          },
          "metadata": {
            "tags": []
          },
          "execution_count": 165
        }
      ]
    },
    {
      "cell_type": "code",
      "metadata": {
        "id": "l57z9kCVSQlb",
        "colab_type": "code",
        "colab": {
          "base_uri": "https://localhost:8080/",
          "height": 72
        },
        "outputId": "76d7f6b7-c667-467d-a09f-f10d9fee3694"
      },
      "source": [
        "from sklearn.ensemble import RandomForestRegressor\n",
        "\n",
        "# creating the model\n",
        "model = RandomForestRegressor(n_estimators = 30, max_depth = 90, n_jobs = -1,max_features=3,min_samples_leaf=3,min_samples_split=10,bootstrap=True)\n",
        "\n",
        "# feeding the training data to the model\n",
        "model.fit(X_train1, y_train1)\n",
        "\n",
        "# predicting the test set results\n",
        "y_pred = model.predict(X_test1)\n",
        "\n",
        "# calculating the mean squared error\n",
        "mse = np.mean((y_test1 - y_pred)**2, axis = None)\n",
        "print(\"MSE :\", mse)\n",
        "\n",
        "# Calculating the root mean squared error\n",
        "rmse = np.sqrt(mse)\n",
        "print(\"RMSE :\", rmse)\n",
        "\n",
        "# Calculating the r2 score\n",
        "r2 = r2_score(y_test1, y_pred)\n",
        "print(\"r2 score :\", r2)"
      ],
      "execution_count": 171,
      "outputs": [
        {
          "output_type": "stream",
          "text": [
            "MSE : 25032699.036051866\n",
            "RMSE : 5003.26883507691\n",
            "r2 score : 0.8272753694744703\n"
          ],
          "name": "stdout"
        }
      ]
    },
    {
      "cell_type": "markdown",
      "metadata": {
        "id": "rMiJT-rMGxIK",
        "colab_type": "text"
      },
      "source": [
        "* When we compare linear regression with decision tree of Rmse values Linear regression performs well.\n",
        "* When we compare linear regression with Random forest of Rmse values Random forest performs well.\n",
        "* overall if we require scoring or accuracy of the model Random forest is preferred.\n",
        "* overall if we require interpretation of the model linear regression is preferred."
      ]
    },
    {
      "cell_type": "code",
      "metadata": {
        "id": "qk44BpPbGpgO",
        "colab_type": "code",
        "colab": {}
      },
      "source": [
        ""
      ],
      "execution_count": 0,
      "outputs": []
    }
  ]
}